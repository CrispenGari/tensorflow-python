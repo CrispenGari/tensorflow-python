{
 "cells": [
  {
   "cell_type": "markdown",
   "id": "opposed-seeking",
   "metadata": {},
   "source": [
    "## Image Classification `CNN` + `Tansfare Learning`\n",
    "> Classifying image from our own dataset with `10` classes."
   ]
  },
  {
   "cell_type": "markdown",
   "id": "authentic-prediction",
   "metadata": {},
   "source": [
    "### Imports"
   ]
  },
  {
   "cell_type": "code",
   "execution_count": 1,
   "id": "faced-tutorial",
   "metadata": {},
   "outputs": [],
   "source": [
    "import tensorflow as tf\n",
    "from tensorflow import keras\n",
    "import numpy as np\n",
    "import os, random\n",
    "import matplotlib.pyplot as plt\n",
    "import shutil\n",
    "from tensorflow.keras.preprocessing.image import ImageDataGenerator"
   ]
  },
  {
   "cell_type": "markdown",
   "id": "seventh-coffee",
   "metadata": {},
   "source": [
    "> We are going to use `ImageDataGenerator` to preprocess our images so the file structures should look as follows\n",
    "\n",
    "```\n",
    "data\n",
    "    class_1:\n",
    "        - image\n",
    "        - image\n",
    "    ...\n",
    "    class_n:\n",
    "        - image\n",
    "        - image\n",
    "        ...\n",
    "```"
   ]
  },
  {
   "cell_type": "code",
   "execution_count": 11,
   "id": "analyzed-spice",
   "metadata": {},
   "outputs": [],
   "source": [
    "class Electronics:\n",
    "    IMAGES_PATH = 'data_mixed'\n",
    "    IMAGES_BALANCED = 'data'\n",
    "    TRAIN = 'data/train'\n",
    "    VALIDATION = 'data/validation'\n",
    "    TEST = './test'"
   ]
  },
  {
   "cell_type": "code",
   "execution_count": 12,
   "id": "political-malta",
   "metadata": {},
   "outputs": [
    {
     "data": {
      "text/plain": [
       "['camera',\n",
       " 'cellphone',\n",
       " 'charger',\n",
       " 'desktop',\n",
       " 'drone',\n",
       " 'headphone',\n",
       " 'laptop',\n",
       " 'mouse',\n",
       " 'remote',\n",
       " 'television']"
      ]
     },
     "execution_count": 12,
     "metadata": {},
     "output_type": "execute_result"
    }
   ],
   "source": [
    "class_names = os.listdir(Electronics.IMAGES_PATH)\n",
    "class_names"
   ]
  },
  {
   "cell_type": "markdown",
   "id": "interstate-trail",
   "metadata": {},
   "source": [
    "> We want to come up with the following structure on our image `files`\n",
    "\n",
    "```\n",
    "data-\n",
    "    train -\n",
    "        class_1\n",
    "            -img1\n",
    "            -img2\n",
    "            -img3\n",
    "            -...\n",
    "        class_2\n",
    "            -...\n",
    "    test -\n",
    "        -img1\n",
    "        -img2\n",
    "        -img3\n",
    "    validation -\n",
    "        class_1\n",
    "            -img1\n",
    "            -img2\n",
    "            -img3\n",
    "            -...\n",
    "        class_2\n",
    "            -...\n",
    "```\n",
    "\n",
    "* We are going to move files around using code, and make sure that we have `100` images for each class for `training`\n",
    "`20` images for each class for `testing` and `20` images for each class for `validation`\n",
    "\n",
    "#### Folders Achitecture\n",
    "<p align=\"center\">\n",
    "<img src=\"https://miro.medium.com/max/700/1*HpvpA9pBJXKxaPCl5tKnLg.jpeg\"/>\n",
    "</p>\n",
    "\n",
    "> As you can see in the above picture, the test folder should also contain a single folder inside which all the test images are present(Think of it as “unlabeled” class , this is there because the flow_from_directory() expects at least one directory under the given directory path)."
   ]
  },
  {
   "cell_type": "code",
   "execution_count": 13,
   "id": "operating-picnic",
   "metadata": {},
   "outputs": [],
   "source": [
    "train_size = 50\n",
    "test_size = 10\n",
    "validation_size = 10"
   ]
  },
  {
   "cell_type": "code",
   "execution_count": 14,
   "id": "offensive-jersey",
   "metadata": {},
   "outputs": [
    {
     "name": "stdout",
     "output_type": "stream",
     "text": [
      "Done.\n"
     ]
    }
   ],
   "source": [
    "if os.path.exists(Electronics.TRAIN) == False:\n",
    "    os.makedirs(Electronics.TRAIN)\n",
    "    \n",
    "if os.path.exists(Electronics.TEST) == False:\n",
    "    os.makedirs(Electronics.TEST)\n",
    "\n",
    "if os.path.exists(Electronics.VALIDATION) == False:\n",
    "    os.makedirs(Electronics.VALIDATION)\n",
    "    \n",
    "print(\"Done.\")"
   ]
  },
  {
   "cell_type": "code",
   "execution_count": 15,
   "id": "aggressive-institution",
   "metadata": {},
   "outputs": [
    {
     "name": "stdout",
     "output_type": "stream",
     "text": [
      "Sucess\n",
      "Moved:\t\t50 images\n",
      "Category:\tcamera\n",
      "From:\t\tdata_mixed/camera\n",
      "To\t\tdata/train\n",
      "\n",
      "\n",
      "Sucess\n",
      "Moved:\t\t10 images\n",
      "Category:\tcamera\n",
      "From:\t\tdata_mixed/camera\n",
      "To\t\tdata/validation\n",
      "\n",
      "\n",
      "Sucess\n",
      "Moved:\t\t10 images\n",
      "Category:\tcamera\n",
      "From:\t\tdata_mixed/camera\n",
      "To\t\t./test\n",
      "\n",
      "\n",
      "Sucess\n",
      "Moved:\t\t50 images\n",
      "Category:\tlaptop\n",
      "From:\t\tdata_mixed/laptop\n",
      "To\t\tdata/train\n",
      "\n",
      "\n",
      "Sucess\n",
      "Moved:\t\t10 images\n",
      "Category:\tlaptop\n",
      "From:\t\tdata_mixed/laptop\n",
      "To\t\tdata/validation\n",
      "\n",
      "\n",
      "Sucess\n",
      "Moved:\t\t10 images\n",
      "Category:\tlaptop\n",
      "From:\t\tdata_mixed/laptop\n",
      "To\t\t./test\n",
      "\n",
      "\n",
      "Sucess\n",
      "Moved:\t\t50 images\n",
      "Category:\tdesktop\n",
      "From:\t\tdata_mixed/desktop\n",
      "To\t\tdata/train\n",
      "\n",
      "\n",
      "Sucess\n",
      "Moved:\t\t10 images\n",
      "Category:\tdesktop\n",
      "From:\t\tdata_mixed/desktop\n",
      "To\t\tdata/validation\n",
      "\n",
      "\n",
      "Sucess\n",
      "Moved:\t\t10 images\n",
      "Category:\tdesktop\n",
      "From:\t\tdata_mixed/desktop\n",
      "To\t\t./test\n",
      "\n",
      "\n",
      "Sucess\n",
      "Moved:\t\t50 images\n",
      "Category:\tmouse\n",
      "From:\t\tdata_mixed/mouse\n",
      "To\t\tdata/train\n",
      "\n",
      "\n",
      "Sucess\n",
      "Moved:\t\t10 images\n",
      "Category:\tmouse\n",
      "From:\t\tdata_mixed/mouse\n",
      "To\t\tdata/validation\n",
      "\n",
      "\n",
      "Sucess\n",
      "Moved:\t\t10 images\n",
      "Category:\tmouse\n",
      "From:\t\tdata_mixed/mouse\n",
      "To\t\t./test\n",
      "\n",
      "\n",
      "Sucess\n",
      "Moved:\t\t50 images\n",
      "Category:\tremote\n",
      "From:\t\tdata_mixed/remote\n",
      "To\t\tdata/train\n",
      "\n",
      "\n",
      "Sucess\n",
      "Moved:\t\t10 images\n",
      "Category:\tremote\n",
      "From:\t\tdata_mixed/remote\n",
      "To\t\tdata/validation\n",
      "\n",
      "\n",
      "Sucess\n",
      "Moved:\t\t10 images\n",
      "Category:\tremote\n",
      "From:\t\tdata_mixed/remote\n",
      "To\t\t./test\n",
      "\n",
      "\n",
      "Sucess\n",
      "Moved:\t\t50 images\n",
      "Category:\tcellphone\n",
      "From:\t\tdata_mixed/cellphone\n",
      "To\t\tdata/train\n",
      "\n",
      "\n",
      "Sucess\n",
      "Moved:\t\t10 images\n",
      "Category:\tcellphone\n",
      "From:\t\tdata_mixed/cellphone\n",
      "To\t\tdata/validation\n",
      "\n",
      "\n",
      "Sucess\n",
      "Moved:\t\t10 images\n",
      "Category:\tcellphone\n",
      "From:\t\tdata_mixed/cellphone\n",
      "To\t\t./test\n",
      "\n",
      "\n",
      "Sucess\n",
      "Moved:\t\t50 images\n",
      "Category:\ttelevision\n",
      "From:\t\tdata_mixed/television\n",
      "To\t\tdata/train\n",
      "\n",
      "\n",
      "Sucess\n",
      "Moved:\t\t10 images\n",
      "Category:\ttelevision\n",
      "From:\t\tdata_mixed/television\n",
      "To\t\tdata/validation\n",
      "\n",
      "\n",
      "Sucess\n",
      "Moved:\t\t10 images\n",
      "Category:\ttelevision\n",
      "From:\t\tdata_mixed/television\n",
      "To\t\t./test\n",
      "\n",
      "\n",
      "Done.\n"
     ]
    }
   ],
   "source": [
    "for cate in [\"laptop\", \"desktop\", \"cellphone\"]: # 3 classes for simplicity\n",
    "    for i in range(train_size):\n",
    "        images_paths = os.listdir(os.path.join(Electronics.IMAGES_PATH, cate))\n",
    "        random.shuffle(images_paths)\n",
    "        image_path = os.path.join(os.path.join(Electronics.IMAGES_PATH, cate), images_paths[0])\n",
    "        if os.path.exists(os.path.join(Electronics.TRAIN, cate)) == False:\n",
    "            os.makedirs(os.path.join(Electronics.TRAIN, cate))\n",
    "        shutil.move(f'{image_path}', f'{Electronics.TRAIN}/{cate}/{images_paths[0]}')\n",
    "    print(f\"Sucess\\nMoved:\\t\\t{train_size} images\\nCategory:\\t{cate}\\nFrom:\\t\\t{Electronics.IMAGES_PATH+'/'+cate}\\nTo\\t\\t{Electronics.TRAIN}\\n\\n\")   \n",
    "  \n",
    "    for i in range(validation_size):\n",
    "        images_paths = os.listdir(os.path.join(Electronics.IMAGES_PATH, cate))\n",
    "        random.shuffle(images_paths)\n",
    "        image_path = os.path.join(os.path.join(Electronics.IMAGES_PATH, cate), images_paths[0])\n",
    "        if os.path.exists(os.path.join(Electronics.VALIDATION, cate)) == False:\n",
    "            os.makedirs(os.path.join(Electronics.VALIDATION, cate))\n",
    "        shutil.move(f'{image_path}', f'{Electronics.VALIDATION}/{cate}/{images_paths[0]}')\n",
    "    print(f\"Sucess\\nMoved:\\t\\t{validation_size} images\\nCategory:\\t{cate}\\nFrom:\\t\\t{Electronics.IMAGES_PATH+'/'+cate}\\nTo\\t\\t{Electronics.VALIDATION}\\n\\n\")   \n",
    "    \n",
    "    for i in range(test_size):\n",
    "        images_paths = os.listdir(os.path.join(Electronics.IMAGES_PATH, cate))\n",
    "        random.shuffle(images_paths)\n",
    "        image_path = os.path.join(os.path.join(Electronics.IMAGES_PATH, cate), images_paths[0])\n",
    "        shutil.move(f'{image_path}', f'{Electronics.TEST}')\n",
    "    print(f\"Sucess\\nMoved:\\t\\t{test_size} images\\nCategory:\\t{cate}\\nFrom:\\t\\t{Electronics.IMAGES_PATH+'/'+cate}\\nTo\\t\\t{Electronics.TEST}\\n\\n\")   \n",
    "\n",
    "print(\"Done.\")      "
   ]
  },
  {
   "cell_type": "markdown",
   "id": "compressed-spiritual",
   "metadata": {},
   "source": [
    "> Creating `ImageDataGenerator` for each sample"
   ]
  },
  {
   "cell_type": "code",
   "execution_count": 45,
   "id": "convenient-panama",
   "metadata": {},
   "outputs": [],
   "source": [
    "train_datagen = ImageDataGenerator(\n",
    "        rescale=1./255,\n",
    "    fill_mode=\"nearest\",\n",
    "    \n",
    ")\n",
    "test_datagen = ImageDataGenerator(rescale=1./255)\n",
    "validation_datagen = ImageDataGenerator(\n",
    "    rescale=1./255,\n",
    "    fill_mode=\"nearest\",\n",
    "    \n",
    ")"
   ]
  },
  {
   "cell_type": "code",
   "execution_count": 46,
   "id": "personalized-substitute",
   "metadata": {},
   "outputs": [
    {
     "name": "stdout",
     "output_type": "stream",
     "text": [
      "Found 150 images belonging to 3 classes.\n",
      "Found 30 images belonging to 3 classes.\n",
      "Found 70 images belonging to 1 classes.\n"
     ]
    }
   ],
   "source": [
    "train_generator = train_datagen.flow_from_directory(\n",
    "        'data/train',\n",
    "        target_size=(224, 224),\n",
    "        batch_size=8,\n",
    "        class_mode=\"categorical\"\n",
    ")\n",
    "validation_generator = validation_datagen.flow_from_directory(\n",
    "        'data/validation',\n",
    "        target_size=(224, 224),\n",
    "        batch_size=8,\n",
    "        class_mode=\"categorical\"\n",
    ")\n",
    "test_generator = test_datagen.flow_from_directory(\n",
    "        '.',\n",
    "        target_size=(224, 224),\n",
    "        classes=[\"test\"],\n",
    "        batch_size = 1\n",
    ")\n"
   ]
  },
  {
   "cell_type": "code",
   "execution_count": 20,
   "id": "overall-vector",
   "metadata": {},
   "outputs": [
    {
     "data": {
      "text/plain": [
       "['test\\\\camera102.png', 'test\\\\camera114.png']"
      ]
     },
     "execution_count": 20,
     "metadata": {},
     "output_type": "execute_result"
    }
   ],
   "source": [
    "test_generator.filenames[:2]"
   ]
  },
  {
   "cell_type": "code",
   "execution_count": 21,
   "id": "nutritional-antique",
   "metadata": {},
   "outputs": [
    {
     "data": {
      "text/plain": [
       "array([[1.]], dtype=float32)"
      ]
     },
     "execution_count": 21,
     "metadata": {},
     "output_type": "execute_result"
    }
   ],
   "source": [
    "test_generator[0][1]"
   ]
  },
  {
   "cell_type": "markdown",
   "id": "therapeutic-volume",
   "metadata": {},
   "source": [
    "> ``Model`` Creation ``CNN``"
   ]
  },
  {
   "cell_type": "code",
   "execution_count": 47,
   "id": "harmful-better",
   "metadata": {},
   "outputs": [
    {
     "name": "stdout",
     "output_type": "stream",
     "text": [
      "Model: \"sequential_4\"\n",
      "_________________________________________________________________\n",
      "Layer (type)                 Output Shape              Param #   \n",
      "=================================================================\n",
      "conv2d_12 (Conv2D)           (None, 223, 223, 32)      416       \n",
      "_________________________________________________________________\n",
      "max_pooling2d_9 (MaxPooling2 (None, 111, 111, 32)      0         \n",
      "_________________________________________________________________\n",
      "conv2d_13 (Conv2D)           (None, 110, 110, 64)      8256      \n",
      "_________________________________________________________________\n",
      "max_pooling2d_10 (MaxPooling (None, 55, 55, 64)        0         \n",
      "_________________________________________________________________\n",
      "conv2d_14 (Conv2D)           (None, 54, 54, 128)       32896     \n",
      "_________________________________________________________________\n",
      "max_pooling2d_11 (MaxPooling (None, 27, 27, 128)       0         \n",
      "_________________________________________________________________\n",
      "conv2d_15 (Conv2D)           (None, 26, 26, 64)        32832     \n",
      "_________________________________________________________________\n",
      "flatten_3 (Flatten)          (None, 43264)             0         \n",
      "_________________________________________________________________\n",
      "dense_11 (Dense)             (None, 64)                2768960   \n",
      "_________________________________________________________________\n",
      "dense_12 (Dense)             (None, 32)                2080      \n",
      "_________________________________________________________________\n",
      "dense_13 (Dense)             (None, 3)                 99        \n",
      "=================================================================\n",
      "Total params: 2,845,539\n",
      "Trainable params: 2,845,539\n",
      "Non-trainable params: 0\n",
      "_________________________________________________________________\n"
     ]
    }
   ],
   "source": [
    "model = keras.Sequential([\n",
    "    keras.layers.Input(shape=(224, 224, 3)),\n",
    "    keras.layers.Conv2D(32, (2, 2), activation='relu'),\n",
    "    keras.layers.MaxPool2D((2, 2)),\n",
    "    keras.layers.Conv2D(64, (2, 2), activation='relu'),\n",
    "    keras.layers.MaxPool2D((2, 2)),\n",
    "    keras.layers.Conv2D(128, (2, 2), activation='relu'),\n",
    "    keras.layers.MaxPool2D((2, 2)),\n",
    "    keras.layers.Conv2D(64, (2, 2), activation='relu'),\n",
    "    keras.layers.Flatten(),\n",
    "    keras.layers.Dense(64, activation='relu'),\n",
    "    keras.layers.Dense(32, activation='relu'),\n",
    "    keras.layers.Dense(3, activation='softmax')\n",
    "])\n",
    "model.summary()"
   ]
  },
  {
   "cell_type": "code",
   "execution_count": 48,
   "id": "following-university",
   "metadata": {},
   "outputs": [],
   "source": [
    "model.compile(\n",
    "    metrics=[\"accuracy\"],\n",
    "    optimizer = keras.optimizers.Adam(),\n",
    "    loss = keras.losses.CategoricalCrossentropy(),\n",
    ")"
   ]
  },
  {
   "cell_type": "code",
   "execution_count": 49,
   "id": "signal-shark",
   "metadata": {},
   "outputs": [
    {
     "name": "stdout",
     "output_type": "stream",
     "text": [
      "Epoch 1/5\n",
      "19/19 [==============================] - 47s 2s/step - loss: 1.1444 - accuracy: 0.3143 - val_loss: 1.0976 - val_accuracy: 0.3333\n",
      "Epoch 2/5\n",
      "19/19 [==============================] - 15s 765ms/step - loss: 1.0982 - accuracy: 0.3145 - val_loss: 1.0962 - val_accuracy: 0.3000\n",
      "Epoch 3/5\n",
      "19/19 [==============================] - 14s 729ms/step - loss: 1.0927 - accuracy: 0.3320 - val_loss: 1.0748 - val_accuracy: 0.4667\n",
      "Epoch 4/5\n",
      "19/19 [==============================] - 13s 684ms/step - loss: 0.9375 - accuracy: 0.5662 - val_loss: 0.9898 - val_accuracy: 0.5000\n",
      "Epoch 5/5\n",
      "19/19 [==============================] - 13s 670ms/step - loss: 0.7761 - accuracy: 0.6788 - val_loss: 1.0279 - val_accuracy: 0.5333\n"
     ]
    }
   ],
   "source": [
    "EPOCHS = 5\n",
    "\n",
    "history = model.fit(train_generator,batch_size=8, validation_data=validation_generator, epochs=EPOCHS)"
   ]
  },
  {
   "cell_type": "code",
   "execution_count": 50,
   "id": "filled-tract",
   "metadata": {},
   "outputs": [],
   "source": [
    "import pandas as pd"
   ]
  },
  {
   "cell_type": "code",
   "execution_count": 51,
   "id": "separated-drain",
   "metadata": {},
   "outputs": [
    {
     "data": {
      "text/plain": [
       "<AxesSubplot:>"
      ]
     },
     "execution_count": 51,
     "metadata": {},
     "output_type": "execute_result"
    },
    {
     "data": {
      "image/png": "[encoded data removed]",
      "text/plain": [
       "<Figure size 432x288 with 1 Axes>"
      ]
     },
     "metadata": {
      "needs_background": "light"
     },
     "output_type": "display_data"
    }
   ],
   "source": [
    "pd.DataFrame(history.history).plot()"
   ]
  },
  {
   "cell_type": "code",
   "execution_count": 35,
   "id": "civic-debate",
   "metadata": {},
   "outputs": [
    {
     "data": {
      "text/plain": [
       "<tf.Tensor: shape=(70,), dtype=int64, numpy=\n",
       "array([5, 6, 4, 6, 1, 5, 6, 0, 5, 4, 1, 4, 6, 3, 3, 1, 4, 4, 2, 2, 1, 4,\n",
       "       4, 6, 5, 6, 4, 4, 6, 2, 4, 0, 6, 0, 6, 1, 0, 2, 6, 1, 5, 5, 5, 1,\n",
       "       1, 2, 0, 3, 6, 5, 5, 3, 5, 4, 6, 6, 5, 2, 4, 5, 0, 4, 2, 3, 3, 4,\n",
       "       1, 6, 5, 6], dtype=int64)>"
      ]
     },
     "execution_count": 35,
     "metadata": {},
     "output_type": "execute_result"
    }
   ],
   "source": [
    "predictions = tf.argmax(model.predict(test_generator), axis=1)\n",
    "predictions"
   ]
  },
  {
   "cell_type": "code",
   "execution_count": 36,
   "id": "blank-magnitude",
   "metadata": {},
   "outputs": [
    {
     "name": "stdout",
     "output_type": "stream",
     "text": [
      "(224, 224, 3)\n"
     ]
    },
    {
     "data": {
      "text/plain": [
       "<matplotlib.image.AxesImage at 0x28d0e0b8400>"
      ]
     },
     "execution_count": 36,
     "metadata": {},
     "output_type": "execute_result"
    },
    {
     "data": {
      "image/png": "[encoded data removed]",
      "text/plain": [
       "<Figure size 432x288 with 1 Axes>"
      ]
     },
     "metadata": {
      "needs_background": "light"
     },
     "output_type": "display_data"
    }
   ],
   "source": [
    "print(test_generator[0][0][0].shape)\n",
    "plt.imshow(test_generator[2][0][0])"
   ]
  },
  {
   "cell_type": "markdown",
   "id": "sealed-surprise",
   "metadata": {},
   "source": [
    "### `Transfer Learning` using `VGG16` model."
   ]
  },
  {
   "cell_type": "code",
   "execution_count": 31,
   "id": "instrumental-flour",
   "metadata": {},
   "outputs": [
    {
     "name": "stdout",
     "output_type": "stream",
     "text": [
      "Model: \"vgg16\"\n",
      "_________________________________________________________________\n",
      "Layer (type)                 Output Shape              Param #   \n",
      "=================================================================\n",
      "input_4 (InputLayer)         [(None, 224, 224, 3)]     0         \n",
      "_________________________________________________________________\n",
      "block1_conv1 (Conv2D)        (None, 224, 224, 64)      1792      \n",
      "_________________________________________________________________\n",
      "block1_conv2 (Conv2D)        (None, 224, 224, 64)      36928     \n",
      "_________________________________________________________________\n",
      "block1_pool (MaxPooling2D)   (None, 112, 112, 64)      0         \n",
      "_________________________________________________________________\n",
      "block2_conv1 (Conv2D)        (None, 112, 112, 128)     73856     \n",
      "_________________________________________________________________\n",
      "block2_conv2 (Conv2D)        (None, 112, 112, 128)     147584    \n",
      "_________________________________________________________________\n",
      "block2_pool (MaxPooling2D)   (None, 56, 56, 128)       0         \n",
      "_________________________________________________________________\n",
      "block3_conv1 (Conv2D)        (None, 56, 56, 256)       295168    \n",
      "_________________________________________________________________\n",
      "block3_conv2 (Conv2D)        (None, 56, 56, 256)       590080    \n",
      "_________________________________________________________________\n",
      "block3_conv3 (Conv2D)        (None, 56, 56, 256)       590080    \n",
      "_________________________________________________________________\n",
      "block3_pool (MaxPooling2D)   (None, 28, 28, 256)       0         \n",
      "_________________________________________________________________\n",
      "block4_conv1 (Conv2D)        (None, 28, 28, 512)       1180160   \n",
      "_________________________________________________________________\n",
      "block4_conv2 (Conv2D)        (None, 28, 28, 512)       2359808   \n",
      "_________________________________________________________________\n",
      "block4_conv3 (Conv2D)        (None, 28, 28, 512)       2359808   \n",
      "_________________________________________________________________\n",
      "block4_pool (MaxPooling2D)   (None, 14, 14, 512)       0         \n",
      "_________________________________________________________________\n",
      "block5_conv1 (Conv2D)        (None, 14, 14, 512)       2359808   \n",
      "_________________________________________________________________\n",
      "block5_conv2 (Conv2D)        (None, 14, 14, 512)       2359808   \n",
      "_________________________________________________________________\n",
      "block5_conv3 (Conv2D)        (None, 14, 14, 512)       2359808   \n",
      "_________________________________________________________________\n",
      "block5_pool (MaxPooling2D)   (None, 7, 7, 512)         0         \n",
      "_________________________________________________________________\n",
      "flatten (Flatten)            (None, 25088)             0         \n",
      "_________________________________________________________________\n",
      "fc1 (Dense)                  (None, 4096)              102764544 \n",
      "_________________________________________________________________\n",
      "fc2 (Dense)                  (None, 4096)              16781312  \n",
      "_________________________________________________________________\n",
      "predictions (Dense)          (None, 1000)              4097000   \n",
      "=================================================================\n",
      "Total params: 138,357,544\n",
      "Trainable params: 138,357,544\n",
      "Non-trainable params: 0\n",
      "_________________________________________________________________\n"
     ]
    }
   ],
   "source": [
    "base_model = keras.applications.vgg16.VGG16()\n",
    "base_model.summary()"
   ]
  },
  {
   "cell_type": "markdown",
   "id": "mysterious-teach",
   "metadata": {},
   "source": [
    "> Create a `Sequential` model."
   ]
  },
  {
   "cell_type": "code",
   "execution_count": 37,
   "id": "extra-paste",
   "metadata": {},
   "outputs": [],
   "source": [
    "model2 = keras.Sequential()"
   ]
  },
  {
   "cell_type": "markdown",
   "id": "adequate-terminology",
   "metadata": {},
   "source": [
    "> And the layers from the `pretrained` model exept the output layer."
   ]
  },
  {
   "cell_type": "code",
   "execution_count": 39,
   "id": "delayed-prayer",
   "metadata": {},
   "outputs": [
    {
     "name": "stdout",
     "output_type": "stream",
     "text": [
      "Model: \"sequential_3\"\n",
      "_________________________________________________________________\n",
      "Layer (type)                 Output Shape              Param #   \n",
      "=================================================================\n",
      "block1_conv1 (Conv2D)        (None, 224, 224, 64)      1792      \n",
      "_________________________________________________________________\n",
      "block1_conv2 (Conv2D)        (None, 224, 224, 64)      36928     \n",
      "_________________________________________________________________\n",
      "block1_pool (MaxPooling2D)   (None, 112, 112, 64)      0         \n",
      "_________________________________________________________________\n",
      "block2_conv1 (Conv2D)        (None, 112, 112, 128)     73856     \n",
      "_________________________________________________________________\n",
      "block2_conv2 (Conv2D)        (None, 112, 112, 128)     147584    \n",
      "_________________________________________________________________\n",
      "block2_pool (MaxPooling2D)   (None, 56, 56, 128)       0         \n",
      "_________________________________________________________________\n",
      "block3_conv1 (Conv2D)        (None, 56, 56, 256)       295168    \n",
      "_________________________________________________________________\n",
      "block3_conv2 (Conv2D)        (None, 56, 56, 256)       590080    \n",
      "_________________________________________________________________\n",
      "block3_conv3 (Conv2D)        (None, 56, 56, 256)       590080    \n",
      "_________________________________________________________________\n",
      "block3_pool (MaxPooling2D)   (None, 28, 28, 256)       0         \n",
      "_________________________________________________________________\n",
      "block4_conv1 (Conv2D)        (None, 28, 28, 512)       1180160   \n",
      "_________________________________________________________________\n",
      "block4_conv2 (Conv2D)        (None, 28, 28, 512)       2359808   \n",
      "_________________________________________________________________\n",
      "block4_conv3 (Conv2D)        (None, 28, 28, 512)       2359808   \n",
      "_________________________________________________________________\n",
      "block4_pool (MaxPooling2D)   (None, 14, 14, 512)       0         \n",
      "_________________________________________________________________\n",
      "block5_conv1 (Conv2D)        (None, 14, 14, 512)       2359808   \n",
      "_________________________________________________________________\n",
      "block5_conv2 (Conv2D)        (None, 14, 14, 512)       2359808   \n",
      "_________________________________________________________________\n",
      "block5_conv3 (Conv2D)        (None, 14, 14, 512)       2359808   \n",
      "_________________________________________________________________\n",
      "block5_pool (MaxPooling2D)   (None, 7, 7, 512)         0         \n",
      "_________________________________________________________________\n",
      "flatten (Flatten)            (None, 25088)             0         \n",
      "_________________________________________________________________\n",
      "fc1 (Dense)                  (None, 4096)              102764544 \n",
      "_________________________________________________________________\n",
      "fc2 (Dense)                  (None, 4096)              16781312  \n",
      "=================================================================\n",
      "Total params: 134,260,544\n",
      "Trainable params: 134,260,544\n",
      "Non-trainable params: 0\n",
      "_________________________________________________________________\n"
     ]
    }
   ],
   "source": [
    "for layer in base_model.layers[0:-1]:\n",
    "    model2.add(layer)\n",
    "model2.summary()"
   ]
  },
  {
   "cell_type": "markdown",
   "id": "right-danish",
   "metadata": {},
   "source": [
    "> Freeze the model by turning `trainable = False` we don't want to retrain the layers again."
   ]
  },
  {
   "cell_type": "code",
   "execution_count": 40,
   "id": "broad-baltimore",
   "metadata": {},
   "outputs": [
    {
     "name": "stdout",
     "output_type": "stream",
     "text": [
      "Model: \"sequential_3\"\n",
      "_________________________________________________________________\n",
      "Layer (type)                 Output Shape              Param #   \n",
      "=================================================================\n",
      "block1_conv1 (Conv2D)        (None, 224, 224, 64)      1792      \n",
      "_________________________________________________________________\n",
      "block1_conv2 (Conv2D)        (None, 224, 224, 64)      36928     \n",
      "_________________________________________________________________\n",
      "block1_pool (MaxPooling2D)   (None, 112, 112, 64)      0         \n",
      "_________________________________________________________________\n",
      "block2_conv1 (Conv2D)        (None, 112, 112, 128)     73856     \n",
      "_________________________________________________________________\n",
      "block2_conv2 (Conv2D)        (None, 112, 112, 128)     147584    \n",
      "_________________________________________________________________\n",
      "block2_pool (MaxPooling2D)   (None, 56, 56, 128)       0         \n",
      "_________________________________________________________________\n",
      "block3_conv1 (Conv2D)        (None, 56, 56, 256)       295168    \n",
      "_________________________________________________________________\n",
      "block3_conv2 (Conv2D)        (None, 56, 56, 256)       590080    \n",
      "_________________________________________________________________\n",
      "block3_conv3 (Conv2D)        (None, 56, 56, 256)       590080    \n",
      "_________________________________________________________________\n",
      "block3_pool (MaxPooling2D)   (None, 28, 28, 256)       0         \n",
      "_________________________________________________________________\n",
      "block4_conv1 (Conv2D)        (None, 28, 28, 512)       1180160   \n",
      "_________________________________________________________________\n",
      "block4_conv2 (Conv2D)        (None, 28, 28, 512)       2359808   \n",
      "_________________________________________________________________\n",
      "block4_conv3 (Conv2D)        (None, 28, 28, 512)       2359808   \n",
      "_________________________________________________________________\n",
      "block4_pool (MaxPooling2D)   (None, 14, 14, 512)       0         \n",
      "_________________________________________________________________\n",
      "block5_conv1 (Conv2D)        (None, 14, 14, 512)       2359808   \n",
      "_________________________________________________________________\n",
      "block5_conv2 (Conv2D)        (None, 14, 14, 512)       2359808   \n",
      "_________________________________________________________________\n",
      "block5_conv3 (Conv2D)        (None, 14, 14, 512)       2359808   \n",
      "_________________________________________________________________\n",
      "block5_pool (MaxPooling2D)   (None, 7, 7, 512)         0         \n",
      "_________________________________________________________________\n",
      "flatten (Flatten)            (None, 25088)             0         \n",
      "_________________________________________________________________\n",
      "fc1 (Dense)                  (None, 4096)              102764544 \n",
      "_________________________________________________________________\n",
      "fc2 (Dense)                  (None, 4096)              16781312  \n",
      "=================================================================\n",
      "Total params: 134,260,544\n",
      "Trainable params: 0\n",
      "Non-trainable params: 134,260,544\n",
      "_________________________________________________________________\n"
     ]
    }
   ],
   "source": [
    "for layer in model2.layers:\n",
    "    layer.trainable = False\n",
    "model2.summary()"
   ]
  },
  {
   "cell_type": "markdown",
   "id": "improved-forum",
   "metadata": {},
   "source": [
    "> Creating our `output` layer with 7 classes and add it to the model."
   ]
  },
  {
   "cell_type": "code",
   "execution_count": 52,
   "id": "assigned-mathematics",
   "metadata": {},
   "outputs": [
    {
     "name": "stdout",
     "output_type": "stream",
     "text": [
      "Model: \"sequential_4\"\n",
      "_________________________________________________________________\n",
      "Layer (type)                 Output Shape              Param #   \n",
      "=================================================================\n",
      "conv2d_12 (Conv2D)           (None, 223, 223, 32)      416       \n",
      "_________________________________________________________________\n",
      "max_pooling2d_9 (MaxPooling2 (None, 111, 111, 32)      0         \n",
      "_________________________________________________________________\n",
      "conv2d_13 (Conv2D)           (None, 110, 110, 64)      8256      \n",
      "_________________________________________________________________\n",
      "max_pooling2d_10 (MaxPooling (None, 55, 55, 64)        0         \n",
      "_________________________________________________________________\n",
      "conv2d_14 (Conv2D)           (None, 54, 54, 128)       32896     \n",
      "_________________________________________________________________\n",
      "max_pooling2d_11 (MaxPooling (None, 27, 27, 128)       0         \n",
      "_________________________________________________________________\n",
      "conv2d_15 (Conv2D)           (None, 26, 26, 64)        32832     \n",
      "_________________________________________________________________\n",
      "flatten_3 (Flatten)          (None, 43264)             0         \n",
      "_________________________________________________________________\n",
      "dense_11 (Dense)             (None, 64)                2768960   \n",
      "_________________________________________________________________\n",
      "dense_12 (Dense)             (None, 32)                2080      \n",
      "_________________________________________________________________\n",
      "dense_13 (Dense)             (None, 3)                 99        \n",
      "_________________________________________________________________\n",
      "dense_14 (Dense)             (None, 3)                 12        \n",
      "=================================================================\n",
      "Total params: 2,845,551\n",
      "Trainable params: 2,845,551\n",
      "Non-trainable params: 0\n",
      "_________________________________________________________________\n"
     ]
    }
   ],
   "source": [
    "output_layer = tf.keras.layers.Dense(3, activation='softmax')\n",
    "model.add(output_layer)\n",
    "model.summary()"
   ]
  },
  {
   "cell_type": "markdown",
   "id": "indian-kelly",
   "metadata": {},
   "source": [
    "> Compile the `model`."
   ]
  },
  {
   "cell_type": "code",
   "execution_count": 53,
   "id": "distinct-lender",
   "metadata": {},
   "outputs": [],
   "source": [
    "model2.compile(\n",
    "    loss = tf.keras.losses.categorical_crossentropy,\n",
    "    optimizer = tf.keras.optimizers.Adam(),\n",
    "    metrics = ['acc']\n",
    ")"
   ]
  },
  {
   "cell_type": "markdown",
   "id": "comparative-closing",
   "metadata": {},
   "source": [
    "> `Train` the model."
   ]
  },
  {
   "cell_type": "code",
   "execution_count": 54,
   "id": "stylish-fundamental",
   "metadata": {},
   "outputs": [
    {
     "name": "stdout",
     "output_type": "stream",
     "text": [
      "Epoch 1/5\n",
      "19/19 [==============================] - 15s 776ms/step - loss: 0.6070 - accuracy: 0.7733 - val_loss: 1.9293 - val_accuracy: 0.5667\n",
      "Epoch 2/5\n",
      "19/19 [==============================] - 13s 687ms/step - loss: 0.3719 - accuracy: 0.8533 - val_loss: 2.1310 - val_accuracy: 0.5000\n",
      "Epoch 3/5\n",
      "19/19 [==============================] - 13s 705ms/step - loss: 0.2086 - accuracy: 0.9600 - val_loss: 2.5247 - val_accuracy: 0.6000\n",
      "Epoch 4/5\n",
      "19/19 [==============================] - 13s 683ms/step - loss: 0.1654 - accuracy: 0.9400 - val_loss: 3.2807 - val_accuracy: 0.5000\n",
      "Epoch 5/5\n",
      "19/19 [==============================] - 14s 745ms/step - loss: 0.0968 - accuracy: 0.9667 - val_loss: 3.3399 - val_accuracy: 0.4333\n"
     ]
    }
   ],
   "source": [
    "EPOCHS = 5\n",
    "history = model.fit(train_generator,batch_size=8, validation_data=validation_generator, epochs=EPOCHS)"
   ]
  },
  {
   "cell_type": "markdown",
   "id": "understood-member",
   "metadata": {},
   "source": [
    "> The model is still **over-fitting** 😭😭😭"
   ]
  },
  {
   "cell_type": "code",
   "execution_count": null,
   "id": "animated-qualification",
   "metadata": {},
   "outputs": [],
   "source": []
  }
 ],
 "metadata": {
  "kernelspec": {
   "display_name": "Python 3",
   "language": "python",
   "name": "python3"
  },
  "language_info": {
   "codemirror_mode": {
    "name": "ipython",
    "version": 3
   },
   "file_extension": ".py",
   "mimetype": "text/x-python",
   "name": "python",
   "nbconvert_exporter": "python",
   "pygments_lexer": "ipython3",
   "version": "3.8.5"
  }
 },
 "nbformat": 4,
 "nbformat_minor": 5
}
