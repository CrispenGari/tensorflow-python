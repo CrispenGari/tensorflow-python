{
 "cells": [
  {
   "cell_type": "markdown",
   "id": "handed-religious",
   "metadata": {},
   "source": [
    "## Image Classification `CNN` + `Tansfare Learning`\n",
    "> Classifying image from our own dataset with `10` classes."
   ]
  },
  {
   "cell_type": "markdown",
   "id": "authentic-prediction",
   "metadata": {},
   "source": [
    "### Imports"
   ]
  },
  {
   "cell_type": "code",
   "execution_count": 1,
   "id": "faced-tutorial",
   "metadata": {},
   "outputs": [],
   "source": [
    "import tensorflow as tf\n",
    "from tensorflow import keras\n",
    "import numpy as np\n",
    "import os, random\n",
    "import matplotlib.pyplot as plt\n",
    "import shutil\n",
    "from tensorflow.keras.preprocessing.image import ImageDataGenerator"
   ]
  },
  {
   "cell_type": "markdown",
   "id": "seventh-coffee",
   "metadata": {},
   "source": [
    "> We are going to use `ImageDataGenerator` to preprocess our images so the file structures should look as follows\n",
    "\n",
    "```\n",
    "data\n",
    "    class_1:\n",
    "        - image\n",
    "        - image\n",
    "    ...\n",
    "    class_n:\n",
    "        - image\n",
    "        - image\n",
    "        ...\n",
    "```"
   ]
  },
  {
   "cell_type": "code",
   "execution_count": 11,
   "id": "analyzed-spice",
   "metadata": {},
   "outputs": [],
   "source": [
    "class Electronics:\n",
    "    IMAGES_PATH = 'data_mixed'\n",
    "    IMAGES_BALANCED = 'data'\n",
    "    TRAIN = 'data/train'\n",
    "    VALIDATION = 'data/validation'\n",
    "    TEST = './test'"
   ]
  },
  {
   "cell_type": "code",
   "execution_count": 12,
   "id": "political-malta",
   "metadata": {},
   "outputs": [
    {
     "data": {
      "text/plain": [
       "['camera',\n",
       " 'cellphone',\n",
       " 'charger',\n",
       " 'desktop',\n",
       " 'drone',\n",
       " 'headphone',\n",
       " 'laptop',\n",
       " 'mouse',\n",
       " 'remote',\n",
       " 'television']"
      ]
     },
     "execution_count": 12,
     "metadata": {},
     "output_type": "execute_result"
    }
   ],
   "source": [
    "class_names = os.listdir(Electronics.IMAGES_PATH)\n",
    "class_names"
   ]
  },
  {
   "cell_type": "markdown",
   "id": "interstate-trail",
   "metadata": {},
   "source": [
    "> We want to come up with the following structure on our image `files`\n",
    "\n",
    "```\n",
    "data-\n",
    "    train -\n",
    "        class_1\n",
    "            -img1\n",
    "            -img2\n",
    "            -img3\n",
    "            -...\n",
    "        class_2\n",
    "            -...\n",
    "    test -\n",
    "        -img1\n",
    "        -img2\n",
    "        -img3\n",
    "    validation -\n",
    "        class_1\n",
    "            -img1\n",
    "            -img2\n",
    "            -img3\n",
    "            -...\n",
    "        class_2\n",
    "            -...\n",
    "```\n",
    "\n",
    "* We are going to move files around using code, and make sure that we have `100` images for each class for `training`\n",
    "`20` images for each class for `testing` and `20` images for each class for `validation`\n",
    "\n",
    "#### Folders Achitecture\n",
    "<p align=\"center\">\n",
    "<img src=\"https://miro.medium.com/max/700/1*HpvpA9pBJXKxaPCl5tKnLg.jpeg\"/>\n",
    "</p>\n",
    "\n",
    "> As you can see in the above picture, the test folder should also contain a single folder inside which all the test images are present(Think of it as “unlabeled” class , this is there because the flow_from_directory() expects at least one directory under the given directory path)."
   ]
  },
  {
   "cell_type": "code",
   "execution_count": 13,
   "id": "operating-picnic",
   "metadata": {},
   "outputs": [],
   "source": [
    "train_size = 50\n",
    "test_size = 10\n",
    "validation_size = 10"
   ]
  },
  {
   "cell_type": "code",
   "execution_count": 14,
   "id": "offensive-jersey",
   "metadata": {},
   "outputs": [
    {
     "name": "stdout",
     "output_type": "stream",
     "text": [
      "Done.\n"
     ]
    }
   ],
   "source": [
    "if os.path.exists(Electronics.TRAIN) == False:\n",
    "    os.makedirs(Electronics.TRAIN)\n",
    "    \n",
    "if os.path.exists(Electronics.TEST) == False:\n",
    "    os.makedirs(Electronics.TEST)\n",
    "\n",
    "if os.path.exists(Electronics.VALIDATION) == False:\n",
    "    os.makedirs(Electronics.VALIDATION)\n",
    "    \n",
    "print(\"Done.\")"
   ]
  },
  {
   "cell_type": "code",
   "execution_count": 15,
   "id": "aggressive-institution",
   "metadata": {},
   "outputs": [
    {
     "name": "stdout",
     "output_type": "stream",
     "text": [
      "Sucess\n",
      "Moved:\t\t50 images\n",
      "Category:\tcamera\n",
      "From:\t\tdata_mixed/camera\n",
      "To\t\tdata/train\n",
      "\n",
      "\n",
      "Sucess\n",
      "Moved:\t\t10 images\n",
      "Category:\tcamera\n",
      "From:\t\tdata_mixed/camera\n",
      "To\t\tdata/validation\n",
      "\n",
      "\n",
      "Sucess\n",
      "Moved:\t\t10 images\n",
      "Category:\tcamera\n",
      "From:\t\tdata_mixed/camera\n",
      "To\t\t./test\n",
      "\n",
      "\n",
      "Sucess\n",
      "Moved:\t\t50 images\n",
      "Category:\tlaptop\n",
      "From:\t\tdata_mixed/laptop\n",
      "To\t\tdata/train\n",
      "\n",
      "\n",
      "Sucess\n",
      "Moved:\t\t10 images\n",
      "Category:\tlaptop\n",
      "From:\t\tdata_mixed/laptop\n",
      "To\t\tdata/validation\n",
      "\n",
      "\n",
      "Sucess\n",
      "Moved:\t\t10 images\n",
      "Category:\tlaptop\n",
      "From:\t\tdata_mixed/laptop\n",
      "To\t\t./test\n",
      "\n",
      "\n",
      "Sucess\n",
      "Moved:\t\t50 images\n",
      "Category:\tdesktop\n",
      "From:\t\tdata_mixed/desktop\n",
      "To\t\tdata/train\n",
      "\n",
      "\n",
      "Sucess\n",
      "Moved:\t\t10 images\n",
      "Category:\tdesktop\n",
      "From:\t\tdata_mixed/desktop\n",
      "To\t\tdata/validation\n",
      "\n",
      "\n",
      "Sucess\n",
      "Moved:\t\t10 images\n",
      "Category:\tdesktop\n",
      "From:\t\tdata_mixed/desktop\n",
      "To\t\t./test\n",
      "\n",
      "\n",
      "Sucess\n",
      "Moved:\t\t50 images\n",
      "Category:\tmouse\n",
      "From:\t\tdata_mixed/mouse\n",
      "To\t\tdata/train\n",
      "\n",
      "\n",
      "Sucess\n",
      "Moved:\t\t10 images\n",
      "Category:\tmouse\n",
      "From:\t\tdata_mixed/mouse\n",
      "To\t\tdata/validation\n",
      "\n",
      "\n",
      "Sucess\n",
      "Moved:\t\t10 images\n",
      "Category:\tmouse\n",
      "From:\t\tdata_mixed/mouse\n",
      "To\t\t./test\n",
      "\n",
      "\n",
      "Sucess\n",
      "Moved:\t\t50 images\n",
      "Category:\tremote\n",
      "From:\t\tdata_mixed/remote\n",
      "To\t\tdata/train\n",
      "\n",
      "\n",
      "Sucess\n",
      "Moved:\t\t10 images\n",
      "Category:\tremote\n",
      "From:\t\tdata_mixed/remote\n",
      "To\t\tdata/validation\n",
      "\n",
      "\n",
      "Sucess\n",
      "Moved:\t\t10 images\n",
      "Category:\tremote\n",
      "From:\t\tdata_mixed/remote\n",
      "To\t\t./test\n",
      "\n",
      "\n",
      "Sucess\n",
      "Moved:\t\t50 images\n",
      "Category:\tcellphone\n",
      "From:\t\tdata_mixed/cellphone\n",
      "To\t\tdata/train\n",
      "\n",
      "\n",
      "Sucess\n",
      "Moved:\t\t10 images\n",
      "Category:\tcellphone\n",
      "From:\t\tdata_mixed/cellphone\n",
      "To\t\tdata/validation\n",
      "\n",
      "\n",
      "Sucess\n",
      "Moved:\t\t10 images\n",
      "Category:\tcellphone\n",
      "From:\t\tdata_mixed/cellphone\n",
      "To\t\t./test\n",
      "\n",
      "\n",
      "Sucess\n",
      "Moved:\t\t50 images\n",
      "Category:\ttelevision\n",
      "From:\t\tdata_mixed/television\n",
      "To\t\tdata/train\n",
      "\n",
      "\n",
      "Sucess\n",
      "Moved:\t\t10 images\n",
      "Category:\ttelevision\n",
      "From:\t\tdata_mixed/television\n",
      "To\t\tdata/validation\n",
      "\n",
      "\n",
      "Sucess\n",
      "Moved:\t\t10 images\n",
      "Category:\ttelevision\n",
      "From:\t\tdata_mixed/television\n",
      "To\t\t./test\n",
      "\n",
      "\n",
      "Done.\n"
     ]
    }
   ],
   "source": [
    "for cate in [\"laptop\", \"desktop\", \"cellphone\"]: # 3 classes for simplicity\n",
    "    for i in range(train_size):\n",
    "        images_paths = os.listdir(os.path.join(Electronics.IMAGES_PATH, cate))\n",
    "        random.shuffle(images_paths)\n",
    "        image_path = os.path.join(os.path.join(Electronics.IMAGES_PATH, cate), images_paths[0])\n",
    "        if os.path.exists(os.path.join(Electronics.TRAIN, cate)) == False:\n",
    "            os.makedirs(os.path.join(Electronics.TRAIN, cate))\n",
    "        shutil.move(f'{image_path}', f'{Electronics.TRAIN}/{cate}/{images_paths[0]}')\n",
    "    print(f\"Sucess\\nMoved:\\t\\t{train_size} images\\nCategory:\\t{cate}\\nFrom:\\t\\t{Electronics.IMAGES_PATH+'/'+cate}\\nTo\\t\\t{Electronics.TRAIN}\\n\\n\")   \n",
    "  \n",
    "    for i in range(validation_size):\n",
    "        images_paths = os.listdir(os.path.join(Electronics.IMAGES_PATH, cate))\n",
    "        random.shuffle(images_paths)\n",
    "        image_path = os.path.join(os.path.join(Electronics.IMAGES_PATH, cate), images_paths[0])\n",
    "        if os.path.exists(os.path.join(Electronics.VALIDATION, cate)) == False:\n",
    "            os.makedirs(os.path.join(Electronics.VALIDATION, cate))\n",
    "        shutil.move(f'{image_path}', f'{Electronics.VALIDATION}/{cate}/{images_paths[0]}')\n",
    "    print(f\"Sucess\\nMoved:\\t\\t{validation_size} images\\nCategory:\\t{cate}\\nFrom:\\t\\t{Electronics.IMAGES_PATH+'/'+cate}\\nTo\\t\\t{Electronics.VALIDATION}\\n\\n\")   \n",
    "    \n",
    "    for i in range(test_size):\n",
    "        images_paths = os.listdir(os.path.join(Electronics.IMAGES_PATH, cate))\n",
    "        random.shuffle(images_paths)\n",
    "        image_path = os.path.join(os.path.join(Electronics.IMAGES_PATH, cate), images_paths[0])\n",
    "        shutil.move(f'{image_path}', f'{Electronics.TEST}')\n",
    "    print(f\"Sucess\\nMoved:\\t\\t{test_size} images\\nCategory:\\t{cate}\\nFrom:\\t\\t{Electronics.IMAGES_PATH+'/'+cate}\\nTo\\t\\t{Electronics.TEST}\\n\\n\")   \n",
    "\n",
    "print(\"Done.\")      "
   ]
  },
  {
   "cell_type": "markdown",
   "id": "compressed-spiritual",
   "metadata": {},
   "source": [
    "> Creating `ImageDataGenerator` for each sample"
   ]
  },
  {
   "cell_type": "code",
   "execution_count": 18,
   "id": "convenient-panama",
   "metadata": {},
   "outputs": [],
   "source": [
    "train_datagen = ImageDataGenerator(\n",
    "        rescale=1./255,\n",
    "    fill_mode=\"nearest\",\n",
    "    \n",
    ")\n",
    "test_datagen = ImageDataGenerator(rescale=1./255)\n",
    "validation_datagen = ImageDataGenerator(\n",
    "    rescale=1./255,\n",
    "    fill_mode=\"nearest\",\n",
    "    \n",
    ")"
   ]
  },
  {
   "cell_type": "code",
   "execution_count": 19,
   "id": "personalized-substitute",
   "metadata": {},
   "outputs": [
    {
     "name": "stdout",
     "output_type": "stream",
     "text": [
      "Found 350 images belonging to 7 classes.\n",
      "Found 70 images belonging to 7 classes.\n",
      "Found 70 images belonging to 1 classes.\n"
     ]
    }
   ],
   "source": [
    "train_generator = train_datagen.flow_from_directory(\n",
    "        'data/train',\n",
    "        target_size=(224, 224),\n",
    "        batch_size=8,\n",
    "        class_mode=\"categorical\"\n",
    ")\n",
    "validation_generator = validation_datagen.flow_from_directory(\n",
    "        'data/validation',\n",
    "        target_size=(224, 224),\n",
    "        batch_size=8,\n",
    "        class_mode=\"categorical\"\n",
    ")\n",
    "test_generator = test_datagen.flow_from_directory(\n",
    "        '.',\n",
    "        target_size=(224, 224),\n",
    "        classes=[\"test\"],\n",
    "        batch_size = 1\n",
    ")\n"
   ]
  },
  {
   "cell_type": "code",
   "execution_count": 20,
   "id": "overall-vector",
   "metadata": {},
   "outputs": [
    {
     "data": {
      "text/plain": [
       "['test\\\\camera102.png', 'test\\\\camera114.png']"
      ]
     },
     "execution_count": 20,
     "metadata": {},
     "output_type": "execute_result"
    }
   ],
   "source": [
    "test_generator.filenames[:2]"
   ]
  },
  {
   "cell_type": "code",
   "execution_count": 21,
   "id": "nutritional-antique",
   "metadata": {},
   "outputs": [
    {
     "data": {
      "text/plain": [
       "array([[1.]], dtype=float32)"
      ]
     },
     "execution_count": 21,
     "metadata": {},
     "output_type": "execute_result"
    }
   ],
   "source": [
    "test_generator[0][1]"
   ]
  },
  {
   "cell_type": "markdown",
   "id": "therapeutic-volume",
   "metadata": {},
   "source": [
    "> ``Model`` Creation ``CNN``"
   ]
  },
  {
   "cell_type": "code",
   "execution_count": 28,
   "id": "harmful-better",
   "metadata": {},
   "outputs": [
    {
     "name": "stdout",
     "output_type": "stream",
     "text": [
      "Model: \"sequential_2\"\n",
      "_________________________________________________________________\n",
      "Layer (type)                 Output Shape              Param #   \n",
      "=================================================================\n",
      "conv2d_8 (Conv2D)            (None, 223, 223, 32)      416       \n",
      "_________________________________________________________________\n",
      "max_pooling2d_6 (MaxPooling2 (None, 111, 111, 32)      0         \n",
      "_________________________________________________________________\n",
      "conv2d_9 (Conv2D)            (None, 110, 110, 64)      8256      \n",
      "_________________________________________________________________\n",
      "max_pooling2d_7 (MaxPooling2 (None, 55, 55, 64)        0         \n",
      "_________________________________________________________________\n",
      "conv2d_10 (Conv2D)           (None, 54, 54, 128)       32896     \n",
      "_________________________________________________________________\n",
      "max_pooling2d_8 (MaxPooling2 (None, 27, 27, 128)       0         \n",
      "_________________________________________________________________\n",
      "conv2d_11 (Conv2D)           (None, 26, 26, 64)        32832     \n",
      "_________________________________________________________________\n",
      "flatten_2 (Flatten)          (None, 43264)             0         \n",
      "_________________________________________________________________\n",
      "dense_6 (Dense)              (None, 64)                2768960   \n",
      "_________________________________________________________________\n",
      "dense_7 (Dense)              (None, 32)                2080      \n",
      "_________________________________________________________________\n",
      "dense_8 (Dense)              (None, 7)                 231       \n",
      "=================================================================\n",
      "Total params: 2,845,671\n",
      "Trainable params: 2,845,671\n",
      "Non-trainable params: 0\n",
      "_________________________________________________________________\n"
     ]
    }
   ],
   "source": [
    "model = keras.Sequential([\n",
    "    keras.layers.Input(shape=(224, 224, 3)),\n",
    "    keras.layers.Conv2D(32, (2, 2), activation='relu'),\n",
    "    keras.layers.MaxPool2D((2, 2)),\n",
    "    keras.layers.Conv2D(64, (2, 2), activation='relu'),\n",
    "    keras.layers.MaxPool2D((2, 2)),\n",
    "    keras.layers.Conv2D(128, (2, 2), activation='relu'),\n",
    "    keras.layers.MaxPool2D((2, 2)),\n",
    "    keras.layers.Conv2D(64, (2, 2), activation='relu'),\n",
    "    keras.layers.Flatten(),\n",
    "    keras.layers.Dense(64, activation='relu'),\n",
    "    keras.layers.Dense(32, activation='relu'),\n",
    "    keras.layers.Dense(7, activation='softmax')\n",
    "])\n",
    "model.summary()"
   ]
  },
  {
   "cell_type": "code",
   "execution_count": 29,
   "id": "following-university",
   "metadata": {},
   "outputs": [],
   "source": [
    "model.compile(\n",
    "    metrics=[\"accuracy\"],\n",
    "    optimizer = keras.optimizers.Adam(),\n",
    "    loss = keras.losses.CategoricalCrossentropy(),\n",
    ")"
   ]
  },
  {
   "cell_type": "code",
   "execution_count": 30,
   "id": "signal-shark",
   "metadata": {},
   "outputs": [
    {
     "name": "stdout",
     "output_type": "stream",
     "text": [
      "Epoch 1/10\n",
      "44/44 [==============================] - 46s 987ms/step - loss: 2.1366 - accuracy: 0.1743 - val_loss: 1.9684 - val_accuracy: 0.1286\n",
      "Epoch 2/10\n",
      "44/44 [==============================] - 36s 819ms/step - loss: 1.9463 - accuracy: 0.1959 - val_loss: 1.8952 - val_accuracy: 0.2286\n",
      "Epoch 3/10\n",
      "44/44 [==============================] - 35s 807ms/step - loss: 1.8024 - accuracy: 0.2861 - val_loss: 1.7999 - val_accuracy: 0.2857\n",
      "Epoch 4/10\n",
      "44/44 [==============================] - 35s 805ms/step - loss: 1.5272 - accuracy: 0.4145 - val_loss: 1.8767 - val_accuracy: 0.3286\n",
      "Epoch 5/10\n",
      "44/44 [==============================] - 36s 808ms/step - loss: 1.2240 - accuracy: 0.5485 - val_loss: 1.6711 - val_accuracy: 0.3714\n",
      "Epoch 6/10\n",
      "44/44 [==============================] - 35s 785ms/step - loss: 0.8398 - accuracy: 0.7718 - val_loss: 1.7021 - val_accuracy: 0.4143\n",
      "Epoch 7/10\n",
      "44/44 [==============================] - 36s 823ms/step - loss: 0.4209 - accuracy: 0.8876 - val_loss: 2.4241 - val_accuracy: 0.4000\n",
      "Epoch 8/10\n",
      "44/44 [==============================] - 35s 802ms/step - loss: 0.1797 - accuracy: 0.9502 - val_loss: 3.0805 - val_accuracy: 0.4143\n",
      "Epoch 9/10\n",
      "44/44 [==============================] - 37s 831ms/step - loss: 0.0979 - accuracy: 0.9640 - val_loss: 3.0116 - val_accuracy: 0.4714\n",
      "Epoch 10/10\n",
      "44/44 [==============================] - 35s 789ms/step - loss: 0.0563 - accuracy: 0.9831 - val_loss: 3.0296 - val_accuracy: 0.4143\n"
     ]
    }
   ],
   "source": [
    "EPOCHS = 10\n",
    "\n",
    "history = model.fit(train_generator,batch_size=8, validation_data=validation_generator, epochs=EPOCHS)"
   ]
  },
  {
   "cell_type": "code",
   "execution_count": 32,
   "id": "filled-tract",
   "metadata": {},
   "outputs": [],
   "source": [
    "import pandas as pd"
   ]
  },
  {
   "cell_type": "code",
   "execution_count": 33,
   "id": "separated-drain",
   "metadata": {},
   "outputs": [
    {
     "data": {
      "text/plain": [
       "<AxesSubplot:>"
      ]
     },
     "execution_count": 33,
     "metadata": {},
     "output_type": "execute_result"
    },
    {
     "data": {
      "image/png": "[encoded data removed]",
      "text/plain": [
       "<Figure size 432x288 with 1 Axes>"
      ]
     },
     "metadata": {
      "needs_background": "light"
     },
     "output_type": "display_data"
    }
   ],
   "source": [
    "pd.DataFrame(history.history).plot()"
   ]
  },
  {
   "cell_type": "code",
   "execution_count": 35,
   "id": "civic-debate",
   "metadata": {},
   "outputs": [
    {
     "data": {
      "text/plain": [
       "<tf.Tensor: shape=(70,), dtype=int64, numpy=\n",
       "array([5, 6, 4, 6, 1, 5, 6, 0, 5, 4, 1, 4, 6, 3, 3, 1, 4, 4, 2, 2, 1, 4,\n",
       "       4, 6, 5, 6, 4, 4, 6, 2, 4, 0, 6, 0, 6, 1, 0, 2, 6, 1, 5, 5, 5, 1,\n",
       "       1, 2, 0, 3, 6, 5, 5, 3, 5, 4, 6, 6, 5, 2, 4, 5, 0, 4, 2, 3, 3, 4,\n",
       "       1, 6, 5, 6], dtype=int64)>"
      ]
     },
     "execution_count": 35,
     "metadata": {},
     "output_type": "execute_result"
    }
   ],
   "source": [
    "predictions = tf.argmax(model.predict(test_generator), axis=1)\n",
    "predictions"
   ]
  },
  {
   "cell_type": "code",
   "execution_count": 36,
   "id": "blank-magnitude",
   "metadata": {},
   "outputs": [
    {
     "name": "stdout",
     "output_type": "stream",
     "text": [
      "(224, 224, 3)\n"
     ]
    },
    {
     "data": {
      "text/plain": [
       "<matplotlib.image.AxesImage at 0x28d0e0b8400>"
      ]
     },
     "execution_count": 36,
     "metadata": {},
     "output_type": "execute_result"
    },
    {
     "data": {
      "image/png": "[encoded data removed]",
      "text/plain": [
       "<Figure size 432x288 with 1 Axes>"
      ]
     },
     "metadata": {
      "needs_background": "light"
     },
     "output_type": "display_data"
    }
   ],
   "source": [
    "print(test_generator[0][0][0].shape)\n",
    "plt.imshow(test_generator[2][0][0])"
   ]
  },
  {
   "cell_type": "markdown",
   "id": "italian-poland",
   "metadata": {},
   "source": [
    "### `Transfer Learning` using `VGG16` model."
   ]
  },
  {
   "cell_type": "code",
   "execution_count": 31,
   "id": "mineral-navigator",
   "metadata": {},
   "outputs": [
    {
     "name": "stdout",
     "output_type": "stream",
     "text": [
      "Model: \"vgg16\"\n",
      "_________________________________________________________________\n",
      "Layer (type)                 Output Shape              Param #   \n",
      "=================================================================\n",
      "input_4 (InputLayer)         [(None, 224, 224, 3)]     0         \n",
      "_________________________________________________________________\n",
      "block1_conv1 (Conv2D)        (None, 224, 224, 64)      1792      \n",
      "_________________________________________________________________\n",
      "block1_conv2 (Conv2D)        (None, 224, 224, 64)      36928     \n",
      "_________________________________________________________________\n",
      "block1_pool (MaxPooling2D)   (None, 112, 112, 64)      0         \n",
      "_________________________________________________________________\n",
      "block2_conv1 (Conv2D)        (None, 112, 112, 128)     73856     \n",
      "_________________________________________________________________\n",
      "block2_conv2 (Conv2D)        (None, 112, 112, 128)     147584    \n",
      "_________________________________________________________________\n",
      "block2_pool (MaxPooling2D)   (None, 56, 56, 128)       0         \n",
      "_________________________________________________________________\n",
      "block3_conv1 (Conv2D)        (None, 56, 56, 256)       295168    \n",
      "_________________________________________________________________\n",
      "block3_conv2 (Conv2D)        (None, 56, 56, 256)       590080    \n",
      "_________________________________________________________________\n",
      "block3_conv3 (Conv2D)        (None, 56, 56, 256)       590080    \n",
      "_________________________________________________________________\n",
      "block3_pool (MaxPooling2D)   (None, 28, 28, 256)       0         \n",
      "_________________________________________________________________\n",
      "block4_conv1 (Conv2D)        (None, 28, 28, 512)       1180160   \n",
      "_________________________________________________________________\n",
      "block4_conv2 (Conv2D)        (None, 28, 28, 512)       2359808   \n",
      "_________________________________________________________________\n",
      "block4_conv3 (Conv2D)        (None, 28, 28, 512)       2359808   \n",
      "_________________________________________________________________\n",
      "block4_pool (MaxPooling2D)   (None, 14, 14, 512)       0         \n",
      "_________________________________________________________________\n",
      "block5_conv1 (Conv2D)        (None, 14, 14, 512)       2359808   \n",
      "_________________________________________________________________\n",
      "block5_conv2 (Conv2D)        (None, 14, 14, 512)       2359808   \n",
      "_________________________________________________________________\n",
      "block5_conv3 (Conv2D)        (None, 14, 14, 512)       2359808   \n",
      "_________________________________________________________________\n",
      "block5_pool (MaxPooling2D)   (None, 7, 7, 512)         0         \n",
      "_________________________________________________________________\n",
      "flatten (Flatten)            (None, 25088)             0         \n",
      "_________________________________________________________________\n",
      "fc1 (Dense)                  (None, 4096)              102764544 \n",
      "_________________________________________________________________\n",
      "fc2 (Dense)                  (None, 4096)              16781312  \n",
      "_________________________________________________________________\n",
      "predictions (Dense)          (None, 1000)              4097000   \n",
      "=================================================================\n",
      "Total params: 138,357,544\n",
      "Trainable params: 138,357,544\n",
      "Non-trainable params: 0\n",
      "_________________________________________________________________\n"
     ]
    }
   ],
   "source": [
    "base_model = keras.applications.vgg16.VGG16()\n",
    "base_model.summary()"
   ]
  },
  {
   "cell_type": "markdown",
   "id": "clean-bracelet",
   "metadata": {},
   "source": [
    "> Create a `Sequential` model."
   ]
  },
  {
   "cell_type": "code",
   "execution_count": 37,
   "id": "express-serve",
   "metadata": {},
   "outputs": [],
   "source": [
    "model2 = keras.Sequential()"
   ]
  },
  {
   "cell_type": "markdown",
   "id": "infectious-estonia",
   "metadata": {},
   "source": [
    "> And the layers from the `pretrained` model exept the output layer."
   ]
  },
  {
   "cell_type": "code",
   "execution_count": 39,
   "id": "acknowledged-declaration",
   "metadata": {},
   "outputs": [
    {
     "name": "stdout",
     "output_type": "stream",
     "text": [
      "Model: \"sequential_3\"\n",
      "_________________________________________________________________\n",
      "Layer (type)                 Output Shape              Param #   \n",
      "=================================================================\n",
      "block1_conv1 (Conv2D)        (None, 224, 224, 64)      1792      \n",
      "_________________________________________________________________\n",
      "block1_conv2 (Conv2D)        (None, 224, 224, 64)      36928     \n",
      "_________________________________________________________________\n",
      "block1_pool (MaxPooling2D)   (None, 112, 112, 64)      0         \n",
      "_________________________________________________________________\n",
      "block2_conv1 (Conv2D)        (None, 112, 112, 128)     73856     \n",
      "_________________________________________________________________\n",
      "block2_conv2 (Conv2D)        (None, 112, 112, 128)     147584    \n",
      "_________________________________________________________________\n",
      "block2_pool (MaxPooling2D)   (None, 56, 56, 128)       0         \n",
      "_________________________________________________________________\n",
      "block3_conv1 (Conv2D)        (None, 56, 56, 256)       295168    \n",
      "_________________________________________________________________\n",
      "block3_conv2 (Conv2D)        (None, 56, 56, 256)       590080    \n",
      "_________________________________________________________________\n",
      "block3_conv3 (Conv2D)        (None, 56, 56, 256)       590080    \n",
      "_________________________________________________________________\n",
      "block3_pool (MaxPooling2D)   (None, 28, 28, 256)       0         \n",
      "_________________________________________________________________\n",
      "block4_conv1 (Conv2D)        (None, 28, 28, 512)       1180160   \n",
      "_________________________________________________________________\n",
      "block4_conv2 (Conv2D)        (None, 28, 28, 512)       2359808   \n",
      "_________________________________________________________________\n",
      "block4_conv3 (Conv2D)        (None, 28, 28, 512)       2359808   \n",
      "_________________________________________________________________\n",
      "block4_pool (MaxPooling2D)   (None, 14, 14, 512)       0         \n",
      "_________________________________________________________________\n",
      "block5_conv1 (Conv2D)        (None, 14, 14, 512)       2359808   \n",
      "_________________________________________________________________\n",
      "block5_conv2 (Conv2D)        (None, 14, 14, 512)       2359808   \n",
      "_________________________________________________________________\n",
      "block5_conv3 (Conv2D)        (None, 14, 14, 512)       2359808   \n",
      "_________________________________________________________________\n",
      "block5_pool (MaxPooling2D)   (None, 7, 7, 512)         0         \n",
      "_________________________________________________________________\n",
      "flatten (Flatten)            (None, 25088)             0         \n",
      "_________________________________________________________________\n",
      "fc1 (Dense)                  (None, 4096)              102764544 \n",
      "_________________________________________________________________\n",
      "fc2 (Dense)                  (None, 4096)              16781312  \n",
      "=================================================================\n",
      "Total params: 134,260,544\n",
      "Trainable params: 134,260,544\n",
      "Non-trainable params: 0\n",
      "_________________________________________________________________\n"
     ]
    }
   ],
   "source": [
    "for layer in base_model.layers[0:-1]:\n",
    "    model2.add(layer)\n",
    "model2.summary()"
   ]
  },
  {
   "cell_type": "markdown",
   "id": "tracked-breakdown",
   "metadata": {},
   "source": [
    "> Freeze the model by turning `trainable = False` we don't want to retrain the layers again."
   ]
  },
  {
   "cell_type": "code",
   "execution_count": 40,
   "id": "divine-kitchen",
   "metadata": {},
   "outputs": [
    {
     "name": "stdout",
     "output_type": "stream",
     "text": [
      "Model: \"sequential_3\"\n",
      "_________________________________________________________________\n",
      "Layer (type)                 Output Shape              Param #   \n",
      "=================================================================\n",
      "block1_conv1 (Conv2D)        (None, 224, 224, 64)      1792      \n",
      "_________________________________________________________________\n",
      "block1_conv2 (Conv2D)        (None, 224, 224, 64)      36928     \n",
      "_________________________________________________________________\n",
      "block1_pool (MaxPooling2D)   (None, 112, 112, 64)      0         \n",
      "_________________________________________________________________\n",
      "block2_conv1 (Conv2D)        (None, 112, 112, 128)     73856     \n",
      "_________________________________________________________________\n",
      "block2_conv2 (Conv2D)        (None, 112, 112, 128)     147584    \n",
      "_________________________________________________________________\n",
      "block2_pool (MaxPooling2D)   (None, 56, 56, 128)       0         \n",
      "_________________________________________________________________\n",
      "block3_conv1 (Conv2D)        (None, 56, 56, 256)       295168    \n",
      "_________________________________________________________________\n",
      "block3_conv2 (Conv2D)        (None, 56, 56, 256)       590080    \n",
      "_________________________________________________________________\n",
      "block3_conv3 (Conv2D)        (None, 56, 56, 256)       590080    \n",
      "_________________________________________________________________\n",
      "block3_pool (MaxPooling2D)   (None, 28, 28, 256)       0         \n",
      "_________________________________________________________________\n",
      "block4_conv1 (Conv2D)        (None, 28, 28, 512)       1180160   \n",
      "_________________________________________________________________\n",
      "block4_conv2 (Conv2D)        (None, 28, 28, 512)       2359808   \n",
      "_________________________________________________________________\n",
      "block4_conv3 (Conv2D)        (None, 28, 28, 512)       2359808   \n",
      "_________________________________________________________________\n",
      "block4_pool (MaxPooling2D)   (None, 14, 14, 512)       0         \n",
      "_________________________________________________________________\n",
      "block5_conv1 (Conv2D)        (None, 14, 14, 512)       2359808   \n",
      "_________________________________________________________________\n",
      "block5_conv2 (Conv2D)        (None, 14, 14, 512)       2359808   \n",
      "_________________________________________________________________\n",
      "block5_conv3 (Conv2D)        (None, 14, 14, 512)       2359808   \n",
      "_________________________________________________________________\n",
      "block5_pool (MaxPooling2D)   (None, 7, 7, 512)         0         \n",
      "_________________________________________________________________\n",
      "flatten (Flatten)            (None, 25088)             0         \n",
      "_________________________________________________________________\n",
      "fc1 (Dense)                  (None, 4096)              102764544 \n",
      "_________________________________________________________________\n",
      "fc2 (Dense)                  (None, 4096)              16781312  \n",
      "=================================================================\n",
      "Total params: 134,260,544\n",
      "Trainable params: 0\n",
      "Non-trainable params: 134,260,544\n",
      "_________________________________________________________________\n"
     ]
    }
   ],
   "source": [
    "for layer in model2.layers:\n",
    "    layer.trainable = False\n",
    "model2.summary()"
   ]
  },
  {
   "cell_type": "markdown",
   "id": "mathematical-trademark",
   "metadata": {},
   "source": [
    "> Creating our `output` layer with 7 classes and add it to the model."
   ]
  },
  {
   "cell_type": "code",
   "execution_count": 42,
   "id": "processed-launch",
   "metadata": {},
   "outputs": [
    {
     "name": "stdout",
     "output_type": "stream",
     "text": [
      "Model: \"sequential_2\"\n",
      "_________________________________________________________________\n",
      "Layer (type)                 Output Shape              Param #   \n",
      "=================================================================\n",
      "conv2d_8 (Conv2D)            (None, 223, 223, 32)      416       \n",
      "_________________________________________________________________\n",
      "max_pooling2d_6 (MaxPooling2 (None, 111, 111, 32)      0         \n",
      "_________________________________________________________________\n",
      "conv2d_9 (Conv2D)            (None, 110, 110, 64)      8256      \n",
      "_________________________________________________________________\n",
      "max_pooling2d_7 (MaxPooling2 (None, 55, 55, 64)        0         \n",
      "_________________________________________________________________\n",
      "conv2d_10 (Conv2D)           (None, 54, 54, 128)       32896     \n",
      "_________________________________________________________________\n",
      "max_pooling2d_8 (MaxPooling2 (None, 27, 27, 128)       0         \n",
      "_________________________________________________________________\n",
      "conv2d_11 (Conv2D)           (None, 26, 26, 64)        32832     \n",
      "_________________________________________________________________\n",
      "flatten_2 (Flatten)          (None, 43264)             0         \n",
      "_________________________________________________________________\n",
      "dense_6 (Dense)              (None, 64)                2768960   \n",
      "_________________________________________________________________\n",
      "dense_7 (Dense)              (None, 32)                2080      \n",
      "_________________________________________________________________\n",
      "dense_8 (Dense)              (None, 7)                 231       \n",
      "_________________________________________________________________\n",
      "dense_9 (Dense)              (None, 2)                 16        \n",
      "_________________________________________________________________\n",
      "dense_10 (Dense)             (None, 7)                 21        \n",
      "=================================================================\n",
      "Total params: 2,845,708\n",
      "Trainable params: 2,845,708\n",
      "Non-trainable params: 0\n",
      "_________________________________________________________________\n"
     ]
    }
   ],
   "source": [
    "output_layer = tf.keras.layers.Dense(7, activation='softmax')\n",
    "model.add(output_layer)\n",
    "model.summary()"
   ]
  },
  {
   "cell_type": "markdown",
   "id": "similar-barcelona",
   "metadata": {},
   "source": [
    "> Compile the `model`."
   ]
  },
  {
   "cell_type": "code",
   "execution_count": 43,
   "id": "exempt-complaint",
   "metadata": {},
   "outputs": [],
   "source": [
    "model2.compile(\n",
    "    loss = tf.keras.losses.categorical_crossentropy,\n",
    "    optimizer = tf.keras.optimizers.Adam(),\n",
    "    metrics = ['acc']\n",
    ")"
   ]
  },
  {
   "cell_type": "markdown",
   "id": "overall-upgrade",
   "metadata": {},
   "source": [
    "> `Train` the model."
   ]
  },
  {
   "cell_type": "code",
   "execution_count": 44,
   "id": "configured-slovakia",
   "metadata": {},
   "outputs": [
    {
     "name": "stdout",
     "output_type": "stream",
     "text": [
      "Epoch 1/10\n",
      "44/44 [==============================] - 38s 808ms/step - loss: 0.0911 - accuracy: 0.9686 - val_loss: 3.8469 - val_accuracy: 0.4429\n",
      "Epoch 2/10\n",
      "44/44 [==============================] - 33s 762ms/step - loss: 0.0252 - accuracy: 0.9886 - val_loss: 4.2104 - val_accuracy: 0.3857\n",
      "Epoch 3/10\n",
      "44/44 [==============================] - 31s 713ms/step - loss: 0.0213 - accuracy: 0.9943 - val_loss: 4.2000 - val_accuracy: 0.4429\n",
      "Epoch 4/10\n",
      "44/44 [==============================] - 30s 686ms/step - loss: 0.0153 - accuracy: 0.9943 - val_loss: 4.5163 - val_accuracy: 0.4429\n",
      "Epoch 5/10\n",
      "44/44 [==============================] - 31s 717ms/step - loss: 0.0088 - accuracy: 0.9971 - val_loss: 4.6058 - val_accuracy: 0.4429\n",
      "Epoch 6/10\n",
      "44/44 [==============================] - 33s 741ms/step - loss: 0.0056 - accuracy: 0.9971 - val_loss: 4.7206 - val_accuracy: 0.4429\n",
      "Epoch 7/10\n",
      "44/44 [==============================] - 33s 743ms/step - loss: 0.0082 - accuracy: 0.9971 - val_loss: 4.7212 - val_accuracy: 0.4429\n",
      "Epoch 8/10\n",
      "44/44 [==============================] - 28s 647ms/step - loss: 0.0082 - accuracy: 0.9971 - val_loss: 4.5834 - val_accuracy: 0.4429\n",
      "Epoch 9/10\n",
      "38/44 [========================>.....] - ETA: 4s - loss: 0.0107 - accuracy: 0.9934"
     ]
    },
    {
     "ename": "UnknownError",
     "evalue": " FileNotFoundError: [Errno 2] No such file or directory: 'data/train\\\\television\\\\television92.png'\nTraceback (most recent call last):\n\n  File \"C:\\Users\\crisp\\Documents\\anaconda3\\lib\\site-packages\\tensorflow\\python\\ops\\script_ops.py\", line 249, in __call__\n    ret = func(*args)\n\n  File \"C:\\Users\\crisp\\Documents\\anaconda3\\lib\\site-packages\\tensorflow\\python\\autograph\\impl\\api.py\", line 620, in wrapper\n    return func(*args, **kwargs)\n\n  File \"C:\\Users\\crisp\\Documents\\anaconda3\\lib\\site-packages\\tensorflow\\python\\data\\ops\\dataset_ops.py\", line 891, in generator_py_func\n    values = next(generator_state.get_iterator(iterator_id))\n\n  File \"C:\\Users\\crisp\\Documents\\anaconda3\\lib\\site-packages\\tensorflow\\python\\keras\\engine\\data_adapter.py\", line 807, in wrapped_generator\n    for data in generator_fn():\n\n  File \"C:\\Users\\crisp\\Documents\\anaconda3\\lib\\site-packages\\tensorflow\\python\\keras\\engine\\data_adapter.py\", line 933, in generator_fn\n    yield x[i]\n\n  File \"C:\\Users\\crisp\\Documents\\anaconda3\\lib\\site-packages\\keras_preprocessing\\image\\iterator.py\", line 65, in __getitem__\n    return self._get_batches_of_transformed_samples(index_array)\n\n  File \"C:\\Users\\crisp\\Documents\\anaconda3\\lib\\site-packages\\keras_preprocessing\\image\\iterator.py\", line 227, in _get_batches_of_transformed_samples\n    img = load_img(filepaths[j],\n\n  File \"C:\\Users\\crisp\\Documents\\anaconda3\\lib\\site-packages\\keras_preprocessing\\image\\utils.py\", line 113, in load_img\n    with open(path, 'rb') as f:\n\nFileNotFoundError: [Errno 2] No such file or directory: 'data/train\\\\television\\\\television92.png'\n\n\n\t [[{{node PyFunc}}]]\n\t [[IteratorGetNext]] [Op:__inference_train_function_3007]\n\nFunction call stack:\ntrain_function\n",
     "output_type": "error",
     "traceback": [
      "\u001b[1;31m---------------------------------------------------------------------------\u001b[0m",
      "\u001b[1;31mUnknownError\u001b[0m                              Traceback (most recent call last)",
      "\u001b[1;32m<ipython-input-44-dea83d2d7e81>\u001b[0m in \u001b[0;36m<module>\u001b[1;34m\u001b[0m\n\u001b[0;32m      1\u001b[0m \u001b[0mEPOCHS\u001b[0m \u001b[1;33m=\u001b[0m \u001b[1;36m10\u001b[0m\u001b[1;33m\u001b[0m\u001b[1;33m\u001b[0m\u001b[0m\n\u001b[0;32m      2\u001b[0m \u001b[1;33m\u001b[0m\u001b[0m\n\u001b[1;32m----> 3\u001b[1;33m \u001b[0mhistory\u001b[0m \u001b[1;33m=\u001b[0m \u001b[0mmodel\u001b[0m\u001b[1;33m.\u001b[0m\u001b[0mfit\u001b[0m\u001b[1;33m(\u001b[0m\u001b[0mtrain_generator\u001b[0m\u001b[1;33m,\u001b[0m\u001b[0mbatch_size\u001b[0m\u001b[1;33m=\u001b[0m\u001b[1;36m8\u001b[0m\u001b[1;33m,\u001b[0m \u001b[0mvalidation_data\u001b[0m\u001b[1;33m=\u001b[0m\u001b[0mvalidation_generator\u001b[0m\u001b[1;33m,\u001b[0m \u001b[0mepochs\u001b[0m\u001b[1;33m=\u001b[0m\u001b[0mEPOCHS\u001b[0m\u001b[1;33m)\u001b[0m\u001b[1;33m\u001b[0m\u001b[1;33m\u001b[0m\u001b[0m\n\u001b[0m",
      "\u001b[1;32m~\\Documents\\anaconda3\\lib\\site-packages\\tensorflow\\python\\keras\\engine\\training.py\u001b[0m in \u001b[0;36mfit\u001b[1;34m(self, x, y, batch_size, epochs, verbose, callbacks, validation_split, validation_data, shuffle, class_weight, sample_weight, initial_epoch, steps_per_epoch, validation_steps, validation_batch_size, validation_freq, max_queue_size, workers, use_multiprocessing)\u001b[0m\n\u001b[0;32m   1098\u001b[0m                 _r=1):\n\u001b[0;32m   1099\u001b[0m               \u001b[0mcallbacks\u001b[0m\u001b[1;33m.\u001b[0m\u001b[0mon_train_batch_begin\u001b[0m\u001b[1;33m(\u001b[0m\u001b[0mstep\u001b[0m\u001b[1;33m)\u001b[0m\u001b[1;33m\u001b[0m\u001b[1;33m\u001b[0m\u001b[0m\n\u001b[1;32m-> 1100\u001b[1;33m               \u001b[0mtmp_logs\u001b[0m \u001b[1;33m=\u001b[0m \u001b[0mself\u001b[0m\u001b[1;33m.\u001b[0m\u001b[0mtrain_function\u001b[0m\u001b[1;33m(\u001b[0m\u001b[0miterator\u001b[0m\u001b[1;33m)\u001b[0m\u001b[1;33m\u001b[0m\u001b[1;33m\u001b[0m\u001b[0m\n\u001b[0m\u001b[0;32m   1101\u001b[0m               \u001b[1;32mif\u001b[0m \u001b[0mdata_handler\u001b[0m\u001b[1;33m.\u001b[0m\u001b[0mshould_sync\u001b[0m\u001b[1;33m:\u001b[0m\u001b[1;33m\u001b[0m\u001b[1;33m\u001b[0m\u001b[0m\n\u001b[0;32m   1102\u001b[0m                 \u001b[0mcontext\u001b[0m\u001b[1;33m.\u001b[0m\u001b[0masync_wait\u001b[0m\u001b[1;33m(\u001b[0m\u001b[1;33m)\u001b[0m\u001b[1;33m\u001b[0m\u001b[1;33m\u001b[0m\u001b[0m\n",
      "\u001b[1;32m~\\Documents\\anaconda3\\lib\\site-packages\\tensorflow\\python\\eager\\def_function.py\u001b[0m in \u001b[0;36m__call__\u001b[1;34m(self, *args, **kwds)\u001b[0m\n\u001b[0;32m    826\u001b[0m     \u001b[0mtracing_count\u001b[0m \u001b[1;33m=\u001b[0m \u001b[0mself\u001b[0m\u001b[1;33m.\u001b[0m\u001b[0mexperimental_get_tracing_count\u001b[0m\u001b[1;33m(\u001b[0m\u001b[1;33m)\u001b[0m\u001b[1;33m\u001b[0m\u001b[1;33m\u001b[0m\u001b[0m\n\u001b[0;32m    827\u001b[0m     \u001b[1;32mwith\u001b[0m \u001b[0mtrace\u001b[0m\u001b[1;33m.\u001b[0m\u001b[0mTrace\u001b[0m\u001b[1;33m(\u001b[0m\u001b[0mself\u001b[0m\u001b[1;33m.\u001b[0m\u001b[0m_name\u001b[0m\u001b[1;33m)\u001b[0m \u001b[1;32mas\u001b[0m \u001b[0mtm\u001b[0m\u001b[1;33m:\u001b[0m\u001b[1;33m\u001b[0m\u001b[1;33m\u001b[0m\u001b[0m\n\u001b[1;32m--> 828\u001b[1;33m       \u001b[0mresult\u001b[0m \u001b[1;33m=\u001b[0m \u001b[0mself\u001b[0m\u001b[1;33m.\u001b[0m\u001b[0m_call\u001b[0m\u001b[1;33m(\u001b[0m\u001b[1;33m*\u001b[0m\u001b[0margs\u001b[0m\u001b[1;33m,\u001b[0m \u001b[1;33m**\u001b[0m\u001b[0mkwds\u001b[0m\u001b[1;33m)\u001b[0m\u001b[1;33m\u001b[0m\u001b[1;33m\u001b[0m\u001b[0m\n\u001b[0m\u001b[0;32m    829\u001b[0m       \u001b[0mcompiler\u001b[0m \u001b[1;33m=\u001b[0m \u001b[1;34m\"xla\"\u001b[0m \u001b[1;32mif\u001b[0m \u001b[0mself\u001b[0m\u001b[1;33m.\u001b[0m\u001b[0m_experimental_compile\u001b[0m \u001b[1;32melse\u001b[0m \u001b[1;34m\"nonXla\"\u001b[0m\u001b[1;33m\u001b[0m\u001b[1;33m\u001b[0m\u001b[0m\n\u001b[0;32m    830\u001b[0m       \u001b[0mnew_tracing_count\u001b[0m \u001b[1;33m=\u001b[0m \u001b[0mself\u001b[0m\u001b[1;33m.\u001b[0m\u001b[0mexperimental_get_tracing_count\u001b[0m\u001b[1;33m(\u001b[0m\u001b[1;33m)\u001b[0m\u001b[1;33m\u001b[0m\u001b[1;33m\u001b[0m\u001b[0m\n",
      "\u001b[1;32m~\\Documents\\anaconda3\\lib\\site-packages\\tensorflow\\python\\eager\\def_function.py\u001b[0m in \u001b[0;36m_call\u001b[1;34m(self, *args, **kwds)\u001b[0m\n\u001b[0;32m    853\u001b[0m       \u001b[1;31m# In this case we have created variables on the first call, so we run the\u001b[0m\u001b[1;33m\u001b[0m\u001b[1;33m\u001b[0m\u001b[1;33m\u001b[0m\u001b[0m\n\u001b[0;32m    854\u001b[0m       \u001b[1;31m# defunned version which is guaranteed to never create variables.\u001b[0m\u001b[1;33m\u001b[0m\u001b[1;33m\u001b[0m\u001b[1;33m\u001b[0m\u001b[0m\n\u001b[1;32m--> 855\u001b[1;33m       \u001b[1;32mreturn\u001b[0m \u001b[0mself\u001b[0m\u001b[1;33m.\u001b[0m\u001b[0m_stateless_fn\u001b[0m\u001b[1;33m(\u001b[0m\u001b[1;33m*\u001b[0m\u001b[0margs\u001b[0m\u001b[1;33m,\u001b[0m \u001b[1;33m**\u001b[0m\u001b[0mkwds\u001b[0m\u001b[1;33m)\u001b[0m  \u001b[1;31m# pylint: disable=not-callable\u001b[0m\u001b[1;33m\u001b[0m\u001b[1;33m\u001b[0m\u001b[0m\n\u001b[0m\u001b[0;32m    856\u001b[0m     \u001b[1;32melif\u001b[0m \u001b[0mself\u001b[0m\u001b[1;33m.\u001b[0m\u001b[0m_stateful_fn\u001b[0m \u001b[1;32mis\u001b[0m \u001b[1;32mnot\u001b[0m \u001b[1;32mNone\u001b[0m\u001b[1;33m:\u001b[0m\u001b[1;33m\u001b[0m\u001b[1;33m\u001b[0m\u001b[0m\n\u001b[0;32m    857\u001b[0m       \u001b[1;31m# Release the lock early so that multiple threads can perform the call\u001b[0m\u001b[1;33m\u001b[0m\u001b[1;33m\u001b[0m\u001b[1;33m\u001b[0m\u001b[0m\n",
      "\u001b[1;32m~\\Documents\\anaconda3\\lib\\site-packages\\tensorflow\\python\\eager\\function.py\u001b[0m in \u001b[0;36m__call__\u001b[1;34m(self, *args, **kwargs)\u001b[0m\n\u001b[0;32m   2940\u001b[0m       (graph_function,\n\u001b[0;32m   2941\u001b[0m        filtered_flat_args) = self._maybe_define_function(args, kwargs)\n\u001b[1;32m-> 2942\u001b[1;33m     return graph_function._call_flat(\n\u001b[0m\u001b[0;32m   2943\u001b[0m         filtered_flat_args, captured_inputs=graph_function.captured_inputs)  # pylint: disable=protected-access\n\u001b[0;32m   2944\u001b[0m \u001b[1;33m\u001b[0m\u001b[0m\n",
      "\u001b[1;32m~\\Documents\\anaconda3\\lib\\site-packages\\tensorflow\\python\\eager\\function.py\u001b[0m in \u001b[0;36m_call_flat\u001b[1;34m(self, args, captured_inputs, cancellation_manager)\u001b[0m\n\u001b[0;32m   1916\u001b[0m         and executing_eagerly):\n\u001b[0;32m   1917\u001b[0m       \u001b[1;31m# No tape is watching; skip to running the function.\u001b[0m\u001b[1;33m\u001b[0m\u001b[1;33m\u001b[0m\u001b[1;33m\u001b[0m\u001b[0m\n\u001b[1;32m-> 1918\u001b[1;33m       return self._build_call_outputs(self._inference_function.call(\n\u001b[0m\u001b[0;32m   1919\u001b[0m           ctx, args, cancellation_manager=cancellation_manager))\n\u001b[0;32m   1920\u001b[0m     forward_backward = self._select_forward_and_backward_functions(\n",
      "\u001b[1;32m~\\Documents\\anaconda3\\lib\\site-packages\\tensorflow\\python\\eager\\function.py\u001b[0m in \u001b[0;36mcall\u001b[1;34m(self, ctx, args, cancellation_manager)\u001b[0m\n\u001b[0;32m    553\u001b[0m       \u001b[1;32mwith\u001b[0m \u001b[0m_InterpolateFunctionError\u001b[0m\u001b[1;33m(\u001b[0m\u001b[0mself\u001b[0m\u001b[1;33m)\u001b[0m\u001b[1;33m:\u001b[0m\u001b[1;33m\u001b[0m\u001b[1;33m\u001b[0m\u001b[0m\n\u001b[0;32m    554\u001b[0m         \u001b[1;32mif\u001b[0m \u001b[0mcancellation_manager\u001b[0m \u001b[1;32mis\u001b[0m \u001b[1;32mNone\u001b[0m\u001b[1;33m:\u001b[0m\u001b[1;33m\u001b[0m\u001b[1;33m\u001b[0m\u001b[0m\n\u001b[1;32m--> 555\u001b[1;33m           outputs = execute.execute(\n\u001b[0m\u001b[0;32m    556\u001b[0m               \u001b[0mstr\u001b[0m\u001b[1;33m(\u001b[0m\u001b[0mself\u001b[0m\u001b[1;33m.\u001b[0m\u001b[0msignature\u001b[0m\u001b[1;33m.\u001b[0m\u001b[0mname\u001b[0m\u001b[1;33m)\u001b[0m\u001b[1;33m,\u001b[0m\u001b[1;33m\u001b[0m\u001b[1;33m\u001b[0m\u001b[0m\n\u001b[0;32m    557\u001b[0m               \u001b[0mnum_outputs\u001b[0m\u001b[1;33m=\u001b[0m\u001b[0mself\u001b[0m\u001b[1;33m.\u001b[0m\u001b[0m_num_outputs\u001b[0m\u001b[1;33m,\u001b[0m\u001b[1;33m\u001b[0m\u001b[1;33m\u001b[0m\u001b[0m\n",
      "\u001b[1;32m~\\Documents\\anaconda3\\lib\\site-packages\\tensorflow\\python\\eager\\execute.py\u001b[0m in \u001b[0;36mquick_execute\u001b[1;34m(op_name, num_outputs, inputs, attrs, ctx, name)\u001b[0m\n\u001b[0;32m     57\u001b[0m   \u001b[1;32mtry\u001b[0m\u001b[1;33m:\u001b[0m\u001b[1;33m\u001b[0m\u001b[1;33m\u001b[0m\u001b[0m\n\u001b[0;32m     58\u001b[0m     \u001b[0mctx\u001b[0m\u001b[1;33m.\u001b[0m\u001b[0mensure_initialized\u001b[0m\u001b[1;33m(\u001b[0m\u001b[1;33m)\u001b[0m\u001b[1;33m\u001b[0m\u001b[1;33m\u001b[0m\u001b[0m\n\u001b[1;32m---> 59\u001b[1;33m     tensors = pywrap_tfe.TFE_Py_Execute(ctx._handle, device_name, op_name,\n\u001b[0m\u001b[0;32m     60\u001b[0m                                         inputs, attrs, num_outputs)\n\u001b[0;32m     61\u001b[0m   \u001b[1;32mexcept\u001b[0m \u001b[0mcore\u001b[0m\u001b[1;33m.\u001b[0m\u001b[0m_NotOkStatusException\u001b[0m \u001b[1;32mas\u001b[0m \u001b[0me\u001b[0m\u001b[1;33m:\u001b[0m\u001b[1;33m\u001b[0m\u001b[1;33m\u001b[0m\u001b[0m\n",
      "\u001b[1;31mUnknownError\u001b[0m:  FileNotFoundError: [Errno 2] No such file or directory: 'data/train\\\\television\\\\television92.png'\nTraceback (most recent call last):\n\n  File \"C:\\Users\\crisp\\Documents\\anaconda3\\lib\\site-packages\\tensorflow\\python\\ops\\script_ops.py\", line 249, in __call__\n    ret = func(*args)\n\n  File \"C:\\Users\\crisp\\Documents\\anaconda3\\lib\\site-packages\\tensorflow\\python\\autograph\\impl\\api.py\", line 620, in wrapper\n    return func(*args, **kwargs)\n\n  File \"C:\\Users\\crisp\\Documents\\anaconda3\\lib\\site-packages\\tensorflow\\python\\data\\ops\\dataset_ops.py\", line 891, in generator_py_func\n    values = next(generator_state.get_iterator(iterator_id))\n\n  File \"C:\\Users\\crisp\\Documents\\anaconda3\\lib\\site-packages\\tensorflow\\python\\keras\\engine\\data_adapter.py\", line 807, in wrapped_generator\n    for data in generator_fn():\n\n  File \"C:\\Users\\crisp\\Documents\\anaconda3\\lib\\site-packages\\tensorflow\\python\\keras\\engine\\data_adapter.py\", line 933, in generator_fn\n    yield x[i]\n\n  File \"C:\\Users\\crisp\\Documents\\anaconda3\\lib\\site-packages\\keras_preprocessing\\image\\iterator.py\", line 65, in __getitem__\n    return self._get_batches_of_transformed_samples(index_array)\n\n  File \"C:\\Users\\crisp\\Documents\\anaconda3\\lib\\site-packages\\keras_preprocessing\\image\\iterator.py\", line 227, in _get_batches_of_transformed_samples\n    img = load_img(filepaths[j],\n\n  File \"C:\\Users\\crisp\\Documents\\anaconda3\\lib\\site-packages\\keras_preprocessing\\image\\utils.py\", line 113, in load_img\n    with open(path, 'rb') as f:\n\nFileNotFoundError: [Errno 2] No such file or directory: 'data/train\\\\television\\\\television92.png'\n\n\n\t [[{{node PyFunc}}]]\n\t [[IteratorGetNext]] [Op:__inference_train_function_3007]\n\nFunction call stack:\ntrain_function\n"
     ]
    }
   ],
   "source": [
    "EPOCHS = 10\n",
    "history = model.fit(train_generator,batch_size=8, validation_data=validation_generator, epochs=EPOCHS)"
   ]
  },
  {
   "cell_type": "code",
   "execution_count": null,
   "id": "basic-landscape",
   "metadata": {},
   "outputs": [],
   "source": []
  }
 ],
 "metadata": {
  "kernelspec": {
   "display_name": "Python 3",
   "language": "python",
   "name": "python3"
  },
  "language_info": {
   "codemirror_mode": {
    "name": "ipython",
    "version": 3
   },
   "file_extension": ".py",
   "mimetype": "text/x-python",
   "name": "python",
   "nbconvert_exporter": "python",
   "pygments_lexer": "ipython3",
   "version": "3.8.5"
  }
 },
 "nbformat": 4,
 "nbformat_minor": 5
}
