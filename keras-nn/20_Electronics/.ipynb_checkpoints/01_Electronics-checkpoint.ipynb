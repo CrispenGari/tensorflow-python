{
 "cells": [
  {
   "cell_type": "markdown",
   "id": "tough-celebrity",
   "metadata": {},
   "source": [
    "## Image Classification `CNN`\n",
    "> Classifying image from our own dataset with `10` classes."
   ]
  },
  {
   "cell_type": "markdown",
   "id": "authentic-prediction",
   "metadata": {},
   "source": [
    "### Imports"
   ]
  },
  {
   "cell_type": "code",
   "execution_count": 1,
   "id": "faced-tutorial",
   "metadata": {},
   "outputs": [],
   "source": [
    "import tensorflow as tf\n",
    "from tensorflow import keras\n",
    "import numpy as np\n",
    "import os, random\n",
    "import matplotlib.pyplot as plt\n",
    "import shutil\n",
    "from tensorflow.keras.preprocessing.image import ImageDataGenerator"
   ]
  },
  {
   "cell_type": "markdown",
   "id": "seventh-coffee",
   "metadata": {},
   "source": [
    "> We are going to use `ImageDataGenerator` to preprocess our images so the file structures should look as follows\n",
    "\n",
    "```\n",
    "data\n",
    "    class_1:\n",
    "        - image\n",
    "        - image\n",
    "    ...\n",
    "    class_n:\n",
    "        - image\n",
    "        - image\n",
    "        ...\n",
    "```"
   ]
  },
  {
   "cell_type": "code",
   "execution_count": 130,
   "id": "analyzed-spice",
   "metadata": {},
   "outputs": [],
   "source": [
    "class Electronics:\n",
    "    IMAGES_PATH = 'data_mixed'\n",
    "    IMAGES_BALANCED = 'data'\n",
    "    TRAIN = 'data/train'\n",
    "    VALIDATION = 'data/validation'\n",
    "    TEST = './test'"
   ]
  },
  {
   "cell_type": "code",
   "execution_count": 131,
   "id": "political-malta",
   "metadata": {},
   "outputs": [
    {
     "data": {
      "text/plain": [
       "['camera',\n",
       " 'cellphone',\n",
       " 'charger',\n",
       " 'desktop',\n",
       " 'drone',\n",
       " 'headphone',\n",
       " 'laptop',\n",
       " 'mouse',\n",
       " 'remote',\n",
       " 'television']"
      ]
     },
     "execution_count": 131,
     "metadata": {},
     "output_type": "execute_result"
    }
   ],
   "source": [
    "class_names = os.listdir(Electronics.IMAGES_PATH)\n",
    "class_names"
   ]
  },
  {
   "cell_type": "markdown",
   "id": "interstate-trail",
   "metadata": {},
   "source": [
    "> We want to come up with the following structure on our image `files`\n",
    "\n",
    "```\n",
    "data-\n",
    "    train -\n",
    "        class_1\n",
    "            -img1\n",
    "            -img2\n",
    "            -img3\n",
    "            -...\n",
    "        class_2\n",
    "            -...\n",
    "    test -\n",
    "        -img1\n",
    "        -img2\n",
    "        -img3\n",
    "    validation -\n",
    "        class_1\n",
    "            -img1\n",
    "            -img2\n",
    "            -img3\n",
    "            -...\n",
    "        class_2\n",
    "            -...\n",
    "```\n",
    "\n",
    "* We are going to move files around using code, and make sure that we have `100` images for each class for `training`\n",
    "`20` images for each class for `testing` and `20` images for each class for `validation`\n",
    "\n",
    "#### Folders Achitecture\n",
    "<p align=\"center\">\n",
    "<img src=\"https://miro.medium.com/max/700/1*HpvpA9pBJXKxaPCl5tKnLg.jpeg\"/>\n",
    "</p>\n",
    "\n",
    "> As you can see in the above picture, the test folder should also contain a single folder inside which all the test images are present(Think of it as “unlabeled” class , this is there because the flow_from_directory() expects at least one directory under the given directory path)."
   ]
  },
  {
   "cell_type": "code",
   "execution_count": 132,
   "id": "operating-picnic",
   "metadata": {},
   "outputs": [],
   "source": [
    "train_size = 80\n",
    "test_size = 20\n",
    "validation_size = 40"
   ]
  },
  {
   "cell_type": "code",
   "execution_count": 140,
   "id": "offensive-jersey",
   "metadata": {},
   "outputs": [
    {
     "name": "stdout",
     "output_type": "stream",
     "text": [
      "Done.\n"
     ]
    }
   ],
   "source": [
    "if os.path.exists(Electronics.TRAIN) == False:\n",
    "    os.makedirs(Electronics.TRAIN)\n",
    "    \n",
    "if os.path.exists(Electronics.TEST) == False:\n",
    "    os.makedirs(Electronics.TEST)\n",
    "\n",
    "if os.path.exists(Electronics.VALIDATION) == False:\n",
    "    os.makedirs(Electronics.VALIDATION)\n",
    "    \n",
    "print(\"Done.\")"
   ]
  },
  {
   "cell_type": "code",
   "execution_count": 141,
   "id": "aggressive-institution",
   "metadata": {},
   "outputs": [
    {
     "name": "stdout",
     "output_type": "stream",
     "text": [
      "Sucess\n",
      "Moved:\t\t80 images\n",
      "Category:\tcamera\n",
      "From:\t\tdata_mixed/camera\n",
      "To\t\tdata/train\n",
      "\n",
      "\n",
      "Sucess\n",
      "Moved:\t\t40 images\n",
      "Category:\tcamera\n",
      "From:\t\tdata_mixed/camera\n",
      "To\t\tdata/validation\n",
      "\n",
      "\n",
      "Sucess\n",
      "Moved:\t\t20 images\n",
      "Category:\tcamera\n",
      "From:\t\tdata_mixed/camera\n",
      "To\t\t././test\n",
      "\n",
      "\n",
      "Sucess\n",
      "Moved:\t\t80 images\n",
      "Category:\tcellphone\n",
      "From:\t\tdata_mixed/cellphone\n",
      "To\t\tdata/train\n",
      "\n",
      "\n",
      "Sucess\n",
      "Moved:\t\t40 images\n",
      "Category:\tcellphone\n",
      "From:\t\tdata_mixed/cellphone\n",
      "To\t\tdata/validation\n",
      "\n",
      "\n",
      "Sucess\n",
      "Moved:\t\t20 images\n",
      "Category:\tcellphone\n",
      "From:\t\tdata_mixed/cellphone\n",
      "To\t\t././test\n",
      "\n",
      "\n",
      "Sucess\n",
      "Moved:\t\t80 images\n",
      "Category:\tcharger\n",
      "From:\t\tdata_mixed/charger\n",
      "To\t\tdata/train\n",
      "\n",
      "\n",
      "Sucess\n",
      "Moved:\t\t40 images\n",
      "Category:\tcharger\n",
      "From:\t\tdata_mixed/charger\n",
      "To\t\tdata/validation\n",
      "\n",
      "\n",
      "Sucess\n",
      "Moved:\t\t20 images\n",
      "Category:\tcharger\n",
      "From:\t\tdata_mixed/charger\n",
      "To\t\t././test\n",
      "\n",
      "\n",
      "Sucess\n",
      "Moved:\t\t80 images\n",
      "Category:\tdesktop\n",
      "From:\t\tdata_mixed/desktop\n",
      "To\t\tdata/train\n",
      "\n",
      "\n",
      "Sucess\n",
      "Moved:\t\t40 images\n",
      "Category:\tdesktop\n",
      "From:\t\tdata_mixed/desktop\n",
      "To\t\tdata/validation\n",
      "\n",
      "\n",
      "Sucess\n",
      "Moved:\t\t20 images\n",
      "Category:\tdesktop\n",
      "From:\t\tdata_mixed/desktop\n",
      "To\t\t././test\n",
      "\n",
      "\n",
      "Sucess\n",
      "Moved:\t\t80 images\n",
      "Category:\tdrone\n",
      "From:\t\tdata_mixed/drone\n",
      "To\t\tdata/train\n",
      "\n",
      "\n",
      "Sucess\n",
      "Moved:\t\t40 images\n",
      "Category:\tdrone\n",
      "From:\t\tdata_mixed/drone\n",
      "To\t\tdata/validation\n",
      "\n",
      "\n",
      "Sucess\n",
      "Moved:\t\t20 images\n",
      "Category:\tdrone\n",
      "From:\t\tdata_mixed/drone\n",
      "To\t\t././test\n",
      "\n",
      "\n",
      "Done.\n"
     ]
    }
   ],
   "source": [
    "for cate in class_names[:5]: # first 5 classes for simplicity\n",
    "    for i in range(train_size):\n",
    "        images_paths = os.listdir(os.path.join(Electronics.IMAGES_PATH, cate))\n",
    "        random.shuffle(images_paths)\n",
    "        image_path = os.path.join(os.path.join(Electronics.IMAGES_PATH, cate), images_paths[0])\n",
    "        if os.path.exists(os.path.join(Electronics.TRAIN, cate)) == False:\n",
    "            os.makedirs(os.path.join(Electronics.TRAIN, cate))\n",
    "        shutil.move(f'{image_path}', f'{Electronics.TRAIN}/{cate}/{images_paths[0]}')\n",
    "    print(f\"Sucess\\nMoved:\\t\\t{train_size} images\\nCategory:\\t{cate}\\nFrom:\\t\\t{Electronics.IMAGES_PATH+'/'+cate}\\nTo\\t\\t{Electronics.TRAIN}\\n\\n\")   \n",
    "  \n",
    "    for i in range(validation_size):\n",
    "        images_paths = os.listdir(os.path.join(Electronics.IMAGES_PATH, cate))\n",
    "        random.shuffle(images_paths)\n",
    "        image_path = os.path.join(os.path.join(Electronics.IMAGES_PATH, cate), images_paths[0])\n",
    "        if os.path.exists(os.path.join(Electronics.VALIDATION, cate)) == False:\n",
    "            os.makedirs(os.path.join(Electronics.VALIDATION, cate))\n",
    "        shutil.move(f'{image_path}', f'{Electronics.VALIDATION}/{cate}/{images_paths[0]}')\n",
    "    print(f\"Sucess\\nMoved:\\t\\t{validation_size} images\\nCategory:\\t{cate}\\nFrom:\\t\\t{Electronics.IMAGES_PATH+'/'+cate}\\nTo\\t\\t{Electronics.VALIDATION}\\n\\n\")   \n",
    "    \n",
    "    for i in range(test_size):\n",
    "        images_paths = os.listdir(os.path.join(Electronics.IMAGES_PATH, cate))\n",
    "        random.shuffle(images_paths)\n",
    "        image_path = os.path.join(os.path.join(Electronics.IMAGES_PATH, cate), images_paths[0])\n",
    "        shutil.move(f'{image_path}', f'{Electronics.TEST}')\n",
    "    print(f\"Sucess\\nMoved:\\t\\t{test_size} images\\nCategory:\\t{cate}\\nFrom:\\t\\t{Electronics.IMAGES_PATH+'/'+cate}\\nTo\\t\\t{Electronics.TEST}\\n\\n\")   \n",
    "\n",
    "print(\"Done.\")      "
   ]
  },
  {
   "cell_type": "markdown",
   "id": "compressed-spiritual",
   "metadata": {},
   "source": [
    "> Creating `ImageDataGenerator` for each sample"
   ]
  },
  {
   "cell_type": "code",
   "execution_count": 142,
   "id": "convenient-panama",
   "metadata": {},
   "outputs": [],
   "source": [
    "train_datagen = ImageDataGenerator(\n",
    "        rescale=1./255,\n",
    "    fill_mode=\"nearest\",\n",
    "    \n",
    ")\n",
    "test_datagen = ImageDataGenerator(rescale=1./255)\n",
    "validation_datagen = ImageDataGenerator(\n",
    "    rescale=1./255,\n",
    "    fill_mode=\"nearest\",\n",
    "    \n",
    ")"
   ]
  },
  {
   "cell_type": "code",
   "execution_count": 187,
   "id": "personalized-substitute",
   "metadata": {},
   "outputs": [
    {
     "name": "stdout",
     "output_type": "stream",
     "text": [
      "Found 400 images belonging to 5 classes.\n",
      "Found 200 images belonging to 5 classes.\n",
      "Found 100 images belonging to 1 classes.\n"
     ]
    }
   ],
   "source": [
    "train_generator = train_datagen.flow_from_directory(\n",
    "        'data/train',\n",
    "        target_size=(100, 100),\n",
    "        batch_size=8,\n",
    "        class_mode=\"categorical\"\n",
    ")\n",
    "validation_generator = validation_datagen.flow_from_directory(\n",
    "        'data/validation',\n",
    "        target_size=(100, 100),\n",
    "        batch_size=8,\n",
    "        class_mode=\"categorical\"\n",
    ")\n",
    "test_generator = test_datagen.flow_from_directory(\n",
    "        '.',\n",
    "        target_size=(100, 100),\n",
    "        classes=[\"test\"],\n",
    "        batch_size = 1\n",
    ")\n"
   ]
  },
  {
   "cell_type": "code",
   "execution_count": 188,
   "id": "overall-vector",
   "metadata": {},
   "outputs": [
    {
     "data": {
      "text/plain": [
       "['test\\\\camera150.png', 'test\\\\camera156.png']"
      ]
     },
     "execution_count": 188,
     "metadata": {},
     "output_type": "execute_result"
    }
   ],
   "source": [
    "test_generator.filenames[:2]"
   ]
  },
  {
   "cell_type": "code",
   "execution_count": 194,
   "id": "nutritional-antique",
   "metadata": {},
   "outputs": [
    {
     "data": {
      "text/plain": [
       "array([[1.]], dtype=float32)"
      ]
     },
     "execution_count": 194,
     "metadata": {},
     "output_type": "execute_result"
    }
   ],
   "source": [
    "test_generator[0][1]"
   ]
  },
  {
   "cell_type": "markdown",
   "id": "therapeutic-volume",
   "metadata": {},
   "source": [
    "> ``Model`` Creation ``CNN``"
   ]
  },
  {
   "cell_type": "code",
   "execution_count": 206,
   "id": "harmful-better",
   "metadata": {},
   "outputs": [
    {
     "name": "stdout",
     "output_type": "stream",
     "text": [
      "Model: \"sequential_27\"\n",
      "_________________________________________________________________\n",
      "Layer (type)                 Output Shape              Param #   \n",
      "=================================================================\n",
      "conv2d_115 (Conv2D)          (None, 99, 99, 32)        416       \n",
      "_________________________________________________________________\n",
      "max_pooling2d_93 (MaxPooling (None, 49, 49, 32)        0         \n",
      "_________________________________________________________________\n",
      "conv2d_116 (Conv2D)          (None, 48, 48, 64)        8256      \n",
      "_________________________________________________________________\n",
      "max_pooling2d_94 (MaxPooling (None, 24, 24, 64)        0         \n",
      "_________________________________________________________________\n",
      "conv2d_117 (Conv2D)          (None, 23, 23, 128)       32896     \n",
      "_________________________________________________________________\n",
      "max_pooling2d_95 (MaxPooling (None, 11, 11, 128)       0         \n",
      "_________________________________________________________________\n",
      "conv2d_118 (Conv2D)          (None, 10, 10, 64)        32832     \n",
      "_________________________________________________________________\n",
      "flatten_27 (Flatten)         (None, 6400)              0         \n",
      "_________________________________________________________________\n",
      "dense_91 (Dense)             (None, 64)                409664    \n",
      "_________________________________________________________________\n",
      "dense_92 (Dense)             (None, 32)                2080      \n",
      "_________________________________________________________________\n",
      "dense_93 (Dense)             (None, 5)                 165       \n",
      "=================================================================\n",
      "Total params: 486,309\n",
      "Trainable params: 486,309\n",
      "Non-trainable params: 0\n",
      "_________________________________________________________________\n"
     ]
    }
   ],
   "source": [
    "model = keras.Sequential([\n",
    "    keras.layers.Input(shape=(100, 100, 3)),\n",
    "    keras.layers.Conv2D(32, (2, 2), activation='relu'),\n",
    "    keras.layers.MaxPool2D((2, 2)),\n",
    "    keras.layers.Conv2D(64, (2, 2), activation='relu'),\n",
    "    keras.layers.MaxPool2D((2, 2)),\n",
    "    keras.layers.Conv2D(128, (2, 2), activation='relu'),\n",
    "    keras.layers.MaxPool2D((2, 2)),\n",
    "    keras.layers.Conv2D(64, (2, 2), activation='relu'),\n",
    "    keras.layers.Flatten(),\n",
    "    keras.layers.Dense(64, activation='relu'),\n",
    "    keras.layers.Dense(32, activation='relu'),\n",
    "    keras.layers.Dense(5, activation='softmax')\n",
    "])\n",
    "model.summary()"
   ]
  },
  {
   "cell_type": "code",
   "execution_count": 207,
   "id": "following-university",
   "metadata": {},
   "outputs": [],
   "source": [
    "model.compile(\n",
    "    metrics=[\"accuracy\"],\n",
    "    optimizer = keras.optimizers.Adam(),\n",
    "    loss = keras.losses.CategoricalCrossentropy(),\n",
    ")"
   ]
  },
  {
   "cell_type": "code",
   "execution_count": 208,
   "id": "signal-shark",
   "metadata": {},
   "outputs": [
    {
     "name": "stdout",
     "output_type": "stream",
     "text": [
      "Epoch 1/10\n",
      "50/50 [==============================] - 9s 150ms/step - loss: 1.6475 - accuracy: 0.2082 - val_loss: 1.6051 - val_accuracy: 0.2500\n",
      "Epoch 2/10\n",
      "50/50 [==============================] - 7s 145ms/step - loss: 1.6049 - accuracy: 0.2517 - val_loss: 1.5323 - val_accuracy: 0.3750\n",
      "Epoch 3/10\n",
      "50/50 [==============================] - 7s 145ms/step - loss: 1.5135 - accuracy: 0.3732 - val_loss: 1.4066 - val_accuracy: 0.3800\n",
      "Epoch 4/10\n",
      "50/50 [==============================] - 7s 145ms/step - loss: 1.3557 - accuracy: 0.4331 - val_loss: 1.2793 - val_accuracy: 0.4600\n",
      "Epoch 5/10\n",
      "50/50 [==============================] - 7s 145ms/step - loss: 1.0452 - accuracy: 0.6166 - val_loss: 1.2133 - val_accuracy: 0.5450\n",
      "Epoch 6/10\n",
      "50/50 [==============================] - 7s 145ms/step - loss: 0.8081 - accuracy: 0.6893 - val_loss: 1.2195 - val_accuracy: 0.5200\n",
      "Epoch 7/10\n",
      "50/50 [==============================] - 8s 154ms/step - loss: 0.5960 - accuracy: 0.7834 - val_loss: 1.2320 - val_accuracy: 0.5750\n",
      "Epoch 8/10\n",
      "50/50 [==============================] - 7s 149ms/step - loss: 0.4604 - accuracy: 0.8281 - val_loss: 1.4678 - val_accuracy: 0.6150\n",
      "Epoch 9/10\n",
      "50/50 [==============================] - 8s 150ms/step - loss: 0.2861 - accuracy: 0.8916 - val_loss: 1.2429 - val_accuracy: 0.6200\n",
      "Epoch 10/10\n",
      "50/50 [==============================] - 7s 148ms/step - loss: 0.2803 - accuracy: 0.9241 - val_loss: 1.9776 - val_accuracy: 0.6300\n"
     ]
    }
   ],
   "source": [
    "EPOCHS = 10\n",
    "\n",
    "history = model.fit(train_generator,batch_size=8, validation_data=validation_generator, epochs=EPOCHS)"
   ]
  },
  {
   "cell_type": "code",
   "execution_count": 152,
   "id": "filled-tract",
   "metadata": {},
   "outputs": [],
   "source": [
    "import pandas as pd"
   ]
  },
  {
   "cell_type": "code",
   "execution_count": 153,
   "id": "separated-drain",
   "metadata": {},
   "outputs": [
    {
     "data": {
      "text/plain": [
       "<AxesSubplot:>"
      ]
     },
     "execution_count": 153,
     "metadata": {},
     "output_type": "execute_result"
    },
    {
     "data": {
      "image/png": "[encoded data removed]",
      "text/plain": [
       "<Figure size 432x288 with 1 Axes>"
      ]
     },
     "metadata": {
      "needs_background": "light"
     },
     "output_type": "display_data"
    }
   ],
   "source": [
    "pd.DataFrame(history.history).plot()"
   ]
  },
  {
   "cell_type": "code",
   "execution_count": null,
   "id": "korean-google",
   "metadata": {},
   "outputs": [],
   "source": [
    "import itertools\n",
    "from sklearn.metrics import confusion_matrix\n",
    "def plot_confusion_matrix(y_true, y_pred, classes=None, figsize=(5, 5), text_size=16): \n",
    "      # Create the confustion matrix\n",
    "      cm = confusion_matrix(y_true, y_pred)\n",
    "      cm_norm = cm.astype(\"float\") / cm.sum(axis=1)[:, np.newaxis] \n",
    "      n_classes = cm.shape[0]\n",
    "      # Plot the figure and make it pretty\n",
    "      fig, ax = plt.subplots(figsize=figsize)\n",
    "      cax = ax.matshow(cm, cmap=plt.cm.Blues) \n",
    "      fig.colorbar(cax)\n",
    "    \n",
    "      if classes:\n",
    "        labels = classes\n",
    "      else:\n",
    "        labels = np.arange(cm.shape[0])\n",
    "        \n",
    "      ax.set(title=\"Confusion Matrix\",\n",
    "             xlabel=\"Predicted label\",\n",
    "             ylabel=\"True label\",\n",
    "             xticks=np.arange(n_classes),\n",
    "             yticks=np.arange(n_classes), \n",
    "             xticklabels=labels,\n",
    "             yticklabels=labels)\n",
    "\n",
    "      ax.xaxis.set_label_position(\"bottom\")\n",
    "      ax.xaxis.tick_bottom()\n",
    "\n",
    "      threshold = (cm.max() + cm.min()) / 2.\n",
    "      # Plot the text on each cell\n",
    "      for i, j in itertools.product(range(cm.shape[0]), range(cm.shape[1])):\n",
    "        plt.text(j, i, f\"{cm[i, j]} ({cm_norm[i, j]*100:.1f}%)\",\n",
    "                 horizontalalignment=\"center\",\n",
    "                 color=\"white\" if cm[i, j] > threshold else \"black\",\n",
    "                 size=text_size)"
   ]
  },
  {
   "cell_type": "code",
   "execution_count": 209,
   "id": "civic-debate",
   "metadata": {},
   "outputs": [
    {
     "data": {
      "text/plain": [
       "<tf.Tensor: shape=(100,), dtype=int64, numpy=\n",
       "array([2, 0, 3, 2, 3, 4, 1, 2, 0, 0, 2, 0, 4, 4, 2, 3, 2, 4, 0, 3, 4, 1,\n",
       "       3, 2, 1, 3, 4, 0, 0, 2, 3, 0, 3, 2, 3, 0, 1, 0, 1, 0, 0, 4, 2, 0,\n",
       "       2, 1, 2, 1, 3, 1, 0, 1, 2, 2, 4, 0, 2, 0, 1, 4, 1, 0, 1, 2, 2, 3,\n",
       "       2, 0, 4, 1, 0, 0, 1, 2, 4, 2, 0, 2, 0, 2, 0, 3, 4, 3, 4, 3, 2, 1,\n",
       "       2, 0, 2, 2, 2, 2, 3, 3, 2, 2, 0, 3], dtype=int64)>"
      ]
     },
     "execution_count": 209,
     "metadata": {},
     "output_type": "execute_result"
    }
   ],
   "source": [
    "predictions = tf.argmax(model.predict(test_generator), axis=1)\n",
    "predictions"
   ]
  },
  {
   "cell_type": "code",
   "execution_count": 212,
   "id": "blank-magnitude",
   "metadata": {},
   "outputs": [
    {
     "name": "stdout",
     "output_type": "stream",
     "text": [
      "(100, 100, 3)\n"
     ]
    },
    {
     "data": {
      "text/plain": [
       "<matplotlib.image.AxesImage at 0x16012cc8220>"
      ]
     },
     "execution_count": 212,
     "metadata": {},
     "output_type": "execute_result"
    },
    {
     "data": {
      "image/png": "[encoded data removed]",
      "text/plain": [
       "<Figure size 432x288 with 1 Axes>"
      ]
     },
     "metadata": {
      "needs_background": "light"
     },
     "output_type": "display_data"
    }
   ],
   "source": [
    "print(test_generator[0][0][0].shape)\n",
    "plt.imshow(test_generator[2][0][0])"
   ]
  },
  {
   "cell_type": "code",
   "execution_count": null,
   "id": "behind-irrigation",
   "metadata": {},
   "outputs": [],
   "source": []
  }
 ],
 "metadata": {
  "kernelspec": {
   "display_name": "Python 3",
   "language": "python",
   "name": "python3"
  },
  "language_info": {
   "codemirror_mode": {
    "name": "ipython",
    "version": 3
   },
   "file_extension": ".py",
   "mimetype": "text/x-python",
   "name": "python",
   "nbconvert_exporter": "python",
   "pygments_lexer": "ipython3",
   "version": "3.8.5"
  }
 },
 "nbformat": 4,
 "nbformat_minor": 5
}
