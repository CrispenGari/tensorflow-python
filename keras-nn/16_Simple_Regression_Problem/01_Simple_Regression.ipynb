{
 "cells": [
  {
   "cell_type": "code",
   "execution_count": null,
   "id": "meaning-attack",
   "metadata": {},
   "outputs": [],
   "source": []
  },
  {
   "cell_type": "code",
   "execution_count": 5,
   "id": "restricted-football",
   "metadata": {},
   "outputs": [],
   "source": [
    "import pandas as pd\n",
    "import matplotlib.pyplot as plt\n",
    "import numpy as np\n",
    "import tensorflow.keras as keras\n",
    "import tensorflow as tf\n",
    "import seaborn as sns"
   ]
  },
  {
   "cell_type": "code",
   "execution_count": 2,
   "id": "under-mambo",
   "metadata": {},
   "outputs": [],
   "source": [
    "train_data = pd.read_csv('data/train.csv')\n",
    "test_data = pd.read_csv('data/test.csv')"
   ]
  },
  {
   "cell_type": "markdown",
   "id": "celtic-button",
   "metadata": {},
   "source": [
    "### Check if there's `nan` and drop it."
   ]
  },
  {
   "cell_type": "code",
   "execution_count": 48,
   "id": "arbitrary-order",
   "metadata": {},
   "outputs": [
    {
     "data": {
      "text/plain": [
       "(x    0\n",
       " y    1\n",
       " dtype: int64,\n",
       " x    0\n",
       " y    0\n",
       " dtype: int64)"
      ]
     },
     "execution_count": 48,
     "metadata": {},
     "output_type": "execute_result"
    }
   ],
   "source": [
    "train_data.isna().sum(), test_data.isna().sum()"
   ]
  },
  {
   "cell_type": "code",
   "execution_count": 51,
   "id": "current-humanitarian",
   "metadata": {},
   "outputs": [],
   "source": [
    "train_data = train_data.dropna()"
   ]
  },
  {
   "cell_type": "code",
   "execution_count": 52,
   "id": "retired-feedback",
   "metadata": {},
   "outputs": [
    {
     "data": {
      "text/plain": [
       "x    0\n",
       "y    0\n",
       "dtype: int64"
      ]
     },
     "execution_count": 52,
     "metadata": {},
     "output_type": "execute_result"
    }
   ],
   "source": [
    "train_data.isna().sum()"
   ]
  },
  {
   "cell_type": "code",
   "execution_count": 53,
   "id": "attached-wireless",
   "metadata": {},
   "outputs": [
    {
     "data": {
      "text/html": [
       "<div>\n",
       "<style scoped>\n",
       "    .dataframe tbody tr th:only-of-type {\n",
       "        vertical-align: middle;\n",
       "    }\n",
       "\n",
       "    .dataframe tbody tr th {\n",
       "        vertical-align: top;\n",
       "    }\n",
       "\n",
       "    .dataframe thead th {\n",
       "        text-align: right;\n",
       "    }\n",
       "</style>\n",
       "<table border=\"1\" class=\"dataframe\">\n",
       "  <thead>\n",
       "    <tr style=\"text-align: right;\">\n",
       "      <th></th>\n",
       "      <th>x</th>\n",
       "      <th>y</th>\n",
       "    </tr>\n",
       "  </thead>\n",
       "  <tbody>\n",
       "    <tr>\n",
       "      <th>0</th>\n",
       "      <td>24.0</td>\n",
       "      <td>21.549452</td>\n",
       "    </tr>\n",
       "    <tr>\n",
       "      <th>1</th>\n",
       "      <td>50.0</td>\n",
       "      <td>47.464463</td>\n",
       "    </tr>\n",
       "    <tr>\n",
       "      <th>2</th>\n",
       "      <td>15.0</td>\n",
       "      <td>17.218656</td>\n",
       "    </tr>\n",
       "    <tr>\n",
       "      <th>3</th>\n",
       "      <td>38.0</td>\n",
       "      <td>36.586398</td>\n",
       "    </tr>\n",
       "    <tr>\n",
       "      <th>4</th>\n",
       "      <td>87.0</td>\n",
       "      <td>87.288984</td>\n",
       "    </tr>\n",
       "  </tbody>\n",
       "</table>\n",
       "</div>"
      ],
      "text/plain": [
       "      x          y\n",
       "0  24.0  21.549452\n",
       "1  50.0  47.464463\n",
       "2  15.0  17.218656\n",
       "3  38.0  36.586398\n",
       "4  87.0  87.288984"
      ]
     },
     "execution_count": 53,
     "metadata": {},
     "output_type": "execute_result"
    }
   ],
   "source": [
    "train_data.head()"
   ]
  },
  {
   "cell_type": "code",
   "execution_count": 54,
   "id": "royal-spider",
   "metadata": {},
   "outputs": [
    {
     "data": {
      "text/html": [
       "<div>\n",
       "<style scoped>\n",
       "    .dataframe tbody tr th:only-of-type {\n",
       "        vertical-align: middle;\n",
       "    }\n",
       "\n",
       "    .dataframe tbody tr th {\n",
       "        vertical-align: top;\n",
       "    }\n",
       "\n",
       "    .dataframe thead th {\n",
       "        text-align: right;\n",
       "    }\n",
       "</style>\n",
       "<table border=\"1\" class=\"dataframe\">\n",
       "  <thead>\n",
       "    <tr style=\"text-align: right;\">\n",
       "      <th></th>\n",
       "      <th>x</th>\n",
       "      <th>y</th>\n",
       "    </tr>\n",
       "  </thead>\n",
       "  <tbody>\n",
       "    <tr>\n",
       "      <th>0</th>\n",
       "      <td>77</td>\n",
       "      <td>79.775152</td>\n",
       "    </tr>\n",
       "    <tr>\n",
       "      <th>1</th>\n",
       "      <td>21</td>\n",
       "      <td>23.177279</td>\n",
       "    </tr>\n",
       "    <tr>\n",
       "      <th>2</th>\n",
       "      <td>22</td>\n",
       "      <td>25.609262</td>\n",
       "    </tr>\n",
       "    <tr>\n",
       "      <th>3</th>\n",
       "      <td>20</td>\n",
       "      <td>17.857388</td>\n",
       "    </tr>\n",
       "    <tr>\n",
       "      <th>4</th>\n",
       "      <td>36</td>\n",
       "      <td>41.849864</td>\n",
       "    </tr>\n",
       "  </tbody>\n",
       "</table>\n",
       "</div>"
      ],
      "text/plain": [
       "    x          y\n",
       "0  77  79.775152\n",
       "1  21  23.177279\n",
       "2  22  25.609262\n",
       "3  20  17.857388\n",
       "4  36  41.849864"
      ]
     },
     "execution_count": 54,
     "metadata": {},
     "output_type": "execute_result"
    }
   ],
   "source": [
    "test_data.head()"
   ]
  },
  {
   "cell_type": "code",
   "execution_count": 55,
   "id": "fatal-giving",
   "metadata": {},
   "outputs": [
    {
     "data": {
      "image/png": "[encoded data removed]",
      "text/plain": [
       "<Figure size 432x288 with 1 Axes>"
      ]
     },
     "metadata": {
      "needs_background": "light"
     },
     "output_type": "display_data"
    }
   ],
   "source": [
    "sns.scatterplot(data=train_data, x='x', y='y')\n",
    "plt.show()"
   ]
  },
  {
   "cell_type": "code",
   "execution_count": 56,
   "id": "going-presentation",
   "metadata": {},
   "outputs": [
    {
     "data": {
      "image/png": "[encoded data removed]",
      "text/plain": [
       "<Figure size 432x288 with 1 Axes>"
      ]
     },
     "metadata": {
      "needs_background": "light"
     },
     "output_type": "display_data"
    }
   ],
   "source": [
    "sns.scatterplot(data=test_data, x='x', y='y')\n",
    "plt.show()"
   ]
  },
  {
   "cell_type": "code",
   "execution_count": 57,
   "id": "precise-mixer",
   "metadata": {},
   "outputs": [],
   "source": [
    "X_test = test_data['x'].values.astype('float32')\n",
    "y_test = test_data['y'].values.astype('float32')\n",
    "\n",
    "\n",
    "X_train = train_data['x'].values.astype('float32')\n",
    "y_train = train_data['y'].values.astype('float32')"
   ]
  },
  {
   "cell_type": "markdown",
   "id": "domestic-xerox",
   "metadata": {},
   "source": [
    "### Normalizing the Data"
   ]
  },
  {
   "cell_type": "code",
   "execution_count": 58,
   "id": "frank-nickel",
   "metadata": {},
   "outputs": [],
   "source": [
    "normalizer = keras.layers.experimental.preprocessing.Normalization(input_shape=[1, ])"
   ]
  },
  {
   "cell_type": "code",
   "execution_count": 59,
   "id": "weekly-metropolitan",
   "metadata": {},
   "outputs": [],
   "source": [
    "normalizer.adapt(X_train)"
   ]
  },
  {
   "cell_type": "markdown",
   "id": "lightweight-territory",
   "metadata": {},
   "source": [
    "### Model Creation"
   ]
  },
  {
   "cell_type": "code",
   "execution_count": 68,
   "id": "innovative-advocacy",
   "metadata": {},
   "outputs": [
    {
     "name": "stdout",
     "output_type": "stream",
     "text": [
      "Model: \"sequential_8\"\n",
      "_________________________________________________________________\n",
      "Layer (type)                 Output Shape              Param #   \n",
      "=================================================================\n",
      "normalization_3 (Normalizati (None, 1)                 3         \n",
      "_________________________________________________________________\n",
      "dense_16 (Dense)             (None, 16)                32        \n",
      "_________________________________________________________________\n",
      "dense_17 (Dense)             (None, 8)                 136       \n",
      "_________________________________________________________________\n",
      "dense_18 (Dense)             (None, 1)                 9         \n",
      "=================================================================\n",
      "Total params: 180\n",
      "Trainable params: 177\n",
      "Non-trainable params: 3\n",
      "_________________________________________________________________\n"
     ]
    }
   ],
   "source": [
    "model = keras.Sequential([\n",
    "    normalizer,\n",
    "    keras.layers.Dense(16, activation='relu'),\n",
    "    keras.layers.Dense(8, activation='relu'),\n",
    "    keras.layers.Dense(1)\n",
    "])\n",
    "model.summary()"
   ]
  },
  {
   "cell_type": "code",
   "execution_count": 84,
   "id": "republican-taiwan",
   "metadata": {},
   "outputs": [],
   "source": [
    "model.compile(\n",
    "    optimizer= keras.optimizers.Adam(lr=0.01, clipvalue=1),\n",
    "    loss = 'mean_absolute_error',\n",
    "    metrics =[\"mse\"]\n",
    ")"
   ]
  },
  {
   "cell_type": "code",
   "execution_count": 85,
   "id": "vulnerable-exhibit",
   "metadata": {},
   "outputs": [
    {
     "name": "stdout",
     "output_type": "stream",
     "text": [
      "Epoch 1/10\n",
      "70/70 [==============================] - 1s 6ms/step - loss: 2.4543 - mse: 9.2634 - val_loss: 2.3639 - val_mse: 9.1995\n",
      "Epoch 2/10\n",
      "70/70 [==============================] - 0s 2ms/step - loss: 2.3102 - mse: 8.2381 - val_loss: 2.3717 - val_mse: 8.5319\n",
      "Epoch 3/10\n",
      "70/70 [==============================] - 0s 2ms/step - loss: 2.2382 - mse: 7.7978 - val_loss: 2.3018 - val_mse: 8.1063\n",
      "Epoch 4/10\n",
      "70/70 [==============================] - 0s 2ms/step - loss: 2.3494 - mse: 8.5941 - val_loss: 2.3844 - val_mse: 9.3471\n",
      "Epoch 5/10\n",
      "70/70 [==============================] - 0s 3ms/step - loss: 2.3489 - mse: 8.3845 - val_loss: 2.6543 - val_mse: 11.1570\n",
      "Epoch 6/10\n",
      "70/70 [==============================] - 0s 3ms/step - loss: 2.4128 - mse: 9.0888 - val_loss: 2.2962 - val_mse: 8.3646\n",
      "Epoch 7/10\n",
      "70/70 [==============================] - 0s 2ms/step - loss: 2.4109 - mse: 8.9815 - val_loss: 2.3131 - val_mse: 8.3696\n",
      "Epoch 8/10\n",
      "70/70 [==============================] - 0s 2ms/step - loss: 2.3084 - mse: 8.4261 - val_loss: 2.3697 - val_mse: 9.2790\n",
      "Epoch 9/10\n",
      "70/70 [==============================] - 0s 2ms/step - loss: 2.3524 - mse: 8.7636 - val_loss: 2.2919 - val_mse: 8.0926\n",
      "Epoch 10/10\n",
      "70/70 [==============================] - 0s 3ms/step - loss: 2.4648 - mse: 9.2917 - val_loss: 2.2770 - val_mse: 8.0106\n"
     ]
    }
   ],
   "source": [
    "history = model.fit(X_train, y_train, epochs=10, batch_size=8, verbose=1, validation_split=.2)"
   ]
  },
  {
   "cell_type": "code",
   "execution_count": 89,
   "id": "incomplete-inflation",
   "metadata": {},
   "outputs": [
    {
     "data": {
      "text/plain": [
       "{'loss': [2.4437918663024902,\n",
       "  2.2968995571136475,\n",
       "  2.3566741943359375,\n",
       "  2.4199984073638916,\n",
       "  2.374041795730591,\n",
       "  2.391059160232544,\n",
       "  2.37872576713562,\n",
       "  2.32831072807312,\n",
       "  2.3472020626068115,\n",
       "  2.3861045837402344],\n",
       " 'mse': [9.034421920776367,\n",
       "  8.365930557250977,\n",
       "  8.705100059509277,\n",
       "  9.186601638793945,\n",
       "  8.830343246459961,\n",
       "  9.03662109375,\n",
       "  8.906161308288574,\n",
       "  8.360666275024414,\n",
       "  8.641154289245605,\n",
       "  8.766496658325195],\n",
       " 'val_loss': [2.363915205001831,\n",
       "  2.371720790863037,\n",
       "  2.3018457889556885,\n",
       "  2.3843584060668945,\n",
       "  2.6542513370513916,\n",
       "  2.2962276935577393,\n",
       "  2.3131470680236816,\n",
       "  2.369716167449951,\n",
       "  2.2919223308563232,\n",
       "  2.2770473957061768],\n",
       " 'val_mse': [9.199460983276367,\n",
       "  8.531896591186523,\n",
       "  8.10632038116455,\n",
       "  9.347087860107422,\n",
       "  11.156999588012695,\n",
       "  8.364551544189453,\n",
       "  8.369550704956055,\n",
       "  9.278979301452637,\n",
       "  8.092612266540527,\n",
       "  8.010618209838867]}"
      ]
     },
     "execution_count": 89,
     "metadata": {},
     "output_type": "execute_result"
    }
   ],
   "source": [
    "history.history"
   ]
  },
  {
   "cell_type": "markdown",
   "id": "sublime-bracelet",
   "metadata": {},
   "source": [
    "### Visualising the Model History for every epoch"
   ]
  },
  {
   "cell_type": "code",
   "execution_count": 91,
   "id": "german-slide",
   "metadata": {},
   "outputs": [
    {
     "data": {
      "image/png": "[encoded data removed]",
      "text/plain": [
       "<Figure size 432x288 with 1 Axes>"
      ]
     },
     "metadata": {
      "needs_background": "light"
     },
     "output_type": "display_data"
    }
   ],
   "source": [
    "def plotHistory(history):\n",
    "    x = np.array([i+1 for i in range(10)])\n",
    "    \n",
    "    plt.title(\"History\", fontsize=16, fontweight='bold')\n",
    "    plt.plot(x, history[\"loss\"], label='loss')\n",
    "    plt.plot(x, history[\"val_loss\"], label='val_loss')\n",
    "    \n",
    "    plt.plot(x, history[\"mse\"], label='mse')\n",
    "    plt.plot(x, history[\"val_mse\"], label='val_mse')\n",
    "    \n",
    "    plt.legend()\n",
    "    plt.show()\n",
    "plotHistory(history.history)"
   ]
  },
  {
   "cell_type": "markdown",
   "id": "underlying-affairs",
   "metadata": {},
   "source": [
    "### Making predictions"
   ]
  },
  {
   "cell_type": "code",
   "execution_count": 112,
   "id": "coordinated-halifax",
   "metadata": {},
   "outputs": [],
   "source": [
    "predictions = model.predict(X_test[:30])"
   ]
  },
  {
   "cell_type": "code",
   "execution_count": 113,
   "id": "junior-package",
   "metadata": {},
   "outputs": [
    {
     "data": {
      "text/plain": [
       "(array([76.88457  , 21.265417 , 22.258615 , 20.272217 , 36.163406 ,\n",
       "        15.306221 , 61.986584 , 94.76216  , 20.272217 ,  5.2783284,\n",
       "         3.9662166, 19.279016 , 95.75534  , 61.986584 , 36.163406 ,\n",
       "        15.306221 , 64.96618  , 14.313024 , 86.81656  , 68.93897  ,\n",
       "        88.802956 , 51.06139  , 88.802956 , 27.224613 , 96.74854  ,\n",
       "        58.013783 , 78.87096  , 21.265417 , 92.77576  , 27.224613 ],\n",
       "       dtype=float32),\n",
       " array([79.775154, 23.177279, 25.609262, 17.857388, 41.849865,  9.805235,\n",
       "        58.87466 , 97.617935, 18.395128,  8.746748,  2.811416, 17.095373,\n",
       "        95.14907 , 61.38801 , 40.247017, 14.822486, 66.95807 , 16.63508 ,\n",
       "        90.655136, 77.22983 , 92.119064, 46.913876, 89.82635 , 21.713804,\n",
       "        97.41207 , 57.016315, 78.31056 , 19.13151 , 93.034836, 26.591124],\n",
       "       dtype=float32))"
      ]
     },
     "execution_count": 113,
     "metadata": {},
     "output_type": "execute_result"
    }
   ],
   "source": [
    "predictions.reshape(-1), y_test[:30]"
   ]
  },
  {
   "cell_type": "code",
   "execution_count": 114,
   "id": "boxed-province",
   "metadata": {},
   "outputs": [
    {
     "data": {
      "image/png": "[encoded data removed]",
      "text/plain": [
       "<Figure size 432x288 with 1 Axes>"
      ]
     },
     "metadata": {
      "needs_background": "light"
     },
     "output_type": "display_data"
    }
   ],
   "source": [
    "plt.plot(predictions.reshape(-1), label=\"predictions\")\n",
    "plt.plot(y_test[:30], label=\"real values\")\n",
    "plt.title(\"Predictions vrs Real Values\", fontsize=16)\n",
    "plt.legend()\n",
    "plt.show()"
   ]
  },
  {
   "cell_type": "markdown",
   "id": "stretch-portugal",
   "metadata": {},
   "source": [
    "> This model is accurate"
   ]
  }
 ],
 "metadata": {
  "kernelspec": {
   "display_name": "Python 3",
   "language": "python",
   "name": "python3"
  },
  "language_info": {
   "codemirror_mode": {
    "name": "ipython",
    "version": 3
   },
   "file_extension": ".py",
   "mimetype": "text/x-python",
   "name": "python",
   "nbconvert_exporter": "python",
   "pygments_lexer": "ipython3",
   "version": "3.8.5"
  }
 },
 "nbformat": 4,
 "nbformat_minor": 5
}
