{
 "cells": [
  {
   "cell_type": "markdown",
   "id": "representative-participation",
   "metadata": {},
   "source": [
    "## Convolutional Neural Network - Data preparation \n",
    "> We are going to download `kaggle` datasets `cats` vrs `dogs` and we will then prepare our data to create a Conv NN to classify images of cats and dogs."
   ]
  },
  {
   "cell_type": "markdown",
   "id": "duplicate-table",
   "metadata": {},
   "source": [
    "### Import Helper Libraries"
   ]
  },
  {
   "cell_type": "code",
   "execution_count": 1,
   "id": "above-theta",
   "metadata": {},
   "outputs": [],
   "source": [
    "import pandas as pd\n",
    "import numpy as np\n",
    "import imageio\n",
    "import cv2\n",
    "from tqdm import tqdm\n",
    "import os\n",
    "from zipfile import ZipFile"
   ]
  },
  {
   "cell_type": "markdown",
   "id": "handy-steps",
   "metadata": {},
   "source": [
    "### Extracting the Zip File"
   ]
  },
  {
   "cell_type": "code",
   "execution_count": null,
   "id": "dramatic-centre",
   "metadata": {
    "scrolled": true
   },
   "outputs": [],
   "source": [
    "with ZipFile('dogs-vs-cats.zip', 'r') as z:\n",
    "    tqdm(z.extractall())\n",
    "\n",
    "print(\"Extracted\")\n",
    "\n",
    "with ZipFile('train.zip', 'r') as z:\n",
    "    tqdm(z.extractall())\n",
    "    print(\"Extracted\")"
   ]
  },
  {
   "cell_type": "code",
   "execution_count": null,
   "id": "promising-infection",
   "metadata": {},
   "outputs": [],
   "source": [
    "with ZipFile('test1.zip', 'r') as z:\n",
    "    tqdm(z.extractall())\n",
    "    \n",
    "print(\"Extracted\")"
   ]
  },
  {
   "cell_type": "markdown",
   "id": "experienced-publicity",
   "metadata": {},
   "source": [
    "### Grouping our images"
   ]
  },
  {
   "cell_type": "code",
   "execution_count": 2,
   "id": "structural-portable",
   "metadata": {},
   "outputs": [
    {
     "name": "stdout",
     "output_type": "stream",
     "text": [
      "Done\n"
     ]
    }
   ],
   "source": [
    "train_categories = []\n",
    "test_categories = []\n",
    "\n",
    "for filename in os.listdir(\"train\"):\n",
    "    if filename.split('.')[0] == 'dog':\n",
    "        train_categories.append([filename, 1])\n",
    "    else:\n",
    "         train_categories.append([filename, 0])\n",
    "\n",
    "for filename in os.listdir(\"test1\"):\n",
    "    if filename.split('.')[0] == 'dog':\n",
    "        test_categories.append([filename, 1])\n",
    "    else:\n",
    "         test_categories.append([filename, 0])\n",
    "print(\"Done\")"
   ]
  },
  {
   "cell_type": "code",
   "execution_count": 3,
   "id": "brilliant-martial",
   "metadata": {},
   "outputs": [
    {
     "data": {
      "text/plain": [
       "[['cat.0.jpg', 0],\n",
       " ['cat.1.jpg', 0],\n",
       " ['cat.10.jpg', 0],\n",
       " ['cat.100.jpg', 0],\n",
       " ['cat.1000.jpg', 0],\n",
       " ['cat.10000.jpg', 0],\n",
       " ['cat.10001.jpg', 0],\n",
       " ['cat.10002.jpg', 0],\n",
       " ['cat.10003.jpg', 0],\n",
       " ['cat.10004.jpg', 0]]"
      ]
     },
     "execution_count": 3,
     "metadata": {},
     "output_type": "execute_result"
    }
   ],
   "source": [
    "train_categories[:10]"
   ]
  },
  {
   "cell_type": "markdown",
   "id": "judicial-compact",
   "metadata": {},
   "source": [
    "> Now we have our file names. We want to convert these images into numpy arrays and resize them to have the same shape."
   ]
  },
  {
   "cell_type": "code",
   "execution_count": 4,
   "id": "million-harvest",
   "metadata": {},
   "outputs": [],
   "source": [
    "from matplotlib import pyplot as plt"
   ]
  },
  {
   "cell_type": "code",
   "execution_count": 5,
   "id": "adjusted-porcelain",
   "metadata": {},
   "outputs": [],
   "source": [
    "train_data = []\n",
    "\n",
    "for filename, label in train_categories:\n",
    "    image = cv2.imread(os.path.join('train', filename))\n",
    "    image = cv2.cvtColor(image, cv2.COLOR_BGR2GRAY)\n",
    "    image = cv2.resize(image, (50, 50))\n",
    "    ## Sacling the image down\n",
    "    \n",
    "    if filename.split('.')[0] == 'cat':\n",
    "        train_data.append([image, np.eye(2)[0]])\n",
    "    elif filename.split('.')[0] == 'dog':\n",
    "        train_data.append([image, np.eye(2)[1]])\n",
    "    else:\n",
    "        pass"
   ]
  },
  {
   "cell_type": "code",
   "execution_count": 6,
   "id": "republican-basket",
   "metadata": {},
   "outputs": [],
   "source": [
    "### Shuffle the data\n",
    "train_data_shuffled = np.array(train_data)\n",
    "np.random.shuffle(train_data_shuffled)"
   ]
  },
  {
   "cell_type": "code",
   "execution_count": 11,
   "id": "separated-north",
   "metadata": {},
   "outputs": [
    {
     "data": {
      "text/plain": [
       "array([[array([[227, 225, 232, ..., 196, 196, 197],\n",
       "       [231, 235, 227, ..., 196, 196, 196],\n",
       "       [226, 220, 219, ..., 196, 196, 196],\n",
       "       ...,\n",
       "       [160, 152, 150, ...,  64,  40,  44],\n",
       "       [155, 156, 158, ...,  34,  36,  46],\n",
       "       [159, 162, 156, ...,  31,  44,  54]], dtype=uint8),\n",
       "        array([1., 0.])]], dtype=object)"
      ]
     },
     "execution_count": 11,
     "metadata": {},
     "output_type": "execute_result"
    }
   ],
   "source": [
    "train_data_shuffled[:1]"
   ]
  },
  {
   "cell_type": "markdown",
   "id": "settled-hobby",
   "metadata": {},
   "source": [
    "#### Saving The Train Data as a NP array"
   ]
  },
  {
   "cell_type": "code",
   "execution_count": 13,
   "id": "fixed-lesson",
   "metadata": {},
   "outputs": [
    {
     "name": "stdout",
     "output_type": "stream",
     "text": [
      "Saved!!\n"
     ]
    }
   ],
   "source": [
    "np.save('dog_cats_train.npy', train_data_shuffled )\n",
    "print(\"Saved!!\")"
   ]
  },
  {
   "cell_type": "code",
   "execution_count": 15,
   "id": "creative-hamilton",
   "metadata": {},
   "outputs": [
    {
     "data": {
      "text/plain": [
       "array([[array([[227, 225, 232, ..., 196, 196, 197],\n",
       "       [231, 235, 227, ..., 196, 196, 196],\n",
       "       [226, 220, 219, ..., 196, 196, 196],\n",
       "       ...,\n",
       "       [160, 152, 150, ...,  64,  40,  44],\n",
       "       [155, 156, 158, ...,  34,  36,  46],\n",
       "       [159, 162, 156, ...,  31,  44,  54]], dtype=uint8),\n",
       "        array([1., 0.])]], dtype=object)"
      ]
     },
     "execution_count": 15,
     "metadata": {},
     "output_type": "execute_result"
    }
   ],
   "source": [
    "data = np.load('dog_cats_train.npy', allow_pickle=True)\n",
    "data[:1]"
   ]
  },
  {
   "cell_type": "code",
   "execution_count": null,
   "id": "russian-orchestra",
   "metadata": {},
   "outputs": [],
   "source": []
  },
  {
   "cell_type": "code",
   "execution_count": 10,
   "id": "integrated-bathroom",
   "metadata": {},
   "outputs": [],
   "source": [
    "test_data = []\n",
    "\n",
    "for filename, label in test_categories:\n",
    "    image = cv2.imread(os.path.join('test1', filename))\n",
    "    image = cv2.cvtColor(image, cv2.COLOR_BGR2GRAY)\n",
    "    image = cv2.resize(image, (50, 50))\n",
    "    if filename.split('.')[0] == 'cat':\n",
    "        test_data.append([image, np.eye(2)[0]])\n",
    "    elif filename.split('.')[0] == 'dog':\n",
    "        test_data.append([image, np.eye(2)[1]])\n",
    "    else:\n",
    "        pass"
   ]
  },
  {
   "cell_type": "code",
   "execution_count": 16,
   "id": "practical-viewer",
   "metadata": {},
   "outputs": [],
   "source": [
    "### Shuffle the data\n",
    "test_data_shuffled = np.array(test_data)\n",
    "np.random.shuffle(test_data_shuffled)"
   ]
  },
  {
   "cell_type": "code",
   "execution_count": 17,
   "id": "renewable-payday",
   "metadata": {},
   "outputs": [
    {
     "name": "stdout",
     "output_type": "stream",
     "text": [
      "Saved!!\n"
     ]
    }
   ],
   "source": [
    "np.save('dog_cats_test.npy', test_data_shuffled )\n",
    "print(\"Saved!!\")"
   ]
  },
  {
   "cell_type": "code",
   "execution_count": null,
   "id": "destroyed-harris",
   "metadata": {},
   "outputs": [],
   "source": []
  },
  {
   "cell_type": "code",
   "execution_count": null,
   "id": "quiet-military",
   "metadata": {},
   "outputs": [],
   "source": []
  },
  {
   "cell_type": "code",
   "execution_count": null,
   "id": "applicable-change",
   "metadata": {},
   "outputs": [],
   "source": []
  }
 ],
 "metadata": {
  "kernelspec": {
   "display_name": "Python 3",
   "language": "python",
   "name": "python3"
  },
  "language_info": {
   "codemirror_mode": {
    "name": "ipython",
    "version": 3
   },
   "file_extension": ".py",
   "mimetype": "text/x-python",
   "name": "python",
   "nbconvert_exporter": "python",
   "pygments_lexer": "ipython3",
   "version": "3.8.5"
  }
 },
 "nbformat": 4,
 "nbformat_minor": 5
}
