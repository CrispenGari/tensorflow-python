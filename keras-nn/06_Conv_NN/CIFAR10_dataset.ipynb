{
  "nbformat": 4,
  "nbformat_minor": 0,
  "metadata": {
    "colab": {
      "name": "Copy of CIFAR10 dataset.ipynb",
      "provenance": [],
      "collapsed_sections": []
    },
    "kernelspec": {
      "name": "python3",
      "display_name": "Python 3"
    },
    "language_info": {
      "name": "python"
    },
    "accelerator": "GPU"
  },
  "cells": [
    {
      "cell_type": "markdown",
      "metadata": {
        "id": "cHEqOgppUJdN"
      },
      "source": [
        "### Convolutional Neural Network - Keras\n",
        "\n",
        "> **CIFAR10 dataset** - The CIFAR10 dataset contains 60,000 color images in 10 classes, with 6,000 images in each class. The dataset is divided into 50,000 training images and 10,000 testing images. The classes are mutually exclusive and there is no overlap between them."
      ]
    },
    {
      "cell_type": "markdown",
      "metadata": {
        "id": "pvCimuqaURuE"
      },
      "source": [
        "### Imports"
      ]
    },
    {
      "cell_type": "code",
      "metadata": {
        "id": "NcyK0kaTS87F"
      },
      "source": [
        "import tensorflow as tf\n",
        "from tensorflow import keras\n",
        "import numpy as np\n",
        "import matplotlib.pyplot as plt\n",
        "from tensorflow.keras import datasets"
      ],
      "execution_count": null,
      "outputs": []
    },
    {
      "cell_type": "markdown",
      "metadata": {
        "id": "QHXk9HRUUT6d"
      },
      "source": [
        "### Loading datasets"
      ]
    },
    {
      "cell_type": "code",
      "metadata": {
        "colab": {
          "base_uri": "https://localhost:8080/"
        },
        "id": "SuVpJcXOTIeN",
        "outputId": "7827dacf-345a-4633-86be-e3d70534087a"
      },
      "source": [
        "cifar10 = datasets.cifar10.load_data()"
      ],
      "execution_count": null,
      "outputs": [
        {
          "output_type": "stream",
          "text": [
            "Downloading data from https://www.cs.toronto.edu/~kriz/cifar-10-python.tar.gz\n",
            "170500096/170498071 [==============================] - 2s 0us/step\n"
          ],
          "name": "stdout"
        }
      ]
    },
    {
      "cell_type": "code",
      "metadata": {
        "id": "CsooBWCuTLiT"
      },
      "source": [
        "(train_images, train_labels), (test_images, test_labels) = cifar10"
      ],
      "execution_count": null,
      "outputs": []
    },
    {
      "cell_type": "markdown",
      "metadata": {
        "id": "lQY-JBTpUZ21"
      },
      "source": [
        "### Visualise one Image"
      ]
    },
    {
      "cell_type": "code",
      "metadata": {
        "colab": {
          "base_uri": "https://localhost:8080/",
          "height": 283
        },
        "id": "qXaV_ut7TNGj",
        "outputId": "13ec006a-dc03-4787-84e7-42dbae04f434"
      },
      "source": [
        "plt.imshow(train_images[4], cmap=plt.cm.binary)"
      ],
      "execution_count": null,
      "outputs": [
        {
          "output_type": "execute_result",
          "data": {
            "text/plain": [
              "<matplotlib.image.AxesImage at 0x7f8af646f550>"
            ]
          },
          "metadata": {
            "tags": []
          },
          "execution_count": 4
        },
        {
          "output_type": "display_data",
          "data": {
            "image/png": "[encoded data removed]",
            "text/plain": [
              "<Figure size 432x288 with 1 Axes>"
            ]
          },
          "metadata": {
            "tags": [],
            "needs_background": "light"
          }
        }
      ]
    },
    {
      "cell_type": "markdown",
      "metadata": {
        "id": "3tYUI6QKUeOk"
      },
      "source": [
        "### Scaling\n",
        "> This is one of the most important thing  to do in deep learning. Scaling the image pixels means normalisng each pixel to have  values between `0` and `1`."
      ]
    },
    {
      "cell_type": "code",
      "metadata": {
        "id": "BZBsThp6TNQ6"
      },
      "source": [
        "train_images, test_images = train_images/255.0, test_images/255.0"
      ],
      "execution_count": null,
      "outputs": []
    },
    {
      "cell_type": "markdown",
      "metadata": {
        "id": "y-mmMHMuUvck"
      },
      "source": [
        "### Image Classes From TensorFlow"
      ]
    },
    {
      "cell_type": "code",
      "metadata": {
        "id": "oH0x4IlITNW7"
      },
      "source": [
        "class_names = ['airplane', 'automobile', 'bird', 'cat', 'deer',\n",
        "               'dog', 'frog', 'horse', 'ship', 'truck']"
      ],
      "execution_count": null,
      "outputs": []
    },
    {
      "cell_type": "markdown",
      "metadata": {
        "id": "pA4SMeksU3PM"
      },
      "source": [
        "### Getting the shape of our images data\n",
        "> We are going to get the image shape of the first images so that we will use this during the creation of our conv NN"
      ]
    },
    {
      "cell_type": "code",
      "metadata": {
        "colab": {
          "base_uri": "https://localhost:8080/"
        },
        "id": "jU6X9UMWTNa2",
        "outputId": "71349af1-bf65-4fae-80e7-898dfca0ba42"
      },
      "source": [
        "input_shape = train_images[0].shape\n",
        "input_shape"
      ],
      "execution_count": null,
      "outputs": [
        {
          "output_type": "execute_result",
          "data": {
            "text/plain": [
              "(32, 32, 3)"
            ]
          },
          "metadata": {
            "tags": []
          },
          "execution_count": 7
        }
      ]
    },
    {
      "cell_type": "markdown",
      "metadata": {
        "id": "Z2YMgO3hVJM4"
      },
      "source": [
        "### Model creation."
      ]
    },
    {
      "cell_type": "code",
      "metadata": {
        "colab": {
          "base_uri": "https://localhost:8080/"
        },
        "id": "nMe6nTO-TNdq",
        "outputId": "14e67047-25eb-41ca-f36c-d9a4dff36958"
      },
      "source": [
        "model = keras.Sequential([\n",
        "    keras.layers.Conv2D(32, (3, 3), activation='relu', input_shape=input_shape),\n",
        "    keras.layers.MaxPooling2D((2, 2)),\n",
        "    keras.layers.Conv2D(64, (3,3), activation='relu'),\n",
        "    keras.layers.MaxPooling2D((2, 2)),\n",
        "    keras.layers.Conv2D(64, (3,3), activation='relu'),\n",
        "    keras.layers.MaxPooling2D((2,2)),\n",
        "    keras.layers.Flatten(),\n",
        "    keras.layers.Dense(32, activation='relu'),\n",
        "    keras.layers.Dense(16, activation='relu'),\n",
        "    keras.layers.Dense(10, activation='softmax')\n",
        "])\n",
        "\n",
        "model.summary()"
      ],
      "execution_count": null,
      "outputs": [
        {
          "output_type": "stream",
          "text": [
            "Model: \"sequential_2\"\n",
            "_________________________________________________________________\n",
            "Layer (type)                 Output Shape              Param #   \n",
            "=================================================================\n",
            "conv2d_6 (Conv2D)            (None, 30, 30, 32)        896       \n",
            "_________________________________________________________________\n",
            "max_pooling2d_5 (MaxPooling2 (None, 15, 15, 32)        0         \n",
            "_________________________________________________________________\n",
            "conv2d_7 (Conv2D)            (None, 13, 13, 64)        18496     \n",
            "_________________________________________________________________\n",
            "max_pooling2d_6 (MaxPooling2 (None, 6, 6, 64)          0         \n",
            "_________________________________________________________________\n",
            "conv2d_8 (Conv2D)            (None, 4, 4, 64)          36928     \n",
            "_________________________________________________________________\n",
            "max_pooling2d_7 (MaxPooling2 (None, 2, 2, 64)          0         \n",
            "_________________________________________________________________\n",
            "flatten_2 (Flatten)          (None, 256)               0         \n",
            "_________________________________________________________________\n",
            "dense_4 (Dense)              (None, 32)                8224      \n",
            "_________________________________________________________________\n",
            "dense_5 (Dense)              (None, 16)                528       \n",
            "_________________________________________________________________\n",
            "dense_6 (Dense)              (None, 10)                170       \n",
            "=================================================================\n",
            "Total params: 65,242\n",
            "Trainable params: 65,242\n",
            "Non-trainable params: 0\n",
            "_________________________________________________________________\n"
          ],
          "name": "stdout"
        }
      ]
    },
    {
      "cell_type": "code",
      "metadata": {
        "id": "FQQ9qnyFTfYv"
      },
      "source": [
        "model.compile(\n",
        "    optimizer='adam',\n",
        "    loss=tf.keras.losses.SparseCategoricalCrossentropy(from_logits=True),\n",
        "    metrics=['accuracy']\n",
        ")"
      ],
      "execution_count": null,
      "outputs": []
    },
    {
      "cell_type": "code",
      "metadata": {
        "colab": {
          "base_uri": "https://localhost:8080/"
        },
        "id": "iUyv4T2oTfk0",
        "outputId": "9b2fd54e-78a3-4b38-c1e0-b0a81d3814f9"
      },
      "source": [
        "EPOCHS =  10\n",
        "BATCH_SIZE = 4\n",
        "VALIDATION_DATA = (test_images, test_labels)\n",
        "history = model.fit(train_images, train_labels, epochs=EPOCHS, \n",
        "                    validation_data=VALIDATION_DATA,\n",
        "                    batch_size=BATCH_SIZE\n",
        "                   )"
      ],
      "execution_count": null,
      "outputs": [
        {
          "output_type": "stream",
          "text": [
            "Epoch 1/10\n",
            "12500/12500 [==============================] - 43s 3ms/step - loss: 0.9819 - accuracy: 0.6557 - val_loss: 1.0896 - val_accuracy: 0.6344\n",
            "Epoch 2/10\n",
            "12500/12500 [==============================] - 42s 3ms/step - loss: 0.9338 - accuracy: 0.6731 - val_loss: 1.0040 - val_accuracy: 0.6523\n",
            "Epoch 3/10\n",
            "12500/12500 [==============================] - 42s 3ms/step - loss: 0.8968 - accuracy: 0.6876 - val_loss: 1.0169 - val_accuracy: 0.6505\n",
            "Epoch 4/10\n",
            "12500/12500 [==============================] - 42s 3ms/step - loss: 0.8613 - accuracy: 0.6998 - val_loss: 0.9333 - val_accuracy: 0.6769\n",
            "Epoch 5/10\n",
            "12500/12500 [==============================] - 42s 3ms/step - loss: 0.8295 - accuracy: 0.7121 - val_loss: 0.9503 - val_accuracy: 0.6716\n",
            "Epoch 6/10\n",
            "12500/12500 [==============================] - 42s 3ms/step - loss: 0.8018 - accuracy: 0.7218 - val_loss: 0.9503 - val_accuracy: 0.6793\n",
            "Epoch 7/10\n",
            "12500/12500 [==============================] - 42s 3ms/step - loss: 0.7785 - accuracy: 0.7299 - val_loss: 0.9964 - val_accuracy: 0.6690\n",
            "Epoch 8/10\n",
            "12500/12500 [==============================] - 41s 3ms/step - loss: 0.7615 - accuracy: 0.7373 - val_loss: 0.9919 - val_accuracy: 0.6740\n",
            "Epoch 9/10\n",
            "12500/12500 [==============================] - 41s 3ms/step - loss: 0.7329 - accuracy: 0.7467 - val_loss: 0.9804 - val_accuracy: 0.6787\n",
            "Epoch 10/10\n",
            "12500/12500 [==============================] - 42s 3ms/step - loss: 0.7224 - accuracy: 0.7512 - val_loss: 0.9888 - val_accuracy: 0.6770\n"
          ],
          "name": "stdout"
        }
      ]
    },
    {
      "cell_type": "markdown",
      "metadata": {
        "id": "Fb0ArvbRX3a-"
      },
      "source": [
        "### Summary\n",
        "The model is learning okay. The validation loss is `0.9888` which is close to 1 and the actual loss during training is `0.72` which is not that bad.\n",
        "> In terms of accuracy the model is `75%` accurate on the train data and `67%` accurate on the test data."
      ]
    },
    {
      "cell_type": "markdown",
      "metadata": {
        "id": "jB9dTLzXWZyT"
      },
      "source": [
        "### Making some Predictions on Data."
      ]
    },
    {
      "cell_type": "code",
      "metadata": {
        "colab": {
          "base_uri": "https://localhost:8080/"
        },
        "id": "dnKz8O_XTfpU",
        "outputId": "debcb560-4e14-4aaa-a0b3-487aaae0e4c1"
      },
      "source": [
        "test_images[:2]"
      ],
      "execution_count": null,
      "outputs": [
        {
          "output_type": "execute_result",
          "data": {
            "text/plain": [
              "array([[[[0.61960784, 0.43921569, 0.19215686],\n",
              "         [0.62352941, 0.43529412, 0.18431373],\n",
              "         [0.64705882, 0.45490196, 0.2       ],\n",
              "         ...,\n",
              "         [0.5372549 , 0.37254902, 0.14117647],\n",
              "         [0.49411765, 0.35686275, 0.14117647],\n",
              "         [0.45490196, 0.33333333, 0.12941176]],\n",
              "\n",
              "        [[0.59607843, 0.43921569, 0.2       ],\n",
              "         [0.59215686, 0.43137255, 0.15686275],\n",
              "         [0.62352941, 0.44705882, 0.17647059],\n",
              "         ...,\n",
              "         [0.53333333, 0.37254902, 0.12156863],\n",
              "         [0.49019608, 0.35686275, 0.1254902 ],\n",
              "         [0.46666667, 0.34509804, 0.13333333]],\n",
              "\n",
              "        [[0.59215686, 0.43137255, 0.18431373],\n",
              "         [0.59215686, 0.42745098, 0.12941176],\n",
              "         [0.61960784, 0.43529412, 0.14117647],\n",
              "         ...,\n",
              "         [0.54509804, 0.38431373, 0.13333333],\n",
              "         [0.50980392, 0.37254902, 0.13333333],\n",
              "         [0.47058824, 0.34901961, 0.12941176]],\n",
              "\n",
              "        ...,\n",
              "\n",
              "        [[0.26666667, 0.48627451, 0.69411765],\n",
              "         [0.16470588, 0.39215686, 0.58039216],\n",
              "         [0.12156863, 0.34509804, 0.5372549 ],\n",
              "         ...,\n",
              "         [0.14901961, 0.38039216, 0.57254902],\n",
              "         [0.05098039, 0.25098039, 0.42352941],\n",
              "         [0.15686275, 0.33333333, 0.49803922]],\n",
              "\n",
              "        [[0.23921569, 0.45490196, 0.65882353],\n",
              "         [0.19215686, 0.4       , 0.58039216],\n",
              "         [0.1372549 , 0.33333333, 0.51764706],\n",
              "         ...,\n",
              "         [0.10196078, 0.32156863, 0.50980392],\n",
              "         [0.11372549, 0.32156863, 0.49411765],\n",
              "         [0.07843137, 0.25098039, 0.41960784]],\n",
              "\n",
              "        [[0.21176471, 0.41960784, 0.62745098],\n",
              "         [0.21960784, 0.41176471, 0.58431373],\n",
              "         [0.17647059, 0.34901961, 0.51764706],\n",
              "         ...,\n",
              "         [0.09411765, 0.30196078, 0.48627451],\n",
              "         [0.13333333, 0.32941176, 0.50588235],\n",
              "         [0.08235294, 0.2627451 , 0.43137255]]],\n",
              "\n",
              "\n",
              "       [[[0.92156863, 0.92156863, 0.92156863],\n",
              "         [0.90588235, 0.90588235, 0.90588235],\n",
              "         [0.90980392, 0.90980392, 0.90980392],\n",
              "         ...,\n",
              "         [0.91372549, 0.91372549, 0.91372549],\n",
              "         [0.91372549, 0.91372549, 0.91372549],\n",
              "         [0.90980392, 0.90980392, 0.90980392]],\n",
              "\n",
              "        [[0.93333333, 0.93333333, 0.93333333],\n",
              "         [0.92156863, 0.92156863, 0.92156863],\n",
              "         [0.92156863, 0.92156863, 0.92156863],\n",
              "         ...,\n",
              "         [0.9254902 , 0.9254902 , 0.9254902 ],\n",
              "         [0.9254902 , 0.9254902 , 0.9254902 ],\n",
              "         [0.92156863, 0.92156863, 0.92156863]],\n",
              "\n",
              "        [[0.92941176, 0.92941176, 0.92941176],\n",
              "         [0.91764706, 0.91764706, 0.91764706],\n",
              "         [0.91764706, 0.91764706, 0.91764706],\n",
              "         ...,\n",
              "         [0.92156863, 0.92156863, 0.92156863],\n",
              "         [0.92156863, 0.92156863, 0.92156863],\n",
              "         [0.91764706, 0.91764706, 0.91764706]],\n",
              "\n",
              "        ...,\n",
              "\n",
              "        [[0.34117647, 0.38823529, 0.34901961],\n",
              "         [0.16862745, 0.2       , 0.14509804],\n",
              "         [0.0745098 , 0.09019608, 0.04313725],\n",
              "         ...,\n",
              "         [0.6627451 , 0.72156863, 0.70196078],\n",
              "         [0.71372549, 0.77254902, 0.75686275],\n",
              "         [0.7372549 , 0.79215686, 0.78823529]],\n",
              "\n",
              "        [[0.32156863, 0.37647059, 0.32156863],\n",
              "         [0.18039216, 0.22352941, 0.14117647],\n",
              "         [0.14117647, 0.17254902, 0.08627451],\n",
              "         ...,\n",
              "         [0.68235294, 0.74117647, 0.71764706],\n",
              "         [0.7254902 , 0.78431373, 0.76862745],\n",
              "         [0.73333333, 0.79215686, 0.78431373]],\n",
              "\n",
              "        [[0.33333333, 0.39607843, 0.3254902 ],\n",
              "         [0.24313725, 0.29411765, 0.18823529],\n",
              "         [0.22745098, 0.2627451 , 0.14901961],\n",
              "         ...,\n",
              "         [0.65882353, 0.71764706, 0.69803922],\n",
              "         [0.70588235, 0.76470588, 0.74901961],\n",
              "         [0.72941176, 0.78431373, 0.78039216]]]])"
            ]
          },
          "metadata": {
            "tags": []
          },
          "execution_count": 18
        }
      ]
    },
    {
      "cell_type": "code",
      "metadata": {
        "colab": {
          "base_uri": "https://localhost:8080/"
        },
        "id": "rM_FVy0JTft8",
        "outputId": "148cbb04-fa10-43e7-d897-5963777c600e"
      },
      "source": [
        "predictions = model.predict([test_images[:2]])\n",
        "for pred in zip(predictions, test_labels[:2]):\n",
        "  i, j = pred\n",
        "  index = np.argmax(i)\n",
        "  print(class_names[j[-1]], \"---->\", class_names[index])"
      ],
      "execution_count": null,
      "outputs": [
        {
          "output_type": "stream",
          "text": [
            "cat ----> cat\n",
            "ship ----> ship\n"
          ],
          "name": "stdout"
        }
      ]
    },
    {
      "cell_type": "markdown",
      "metadata": {
        "id": "Oxp-eaoNZXqA"
      },
      "source": [
        "> Done"
      ]
    },
    {
      "cell_type": "code",
      "metadata": {
        "id": "FqsEWcGjTNj7"
      },
      "source": [
        ""
      ],
      "execution_count": null,
      "outputs": []
    }
  ]
}