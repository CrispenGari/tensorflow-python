{
 "cells": [
  {
   "cell_type": "markdown",
   "id": "global-potato",
   "metadata": {},
   "source": [
    "## MNIST dataset\n",
    "* The MNIST database was constructed from NIST's Special Database 3 and Special Database 1 which contain binary images of handwritten digits.\n",
    "> In this example we are going to create a Neural Network that recognizes hand written digits from MNIST dataset"
   ]
  },
  {
   "cell_type": "markdown",
   "id": "handmade-torture",
   "metadata": {},
   "source": [
    "### Imports"
   ]
  },
  {
   "cell_type": "code",
   "execution_count": 4,
   "id": "moved-trunk",
   "metadata": {},
   "outputs": [],
   "source": [
    "import tensorflow as tf\n",
    "from tensorflow import keras\n",
    "import matplotlib.pyplot as plt\n",
    "import numpy as np\n",
    "from tensorflow.keras import datasets"
   ]
  },
  {
   "cell_type": "markdown",
   "id": "brilliant-removal",
   "metadata": {},
   "source": [
    "> Checking the `datasets` that we have in keras"
   ]
  },
  {
   "cell_type": "code",
   "execution_count": 6,
   "id": "coupled-counter",
   "metadata": {},
   "outputs": [
    {
     "name": "stdout",
     "output_type": "stream",
     "text": [
      "['__builtins__', '__cached__', '__doc__', '__file__', '__loader__', '__name__', '__package__', '__path__', '__spec__', '_sys', 'boston_housing', 'cifar10', 'cifar100', 'fashion_mnist', 'imdb', 'mnist', 'reuters']\n"
     ]
    }
   ],
   "source": [
    "print(dir(datasets))"
   ]
  },
  {
   "cell_type": "code",
   "execution_count": 3,
   "id": "quiet-landscape",
   "metadata": {},
   "outputs": [
    {
     "data": {
      "text/plain": [
       "'2.4.1'"
      ]
     },
     "execution_count": 3,
     "metadata": {},
     "output_type": "execute_result"
    }
   ],
   "source": [
    "tf.__version__"
   ]
  },
  {
   "cell_type": "markdown",
   "id": "medieval-atlas",
   "metadata": {},
   "source": [
    "### Data preparation\n",
    "`MNIST` dataset contain images of digits from `0` to `9` which are `28x28`"
   ]
  },
  {
   "cell_type": "code",
   "execution_count": 9,
   "id": "elementary-receipt",
   "metadata": {},
   "outputs": [],
   "source": [
    "mnist = datasets.mnist.load_data()"
   ]
  },
  {
   "cell_type": "markdown",
   "id": "alternate-seller",
   "metadata": {},
   "source": [
    "> The `MNIST` object we just created contains 2 tuples, the first one is for train dataset and the otherone is for testing. In each tuple there are 2 thing features and labels. Features is just an `ndarray` of pixels and labels are just numbers from 0 to 9."
   ]
  },
  {
   "cell_type": "code",
   "execution_count": 22,
   "id": "configured-student",
   "metadata": {},
   "outputs": [
    {
     "data": {
      "text/plain": [
       "((60000, 28, 28), (60000,), (10000, 28, 28), (10000,))"
      ]
     },
     "execution_count": 22,
     "metadata": {},
     "output_type": "execute_result"
    }
   ],
   "source": [
    "(X_train, y_train), (X_test, y_test) = mnist\n",
    "X_train.shape, y_train.shape, X_test.shape, y_test.shape"
   ]
  },
  {
   "cell_type": "markdown",
   "id": "outstanding-festival",
   "metadata": {},
   "source": [
    "> We have `60000` images which are `28x28` and `60000` labels for each in the train dataset. We also have `10000` images with the same dimension in the test set."
   ]
  },
  {
   "cell_type": "code",
   "execution_count": 25,
   "id": "confirmed-episode",
   "metadata": {},
   "outputs": [
    {
     "data": {
      "text/plain": [
       "array([7, 2, 1, 0, 4], dtype=uint8)"
      ]
     },
     "execution_count": 25,
     "metadata": {},
     "output_type": "execute_result"
    }
   ],
   "source": [
    "y_test[:5]"
   ]
  },
  {
   "cell_type": "markdown",
   "id": "successful-defense",
   "metadata": {},
   "source": [
    "> These images seems to be shuffled already. Let's visualise the first image in the train data set."
   ]
  },
  {
   "cell_type": "code",
   "execution_count": 33,
   "id": "greenhouse-veteran",
   "metadata": {},
   "outputs": [
    {
     "data": {
      "image/png": "[encoded data removed]",
      "text/plain": [
       "<Figure size 432x288 with 1 Axes>"
      ]
     },
     "metadata": {
      "needs_background": "light"
     },
     "output_type": "display_data"
    }
   ],
   "source": [
    "plt.imshow(X_train[0], cmap='gray')\n",
    "plt.title(y_train[0], fontsize=14, fontweight=\"bold\")\n",
    "plt.show()"
   ]
  },
  {
   "cell_type": "markdown",
   "id": "subsequent-grass",
   "metadata": {},
   "source": [
    "> This is a `5` indeed."
   ]
  },
  {
   "cell_type": "markdown",
   "id": "pretty-craps",
   "metadata": {},
   "source": [
    "### Data Scaling\n",
    "It's generally a good idea to \"normalize\" your data. This typically involves scaling the data to be between 0 and 1, or maybe -1 and positive 1. In our case, each \"pixel\" is a feature, and each feature currently ranges from 0 to 255. Not quite 0 to 1. Let's change that with a handy utility function:"
   ]
  },
  {
   "cell_type": "code",
   "execution_count": 38,
   "id": "capable-moldova",
   "metadata": {},
   "outputs": [],
   "source": [
    "X_train = keras.utils.normalize(X_train, axis=1)\n",
    "X_test = keras.utils.normalize(X_test, axis=1)"
   ]
  },
  {
   "cell_type": "code",
   "execution_count": 39,
   "id": "appropriate-restoration",
   "metadata": {},
   "outputs": [
    {
     "data": {
      "image/png": "[encoded data removed]",
      "text/plain": [
       "<Figure size 432x288 with 1 Axes>"
      ]
     },
     "metadata": {
      "needs_background": "light"
     },
     "output_type": "display_data"
    }
   ],
   "source": [
    "plt.imshow(X_train[0], cmap='gray')\n",
    "plt.title(y_train[0], fontsize=14, fontweight=\"bold\")\n",
    "plt.show()"
   ]
  },
  {
   "cell_type": "markdown",
   "id": "controlling-intervention",
   "metadata": {},
   "source": [
    "> We still getting the same `5` nothing has changed so far, we just `normalize` pixels to be between 0 and 1."
   ]
  },
  {
   "cell_type": "markdown",
   "id": "ranking-bikini",
   "metadata": {},
   "source": [
    "> Let's check if the data is balanced or not."
   ]
  },
  {
   "cell_type": "code",
   "execution_count": 42,
   "id": "greenhouse-rating",
   "metadata": {},
   "outputs": [
    {
     "data": {
      "text/plain": [
       "{0: 5923,\n",
       " 1: 6742,\n",
       " 2: 5958,\n",
       " 3: 6131,\n",
       " 4: 5842,\n",
       " 5: 5421,\n",
       " 6: 5918,\n",
       " 7: 6265,\n",
       " 8: 5851,\n",
       " 9: 5949}"
      ]
     },
     "execution_count": 42,
     "metadata": {},
     "output_type": "execute_result"
    }
   ],
   "source": [
    "numbers = {0:0, 1:0, 2:0, 3:0, 4:0, 5:0, 6:0, 7:0, 8:0, 9:0}\n",
    "for i in y_train:\n",
    "    numbers[i] +=1\n",
    "numbers"
   ]
  },
  {
   "cell_type": "markdown",
   "id": "timely-feature",
   "metadata": {},
   "source": [
    "> The data is pretty cool and there's no much of a difference between the frequences of each number."
   ]
  },
  {
   "cell_type": "markdown",
   "id": "unique-auction",
   "metadata": {},
   "source": [
    "### Model Creation\n",
    "> This is very important, Our image is a `28x28` which is multi-d array so we need to flatten the dimension of our image. There are many ways we can use `numpy` anything but we are going to use the keras layer `Flatten()` to flatten our image input for us. So this means our first layer in the Nueral Network will be the `Flatten` layer."
   ]
  },
  {
   "cell_type": "code",
   "execution_count": 44,
   "id": "piano-mathematics",
   "metadata": {},
   "outputs": [],
   "source": [
    "model = keras.Sequential([\n",
    "    keras.layers.Flatten(),\n",
    "    keras.layers.Dense(64, activation='relu'),\n",
    "    keras.layers.Dense(64, activation='relu'),\n",
    "    keras.layers.Dense(64, activation='relu'),\n",
    "    keras.layers.Dense(10, activation='softmax'),\n",
    "])"
   ]
  },
  {
   "cell_type": "code",
   "execution_count": 46,
   "id": "comfortable-matthew",
   "metadata": {},
   "outputs": [],
   "source": [
    "model.compile(\n",
    "    optimizer= keras.optimizers.Adam(learning_rate=1e-3,),\n",
    "    loss = keras.losses.SparseCategoricalCrossentropy(),\n",
    "    metrics=[\"accuracy\"]\n",
    ")"
   ]
  },
  {
   "cell_type": "code",
   "execution_count": null,
   "id": "reasonable-trinity",
   "metadata": {},
   "outputs": [],
   "source": []
  },
  {
   "cell_type": "code",
   "execution_count": 48,
   "id": "boring-airport",
   "metadata": {},
   "outputs": [
    {
     "name": "stdout",
     "output_type": "stream",
     "text": [
      "Epoch 1/10\n",
      "7500/7500 [==============================] - 19s 2ms/step - loss: 0.4123 - accuracy: 0.8718\n",
      "Epoch 2/10\n",
      "7500/7500 [==============================] - 15s 2ms/step - loss: 0.1207 - accuracy: 0.9635\n",
      "Epoch 3/10\n",
      "7500/7500 [==============================] - 15s 2ms/step - loss: 0.0850 - accuracy: 0.9734\n",
      "Epoch 4/10\n",
      "7500/7500 [==============================] - 17s 2ms/step - loss: 0.0712 - accuracy: 0.9783\n",
      "Epoch 5/10\n",
      "7500/7500 [==============================] - 16s 2ms/step - loss: 0.0539 - accuracy: 0.9823\n",
      "Epoch 6/10\n",
      "7500/7500 [==============================] - 16s 2ms/step - loss: 0.0473 - accuracy: 0.9858\n",
      "Epoch 7/10\n",
      "7500/7500 [==============================] - 17s 2ms/step - loss: 0.0393 - accuracy: 0.9872\n",
      "Epoch 8/10\n",
      "7500/7500 [==============================] - 20s 3ms/step - loss: 0.0340 - accuracy: 0.9894\n",
      "Epoch 9/10\n",
      "7500/7500 [==============================] - 17s 2ms/step - loss: 0.0327 - accuracy: 0.9890\n",
      "Epoch 10/10\n",
      "7500/7500 [==============================] - 16s 2ms/step - loss: 0.0279 - accuracy: 0.9906\n"
     ]
    },
    {
     "data": {
      "text/plain": [
       "<tensorflow.python.keras.callbacks.History at 0x1c8e434b5b0>"
      ]
     },
     "execution_count": 48,
     "metadata": {},
     "output_type": "execute_result"
    }
   ],
   "source": [
    "EPOCHS = 10\n",
    "BATCH_SIZE = 8\n",
    "model.fit(X_train, y_train, epochs=EPOCHS, batch_size=BATCH_SIZE)"
   ]
  },
  {
   "cell_type": "markdown",
   "id": "confident-comedy",
   "metadata": {},
   "source": [
    "> The `99%` accurate on the train images. and we have a loss of `0.03` which is close to 0. This means our model is cool on the train sample."
   ]
  },
  {
   "cell_type": "markdown",
   "id": "virgin-arrival",
   "metadata": {},
   "source": [
    "### Model Summary"
   ]
  },
  {
   "cell_type": "code",
   "execution_count": 49,
   "id": "unique-background",
   "metadata": {},
   "outputs": [
    {
     "name": "stdout",
     "output_type": "stream",
     "text": [
      "Model: \"sequential_1\"\n",
      "_________________________________________________________________\n",
      "Layer (type)                 Output Shape              Param #   \n",
      "=================================================================\n",
      "flatten (Flatten)            (8, 784)                  0         \n",
      "_________________________________________________________________\n",
      "dense (Dense)                (8, 64)                   50240     \n",
      "_________________________________________________________________\n",
      "dense_1 (Dense)              (8, 64)                   4160      \n",
      "_________________________________________________________________\n",
      "dense_2 (Dense)              (8, 64)                   4160      \n",
      "_________________________________________________________________\n",
      "dense_3 (Dense)              (8, 10)                   650       \n",
      "=================================================================\n",
      "Total params: 59,210\n",
      "Trainable params: 59,210\n",
      "Non-trainable params: 0\n",
      "_________________________________________________________________\n"
     ]
    }
   ],
   "source": [
    "model.summary()"
   ]
  },
  {
   "cell_type": "markdown",
   "id": "hungarian-writer",
   "metadata": {},
   "source": [
    "### Evaluating"
   ]
  },
  {
   "cell_type": "code",
   "execution_count": 51,
   "id": "french-massage",
   "metadata": {},
   "outputs": [
    {
     "name": "stdout",
     "output_type": "stream",
     "text": [
      "313/313 [==============================] - 1s 2ms/step - loss: 0.1254 - accuracy: 0.9746\n"
     ]
    },
    {
     "data": {
      "text/plain": [
       "[0.12540856003761292, 0.9746000170707703]"
      ]
     },
     "execution_count": 51,
     "metadata": {},
     "output_type": "execute_result"
    }
   ],
   "source": [
    "model.evaluate(X_test, y_test)"
   ]
  },
  {
   "cell_type": "markdown",
   "id": "oriental-pittsburgh",
   "metadata": {},
   "source": [
    "> The `97%` accurate on the test images. and we have a loss of `0.13` which is close to 0. This means our model is cool on the test sample. And we are not `overfitting` because the accuracy from the train and test are close to each other."
   ]
  },
  {
   "cell_type": "markdown",
   "id": "divided-dress",
   "metadata": {},
   "source": [
    "### Making Prediction"
   ]
  },
  {
   "cell_type": "code",
   "execution_count": 64,
   "id": "creative-messaging",
   "metadata": {},
   "outputs": [
    {
     "data": {
      "text/plain": [
       "array([[8.0563574e-15, 2.3088481e-13, 1.9216269e-09, 6.9906822e-14,\n",
       "        9.9999762e-01, 6.8072867e-14, 6.8319746e-14, 1.1283490e-08,\n",
       "        3.8955368e-09, 2.4145525e-06]], dtype=float32)"
      ]
     },
     "execution_count": 64,
     "metadata": {},
     "output_type": "execute_result"
    }
   ],
   "source": [
    "predictions = model.predict((X_test[6:7]))\n",
    "predictions "
   ]
  },
  {
   "cell_type": "code",
   "execution_count": 65,
   "id": "daily-healthcare",
   "metadata": {},
   "outputs": [
    {
     "data": {
      "text/plain": [
       "array([[0., 0., 0., 0., 1., 0., 0., 0., 0., 0.]], dtype=float32)"
      ]
     },
     "execution_count": 65,
     "metadata": {},
     "output_type": "execute_result"
    }
   ],
   "source": [
    "np.round(predictions) ## The model is saying it's a 4"
   ]
  },
  {
   "cell_type": "code",
   "execution_count": 68,
   "id": "forty-listing",
   "metadata": {},
   "outputs": [
    {
     "data": {
      "text/plain": [
       "Text(0.5, 1.0, '4')"
      ]
     },
     "execution_count": 68,
     "metadata": {},
     "output_type": "execute_result"
    },
    {
     "data": {
      "image/png": "[encoded data removed]",
      "text/plain": [
       "<Figure size 432x288 with 1 Axes>"
      ]
     },
     "metadata": {
      "needs_background": "light"
     },
     "output_type": "display_data"
    }
   ],
   "source": [
    "plt.imshow(X_test[6], cmap='gray')\n",
    "plt.title(y_test[6], fontsize=20, fontweight='bold')"
   ]
  },
  {
   "cell_type": "markdown",
   "id": "hydraulic-court",
   "metadata": {},
   "source": [
    "### Saving the Model\n",
    "> To save our model we call the `model.save(__path__)` method."
   ]
  },
  {
   "cell_type": "code",
   "execution_count": 52,
   "id": "interesting-mauritius",
   "metadata": {},
   "outputs": [
    {
     "name": "stdout",
     "output_type": "stream",
     "text": [
      "INFO:tensorflow:Assets written to: models/hand_written_digits\\assets\n",
      "Model Saved!!\n"
     ]
    }
   ],
   "source": [
    "model.save('models/hand_written_digits')\n",
    "print(\"Model Saved!!\")"
   ]
  },
  {
   "cell_type": "markdown",
   "id": "aggregate-associate",
   "metadata": {},
   "source": [
    "### Loading the model"
   ]
  },
  {
   "cell_type": "code",
   "execution_count": 53,
   "id": "worth-hamburg",
   "metadata": {},
   "outputs": [],
   "source": [
    "clf = keras.models.load_model('models/hand_written_digits')"
   ]
  },
  {
   "cell_type": "code",
   "execution_count": 71,
   "id": "forbidden-elder",
   "metadata": {},
   "outputs": [
    {
     "data": {
      "text/plain": [
       "4"
      ]
     },
     "execution_count": 71,
     "metadata": {},
     "output_type": "execute_result"
    }
   ],
   "source": [
    "predictions = clf.predict((X_test[6:7]))\n",
    "np.argmax(predictions) "
   ]
  },
  {
   "cell_type": "markdown",
   "id": "sorted-pride",
   "metadata": {},
   "source": [
    "> Awesome!! We have trained our model that recognizes images."
   ]
  },
  {
   "cell_type": "code",
   "execution_count": null,
   "id": "associate-graham",
   "metadata": {},
   "outputs": [],
   "source": []
  }
 ],
 "metadata": {
  "kernelspec": {
   "display_name": "Python 3",
   "language": "python",
   "name": "python3"
  },
  "language_info": {
   "codemirror_mode": {
    "name": "ipython",
    "version": 3
   },
   "file_extension": ".py",
   "mimetype": "text/x-python",
   "name": "python",
   "nbconvert_exporter": "python",
   "pygments_lexer": "ipython3",
   "version": "3.8.5"
  }
 },
 "nbformat": 4,
 "nbformat_minor": 5
}
