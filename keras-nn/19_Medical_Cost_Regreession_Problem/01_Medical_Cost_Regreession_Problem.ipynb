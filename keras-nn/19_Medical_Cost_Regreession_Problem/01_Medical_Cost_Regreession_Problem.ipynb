{
 "cells": [
  {
   "cell_type": "markdown",
   "metadata": {
    "id": "sB5xQt19uCUv"
   },
   "source": [
    "## Medical_Cost_Regreession_Problem\n",
    "\n",
    "Predicting the medical cost based on som independent variables using the [Medical Cost Personal Datasets](https://www.kaggle.com/mirichoi0218/insurance?select=insurance.csv) dataset from Kaggle"
   ]
  },
  {
   "cell_type": "markdown",
   "metadata": {
    "id": "aOlhWNkDwbgt"
   },
   "source": [
    "### Imports"
   ]
  },
  {
   "cell_type": "code",
   "execution_count": 1,
   "metadata": {
    "id": "fg7-vJyguNlH"
   },
   "outputs": [],
   "source": [
    "import tensorflow as tf\n",
    "from tensorflow import keras\n",
    "import pandas as pd\n",
    "import matplotlib.pyplot as plt\n",
    "import seaborn as sns"
   ]
  },
  {
   "cell_type": "markdown",
   "metadata": {
    "id": "NeSSLH7luof9"
   },
   "source": [
    "#### Data Preparation"
   ]
  },
  {
   "cell_type": "code",
   "execution_count": 5,
   "metadata": {
    "id": "gmJb6Q59ur7Y"
   },
   "outputs": [],
   "source": [
    "url = 'https://raw.githubusercontent.com/stedy/Machine-Learning-with-R-datasets/master/insurance.csv'"
   ]
  },
  {
   "cell_type": "code",
   "execution_count": 6,
   "metadata": {
    "colab": {
     "base_uri": "https://localhost:8080/",
     "height": 204
    },
    "id": "pz3TqkOfu1Rc",
    "outputId": "a96e9cef-c157-4519-ccc2-455bdfd71bf5"
   },
   "outputs": [
    {
     "data": {
      "text/html": [
       "<div>\n",
       "<style scoped>\n",
       "    .dataframe tbody tr th:only-of-type {\n",
       "        vertical-align: middle;\n",
       "    }\n",
       "\n",
       "    .dataframe tbody tr th {\n",
       "        vertical-align: top;\n",
       "    }\n",
       "\n",
       "    .dataframe thead th {\n",
       "        text-align: right;\n",
       "    }\n",
       "</style>\n",
       "<table border=\"1\" class=\"dataframe\">\n",
       "  <thead>\n",
       "    <tr style=\"text-align: right;\">\n",
       "      <th></th>\n",
       "      <th>age</th>\n",
       "      <th>sex</th>\n",
       "      <th>bmi</th>\n",
       "      <th>children</th>\n",
       "      <th>smoker</th>\n",
       "      <th>region</th>\n",
       "      <th>charges</th>\n",
       "    </tr>\n",
       "  </thead>\n",
       "  <tbody>\n",
       "    <tr>\n",
       "      <th>0</th>\n",
       "      <td>19</td>\n",
       "      <td>female</td>\n",
       "      <td>27.900</td>\n",
       "      <td>0</td>\n",
       "      <td>yes</td>\n",
       "      <td>southwest</td>\n",
       "      <td>16884.92400</td>\n",
       "    </tr>\n",
       "    <tr>\n",
       "      <th>1</th>\n",
       "      <td>18</td>\n",
       "      <td>male</td>\n",
       "      <td>33.770</td>\n",
       "      <td>1</td>\n",
       "      <td>no</td>\n",
       "      <td>southeast</td>\n",
       "      <td>1725.55230</td>\n",
       "    </tr>\n",
       "    <tr>\n",
       "      <th>2</th>\n",
       "      <td>28</td>\n",
       "      <td>male</td>\n",
       "      <td>33.000</td>\n",
       "      <td>3</td>\n",
       "      <td>no</td>\n",
       "      <td>southeast</td>\n",
       "      <td>4449.46200</td>\n",
       "    </tr>\n",
       "    <tr>\n",
       "      <th>3</th>\n",
       "      <td>33</td>\n",
       "      <td>male</td>\n",
       "      <td>22.705</td>\n",
       "      <td>0</td>\n",
       "      <td>no</td>\n",
       "      <td>northwest</td>\n",
       "      <td>21984.47061</td>\n",
       "    </tr>\n",
       "    <tr>\n",
       "      <th>4</th>\n",
       "      <td>32</td>\n",
       "      <td>male</td>\n",
       "      <td>28.880</td>\n",
       "      <td>0</td>\n",
       "      <td>no</td>\n",
       "      <td>northwest</td>\n",
       "      <td>3866.85520</td>\n",
       "    </tr>\n",
       "  </tbody>\n",
       "</table>\n",
       "</div>"
      ],
      "text/plain": [
       "   age     sex     bmi  children smoker     region      charges\n",
       "0   19  female  27.900         0    yes  southwest  16884.92400\n",
       "1   18    male  33.770         1     no  southeast   1725.55230\n",
       "2   28    male  33.000         3     no  southeast   4449.46200\n",
       "3   33    male  22.705         0     no  northwest  21984.47061\n",
       "4   32    male  28.880         0     no  northwest   3866.85520"
      ]
     },
     "execution_count": 6,
     "metadata": {
      "tags": []
     },
     "output_type": "execute_result"
    }
   ],
   "source": [
    "data = pd.read_csv(url)\n",
    "data.head()"
   ]
  },
  {
   "cell_type": "code",
   "execution_count": 7,
   "metadata": {
    "colab": {
     "base_uri": "https://localhost:8080/"
    },
    "id": "hK3jebt6wkwc",
    "outputId": "e4429ae1-9234-49c2-8c45-2fe296118759"
   },
   "outputs": [
    {
     "data": {
      "text/plain": [
       "array(['southwest', 'southeast', 'northwest', 'northeast'], dtype=object)"
      ]
     },
     "execution_count": 7,
     "metadata": {
      "tags": []
     },
     "output_type": "execute_result"
    }
   ],
   "source": [
    "data[\"region\"].unique()"
   ]
  },
  {
   "cell_type": "code",
   "execution_count": 9,
   "metadata": {
    "colab": {
     "base_uri": "https://localhost:8080/"
    },
    "id": "-9hvgN28wkzk",
    "outputId": "d8e42269-0c0b-4255-b4f6-3bd4bdd5ec75"
   },
   "outputs": [
    {
     "data": {
      "text/plain": [
       "array(['female', 'male'], dtype=object)"
      ]
     },
     "execution_count": 9,
     "metadata": {
      "tags": []
     },
     "output_type": "execute_result"
    }
   ],
   "source": [
    "data[\"sex\"].unique()"
   ]
  },
  {
   "cell_type": "markdown",
   "metadata": {
    "id": "bdjbbQEBwk4u"
   },
   "source": [
    "### Converting some columns in one_hot_encoded_vects\n",
    "* **sex** - should be converted to number\n",
    "* **smoker column** - should be converted to one hot encording\n",
    "* **region** - should be converted to one hot "
   ]
  },
  {
   "cell_type": "code",
   "execution_count": 12,
   "metadata": {
    "colab": {
     "base_uri": "https://localhost:8080/",
     "height": 204
    },
    "id": "VxtzNkgVwk7u",
    "outputId": "caff48bd-6c7f-4105-cd1a-dbe522abe067"
   },
   "outputs": [
    {
     "data": {
      "text/html": [
       "<div>\n",
       "<style scoped>\n",
       "    .dataframe tbody tr th:only-of-type {\n",
       "        vertical-align: middle;\n",
       "    }\n",
       "\n",
       "    .dataframe tbody tr th {\n",
       "        vertical-align: top;\n",
       "    }\n",
       "\n",
       "    .dataframe thead th {\n",
       "        text-align: right;\n",
       "    }\n",
       "</style>\n",
       "<table border=\"1\" class=\"dataframe\">\n",
       "  <thead>\n",
       "    <tr style=\"text-align: right;\">\n",
       "      <th></th>\n",
       "      <th>age</th>\n",
       "      <th>bmi</th>\n",
       "      <th>children</th>\n",
       "      <th>charges</th>\n",
       "      <th>sex_female</th>\n",
       "      <th>sex_male</th>\n",
       "      <th>smoker_no</th>\n",
       "      <th>smoker_yes</th>\n",
       "      <th>region_northeast</th>\n",
       "      <th>region_northwest</th>\n",
       "      <th>region_southeast</th>\n",
       "      <th>region_southwest</th>\n",
       "    </tr>\n",
       "  </thead>\n",
       "  <tbody>\n",
       "    <tr>\n",
       "      <th>0</th>\n",
       "      <td>19</td>\n",
       "      <td>27.900</td>\n",
       "      <td>0</td>\n",
       "      <td>16884.92400</td>\n",
       "      <td>1</td>\n",
       "      <td>0</td>\n",
       "      <td>0</td>\n",
       "      <td>1</td>\n",
       "      <td>0</td>\n",
       "      <td>0</td>\n",
       "      <td>0</td>\n",
       "      <td>1</td>\n",
       "    </tr>\n",
       "    <tr>\n",
       "      <th>1</th>\n",
       "      <td>18</td>\n",
       "      <td>33.770</td>\n",
       "      <td>1</td>\n",
       "      <td>1725.55230</td>\n",
       "      <td>0</td>\n",
       "      <td>1</td>\n",
       "      <td>1</td>\n",
       "      <td>0</td>\n",
       "      <td>0</td>\n",
       "      <td>0</td>\n",
       "      <td>1</td>\n",
       "      <td>0</td>\n",
       "    </tr>\n",
       "    <tr>\n",
       "      <th>2</th>\n",
       "      <td>28</td>\n",
       "      <td>33.000</td>\n",
       "      <td>3</td>\n",
       "      <td>4449.46200</td>\n",
       "      <td>0</td>\n",
       "      <td>1</td>\n",
       "      <td>1</td>\n",
       "      <td>0</td>\n",
       "      <td>0</td>\n",
       "      <td>0</td>\n",
       "      <td>1</td>\n",
       "      <td>0</td>\n",
       "    </tr>\n",
       "    <tr>\n",
       "      <th>3</th>\n",
       "      <td>33</td>\n",
       "      <td>22.705</td>\n",
       "      <td>0</td>\n",
       "      <td>21984.47061</td>\n",
       "      <td>0</td>\n",
       "      <td>1</td>\n",
       "      <td>1</td>\n",
       "      <td>0</td>\n",
       "      <td>0</td>\n",
       "      <td>1</td>\n",
       "      <td>0</td>\n",
       "      <td>0</td>\n",
       "    </tr>\n",
       "    <tr>\n",
       "      <th>4</th>\n",
       "      <td>32</td>\n",
       "      <td>28.880</td>\n",
       "      <td>0</td>\n",
       "      <td>3866.85520</td>\n",
       "      <td>0</td>\n",
       "      <td>1</td>\n",
       "      <td>1</td>\n",
       "      <td>0</td>\n",
       "      <td>0</td>\n",
       "      <td>1</td>\n",
       "      <td>0</td>\n",
       "      <td>0</td>\n",
       "    </tr>\n",
       "  </tbody>\n",
       "</table>\n",
       "</div>"
      ],
      "text/plain": [
       "   age     bmi  children  ...  region_northwest  region_southeast  region_southwest\n",
       "0   19  27.900         0  ...                 0                 0                 1\n",
       "1   18  33.770         1  ...                 0                 1                 0\n",
       "2   28  33.000         3  ...                 0                 1                 0\n",
       "3   33  22.705         0  ...                 1                 0                 0\n",
       "4   32  28.880         0  ...                 1                 0                 0\n",
       "\n",
       "[5 rows x 12 columns]"
      ]
     },
     "execution_count": 12,
     "metadata": {
      "tags": []
     },
     "output_type": "execute_result"
    }
   ],
   "source": [
    "data_one_hot = pd.get_dummies(data)\n",
    "data_one_hot.head()"
   ]
  },
  {
   "cell_type": "markdown",
   "metadata": {
    "id": "i_7XgdXRwk-v"
   },
   "source": [
    "#### Target and features extraction"
   ]
  },
  {
   "cell_type": "code",
   "execution_count": 14,
   "metadata": {
    "colab": {
     "base_uri": "https://localhost:8080/"
    },
    "id": "vwT3Me26x3Bg",
    "outputId": "e2bef398-fb2e-42fc-fe8c-670463cd5d83"
   },
   "outputs": [
    {
     "data": {
      "text/plain": [
       "array([16884.924 ,  1725.5523,  4449.462 , ...,  1629.8335,  2007.945 ,\n",
       "       29141.3603])"
      ]
     },
     "execution_count": 14,
     "metadata": {
      "tags": []
     },
     "output_type": "execute_result"
    }
   ],
   "source": [
    "y = data_one_hot['charges'].values\n",
    "y"
   ]
  },
  {
   "cell_type": "code",
   "execution_count": 19,
   "metadata": {
    "colab": {
     "base_uri": "https://localhost:8080/"
    },
    "id": "FkziHyljx3Ln",
    "outputId": "2f4bb4e9-7074-40ce-817d-17eb1875f432"
   },
   "outputs": [
    {
     "data": {
      "text/plain": [
       "array([[19.  , 27.9 ,  0.  , ...,  0.  ,  0.  ,  1.  ],\n",
       "       [18.  , 33.77,  1.  , ...,  0.  ,  1.  ,  0.  ],\n",
       "       [28.  , 33.  ,  3.  , ...,  0.  ,  1.  ,  0.  ],\n",
       "       ...,\n",
       "       [18.  , 36.85,  0.  , ...,  0.  ,  1.  ,  0.  ],\n",
       "       [21.  , 25.8 ,  0.  , ...,  0.  ,  0.  ,  1.  ],\n",
       "       [61.  , 29.07,  0.  , ...,  1.  ,  0.  ,  0.  ]])"
      ]
     },
     "execution_count": 19,
     "metadata": {
      "tags": []
     },
     "output_type": "execute_result"
    }
   ],
   "source": [
    "X = data_one_hot.drop(['charges'], axis=1).values\n",
    "X"
   ]
  },
  {
   "cell_type": "markdown",
   "metadata": {
    "id": "duTRMPMGx3Ok"
   },
   "source": [
    "> Data Splitting"
   ]
  },
  {
   "cell_type": "code",
   "execution_count": 20,
   "metadata": {
    "id": "rZYrt4fDx3UB"
   },
   "outputs": [],
   "source": [
    "from sklearn.model_selection import train_test_split"
   ]
  },
  {
   "cell_type": "code",
   "execution_count": 22,
   "metadata": {
    "colab": {
     "base_uri": "https://localhost:8080/"
    },
    "id": "q0HW64oCzT_Z",
    "outputId": "d593bac8-022e-4c3b-b5e0-301bd1c30641"
   },
   "outputs": [
    {
     "data": {
      "text/plain": [
       "(1338, 11)"
      ]
     },
     "execution_count": 22,
     "metadata": {
      "tags": []
     },
     "output_type": "execute_result"
    }
   ],
   "source": [
    "X.shape"
   ]
  },
  {
   "cell_type": "code",
   "execution_count": 24,
   "metadata": {
    "colab": {
     "base_uri": "https://localhost:8080/"
    },
    "id": "TeYU-b-dx3XW",
    "outputId": "bf2809d4-7112-4f1e-8f81-61176d85d4ca"
   },
   "outputs": [
    {
     "data": {
      "text/plain": [
       "((1070, 11), (268, 11), (268,), (1070,))"
      ]
     },
     "execution_count": 24,
     "metadata": {
      "tags": []
     },
     "output_type": "execute_result"
    }
   ],
   "source": [
    "X_train, X_test, y_train, y_test = train_test_split(X, y, random_state=33, test_size= .2)\n",
    "\n",
    "X_train.shape, X_test.shape, y_test.shape, y_train.shape"
   ]
  },
  {
   "cell_type": "markdown",
   "metadata": {
    "id": "JMXZdc4ax3au"
   },
   "source": [
    "> Converting numpy array to tensors"
   ]
  },
  {
   "cell_type": "code",
   "execution_count": 26,
   "metadata": {
    "colab": {
     "base_uri": "https://localhost:8080/"
    },
    "id": "RuVCRtDdwlBf",
    "outputId": "e4dbce07-e08e-4200-aa51-d2ec0e4e3232"
   },
   "outputs": [
    {
     "data": {
      "text/plain": [
       "(<tf.Tensor: shape=(1070, 11), dtype=float32, numpy=\n",
       " array([[38.   , 30.21 ,  3.   , ...,  1.   ,  0.   ,  0.   ],\n",
       "        [54.   , 39.6  ,  1.   , ...,  0.   ,  0.   ,  1.   ],\n",
       "        [39.   , 32.8  ,  0.   , ...,  0.   ,  0.   ,  1.   ],\n",
       "        ...,\n",
       "        [52.   , 30.2  ,  1.   , ...,  0.   ,  0.   ,  1.   ],\n",
       "        [19.   , 37.43 ,  0.   , ...,  1.   ,  0.   ,  0.   ],\n",
       "        [55.   , 35.245,  1.   , ...,  0.   ,  0.   ,  0.   ]],\n",
       "       dtype=float32)>, <tf.Tensor: shape=(1070,), dtype=float32, numpy=\n",
       " array([ 7537.164 , 10450.552 ,  5649.715 , ...,  9724.53  ,  2138.0708,\n",
       "        11394.065 ], dtype=float32)>)"
      ]
     },
     "execution_count": 26,
     "metadata": {
      "tags": []
     },
     "output_type": "execute_result"
    }
   ],
   "source": [
    "X_train_tensors = tf.cast(tf.convert_to_tensor(X_train), dtype=tf.float32)\n",
    "X_test_tensors = tf.cast(tf.convert_to_tensor(X_test), dtype=tf.float32)\n",
    "\n",
    "y_train_tensors = tf.cast(tf.convert_to_tensor(y_train), dtype=tf.float32)\n",
    "y_test_tensors = tf.cast(tf.convert_to_tensor(y_test), dtype=tf.float32)\n",
    "\n",
    "X_train_tensors, y_train_tensors"
   ]
  },
  {
   "cell_type": "markdown",
   "metadata": {
    "id": "d3RLeW1FuspO"
   },
   "source": [
    "#### Model Creation"
   ]
  },
  {
   "cell_type": "code",
   "execution_count": 33,
   "metadata": {
    "colab": {
     "base_uri": "https://localhost:8080/"
    },
    "id": "9y6nefQ60z7I",
    "outputId": "a5850489-6831-4c0a-aecb-d1cc16743124"
   },
   "outputs": [
    {
     "data": {
      "text/plain": [
       "11"
      ]
     },
     "execution_count": 33,
     "metadata": {
      "tags": []
     },
     "output_type": "execute_result"
    }
   ],
   "source": [
    "input_shape = X_train_tensors.shape\n",
    "input_shape[1]"
   ]
  },
  {
   "cell_type": "code",
   "execution_count": 63,
   "metadata": {
    "id": "BUBH6qKY0z-M"
   },
   "outputs": [],
   "source": [
    "model = keras.Sequential([\n",
    "      keras.layers.Dense(16, activation='relu',kernel_initializer='normal', input_shape=(11, ),),\n",
    "      keras.layers.Dense(1, kernel_initializer='normal')\n",
    "])"
   ]
  },
  {
   "cell_type": "code",
   "execution_count": 72,
   "metadata": {
    "id": "0ha9XfL100BU"
   },
   "outputs": [],
   "source": [
    "model.compile(\n",
    "    optimizer=keras.optimizers.Adam(learning_rate=0.01),\n",
    "    metrics=['mae'],\n",
    "    loss='mae'\n",
    ")"
   ]
  },
  {
   "cell_type": "code",
   "execution_count": 73,
   "metadata": {
    "colab": {
     "base_uri": "https://localhost:8080/"
    },
    "id": "eyGL8FDL00D1",
    "outputId": "0e5946a1-f908-4372-bdc3-68236576197b"
   },
   "outputs": [
    {
     "name": "stdout",
     "output_type": "stream",
     "text": [
      "Epoch 1/100\n",
      "14/14 [==============================] - 0s 12ms/step - loss: 5195.2741 - mae: 5195.2741 - val_loss: 6102.2744 - val_mae: 6102.2744\n",
      "Epoch 2/100\n",
      "14/14 [==============================] - 0s 4ms/step - loss: 5295.5709 - mae: 5295.5709 - val_loss: 6080.1685 - val_mae: 6080.1685\n",
      "Epoch 3/100\n",
      "14/14 [==============================] - 0s 4ms/step - loss: 5287.8162 - mae: 5287.8162 - val_loss: 6058.6714 - val_mae: 6058.6714\n",
      "Epoch 4/100\n",
      "14/14 [==============================] - 0s 4ms/step - loss: 5065.6715 - mae: 5065.6715 - val_loss: 6038.3623 - val_mae: 6038.3623\n",
      "Epoch 5/100\n",
      "14/14 [==============================] - 0s 4ms/step - loss: 5129.6666 - mae: 5129.6666 - val_loss: 6018.0537 - val_mae: 6018.0537\n",
      "Epoch 6/100\n",
      "14/14 [==============================] - 0s 4ms/step - loss: 5009.8249 - mae: 5009.8249 - val_loss: 5997.7935 - val_mae: 5997.7935\n",
      "Epoch 7/100\n",
      "14/14 [==============================] - 0s 5ms/step - loss: 4957.5306 - mae: 4957.5306 - val_loss: 5979.3545 - val_mae: 5979.3545\n",
      "Epoch 8/100\n",
      "14/14 [==============================] - 0s 4ms/step - loss: 5162.8937 - mae: 5162.8937 - val_loss: 5957.7256 - val_mae: 5957.7256\n",
      "Epoch 9/100\n",
      "14/14 [==============================] - 0s 4ms/step - loss: 5001.7633 - mae: 5001.7633 - val_loss: 5935.9673 - val_mae: 5935.9673\n",
      "Epoch 10/100\n",
      "14/14 [==============================] - 0s 4ms/step - loss: 5484.6368 - mae: 5484.6368 - val_loss: 5915.2173 - val_mae: 5915.2173\n",
      "Epoch 11/100\n",
      "14/14 [==============================] - 0s 4ms/step - loss: 5417.2088 - mae: 5417.2088 - val_loss: 5897.9072 - val_mae: 5897.9072\n",
      "Epoch 12/100\n",
      "14/14 [==============================] - 0s 4ms/step - loss: 4831.0900 - mae: 4831.0900 - val_loss: 5877.6660 - val_mae: 5877.6660\n",
      "Epoch 13/100\n",
      "14/14 [==============================] - 0s 4ms/step - loss: 4885.6471 - mae: 4885.6471 - val_loss: 5858.3237 - val_mae: 5858.3237\n",
      "Epoch 14/100\n",
      "14/14 [==============================] - 0s 4ms/step - loss: 4892.3767 - mae: 4892.3767 - val_loss: 5837.1489 - val_mae: 5837.1489\n",
      "Epoch 15/100\n",
      "14/14 [==============================] - 0s 4ms/step - loss: 5105.8631 - mae: 5105.8631 - val_loss: 5817.9351 - val_mae: 5817.9351\n",
      "Epoch 16/100\n",
      "14/14 [==============================] - 0s 5ms/step - loss: 5151.1579 - mae: 5151.1579 - val_loss: 5796.9038 - val_mae: 5796.9038\n",
      "Epoch 17/100\n",
      "14/14 [==============================] - 0s 4ms/step - loss: 5113.3075 - mae: 5113.3075 - val_loss: 5775.2314 - val_mae: 5775.2314\n",
      "Epoch 18/100\n",
      "14/14 [==============================] - 0s 4ms/step - loss: 5166.0244 - mae: 5166.0244 - val_loss: 5758.3770 - val_mae: 5758.3770\n",
      "Epoch 19/100\n",
      "14/14 [==============================] - 0s 4ms/step - loss: 4547.4919 - mae: 4547.4919 - val_loss: 5734.7163 - val_mae: 5734.7163\n",
      "Epoch 20/100\n",
      "14/14 [==============================] - 0s 4ms/step - loss: 4567.5467 - mae: 4567.5467 - val_loss: 5716.7998 - val_mae: 5716.7998\n",
      "Epoch 21/100\n",
      "14/14 [==============================] - 0s 4ms/step - loss: 4914.2757 - mae: 4914.2757 - val_loss: 5691.9526 - val_mae: 5691.9526\n",
      "Epoch 22/100\n",
      "14/14 [==============================] - 0s 4ms/step - loss: 4766.9261 - mae: 4766.9261 - val_loss: 5670.1675 - val_mae: 5670.1675\n",
      "Epoch 23/100\n",
      "14/14 [==============================] - 0s 4ms/step - loss: 5023.4468 - mae: 5023.4468 - val_loss: 5646.3589 - val_mae: 5646.3589\n",
      "Epoch 24/100\n",
      "14/14 [==============================] - 0s 4ms/step - loss: 4968.1549 - mae: 4968.1549 - val_loss: 5623.1646 - val_mae: 5623.1646\n",
      "Epoch 25/100\n",
      "14/14 [==============================] - 0s 4ms/step - loss: 5018.6922 - mae: 5018.6922 - val_loss: 5600.8296 - val_mae: 5600.8296\n",
      "Epoch 26/100\n",
      "14/14 [==============================] - 0s 4ms/step - loss: 4607.9407 - mae: 4607.9407 - val_loss: 5578.9106 - val_mae: 5578.9106\n",
      "Epoch 27/100\n",
      "14/14 [==============================] - 0s 4ms/step - loss: 4784.7723 - mae: 4784.7723 - val_loss: 5556.2461 - val_mae: 5556.2461\n",
      "Epoch 28/100\n",
      "14/14 [==============================] - 0s 4ms/step - loss: 4369.2218 - mae: 4369.2218 - val_loss: 5533.2729 - val_mae: 5533.2729\n",
      "Epoch 29/100\n",
      "14/14 [==============================] - 0s 4ms/step - loss: 5081.5321 - mae: 5081.5321 - val_loss: 5508.8066 - val_mae: 5508.8066\n",
      "Epoch 30/100\n",
      "14/14 [==============================] - 0s 5ms/step - loss: 4812.9804 - mae: 4812.9804 - val_loss: 5485.6040 - val_mae: 5485.6040\n",
      "Epoch 31/100\n",
      "14/14 [==============================] - 0s 4ms/step - loss: 4526.1860 - mae: 4526.1860 - val_loss: 5463.2344 - val_mae: 5463.2344\n",
      "Epoch 32/100\n",
      "14/14 [==============================] - 0s 5ms/step - loss: 4330.1480 - mae: 4330.1480 - val_loss: 5437.4829 - val_mae: 5437.4829\n",
      "Epoch 33/100\n",
      "14/14 [==============================] - 0s 4ms/step - loss: 4586.9595 - mae: 4586.9595 - val_loss: 5413.5840 - val_mae: 5413.5840\n",
      "Epoch 34/100\n",
      "14/14 [==============================] - 0s 5ms/step - loss: 4753.9652 - mae: 4753.9652 - val_loss: 5390.1538 - val_mae: 5390.1538\n",
      "Epoch 35/100\n",
      "14/14 [==============================] - 0s 4ms/step - loss: 4027.4061 - mae: 4027.4061 - val_loss: 5367.1040 - val_mae: 5367.1040\n",
      "Epoch 36/100\n",
      "14/14 [==============================] - 0s 4ms/step - loss: 4661.0143 - mae: 4661.0143 - val_loss: 5341.6821 - val_mae: 5341.6821\n",
      "Epoch 37/100\n",
      "14/14 [==============================] - 0s 4ms/step - loss: 4795.0916 - mae: 4795.0916 - val_loss: 5317.7163 - val_mae: 5317.7163\n",
      "Epoch 38/100\n",
      "14/14 [==============================] - 0s 4ms/step - loss: 4372.7847 - mae: 4372.7847 - val_loss: 5293.2241 - val_mae: 5293.2241\n",
      "Epoch 39/100\n",
      "14/14 [==============================] - 0s 4ms/step - loss: 4465.4877 - mae: 4465.4877 - val_loss: 5271.0278 - val_mae: 5271.0278\n",
      "Epoch 40/100\n",
      "14/14 [==============================] - 0s 4ms/step - loss: 4545.4827 - mae: 4545.4827 - val_loss: 5244.2676 - val_mae: 5244.2676\n",
      "Epoch 41/100\n",
      "14/14 [==============================] - 0s 4ms/step - loss: 4303.6025 - mae: 4303.6025 - val_loss: 5220.4731 - val_mae: 5220.4731\n",
      "Epoch 42/100\n",
      "14/14 [==============================] - 0s 4ms/step - loss: 4716.2734 - mae: 4716.2734 - val_loss: 5197.4185 - val_mae: 5197.4185\n",
      "Epoch 43/100\n",
      "14/14 [==============================] - 0s 4ms/step - loss: 4592.1145 - mae: 4592.1145 - val_loss: 5172.4229 - val_mae: 5172.4229\n",
      "Epoch 44/100\n",
      "14/14 [==============================] - 0s 4ms/step - loss: 4403.3319 - mae: 4403.3319 - val_loss: 5148.8784 - val_mae: 5148.8784\n",
      "Epoch 45/100\n",
      "14/14 [==============================] - 0s 5ms/step - loss: 4367.0903 - mae: 4367.0903 - val_loss: 5128.1992 - val_mae: 5128.1992\n",
      "Epoch 46/100\n",
      "14/14 [==============================] - 0s 4ms/step - loss: 4551.2030 - mae: 4551.2030 - val_loss: 5104.9648 - val_mae: 5104.9648\n",
      "Epoch 47/100\n",
      "14/14 [==============================] - 0s 4ms/step - loss: 4484.2853 - mae: 4484.2853 - val_loss: 5077.1489 - val_mae: 5077.1489\n",
      "Epoch 48/100\n",
      "14/14 [==============================] - 0s 5ms/step - loss: 4546.2478 - mae: 4546.2478 - val_loss: 5054.6074 - val_mae: 5054.6074\n",
      "Epoch 49/100\n",
      "14/14 [==============================] - 0s 4ms/step - loss: 4370.5616 - mae: 4370.5616 - val_loss: 5031.2759 - val_mae: 5031.2759\n",
      "Epoch 50/100\n",
      "14/14 [==============================] - 0s 4ms/step - loss: 4202.8705 - mae: 4202.8705 - val_loss: 5007.9160 - val_mae: 5007.9160\n",
      "Epoch 51/100\n",
      "14/14 [==============================] - 0s 4ms/step - loss: 3981.6603 - mae: 3981.6603 - val_loss: 4984.7686 - val_mae: 4984.7686\n",
      "Epoch 52/100\n",
      "14/14 [==============================] - 0s 4ms/step - loss: 4066.6639 - mae: 4066.6639 - val_loss: 4959.7734 - val_mae: 4959.7734\n",
      "Epoch 53/100\n",
      "14/14 [==============================] - 0s 4ms/step - loss: 4419.1623 - mae: 4419.1623 - val_loss: 4936.8237 - val_mae: 4936.8237\n",
      "Epoch 54/100\n",
      "14/14 [==============================] - 0s 4ms/step - loss: 4464.6795 - mae: 4464.6795 - val_loss: 4915.1567 - val_mae: 4915.1567\n",
      "Epoch 55/100\n",
      "14/14 [==============================] - 0s 4ms/step - loss: 4104.1659 - mae: 4104.1659 - val_loss: 4894.0645 - val_mae: 4894.0645\n",
      "Epoch 56/100\n",
      "14/14 [==============================] - 0s 4ms/step - loss: 4241.6123 - mae: 4241.6123 - val_loss: 4871.3843 - val_mae: 4871.3843\n",
      "Epoch 57/100\n",
      "14/14 [==============================] - 0s 4ms/step - loss: 4107.7745 - mae: 4107.7745 - val_loss: 4847.0781 - val_mae: 4847.0781\n",
      "Epoch 58/100\n",
      "14/14 [==============================] - 0s 4ms/step - loss: 4272.5619 - mae: 4272.5619 - val_loss: 4824.8804 - val_mae: 4824.8804\n",
      "Epoch 59/100\n",
      "14/14 [==============================] - 0s 4ms/step - loss: 4137.0954 - mae: 4137.0954 - val_loss: 4802.9834 - val_mae: 4802.9834\n",
      "Epoch 60/100\n",
      "14/14 [==============================] - 0s 4ms/step - loss: 4500.5897 - mae: 4500.5897 - val_loss: 4785.7988 - val_mae: 4785.7988\n",
      "Epoch 61/100\n",
      "14/14 [==============================] - 0s 4ms/step - loss: 3877.8799 - mae: 3877.8799 - val_loss: 4757.0117 - val_mae: 4757.0117\n",
      "Epoch 62/100\n",
      "14/14 [==============================] - 0s 4ms/step - loss: 4145.0480 - mae: 4145.0480 - val_loss: 4732.9746 - val_mae: 4732.9746\n",
      "Epoch 63/100\n",
      "14/14 [==============================] - 0s 4ms/step - loss: 3959.4363 - mae: 3959.4363 - val_loss: 4710.9253 - val_mae: 4710.9253\n",
      "Epoch 64/100\n",
      "14/14 [==============================] - 0s 4ms/step - loss: 3782.6208 - mae: 3782.6208 - val_loss: 4687.9717 - val_mae: 4687.9717\n",
      "Epoch 65/100\n",
      "14/14 [==============================] - 0s 5ms/step - loss: 4329.6396 - mae: 4329.6396 - val_loss: 4668.9854 - val_mae: 4668.9854\n",
      "Epoch 66/100\n",
      "14/14 [==============================] - 0s 4ms/step - loss: 4002.4676 - mae: 4002.4676 - val_loss: 4644.7827 - val_mae: 4644.7827\n",
      "Epoch 67/100\n",
      "14/14 [==============================] - 0s 4ms/step - loss: 4031.7868 - mae: 4031.7868 - val_loss: 4623.2554 - val_mae: 4623.2554\n",
      "Epoch 68/100\n",
      "14/14 [==============================] - 0s 4ms/step - loss: 3910.2649 - mae: 3910.2649 - val_loss: 4606.1240 - val_mae: 4606.1240\n",
      "Epoch 69/100\n",
      "14/14 [==============================] - 0s 5ms/step - loss: 3974.0811 - mae: 3974.0811 - val_loss: 4584.7729 - val_mae: 4584.7729\n",
      "Epoch 70/100\n",
      "14/14 [==============================] - 0s 4ms/step - loss: 3811.0024 - mae: 3811.0024 - val_loss: 4565.7397 - val_mae: 4565.7397\n",
      "Epoch 71/100\n",
      "14/14 [==============================] - 0s 4ms/step - loss: 3774.0956 - mae: 3774.0956 - val_loss: 4549.6108 - val_mae: 4549.6108\n",
      "Epoch 72/100\n",
      "14/14 [==============================] - 0s 4ms/step - loss: 3614.8202 - mae: 3614.8202 - val_loss: 4531.1792 - val_mae: 4531.1792\n",
      "Epoch 73/100\n",
      "14/14 [==============================] - 0s 4ms/step - loss: 3514.9083 - mae: 3514.9083 - val_loss: 4514.7319 - val_mae: 4514.7319\n",
      "Epoch 74/100\n",
      "14/14 [==============================] - 0s 4ms/step - loss: 3729.6656 - mae: 3729.6656 - val_loss: 4501.1660 - val_mae: 4501.1660\n",
      "Epoch 75/100\n",
      "14/14 [==============================] - 0s 4ms/step - loss: 4075.0357 - mae: 4075.0357 - val_loss: 4480.5884 - val_mae: 4480.5884\n",
      "Epoch 76/100\n",
      "14/14 [==============================] - 0s 4ms/step - loss: 3452.1020 - mae: 3452.1020 - val_loss: 4465.1948 - val_mae: 4465.1948\n",
      "Epoch 77/100\n",
      "14/14 [==============================] - 0s 4ms/step - loss: 3767.7655 - mae: 3767.7655 - val_loss: 4448.1567 - val_mae: 4448.1567\n",
      "Epoch 78/100\n",
      "14/14 [==============================] - 0s 4ms/step - loss: 3785.4864 - mae: 3785.4864 - val_loss: 4433.3340 - val_mae: 4433.3340\n",
      "Epoch 79/100\n",
      "14/14 [==============================] - 0s 4ms/step - loss: 3730.1733 - mae: 3730.1733 - val_loss: 4418.5200 - val_mae: 4418.5200\n",
      "Epoch 80/100\n",
      "14/14 [==============================] - 0s 4ms/step - loss: 3629.9440 - mae: 3629.9440 - val_loss: 4401.9976 - val_mae: 4401.9976\n",
      "Epoch 81/100\n",
      "14/14 [==============================] - 0s 5ms/step - loss: 4141.6919 - mae: 4141.6919 - val_loss: 4397.0278 - val_mae: 4397.0278\n",
      "Epoch 82/100\n",
      "14/14 [==============================] - 0s 4ms/step - loss: 3713.7601 - mae: 3713.7601 - val_loss: 4376.8369 - val_mae: 4376.8369\n",
      "Epoch 83/100\n",
      "14/14 [==============================] - 0s 4ms/step - loss: 3563.0917 - mae: 3563.0917 - val_loss: 4364.6968 - val_mae: 4364.6968\n",
      "Epoch 84/100\n",
      "14/14 [==============================] - 0s 4ms/step - loss: 3590.9394 - mae: 3590.9394 - val_loss: 4351.9858 - val_mae: 4351.9858\n",
      "Epoch 85/100\n",
      "14/14 [==============================] - 0s 4ms/step - loss: 3699.3082 - mae: 3699.3082 - val_loss: 4340.5801 - val_mae: 4340.5801\n",
      "Epoch 86/100\n",
      "14/14 [==============================] - 0s 4ms/step - loss: 3917.3203 - mae: 3917.3203 - val_loss: 4332.4053 - val_mae: 4332.4053\n",
      "Epoch 87/100\n",
      "14/14 [==============================] - 0s 4ms/step - loss: 3531.9809 - mae: 3531.9809 - val_loss: 4327.2295 - val_mae: 4327.2295\n",
      "Epoch 88/100\n",
      "14/14 [==============================] - 0s 4ms/step - loss: 3504.0110 - mae: 3504.0110 - val_loss: 4315.7534 - val_mae: 4315.7534\n",
      "Epoch 89/100\n",
      "14/14 [==============================] - 0s 4ms/step - loss: 3696.7816 - mae: 3696.7816 - val_loss: 4312.2969 - val_mae: 4312.2969\n",
      "Epoch 90/100\n",
      "14/14 [==============================] - 0s 4ms/step - loss: 3910.3325 - mae: 3910.3325 - val_loss: 4298.0122 - val_mae: 4298.0122\n",
      "Epoch 91/100\n",
      "14/14 [==============================] - 0s 4ms/step - loss: 3663.9549 - mae: 3663.9549 - val_loss: 4294.0854 - val_mae: 4294.0854\n",
      "Epoch 92/100\n",
      "14/14 [==============================] - 0s 4ms/step - loss: 3783.6589 - mae: 3783.6589 - val_loss: 4287.5723 - val_mae: 4287.5723\n",
      "Epoch 93/100\n",
      "14/14 [==============================] - 0s 4ms/step - loss: 3635.3521 - mae: 3635.3521 - val_loss: 4281.9365 - val_mae: 4281.9365\n",
      "Epoch 94/100\n",
      "14/14 [==============================] - 0s 4ms/step - loss: 3534.5375 - mae: 3534.5375 - val_loss: 4285.7954 - val_mae: 4285.7954\n",
      "Epoch 95/100\n",
      "14/14 [==============================] - 0s 4ms/step - loss: 3723.2368 - mae: 3723.2368 - val_loss: 4264.5439 - val_mae: 4264.5439\n",
      "Epoch 96/100\n",
      "14/14 [==============================] - 0s 5ms/step - loss: 3729.9192 - mae: 3729.9192 - val_loss: 4286.3394 - val_mae: 4286.3394\n",
      "Epoch 97/100\n",
      "14/14 [==============================] - 0s 4ms/step - loss: 3867.9320 - mae: 3867.9320 - val_loss: 4252.7349 - val_mae: 4252.7349\n",
      "Epoch 98/100\n",
      "14/14 [==============================] - 0s 4ms/step - loss: 3888.9943 - mae: 3888.9943 - val_loss: 4247.2397 - val_mae: 4247.2397\n",
      "Epoch 99/100\n",
      "14/14 [==============================] - 0s 5ms/step - loss: 3986.4103 - mae: 3986.4103 - val_loss: 4241.0181 - val_mae: 4241.0181\n",
      "Epoch 100/100\n",
      "14/14 [==============================] - 0s 5ms/step - loss: 3277.3016 - mae: 3277.3016 - val_loss: 4236.1211 - val_mae: 4236.1211\n"
     ]
    }
   ],
   "source": [
    "EPOCHS = 100\n",
    "BATCH_SIZE = 64\n",
    "VERBOSE =1\n",
    "VAL_SPLIT =.2\n",
    "\n",
    "history = model.fit(X_train_tensors, y_train_tensors, BATCH_SIZE, EPOCHS, VERBOSE, validation_split=VAL_SPLIT)"
   ]
  },
  {
   "cell_type": "markdown",
   "metadata": {
    "id": "NC6G4esN00HU"
   },
   "source": [
    "### Evaluating the Model"
   ]
  },
  {
   "cell_type": "code",
   "execution_count": 74,
   "metadata": {
    "colab": {
     "base_uri": "https://localhost:8080/"
    },
    "id": "JC2AM55R00JV",
    "outputId": "87a0dd0e-04c0-4654-c0a7-389ec535f228"
   },
   "outputs": [
    {
     "name": "stdout",
     "output_type": "stream",
     "text": [
      "9/9 [==============================] - 0s 2ms/step - loss: 3306.6619 - mae: 3306.6619\n"
     ]
    },
    {
     "data": {
      "text/plain": [
       "[3306.661865234375, 3306.661865234375]"
      ]
     },
     "execution_count": 74,
     "metadata": {
      "tags": []
     },
     "output_type": "execute_result"
    }
   ],
   "source": [
    "model.evaluate(X_test_tensors, y_test_tensors, verbose=1)"
   ]
  },
  {
   "cell_type": "markdown",
   "metadata": {
    "id": "m_3k55Sl4mdY"
   },
   "source": [
    "### Getting the model summary"
   ]
  },
  {
   "cell_type": "code",
   "execution_count": 61,
   "metadata": {
    "colab": {
     "base_uri": "https://localhost:8080/"
    },
    "id": "dDiZEgni42ty",
    "outputId": "8ed26882-49d6-437f-9cd9-0c176250b529"
   },
   "outputs": [
    {
     "name": "stdout",
     "output_type": "stream",
     "text": [
      "Model: \"sequential_7\"\n",
      "_________________________________________________________________\n",
      "Layer (type)                 Output Shape              Param #   \n",
      "=================================================================\n",
      "dense_16 (Dense)             (None, 16)                192       \n",
      "_________________________________________________________________\n",
      "dense_17 (Dense)             (None, 1)                 17        \n",
      "=================================================================\n",
      "Total params: 209\n",
      "Trainable params: 209\n",
      "Non-trainable params: 0\n",
      "_________________________________________________________________\n"
     ]
    }
   ],
   "source": [
    "model.summary()"
   ]
  },
  {
   "cell_type": "markdown",
   "metadata": {
    "id": "LfHFKwYm4mob"
   },
   "source": [
    "### Making Predictions"
   ]
  },
  {
   "cell_type": "code",
   "execution_count": 75,
   "metadata": {
    "colab": {
     "base_uri": "https://localhost:8080/"
    },
    "id": "lRuwmS0Y4_bi",
    "outputId": "fb86ea1b-065b-4cad-ae03-08612ebd91bc"
   },
   "outputs": [
    {
     "name": "stdout",
     "output_type": "stream",
     "text": [
      "WARNING:tensorflow:6 out of the last 6 calls to <function Model.make_predict_function.<locals>.predict_function at 0x7f87ea07ce60> triggered tf.function retracing. Tracing is expensive and the excessive number of tracings could be due to (1) creating @tf.function repeatedly in a loop, (2) passing tensors with different shapes, (3) passing Python objects instead of tensors. For (1), please define your @tf.function outside of the loop. For (2), @tf.function has experimental_relax_shapes=True option that relaxes argument shapes that can avoid unnecessary retracing. For (3), please refer to https://www.tensorflow.org/guide/function#controlling_retracing and https://www.tensorflow.org/api_docs/python/tf/function for  more details.\n"
     ]
    },
    {
     "data": {
      "text/plain": [
       "(array([[1395.5363],\n",
       "        [3077.359 ]], dtype=float32),\n",
       " <tf.Tensor: shape=(2,), dtype=float32, numpy=array([ 1136.3994, 24059.68  ], dtype=float32)>)"
      ]
     },
     "execution_count": 75,
     "metadata": {
      "tags": []
     },
     "output_type": "execute_result"
    }
   ],
   "source": [
    "model.predict(X_test_tensors[:2]), y_test_tensors[:2]"
   ]
  },
  {
   "cell_type": "markdown",
   "metadata": {
    "id": "JFc-gaAi5Flb"
   },
   "source": [
    "### Plotting the Model History"
   ]
  },
  {
   "cell_type": "code",
   "execution_count": 81,
   "metadata": {
    "colab": {
     "base_uri": "https://localhost:8080/",
     "height": 283
    },
    "id": "ze_4ufKC5NpY",
    "outputId": "54816abb-8057-413a-f994-f2911d91d7b9"
   },
   "outputs": [
    {
     "data": {
      "image/png": "[encoded data removed]",
      "text/plain": [
       "<Figure size 432x288 with 1 Axes>"
      ]
     },
     "metadata": {
      "needs_background": "light",
      "tags": []
     },
     "output_type": "display_data"
    }
   ],
   "source": [
    "def plotHistory(history):\n",
    "    x = tf.constant([i+1 for i in range(EPOCHS)])\n",
    "    \n",
    "    plt.title(\"History\", fontsize=16, fontweight='bold')\n",
    "    plt.plot(x, history[\"loss\"], label='loss')\n",
    "    plt.plot(x, history[\"val_loss\"], label='val_loss')\n",
    "    \n",
    "    plt.plot(x, history[\"mae\"], label='mae')\n",
    "    plt.plot(x, history[\"val_mae\"], label='val_mae')\n",
    "    \n",
    "    plt.legend()\n",
    "    plt.show()\n",
    "plotHistory(history.history)"
   ]
  },
  {
   "cell_type": "markdown",
   "metadata": {
    "id": "sk10NEn46amG"
   },
   "source": [
    "### Downloading the notebook"
   ]
  },
  {
   "cell_type": "code",
   "execution_count": 85,
   "metadata": {
    "id": "EsA0vT737bWq"
   },
   "outputs": [],
   "source": [
    "from google.colab import files\n",
    "\n",
    "files.download('__path__')"
   ]
  },
  {
   "cell_type": "code",
   "execution_count": null,
   "metadata": {
    "id": "cf43xJV97ftK"
   },
   "outputs": [],
   "source": []
  }
 ],
 "metadata": {
  "accelerator": "GPU",
  "colab": {
   "collapsed_sections": [],
   "name": "01_Medical_Cost_Regreession_Problem.ipynb",
   "provenance": []
  },
  "kernelspec": {
   "display_name": "Python 3",
   "language": "python",
   "name": "python3"
  },
  "language_info": {
   "codemirror_mode": {
    "name": "ipython",
    "version": 3
   },
   "file_extension": ".py",
   "mimetype": "text/x-python",
   "name": "python",
   "nbconvert_exporter": "python",
   "pygments_lexer": "ipython3",
   "version": "3.8.5"
  }
 },
 "nbformat": 4,
 "nbformat_minor": 1
}
