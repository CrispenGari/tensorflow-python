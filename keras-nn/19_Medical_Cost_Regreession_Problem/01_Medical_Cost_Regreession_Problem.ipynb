{
 "cells": [
  {
   "cell_type": "markdown",
   "metadata": {
    "id": "sB5xQt19uCUv"
   },
   "source": [
    "## Medical_Cost_Regreession_Problem\n",
    "\n",
    "Predicting the medical cost based on som independent variables using the [Medical Cost Personal Datasets](https://www.kaggle.com/mirichoi0218/insurance?select=insurance.csv) dataset from Kaggle"
   ]
  },
  {
   "cell_type": "markdown",
   "metadata": {
    "id": "aOlhWNkDwbgt"
   },
   "source": [
    "### Imports"
   ]
  },
  {
   "cell_type": "code",
   "execution_count": 1,
   "metadata": {
    "id": "fg7-vJyguNlH"
   },
   "outputs": [],
   "source": [
    "import tensorflow as tf\n",
    "from tensorflow import keras\n",
    "import pandas as pd\n",
    "import matplotlib.pyplot as plt\n",
    "import seaborn as sns"
   ]
  },
  {
   "cell_type": "markdown",
   "metadata": {
    "id": "NeSSLH7luof9"
   },
   "source": [
    "#### Data Preparation"
   ]
  },
  {
   "cell_type": "code",
   "execution_count": 2,
   "metadata": {
    "id": "gmJb6Q59ur7Y"
   },
   "outputs": [],
   "source": [
    "url = 'https://raw.githubusercontent.com/stedy/Machine-Learning-with-R-datasets/master/insurance.csv'"
   ]
  },
  {
   "cell_type": "code",
   "execution_count": 3,
   "metadata": {
    "colab": {
     "base_uri": "https://localhost:8080/",
     "height": 204
    },
    "id": "pz3TqkOfu1Rc",
    "outputId": "a96e9cef-c157-4519-ccc2-455bdfd71bf5"
   },
   "outputs": [
    {
     "data": {
      "text/html": [
       "<div>\n",
       "<style scoped>\n",
       "    .dataframe tbody tr th:only-of-type {\n",
       "        vertical-align: middle;\n",
       "    }\n",
       "\n",
       "    .dataframe tbody tr th {\n",
       "        vertical-align: top;\n",
       "    }\n",
       "\n",
       "    .dataframe thead th {\n",
       "        text-align: right;\n",
       "    }\n",
       "</style>\n",
       "<table border=\"1\" class=\"dataframe\">\n",
       "  <thead>\n",
       "    <tr style=\"text-align: right;\">\n",
       "      <th></th>\n",
       "      <th>age</th>\n",
       "      <th>sex</th>\n",
       "      <th>bmi</th>\n",
       "      <th>children</th>\n",
       "      <th>smoker</th>\n",
       "      <th>region</th>\n",
       "      <th>charges</th>\n",
       "    </tr>\n",
       "  </thead>\n",
       "  <tbody>\n",
       "    <tr>\n",
       "      <th>0</th>\n",
       "      <td>19</td>\n",
       "      <td>female</td>\n",
       "      <td>27.900</td>\n",
       "      <td>0</td>\n",
       "      <td>yes</td>\n",
       "      <td>southwest</td>\n",
       "      <td>16884.92400</td>\n",
       "    </tr>\n",
       "    <tr>\n",
       "      <th>1</th>\n",
       "      <td>18</td>\n",
       "      <td>male</td>\n",
       "      <td>33.770</td>\n",
       "      <td>1</td>\n",
       "      <td>no</td>\n",
       "      <td>southeast</td>\n",
       "      <td>1725.55230</td>\n",
       "    </tr>\n",
       "    <tr>\n",
       "      <th>2</th>\n",
       "      <td>28</td>\n",
       "      <td>male</td>\n",
       "      <td>33.000</td>\n",
       "      <td>3</td>\n",
       "      <td>no</td>\n",
       "      <td>southeast</td>\n",
       "      <td>4449.46200</td>\n",
       "    </tr>\n",
       "    <tr>\n",
       "      <th>3</th>\n",
       "      <td>33</td>\n",
       "      <td>male</td>\n",
       "      <td>22.705</td>\n",
       "      <td>0</td>\n",
       "      <td>no</td>\n",
       "      <td>northwest</td>\n",
       "      <td>21984.47061</td>\n",
       "    </tr>\n",
       "    <tr>\n",
       "      <th>4</th>\n",
       "      <td>32</td>\n",
       "      <td>male</td>\n",
       "      <td>28.880</td>\n",
       "      <td>0</td>\n",
       "      <td>no</td>\n",
       "      <td>northwest</td>\n",
       "      <td>3866.85520</td>\n",
       "    </tr>\n",
       "  </tbody>\n",
       "</table>\n",
       "</div>"
      ],
      "text/plain": [
       "   age     sex     bmi  children smoker     region      charges\n",
       "0   19  female  27.900         0    yes  southwest  16884.92400\n",
       "1   18    male  33.770         1     no  southeast   1725.55230\n",
       "2   28    male  33.000         3     no  southeast   4449.46200\n",
       "3   33    male  22.705         0     no  northwest  21984.47061\n",
       "4   32    male  28.880         0     no  northwest   3866.85520"
      ]
     },
     "execution_count": 3,
     "metadata": {},
     "output_type": "execute_result"
    }
   ],
   "source": [
    "data = pd.read_csv(url)\n",
    "data.head()"
   ]
  },
  {
   "cell_type": "code",
   "execution_count": 4,
   "metadata": {
    "colab": {
     "base_uri": "https://localhost:8080/"
    },
    "id": "hK3jebt6wkwc",
    "outputId": "e4429ae1-9234-49c2-8c45-2fe296118759"
   },
   "outputs": [
    {
     "data": {
      "text/plain": [
       "array(['southwest', 'southeast', 'northwest', 'northeast'], dtype=object)"
      ]
     },
     "execution_count": 4,
     "metadata": {},
     "output_type": "execute_result"
    }
   ],
   "source": [
    "data[\"region\"].unique()"
   ]
  },
  {
   "cell_type": "code",
   "execution_count": 5,
   "metadata": {
    "colab": {
     "base_uri": "https://localhost:8080/"
    },
    "id": "-9hvgN28wkzk",
    "outputId": "d8e42269-0c0b-4255-b4f6-3bd4bdd5ec75"
   },
   "outputs": [
    {
     "data": {
      "text/plain": [
       "array(['female', 'male'], dtype=object)"
      ]
     },
     "execution_count": 5,
     "metadata": {},
     "output_type": "execute_result"
    }
   ],
   "source": [
    "data[\"sex\"].unique()"
   ]
  },
  {
   "cell_type": "markdown",
   "metadata": {
    "id": "bdjbbQEBwk4u"
   },
   "source": [
    "### Converting some columns in one_hot_encoded_vects\n",
    "* **sex** - should be converted to number\n",
    "* **smoker column** - should be converted to one hot encording\n",
    "* **region** - should be converted to one hot "
   ]
  },
  {
   "cell_type": "code",
   "execution_count": 6,
   "metadata": {
    "colab": {
     "base_uri": "https://localhost:8080/",
     "height": 204
    },
    "id": "VxtzNkgVwk7u",
    "outputId": "caff48bd-6c7f-4105-cd1a-dbe522abe067"
   },
   "outputs": [
    {
     "data": {
      "text/html": [
       "<div>\n",
       "<style scoped>\n",
       "    .dataframe tbody tr th:only-of-type {\n",
       "        vertical-align: middle;\n",
       "    }\n",
       "\n",
       "    .dataframe tbody tr th {\n",
       "        vertical-align: top;\n",
       "    }\n",
       "\n",
       "    .dataframe thead th {\n",
       "        text-align: right;\n",
       "    }\n",
       "</style>\n",
       "<table border=\"1\" class=\"dataframe\">\n",
       "  <thead>\n",
       "    <tr style=\"text-align: right;\">\n",
       "      <th></th>\n",
       "      <th>age</th>\n",
       "      <th>bmi</th>\n",
       "      <th>children</th>\n",
       "      <th>charges</th>\n",
       "      <th>sex_female</th>\n",
       "      <th>sex_male</th>\n",
       "      <th>smoker_no</th>\n",
       "      <th>smoker_yes</th>\n",
       "      <th>region_northeast</th>\n",
       "      <th>region_northwest</th>\n",
       "      <th>region_southeast</th>\n",
       "      <th>region_southwest</th>\n",
       "    </tr>\n",
       "  </thead>\n",
       "  <tbody>\n",
       "    <tr>\n",
       "      <th>0</th>\n",
       "      <td>19</td>\n",
       "      <td>27.900</td>\n",
       "      <td>0</td>\n",
       "      <td>16884.92400</td>\n",
       "      <td>1</td>\n",
       "      <td>0</td>\n",
       "      <td>0</td>\n",
       "      <td>1</td>\n",
       "      <td>0</td>\n",
       "      <td>0</td>\n",
       "      <td>0</td>\n",
       "      <td>1</td>\n",
       "    </tr>\n",
       "    <tr>\n",
       "      <th>1</th>\n",
       "      <td>18</td>\n",
       "      <td>33.770</td>\n",
       "      <td>1</td>\n",
       "      <td>1725.55230</td>\n",
       "      <td>0</td>\n",
       "      <td>1</td>\n",
       "      <td>1</td>\n",
       "      <td>0</td>\n",
       "      <td>0</td>\n",
       "      <td>0</td>\n",
       "      <td>1</td>\n",
       "      <td>0</td>\n",
       "    </tr>\n",
       "    <tr>\n",
       "      <th>2</th>\n",
       "      <td>28</td>\n",
       "      <td>33.000</td>\n",
       "      <td>3</td>\n",
       "      <td>4449.46200</td>\n",
       "      <td>0</td>\n",
       "      <td>1</td>\n",
       "      <td>1</td>\n",
       "      <td>0</td>\n",
       "      <td>0</td>\n",
       "      <td>0</td>\n",
       "      <td>1</td>\n",
       "      <td>0</td>\n",
       "    </tr>\n",
       "    <tr>\n",
       "      <th>3</th>\n",
       "      <td>33</td>\n",
       "      <td>22.705</td>\n",
       "      <td>0</td>\n",
       "      <td>21984.47061</td>\n",
       "      <td>0</td>\n",
       "      <td>1</td>\n",
       "      <td>1</td>\n",
       "      <td>0</td>\n",
       "      <td>0</td>\n",
       "      <td>1</td>\n",
       "      <td>0</td>\n",
       "      <td>0</td>\n",
       "    </tr>\n",
       "    <tr>\n",
       "      <th>4</th>\n",
       "      <td>32</td>\n",
       "      <td>28.880</td>\n",
       "      <td>0</td>\n",
       "      <td>3866.85520</td>\n",
       "      <td>0</td>\n",
       "      <td>1</td>\n",
       "      <td>1</td>\n",
       "      <td>0</td>\n",
       "      <td>0</td>\n",
       "      <td>1</td>\n",
       "      <td>0</td>\n",
       "      <td>0</td>\n",
       "    </tr>\n",
       "  </tbody>\n",
       "</table>\n",
       "</div>"
      ],
      "text/plain": [
       "   age     bmi  children      charges  sex_female  sex_male  smoker_no  \\\n",
       "0   19  27.900         0  16884.92400           1         0          0   \n",
       "1   18  33.770         1   1725.55230           0         1          1   \n",
       "2   28  33.000         3   4449.46200           0         1          1   \n",
       "3   33  22.705         0  21984.47061           0         1          1   \n",
       "4   32  28.880         0   3866.85520           0         1          1   \n",
       "\n",
       "   smoker_yes  region_northeast  region_northwest  region_southeast  \\\n",
       "0           1                 0                 0                 0   \n",
       "1           0                 0                 0                 1   \n",
       "2           0                 0                 0                 1   \n",
       "3           0                 0                 1                 0   \n",
       "4           0                 0                 1                 0   \n",
       "\n",
       "   region_southwest  \n",
       "0                 1  \n",
       "1                 0  \n",
       "2                 0  \n",
       "3                 0  \n",
       "4                 0  "
      ]
     },
     "execution_count": 6,
     "metadata": {},
     "output_type": "execute_result"
    }
   ],
   "source": [
    "data_one_hot = pd.get_dummies(data)\n",
    "data_one_hot.head()"
   ]
  },
  {
   "cell_type": "markdown",
   "metadata": {
    "id": "i_7XgdXRwk-v"
   },
   "source": [
    "#### Target and features extraction"
   ]
  },
  {
   "cell_type": "code",
   "execution_count": 7,
   "metadata": {
    "colab": {
     "base_uri": "https://localhost:8080/"
    },
    "id": "vwT3Me26x3Bg",
    "outputId": "e2bef398-fb2e-42fc-fe8c-670463cd5d83"
   },
   "outputs": [
    {
     "data": {
      "text/plain": [
       "array([16884.924 ,  1725.5523,  4449.462 , ...,  1629.8335,  2007.945 ,\n",
       "       29141.3603])"
      ]
     },
     "execution_count": 7,
     "metadata": {},
     "output_type": "execute_result"
    }
   ],
   "source": [
    "y = data_one_hot['charges'].values\n",
    "y"
   ]
  },
  {
   "cell_type": "code",
   "execution_count": 8,
   "metadata": {
    "colab": {
     "base_uri": "https://localhost:8080/"
    },
    "id": "FkziHyljx3Ln",
    "outputId": "2f4bb4e9-7074-40ce-817d-17eb1875f432"
   },
   "outputs": [
    {
     "data": {
      "text/plain": [
       "array([[19.  , 27.9 ,  0.  , ...,  0.  ,  0.  ,  1.  ],\n",
       "       [18.  , 33.77,  1.  , ...,  0.  ,  1.  ,  0.  ],\n",
       "       [28.  , 33.  ,  3.  , ...,  0.  ,  1.  ,  0.  ],\n",
       "       ...,\n",
       "       [18.  , 36.85,  0.  , ...,  0.  ,  1.  ,  0.  ],\n",
       "       [21.  , 25.8 ,  0.  , ...,  0.  ,  0.  ,  1.  ],\n",
       "       [61.  , 29.07,  0.  , ...,  1.  ,  0.  ,  0.  ]])"
      ]
     },
     "execution_count": 8,
     "metadata": {},
     "output_type": "execute_result"
    }
   ],
   "source": [
    "X = data_one_hot.drop(['charges'], axis=1).values\n",
    "X"
   ]
  },
  {
   "cell_type": "markdown",
   "metadata": {
    "id": "duTRMPMGx3Ok"
   },
   "source": [
    "> Data Splitting"
   ]
  },
  {
   "cell_type": "code",
   "execution_count": 9,
   "metadata": {
    "id": "rZYrt4fDx3UB"
   },
   "outputs": [],
   "source": [
    "from sklearn.model_selection import train_test_split"
   ]
  },
  {
   "cell_type": "code",
   "execution_count": 10,
   "metadata": {
    "colab": {
     "base_uri": "https://localhost:8080/"
    },
    "id": "q0HW64oCzT_Z",
    "outputId": "d593bac8-022e-4c3b-b5e0-301bd1c30641"
   },
   "outputs": [
    {
     "data": {
      "text/plain": [
       "(1338, 11)"
      ]
     },
     "execution_count": 10,
     "metadata": {},
     "output_type": "execute_result"
    }
   ],
   "source": [
    "X.shape"
   ]
  },
  {
   "cell_type": "code",
   "execution_count": 11,
   "metadata": {
    "colab": {
     "base_uri": "https://localhost:8080/"
    },
    "id": "TeYU-b-dx3XW",
    "outputId": "bf2809d4-7112-4f1e-8f81-61176d85d4ca"
   },
   "outputs": [
    {
     "data": {
      "text/plain": [
       "((1070, 11), (268, 11), (268,), (1070,))"
      ]
     },
     "execution_count": 11,
     "metadata": {},
     "output_type": "execute_result"
    }
   ],
   "source": [
    "X_train, X_test, y_train, y_test = train_test_split(X, y, random_state=33, test_size= .2)\n",
    "\n",
    "X_train.shape, X_test.shape, y_test.shape, y_train.shape"
   ]
  },
  {
   "cell_type": "markdown",
   "metadata": {
    "id": "JMXZdc4ax3au"
   },
   "source": [
    "> Converting numpy array to tensors"
   ]
  },
  {
   "cell_type": "code",
   "execution_count": 12,
   "metadata": {
    "colab": {
     "base_uri": "https://localhost:8080/"
    },
    "id": "RuVCRtDdwlBf",
    "outputId": "e4dbce07-e08e-4200-aa51-d2ec0e4e3232"
   },
   "outputs": [
    {
     "data": {
      "text/plain": [
       "(<tf.Tensor: shape=(1070, 11), dtype=float32, numpy=\n",
       " array([[38.   , 30.21 ,  3.   , ...,  1.   ,  0.   ,  0.   ],\n",
       "        [54.   , 39.6  ,  1.   , ...,  0.   ,  0.   ,  1.   ],\n",
       "        [39.   , 32.8  ,  0.   , ...,  0.   ,  0.   ,  1.   ],\n",
       "        ...,\n",
       "        [52.   , 30.2  ,  1.   , ...,  0.   ,  0.   ,  1.   ],\n",
       "        [19.   , 37.43 ,  0.   , ...,  1.   ,  0.   ,  0.   ],\n",
       "        [55.   , 35.245,  1.   , ...,  0.   ,  0.   ,  0.   ]],\n",
       "       dtype=float32)>,\n",
       " <tf.Tensor: shape=(1070,), dtype=float32, numpy=\n",
       " array([ 7537.164 , 10450.552 ,  5649.715 , ...,  9724.53  ,  2138.0708,\n",
       "        11394.065 ], dtype=float32)>)"
      ]
     },
     "execution_count": 12,
     "metadata": {},
     "output_type": "execute_result"
    }
   ],
   "source": [
    "X_train_tensors = tf.cast(tf.convert_to_tensor(X_train), dtype=tf.float32)\n",
    "X_test_tensors = tf.cast(tf.convert_to_tensor(X_test), dtype=tf.float32)\n",
    "\n",
    "y_train_tensors = tf.cast(tf.convert_to_tensor(y_train), dtype=tf.float32)\n",
    "y_test_tensors = tf.cast(tf.convert_to_tensor(y_test), dtype=tf.float32)\n",
    "\n",
    "X_train_tensors, y_train_tensors"
   ]
  },
  {
   "cell_type": "markdown",
   "metadata": {
    "id": "d3RLeW1FuspO"
   },
   "source": [
    "#### Model Creation"
   ]
  },
  {
   "cell_type": "code",
   "execution_count": 13,
   "metadata": {
    "colab": {
     "base_uri": "https://localhost:8080/"
    },
    "id": "9y6nefQ60z7I",
    "outputId": "a5850489-6831-4c0a-aecb-d1cc16743124"
   },
   "outputs": [
    {
     "data": {
      "text/plain": [
       "11"
      ]
     },
     "execution_count": 13,
     "metadata": {},
     "output_type": "execute_result"
    }
   ],
   "source": [
    "input_shape = X_train_tensors.shape\n",
    "input_shape[1]"
   ]
  },
  {
   "cell_type": "code",
   "execution_count": 14,
   "metadata": {
    "id": "BUBH6qKY0z-M"
   },
   "outputs": [],
   "source": [
    "model = keras.Sequential([\n",
    "      keras.layers.Dense(16, activation='relu',kernel_initializer='normal', input_shape=(11, ),),\n",
    "      keras.layers.Dense(1, kernel_initializer='normal')\n",
    "])"
   ]
  },
  {
   "cell_type": "code",
   "execution_count": 15,
   "metadata": {
    "id": "0ha9XfL100BU"
   },
   "outputs": [],
   "source": [
    "model.compile(\n",
    "    optimizer=keras.optimizers.Adam(learning_rate=0.01),\n",
    "    metrics=['mae'],\n",
    "    loss='mae'\n",
    ")"
   ]
  },
  {
   "cell_type": "code",
   "execution_count": 16,
   "metadata": {
    "colab": {
     "base_uri": "https://localhost:8080/"
    },
    "id": "eyGL8FDL00D1",
    "outputId": "0e5946a1-f908-4372-bdc3-68236576197b"
   },
   "outputs": [
    {
     "name": "stdout",
     "output_type": "stream",
     "text": [
      "Epoch 1/100\n",
      "14/14 [==============================] - 4s 159ms/step - loss: 13578.0426 - mae: 13578.0426 - val_loss: 14531.4951 - val_mae: 14531.4951\n",
      "Epoch 2/100\n",
      "14/14 [==============================] - 0s 7ms/step - loss: 13083.2909 - mae: 13083.2909 - val_loss: 14505.0713 - val_mae: 14505.0713\n",
      "Epoch 3/100\n",
      "14/14 [==============================] - 0s 6ms/step - loss: 13122.6271 - mae: 13122.6271 - val_loss: 14450.5020 - val_mae: 14450.5020\n",
      "Epoch 4/100\n",
      "14/14 [==============================] - 0s 6ms/step - loss: 13186.3160 - mae: 13186.3160 - val_loss: 14361.6377 - val_mae: 14361.6377\n",
      "Epoch 5/100\n",
      "14/14 [==============================] - 0s 6ms/step - loss: 12143.7424 - mae: 12143.7424 - val_loss: 14234.6475 - val_mae: 14234.6475\n",
      "Epoch 6/100\n",
      "14/14 [==============================] - 0s 7ms/step - loss: 12676.8958 - mae: 12676.8958 - val_loss: 14067.5605 - val_mae: 14067.5605\n",
      "Epoch 7/100\n",
      "14/14 [==============================] - 0s 6ms/step - loss: 12423.8048 - mae: 12423.8048 - val_loss: 13858.4863 - val_mae: 13858.4863\n",
      "Epoch 8/100\n",
      "14/14 [==============================] - 0s 6ms/step - loss: 11765.1445 - mae: 11765.1445 - val_loss: 13607.1631 - val_mae: 13607.1631\n",
      "Epoch 9/100\n",
      "14/14 [==============================] - 0s 7ms/step - loss: 11552.7101 - mae: 11552.7101 - val_loss: 13314.3516 - val_mae: 13314.3516\n",
      "Epoch 10/100\n",
      "14/14 [==============================] - 0s 7ms/step - loss: 11207.5775 - mae: 11207.5775 - val_loss: 12978.9863 - val_mae: 12978.9863\n",
      "Epoch 11/100\n",
      "14/14 [==============================] - 0s 6ms/step - loss: 11320.2079 - mae: 11320.2079 - val_loss: 12604.3555 - val_mae: 12604.3555\n",
      "Epoch 12/100\n",
      "14/14 [==============================] - 0s 6ms/step - loss: 11127.8147 - mae: 11127.8147 - val_loss: 12194.4004 - val_mae: 12194.4004\n",
      "Epoch 13/100\n",
      "14/14 [==============================] - 0s 6ms/step - loss: 10212.6391 - mae: 10212.6391 - val_loss: 11774.0098 - val_mae: 11774.0098\n",
      "Epoch 14/100\n",
      "14/14 [==============================] - 0s 6ms/step - loss: 10151.5415 - mae: 10151.5415 - val_loss: 11346.3428 - val_mae: 11346.3428\n",
      "Epoch 15/100\n",
      "14/14 [==============================] - 0s 6ms/step - loss: 10266.0130 - mae: 10266.0130 - val_loss: 10921.6543 - val_mae: 10921.6543\n",
      "Epoch 16/100\n",
      "14/14 [==============================] - 0s 7ms/step - loss: 9704.0433 - mae: 9704.0433 - val_loss: 10513.7598 - val_mae: 10513.7598\n",
      "Epoch 17/100\n",
      "14/14 [==============================] - 0s 7ms/step - loss: 8976.7594 - mae: 8976.7594 - val_loss: 10129.9365 - val_mae: 10129.9365\n",
      "Epoch 18/100\n",
      "14/14 [==============================] - 0s 6ms/step - loss: 8749.0283 - mae: 8749.0283 - val_loss: 9796.6553 - val_mae: 9796.6553\n",
      "Epoch 19/100\n",
      "14/14 [==============================] - 0s 6ms/step - loss: 8333.6469 - mae: 8333.6469 - val_loss: 9495.3438 - val_mae: 9495.3438\n",
      "Epoch 20/100\n",
      "14/14 [==============================] - 0s 7ms/step - loss: 8171.4881 - mae: 8171.4881 - val_loss: 9226.3252 - val_mae: 9226.3252\n",
      "Epoch 21/100\n",
      "14/14 [==============================] - 0s 7ms/step - loss: 8347.0638 - mae: 8347.0638 - val_loss: 8999.9453 - val_mae: 8999.9453\n",
      "Epoch 22/100\n",
      "14/14 [==============================] - 0s 7ms/step - loss: 7696.4643 - mae: 7696.4643 - val_loss: 8822.6885 - val_mae: 8822.6885\n",
      "Epoch 23/100\n",
      "14/14 [==============================] - 0s 7ms/step - loss: 7410.2024 - mae: 7410.2024 - val_loss: 8684.4727 - val_mae: 8684.4727\n",
      "Epoch 24/100\n",
      "14/14 [==============================] - 0s 7ms/step - loss: 7536.1619 - mae: 7536.1619 - val_loss: 8569.1699 - val_mae: 8569.1699\n",
      "Epoch 25/100\n",
      "14/14 [==============================] - 0s 6ms/step - loss: 7734.1156 - mae: 7734.1156 - val_loss: 8498.8740 - val_mae: 8498.8740\n",
      "Epoch 26/100\n",
      "14/14 [==============================] - 0s 6ms/step - loss: 7438.1978 - mae: 7438.1978 - val_loss: 8447.3613 - val_mae: 8447.3613\n",
      "Epoch 27/100\n",
      "14/14 [==============================] - 0s 7ms/step - loss: 7459.3844 - mae: 7459.3844 - val_loss: 8412.8135 - val_mae: 8412.8135\n",
      "Epoch 28/100\n",
      "14/14 [==============================] - 0s 7ms/step - loss: 7400.0892 - mae: 7400.0892 - val_loss: 8392.4854 - val_mae: 8392.4854\n",
      "Epoch 29/100\n",
      "14/14 [==============================] - 0s 7ms/step - loss: 7624.5686 - mae: 7624.5686 - val_loss: 8373.3213 - val_mae: 8373.3213\n",
      "Epoch 30/100\n",
      "14/14 [==============================] - 0s 6ms/step - loss: 7129.7290 - mae: 7129.7290 - val_loss: 8362.8125 - val_mae: 8362.8125\n",
      "Epoch 31/100\n",
      "14/14 [==============================] - 0s 6ms/step - loss: 7721.4054 - mae: 7721.4054 - val_loss: 8351.2480 - val_mae: 8351.2480\n",
      "Epoch 32/100\n",
      "14/14 [==============================] - 0s 6ms/step - loss: 7576.5289 - mae: 7576.5289 - val_loss: 8342.7676 - val_mae: 8342.7676\n",
      "Epoch 33/100\n",
      "14/14 [==============================] - 0s 7ms/step - loss: 7732.4602 - mae: 7732.4602 - val_loss: 8332.9395 - val_mae: 8332.9395\n",
      "Epoch 34/100\n",
      "14/14 [==============================] - 0s 7ms/step - loss: 7629.0201 - mae: 7629.0201 - val_loss: 8322.6748 - val_mae: 8322.6748\n",
      "Epoch 35/100\n",
      "14/14 [==============================] - 0s 6ms/step - loss: 7123.6617 - mae: 7123.6617 - val_loss: 8314.3760 - val_mae: 8314.3760\n",
      "Epoch 36/100\n",
      "14/14 [==============================] - 0s 6ms/step - loss: 7146.6355 - mae: 7146.6355 - val_loss: 8305.3682 - val_mae: 8305.3682\n",
      "Epoch 37/100\n",
      "14/14 [==============================] - 0s 6ms/step - loss: 7153.7494 - mae: 7153.7494 - val_loss: 8299.2715 - val_mae: 8299.2715\n",
      "Epoch 38/100\n",
      "14/14 [==============================] - 0s 6ms/step - loss: 7040.4490 - mae: 7040.4490 - val_loss: 8294.3320 - val_mae: 8294.3320\n",
      "Epoch 39/100\n",
      "14/14 [==============================] - 0s 5ms/step - loss: 7469.1232 - mae: 7469.1232 - val_loss: 8283.8320 - val_mae: 8283.8320\n",
      "Epoch 40/100\n",
      "14/14 [==============================] - 0s 6ms/step - loss: 7288.2161 - mae: 7288.2161 - val_loss: 8280.0068 - val_mae: 8280.0068\n",
      "Epoch 41/100\n",
      "14/14 [==============================] - 0s 6ms/step - loss: 7723.6417 - mae: 7723.6417 - val_loss: 8269.9912 - val_mae: 8269.9912\n",
      "Epoch 42/100\n",
      "14/14 [==============================] - 0s 6ms/step - loss: 7568.3213 - mae: 7568.3213 - val_loss: 8264.9316 - val_mae: 8264.9316\n",
      "Epoch 43/100\n",
      "14/14 [==============================] - 0s 6ms/step - loss: 7350.8622 - mae: 7350.8622 - val_loss: 8257.5674 - val_mae: 8257.5674\n",
      "Epoch 44/100\n",
      "14/14 [==============================] - 0s 5ms/step - loss: 7262.6036 - mae: 7262.6036 - val_loss: 8252.1709 - val_mae: 8252.1709\n",
      "Epoch 45/100\n",
      "14/14 [==============================] - 0s 6ms/step - loss: 7340.6364 - mae: 7340.6364 - val_loss: 8246.7705 - val_mae: 8246.7705\n",
      "Epoch 46/100\n",
      "14/14 [==============================] - 0s 6ms/step - loss: 7250.0059 - mae: 7250.0059 - val_loss: 8241.5889 - val_mae: 8241.5889\n",
      "Epoch 47/100\n",
      "14/14 [==============================] - 0s 6ms/step - loss: 6767.9697 - mae: 6767.9697 - val_loss: 8235.7119 - val_mae: 8235.7119\n",
      "Epoch 48/100\n",
      "14/14 [==============================] - 0s 6ms/step - loss: 7297.8889 - mae: 7297.8889 - val_loss: 8226.4150 - val_mae: 8226.4150\n",
      "Epoch 49/100\n",
      "14/14 [==============================] - 0s 6ms/step - loss: 7335.5341 - mae: 7335.5341 - val_loss: 8218.8340 - val_mae: 8218.8340\n",
      "Epoch 50/100\n",
      "14/14 [==============================] - 0s 6ms/step - loss: 7114.3171 - mae: 7114.3171 - val_loss: 8212.1436 - val_mae: 8212.1436\n",
      "Epoch 51/100\n",
      "14/14 [==============================] - 0s 6ms/step - loss: 7346.9261 - mae: 7346.9261 - val_loss: 8210.3223 - val_mae: 8210.3223\n",
      "Epoch 52/100\n",
      "14/14 [==============================] - 0s 6ms/step - loss: 7115.9119 - mae: 7115.9119 - val_loss: 8201.5645 - val_mae: 8201.5645\n",
      "Epoch 53/100\n",
      "14/14 [==============================] - 0s 6ms/step - loss: 7195.9462 - mae: 7195.9462 - val_loss: 8193.7617 - val_mae: 8193.7617\n",
      "Epoch 54/100\n",
      "14/14 [==============================] - 0s 6ms/step - loss: 7551.1012 - mae: 7551.1012 - val_loss: 8188.5845 - val_mae: 8188.5845\n",
      "Epoch 55/100\n",
      "14/14 [==============================] - 0s 6ms/step - loss: 6993.6451 - mae: 6993.6451 - val_loss: 8181.2778 - val_mae: 8181.2778\n",
      "Epoch 56/100\n",
      "14/14 [==============================] - 0s 6ms/step - loss: 7315.6776 - mae: 7315.6776 - val_loss: 8172.5625 - val_mae: 8172.5625\n",
      "Epoch 57/100\n"
     ]
    },
    {
     "name": "stdout",
     "output_type": "stream",
     "text": [
      "14/14 [==============================] - 0s 6ms/step - loss: 7052.1168 - mae: 7052.1168 - val_loss: 8166.6787 - val_mae: 8166.6787\n",
      "Epoch 58/100\n",
      "14/14 [==============================] - 0s 6ms/step - loss: 7370.3330 - mae: 7370.3330 - val_loss: 8158.1470 - val_mae: 8158.1470\n",
      "Epoch 59/100\n",
      "14/14 [==============================] - 0s 6ms/step - loss: 6836.7967 - mae: 6836.7967 - val_loss: 8149.3071 - val_mae: 8149.3071\n",
      "Epoch 60/100\n",
      "14/14 [==============================] - 0s 6ms/step - loss: 7273.5883 - mae: 7273.5883 - val_loss: 8143.0107 - val_mae: 8143.0107\n",
      "Epoch 61/100\n",
      "14/14 [==============================] - 0s 7ms/step - loss: 7069.3326 - mae: 7069.3326 - val_loss: 8134.5161 - val_mae: 8134.5161\n",
      "Epoch 62/100\n",
      "14/14 [==============================] - 0s 6ms/step - loss: 6765.6610 - mae: 6765.6610 - val_loss: 8130.4072 - val_mae: 8130.4072\n",
      "Epoch 63/100\n",
      "14/14 [==============================] - 0s 6ms/step - loss: 6760.9774 - mae: 6760.9774 - val_loss: 8118.3364 - val_mae: 8118.3364\n",
      "Epoch 64/100\n",
      "14/14 [==============================] - 0s 6ms/step - loss: 6812.1574 - mae: 6812.1574 - val_loss: 8110.5913 - val_mae: 8110.5913\n",
      "Epoch 65/100\n",
      "14/14 [==============================] - 0s 6ms/step - loss: 7008.9854 - mae: 7008.9854 - val_loss: 8102.2949 - val_mae: 8102.2949\n",
      "Epoch 66/100\n",
      "14/14 [==============================] - 0s 6ms/step - loss: 7704.3075 - mae: 7704.3075 - val_loss: 8096.5713 - val_mae: 8096.5713\n",
      "Epoch 67/100\n",
      "14/14 [==============================] - 0s 6ms/step - loss: 7080.5961 - mae: 7080.5961 - val_loss: 8084.8462 - val_mae: 8084.8462\n",
      "Epoch 68/100\n",
      "14/14 [==============================] - 0s 6ms/step - loss: 6949.0114 - mae: 6949.0114 - val_loss: 8084.2642 - val_mae: 8084.2642\n",
      "Epoch 69/100\n",
      "14/14 [==============================] - 0s 5ms/step - loss: 7213.6973 - mae: 7213.6973 - val_loss: 8076.2388 - val_mae: 8076.2383\n",
      "Epoch 70/100\n",
      "14/14 [==============================] - 0s 6ms/step - loss: 7151.5468 - mae: 7151.5468 - val_loss: 8067.1309 - val_mae: 8067.1309\n",
      "Epoch 71/100\n",
      "14/14 [==============================] - 0s 6ms/step - loss: 6616.7315 - mae: 6616.7315 - val_loss: 8059.5874 - val_mae: 8059.5874\n",
      "Epoch 72/100\n",
      "14/14 [==============================] - 0s 6ms/step - loss: 7211.7776 - mae: 7211.7776 - val_loss: 8051.6626 - val_mae: 8051.6626\n",
      "Epoch 73/100\n",
      "14/14 [==============================] - 0s 6ms/step - loss: 6882.9713 - mae: 6882.9713 - val_loss: 8045.2197 - val_mae: 8045.2197\n",
      "Epoch 74/100\n",
      "14/14 [==============================] - 0s 6ms/step - loss: 7083.6313 - mae: 7083.6313 - val_loss: 8034.5767 - val_mae: 8034.5771\n",
      "Epoch 75/100\n",
      "14/14 [==============================] - 0s 6ms/step - loss: 7157.0575 - mae: 7157.0575 - val_loss: 8021.2480 - val_mae: 8021.2480\n",
      "Epoch 76/100\n",
      "14/14 [==============================] - 0s 6ms/step - loss: 7032.2730 - mae: 7032.2730 - val_loss: 8016.6440 - val_mae: 8016.6440\n",
      "Epoch 77/100\n",
      "14/14 [==============================] - 0s 6ms/step - loss: 6813.5785 - mae: 6813.5785 - val_loss: 8014.2476 - val_mae: 8014.2476\n",
      "Epoch 78/100\n",
      "14/14 [==============================] - 0s 6ms/step - loss: 6889.0382 - mae: 6889.0382 - val_loss: 7992.3105 - val_mae: 7992.3105\n",
      "Epoch 79/100\n",
      "14/14 [==============================] - 0s 6ms/step - loss: 7113.6900 - mae: 7113.6900 - val_loss: 7994.9590 - val_mae: 7994.9590\n",
      "Epoch 80/100\n",
      "14/14 [==============================] - 0s 6ms/step - loss: 7301.6020 - mae: 7301.6020 - val_loss: 7982.0034 - val_mae: 7982.0034\n",
      "Epoch 81/100\n",
      "14/14 [==============================] - 0s 6ms/step - loss: 6954.6017 - mae: 6954.6017 - val_loss: 7976.5039 - val_mae: 7976.5039\n",
      "Epoch 82/100\n",
      "14/14 [==============================] - 0s 6ms/step - loss: 6906.5285 - mae: 6906.5285 - val_loss: 7962.6069 - val_mae: 7962.6069\n",
      "Epoch 83/100\n",
      "14/14 [==============================] - 0s 6ms/step - loss: 7237.8116 - mae: 7237.8116 - val_loss: 7952.2412 - val_mae: 7952.2412\n",
      "Epoch 84/100\n",
      "14/14 [==============================] - 0s 6ms/step - loss: 6898.5902 - mae: 6898.5902 - val_loss: 7942.8950 - val_mae: 7942.8950\n",
      "Epoch 85/100\n",
      "14/14 [==============================] - 0s 6ms/step - loss: 6705.7907 - mae: 6705.7907 - val_loss: 7935.9756 - val_mae: 7935.9756\n",
      "Epoch 86/100\n",
      "14/14 [==============================] - 0s 6ms/step - loss: 7019.1792 - mae: 7019.1792 - val_loss: 7929.8687 - val_mae: 7929.8687\n",
      "Epoch 87/100\n",
      "14/14 [==============================] - 0s 6ms/step - loss: 7047.9399 - mae: 7047.9399 - val_loss: 7922.6479 - val_mae: 7922.6479\n",
      "Epoch 88/100\n",
      "14/14 [==============================] - 0s 6ms/step - loss: 6489.9965 - mae: 6489.9965 - val_loss: 7911.6836 - val_mae: 7911.6836\n",
      "Epoch 89/100\n",
      "14/14 [==============================] - 0s 6ms/step - loss: 6896.1180 - mae: 6896.1180 - val_loss: 7897.5991 - val_mae: 7897.5991\n",
      "Epoch 90/100\n",
      "14/14 [==============================] - 0s 6ms/step - loss: 6727.7602 - mae: 6727.7602 - val_loss: 7888.9912 - val_mae: 7888.9912\n",
      "Epoch 91/100\n",
      "14/14 [==============================] - 0s 6ms/step - loss: 6533.7138 - mae: 6533.7138 - val_loss: 7874.3784 - val_mae: 7874.3784\n",
      "Epoch 92/100\n",
      "14/14 [==============================] - 0s 6ms/step - loss: 6665.1787 - mae: 6665.1787 - val_loss: 7865.8203 - val_mae: 7865.8203\n",
      "Epoch 93/100\n",
      "14/14 [==============================] - 0s 6ms/step - loss: 6826.4357 - mae: 6826.4357 - val_loss: 7861.1675 - val_mae: 7861.1675\n",
      "Epoch 94/100\n",
      "14/14 [==============================] - 0s 6ms/step - loss: 6450.9257 - mae: 6450.9257 - val_loss: 7850.9893 - val_mae: 7850.9893\n",
      "Epoch 95/100\n",
      "14/14 [==============================] - 0s 6ms/step - loss: 6799.7758 - mae: 6799.7758 - val_loss: 7842.6455 - val_mae: 7842.6455\n",
      "Epoch 96/100\n",
      "14/14 [==============================] - 0s 6ms/step - loss: 6915.5244 - mae: 6915.5244 - val_loss: 7824.1450 - val_mae: 7824.1450\n",
      "Epoch 97/100\n",
      "14/14 [==============================] - 0s 6ms/step - loss: 7131.3775 - mae: 7131.3775 - val_loss: 7811.7300 - val_mae: 7811.7300\n",
      "Epoch 98/100\n",
      "14/14 [==============================] - 0s 6ms/step - loss: 6621.3272 - mae: 6621.3272 - val_loss: 7805.8262 - val_mae: 7805.8262\n",
      "Epoch 99/100\n",
      "14/14 [==============================] - 0s 6ms/step - loss: 6825.7918 - mae: 6825.7918 - val_loss: 7803.4888 - val_mae: 7803.4888\n",
      "Epoch 100/100\n",
      "14/14 [==============================] - 0s 6ms/step - loss: 6846.5019 - mae: 6846.5019 - val_loss: 7786.2876 - val_mae: 7786.2876\n"
     ]
    }
   ],
   "source": [
    "EPOCHS = 100\n",
    "BATCH_SIZE = 64\n",
    "VERBOSE =1\n",
    "VAL_SPLIT =.2\n",
    "\n",
    "history = model.fit(X_train_tensors, y_train_tensors, BATCH_SIZE, EPOCHS, VERBOSE, validation_split=VAL_SPLIT)"
   ]
  },
  {
   "cell_type": "markdown",
   "metadata": {
    "id": "NC6G4esN00HU"
   },
   "source": [
    "### Evaluating the Model"
   ]
  },
  {
   "cell_type": "code",
   "execution_count": 17,
   "metadata": {
    "colab": {
     "base_uri": "https://localhost:8080/"
    },
    "id": "JC2AM55R00JV",
    "outputId": "87a0dd0e-04c0-4654-c0a7-389ec535f228"
   },
   "outputs": [
    {
     "name": "stdout",
     "output_type": "stream",
     "text": [
      "9/9 [==============================] - 0s 2ms/step - loss: 6092.6567 - mae: 6092.6567\n"
     ]
    },
    {
     "data": {
      "text/plain": [
       "[6092.65673828125, 6092.65673828125]"
      ]
     },
     "execution_count": 17,
     "metadata": {},
     "output_type": "execute_result"
    }
   ],
   "source": [
    "model.evaluate(X_test_tensors, y_test_tensors, verbose=1)"
   ]
  },
  {
   "cell_type": "markdown",
   "metadata": {
    "id": "m_3k55Sl4mdY"
   },
   "source": [
    "### Getting the model summary"
   ]
  },
  {
   "cell_type": "code",
   "execution_count": 18,
   "metadata": {
    "colab": {
     "base_uri": "https://localhost:8080/"
    },
    "id": "dDiZEgni42ty",
    "outputId": "8ed26882-49d6-437f-9cd9-0c176250b529"
   },
   "outputs": [
    {
     "name": "stdout",
     "output_type": "stream",
     "text": [
      "Model: \"sequential\"\n",
      "_________________________________________________________________\n",
      "Layer (type)                 Output Shape              Param #   \n",
      "=================================================================\n",
      "dense (Dense)                (None, 16)                192       \n",
      "_________________________________________________________________\n",
      "dense_1 (Dense)              (None, 1)                 17        \n",
      "=================================================================\n",
      "Total params: 209\n",
      "Trainable params: 209\n",
      "Non-trainable params: 0\n",
      "_________________________________________________________________\n"
     ]
    }
   ],
   "source": [
    "model.summary()"
   ]
  },
  {
   "cell_type": "markdown",
   "metadata": {
    "id": "LfHFKwYm4mob"
   },
   "source": [
    "### Making Predictions"
   ]
  },
  {
   "cell_type": "code",
   "execution_count": 19,
   "metadata": {
    "colab": {
     "base_uri": "https://localhost:8080/"
    },
    "id": "lRuwmS0Y4_bi",
    "outputId": "fb86ea1b-065b-4cad-ae03-08612ebd91bc"
   },
   "outputs": [
    {
     "data": {
      "text/plain": [
       "(array([[3171.455 ],\n",
       "        [3622.7678]], dtype=float32),\n",
       " <tf.Tensor: shape=(2,), dtype=float32, numpy=array([ 1136.3994, 24059.68  ], dtype=float32)>)"
      ]
     },
     "execution_count": 19,
     "metadata": {},
     "output_type": "execute_result"
    }
   ],
   "source": [
    "model.predict(X_test_tensors[:2]), y_test_tensors[:2]"
   ]
  },
  {
   "cell_type": "markdown",
   "metadata": {
    "id": "JFc-gaAi5Flb"
   },
   "source": [
    "### Plotting the Model History"
   ]
  },
  {
   "cell_type": "code",
   "execution_count": 20,
   "metadata": {
    "colab": {
     "base_uri": "https://localhost:8080/",
     "height": 283
    },
    "id": "ze_4ufKC5NpY",
    "outputId": "54816abb-8057-413a-f994-f2911d91d7b9"
   },
   "outputs": [
    {
     "data": {
      "image/png": "[encoded data removed]",
      "text/plain": [
       "<Figure size 432x288 with 1 Axes>"
      ]
     },
     "metadata": {
      "needs_background": "light"
     },
     "output_type": "display_data"
    }
   ],
   "source": [
    "def plotHistory(history):\n",
    "    x = tf.constant([i+1 for i in range(EPOCHS)])\n",
    "    \n",
    "    plt.title(\"History\", fontsize=16, fontweight='bold')\n",
    "    plt.plot(x, history[\"loss\"], label='loss')\n",
    "    plt.plot(x, history[\"val_loss\"], label='val_loss')\n",
    "    \n",
    "    plt.plot(x, history[\"mae\"], label='mae')\n",
    "    plt.plot(x, history[\"val_mae\"], label='val_mae')\n",
    "    \n",
    "    plt.legend()\n",
    "    plt.show()\n",
    "plotHistory(history.history)"
   ]
  },
  {
   "cell_type": "markdown",
   "metadata": {
    "id": "sk10NEn46amG"
   },
   "source": [
    "### Downloading the notebook"
   ]
  },
  {
   "cell_type": "code",
   "execution_count": 85,
   "metadata": {
    "id": "EsA0vT737bWq"
   },
   "outputs": [],
   "source": [
    "from google.colab import files\n",
    "\n",
    "files.download('__path__')"
   ]
  },
  {
   "cell_type": "code",
   "execution_count": null,
   "metadata": {
    "id": "cf43xJV97ftK"
   },
   "outputs": [],
   "source": []
  }
 ],
 "metadata": {
  "accelerator": "GPU",
  "colab": {
   "collapsed_sections": [],
   "name": "01_Medical_Cost_Regreession_Problem.ipynb",
   "provenance": []
  },
  "kernelspec": {
   "display_name": "Python 3",
   "language": "python",
   "name": "python3"
  },
  "language_info": {
   "codemirror_mode": {
    "name": "ipython",
    "version": 3
   },
   "file_extension": ".py",
   "mimetype": "text/x-python",
   "name": "python",
   "nbconvert_exporter": "python",
   "pygments_lexer": "ipython3",
   "version": "3.8.5"
  }
 },
 "nbformat": 4,
 "nbformat_minor": 1
}
