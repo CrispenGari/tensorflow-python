{
 "cells": [
  {
   "cell_type": "markdown",
   "id": "certified-admission",
   "metadata": {},
   "source": [
    "## Medical_Cost_Regreession_Problem\n",
    "\n",
    "Predicting the medical cost based on som independent variables using the [Medical Cost Personal Datasets](https://www.kaggle.com/mirichoi0218/insurance?select=insurance.csv) dataset from Kaggle"
   ]
  },
  {
   "cell_type": "markdown",
   "id": "challenging-antibody",
   "metadata": {},
   "source": [
    "### Imports"
   ]
  },
  {
   "cell_type": "code",
   "execution_count": 1,
   "id": "assured-county",
   "metadata": {},
   "outputs": [],
   "source": [
    "import pandas as pd\n",
    "import numpy as np\n",
    "import matplotlib.pyplot as plt\n",
    "import seaborn as sns"
   ]
  },
  {
   "cell_type": "markdown",
   "id": "bronze-choir",
   "metadata": {},
   "source": [
    "### Data Preperation"
   ]
  },
  {
   "cell_type": "code",
   "execution_count": 2,
   "id": "decimal-typing",
   "metadata": {},
   "outputs": [
    {
     "data": {
      "text/html": [
       "<div>\n",
       "<style scoped>\n",
       "    .dataframe tbody tr th:only-of-type {\n",
       "        vertical-align: middle;\n",
       "    }\n",
       "\n",
       "    .dataframe tbody tr th {\n",
       "        vertical-align: top;\n",
       "    }\n",
       "\n",
       "    .dataframe thead th {\n",
       "        text-align: right;\n",
       "    }\n",
       "</style>\n",
       "<table border=\"1\" class=\"dataframe\">\n",
       "  <thead>\n",
       "    <tr style=\"text-align: right;\">\n",
       "      <th></th>\n",
       "      <th>age</th>\n",
       "      <th>sex</th>\n",
       "      <th>bmi</th>\n",
       "      <th>children</th>\n",
       "      <th>smoker</th>\n",
       "      <th>region</th>\n",
       "      <th>charges</th>\n",
       "    </tr>\n",
       "  </thead>\n",
       "  <tbody>\n",
       "    <tr>\n",
       "      <th>0</th>\n",
       "      <td>19</td>\n",
       "      <td>female</td>\n",
       "      <td>27.900</td>\n",
       "      <td>0</td>\n",
       "      <td>yes</td>\n",
       "      <td>southwest</td>\n",
       "      <td>16884.92400</td>\n",
       "    </tr>\n",
       "    <tr>\n",
       "      <th>1</th>\n",
       "      <td>18</td>\n",
       "      <td>male</td>\n",
       "      <td>33.770</td>\n",
       "      <td>1</td>\n",
       "      <td>no</td>\n",
       "      <td>southeast</td>\n",
       "      <td>1725.55230</td>\n",
       "    </tr>\n",
       "    <tr>\n",
       "      <th>2</th>\n",
       "      <td>28</td>\n",
       "      <td>male</td>\n",
       "      <td>33.000</td>\n",
       "      <td>3</td>\n",
       "      <td>no</td>\n",
       "      <td>southeast</td>\n",
       "      <td>4449.46200</td>\n",
       "    </tr>\n",
       "    <tr>\n",
       "      <th>3</th>\n",
       "      <td>33</td>\n",
       "      <td>male</td>\n",
       "      <td>22.705</td>\n",
       "      <td>0</td>\n",
       "      <td>no</td>\n",
       "      <td>northwest</td>\n",
       "      <td>21984.47061</td>\n",
       "    </tr>\n",
       "    <tr>\n",
       "      <th>4</th>\n",
       "      <td>32</td>\n",
       "      <td>male</td>\n",
       "      <td>28.880</td>\n",
       "      <td>0</td>\n",
       "      <td>no</td>\n",
       "      <td>northwest</td>\n",
       "      <td>3866.85520</td>\n",
       "    </tr>\n",
       "  </tbody>\n",
       "</table>\n",
       "</div>"
      ],
      "text/plain": [
       "   age     sex     bmi  children smoker     region      charges\n",
       "0   19  female  27.900         0    yes  southwest  16884.92400\n",
       "1   18    male  33.770         1     no  southeast   1725.55230\n",
       "2   28    male  33.000         3     no  southeast   4449.46200\n",
       "3   33    male  22.705         0     no  northwest  21984.47061\n",
       "4   32    male  28.880         0     no  northwest   3866.85520"
      ]
     },
     "execution_count": 2,
     "metadata": {},
     "output_type": "execute_result"
    }
   ],
   "source": [
    "insurance = pd.read_csv('insurance.csv')\n",
    "insurance.head()"
   ]
  },
  {
   "cell_type": "markdown",
   "id": "broad-casino",
   "metadata": {},
   "source": [
    "### Data Preprocessing"
   ]
  },
  {
   "cell_type": "markdown",
   "id": "public-mistress",
   "metadata": {},
   "source": [
    "> We are trying to predict **insurance charges** based on **age, sex, bmi, childen, smoker and region**.\n",
    "\n",
    "#### We have categorical columns which are:\n",
    "    * **sex**\n",
    "    * **smoker**\n",
    "    * **region**\n",
    "    * *These columns should be one hot encorded*\n",
    "\n",
    "#### We also have sparse unscaled columns such as:\n",
    "\n",
    "    * **age**\n",
    "    * **bmi**\n",
    "    * **children**"
   ]
  },
  {
   "cell_type": "markdown",
   "id": "reasonable-posting",
   "metadata": {},
   "source": [
    "### Split Features and Labels and data preprocessing"
   ]
  },
  {
   "cell_type": "code",
   "execution_count": 3,
   "id": "israeli-robin",
   "metadata": {},
   "outputs": [
    {
     "data": {
      "text/plain": [
       "array([16884.924 ,  1725.5523,  4449.462 , ...,  1629.8335,  2007.945 ,\n",
       "       29141.3603])"
      ]
     },
     "execution_count": 3,
     "metadata": {},
     "output_type": "execute_result"
    }
   ],
   "source": [
    "y = insurance[\"charges\"].values\n",
    "y"
   ]
  },
  {
   "cell_type": "code",
   "execution_count": 4,
   "id": "center-elite",
   "metadata": {},
   "outputs": [],
   "source": [
    "from sklearn.compose import ColumnTransformer\n",
    "from sklearn.preprocessing import MinMaxScaler, StandardScaler, MaxAbsScaler, OneHotEncoder\n",
    "from sklearn.model_selection import train_test_split"
   ]
  },
  {
   "cell_type": "code",
   "execution_count": 5,
   "id": "guilty-pocket",
   "metadata": {},
   "outputs": [
    {
     "data": {
      "text/plain": [
       "ColumnTransformer(transformers=[('min_max_scaler', MinMaxScaler(),\n",
       "                                 ['age', 'bmi']),\n",
       "                                ('standard_scaler', StandardScaler(),\n",
       "                                 ['children']),\n",
       "                                ('onehot_encoder', OneHotEncoder(),\n",
       "                                 ['smoker', 'region', 'sex'])])"
      ]
     },
     "execution_count": 5,
     "metadata": {},
     "output_type": "execute_result"
    }
   ],
   "source": [
    "column_transformer = ColumnTransformer([\n",
    "    ('min_max_scaler', MinMaxScaler(), ['age', 'bmi']),\n",
    "    ('standard_scaler', StandardScaler(), ['children']),\n",
    "    ('onehot_encoder', OneHotEncoder(), ['smoker', 'region', 'sex'])\n",
    "])\n",
    "column_transformer.fit(insurance)"
   ]
  },
  {
   "cell_type": "code",
   "execution_count": 6,
   "id": "comfortable-quest",
   "metadata": {},
   "outputs": [],
   "source": [
    "X = column_transformer.transform(insurance)"
   ]
  },
  {
   "cell_type": "code",
   "execution_count": 7,
   "id": "affecting-demand",
   "metadata": {},
   "outputs": [
    {
     "data": {
      "text/plain": [
       "array([[ 0.02173913,  0.3212268 , -0.90861367,  0.        ,  1.        ,\n",
       "         0.        ,  0.        ,  0.        ,  1.        ,  1.        ,\n",
       "         0.        ],\n",
       "       [ 0.        ,  0.47914985, -0.07876719,  1.        ,  0.        ,\n",
       "         0.        ,  0.        ,  1.        ,  0.        ,  0.        ,\n",
       "         1.        ]])"
      ]
     },
     "execution_count": 7,
     "metadata": {},
     "output_type": "execute_result"
    }
   ],
   "source": [
    "X[:2]"
   ]
  },
  {
   "cell_type": "markdown",
   "id": "manufactured-designation",
   "metadata": {},
   "source": [
    "### Splitting data into train and testing"
   ]
  },
  {
   "cell_type": "code",
   "execution_count": 8,
   "id": "massive-button",
   "metadata": {},
   "outputs": [
    {
     "data": {
      "text/plain": [
       "((1070, 11), (268, 11), (1070,), (268,))"
      ]
     },
     "execution_count": 8,
     "metadata": {},
     "output_type": "execute_result"
    }
   ],
   "source": [
    "X_train, X_test, y_train, y_test = train_test_split(X, y, test_size=.2, random_state=33)\n",
    "X_train.shape, X_test.shape, y_train.shape, y_test.shape"
   ]
  },
  {
   "cell_type": "code",
   "execution_count": 9,
   "id": "polyphonic-learning",
   "metadata": {},
   "outputs": [
    {
     "data": {
      "text/plain": [
       "dtype('float64')"
      ]
     },
     "execution_count": 9,
     "metadata": {},
     "output_type": "execute_result"
    }
   ],
   "source": [
    "y_train.dtype"
   ]
  },
  {
   "cell_type": "markdown",
   "id": "intermediate-timing",
   "metadata": {},
   "source": [
    "### Converting Data to ``tf.tensors``"
   ]
  },
  {
   "cell_type": "code",
   "execution_count": 10,
   "id": "local-harmony",
   "metadata": {},
   "outputs": [],
   "source": [
    "import tensorflow as tf"
   ]
  },
  {
   "cell_type": "code",
   "execution_count": 11,
   "id": "closing-twelve",
   "metadata": {},
   "outputs": [],
   "source": [
    "X_train_tensors = tf.convert_to_tensor(X_train.astype('float32'))\n",
    "X_test_tensors = tf.convert_to_tensor(X_test.astype('float32'))\n",
    "\n",
    "y_train_tensors = tf.convert_to_tensor(y_train.astype('float32'))\n",
    "y_test_tensors = tf.convert_to_tensor(y_test.astype('float32'))"
   ]
  },
  {
   "cell_type": "code",
   "execution_count": 12,
   "id": "turned-involvement",
   "metadata": {},
   "outputs": [
    {
     "data": {
      "text/plain": [
       "(<tf.Tensor: shape=(1070, 11), dtype=float32, numpy=\n",
       " array([[ 0.4347826 ,  0.38337368,  1.5809257 , ...,  0.        ,\n",
       "          1.        ,  0.        ],\n",
       "        [ 0.7826087 ,  0.63599676, -0.0787672 , ...,  1.        ,\n",
       "          0.        ,  1.        ],\n",
       "        [ 0.45652175,  0.45305353, -0.9086137 , ...,  1.        ,\n",
       "          1.        ,  0.        ],\n",
       "        ...,\n",
       "        [ 0.73913044,  0.38310465, -0.0787672 , ...,  1.        ,\n",
       "          0.        ,  1.        ],\n",
       "        [ 0.02173913,  0.57761633, -0.9086137 , ...,  0.        ,\n",
       "          1.        ,  0.        ],\n",
       "        [ 0.8043478 ,  0.5188324 , -0.0787672 , ...,  0.        ,\n",
       "          0.        ,  1.        ]], dtype=float32)>,\n",
       " <tf.Tensor: shape=(1070,), dtype=float32, numpy=\n",
       " array([ 7537.164 , 10450.552 ,  5649.715 , ...,  9724.53  ,  2138.0708,\n",
       "        11394.065 ], dtype=float32)>)"
      ]
     },
     "execution_count": 12,
     "metadata": {},
     "output_type": "execute_result"
    }
   ],
   "source": [
    "X_train_tensors, y_train_tensors"
   ]
  },
  {
   "cell_type": "markdown",
   "id": "reasonable-performer",
   "metadata": {},
   "source": [
    "### Creating a model"
   ]
  },
  {
   "cell_type": "code",
   "execution_count": 13,
   "id": "changing-assumption",
   "metadata": {},
   "outputs": [],
   "source": [
    "from tensorflow import keras"
   ]
  },
  {
   "cell_type": "code",
   "execution_count": 14,
   "id": "settled-pickup",
   "metadata": {},
   "outputs": [],
   "source": [
    "model = keras.Sequential([\n",
    "    keras.layers.Dense(64, activation='relu'),\n",
    "    keras.layers.Dense(128, activation='relu'),\n",
    "    keras.layers.Dense(64,activation='relu'),\n",
    "    keras.layers.Dense(32, activation='relu'),\n",
    "    keras.layers.Dense(1),\n",
    "])\n",
    "model.compile(\n",
    "    optimizer= keras.optimizers.Adam(),\n",
    "    loss = keras.losses.mae,\n",
    "    metrics=['mae']\n",
    ")"
   ]
  },
  {
   "cell_type": "code",
   "execution_count": 15,
   "id": "overall-superintendent",
   "metadata": {},
   "outputs": [
    {
     "name": "stdout",
     "output_type": "stream",
     "text": [
      "Epoch 1/100\n",
      "14/14 [==============================] - 3s 129ms/step - loss: 12663.0305 - mae: 12663.0305 - val_loss: 14536.8809 - val_mae: 14536.8809\n",
      "Epoch 2/100\n",
      "14/14 [==============================] - 0s 7ms/step - loss: 13116.9011 - mae: 13116.9011 - val_loss: 14529.3682 - val_mae: 14529.3682\n",
      "Epoch 3/100\n",
      "14/14 [==============================] - 0s 7ms/step - loss: 13317.7955 - mae: 13317.7955 - val_loss: 14496.8535 - val_mae: 14496.8535\n",
      "Epoch 4/100\n",
      "14/14 [==============================] - 0s 7ms/step - loss: 13119.1270 - mae: 13119.1270 - val_loss: 14376.8379 - val_mae: 14376.8379\n",
      "Epoch 5/100\n",
      "14/14 [==============================] - 0s 7ms/step - loss: 12791.2080 - mae: 12791.2080 - val_loss: 14005.3457 - val_mae: 14005.3457\n",
      "Epoch 6/100\n",
      "14/14 [==============================] - 0s 7ms/step - loss: 12129.2290 - mae: 12129.2290 - val_loss: 13018.5713 - val_mae: 13018.5713\n",
      "Epoch 7/100\n",
      "14/14 [==============================] - 0s 7ms/step - loss: 11083.9574 - mae: 11083.9574 - val_loss: 11012.4600 - val_mae: 11012.4600\n",
      "Epoch 8/100\n",
      "14/14 [==============================] - 0s 7ms/step - loss: 9211.6136 - mae: 9211.6136 - val_loss: 9163.2910 - val_mae: 9163.2910\n",
      "Epoch 9/100\n",
      "14/14 [==============================] - 0s 7ms/step - loss: 7669.5560 - mae: 7669.5560 - val_loss: 8679.1309 - val_mae: 8679.1309\n",
      "Epoch 10/100\n",
      "14/14 [==============================] - 0s 7ms/step - loss: 8376.3724 - mae: 8376.3724 - val_loss: 8552.0156 - val_mae: 8552.0156\n",
      "Epoch 11/100\n",
      "14/14 [==============================] - 0s 7ms/step - loss: 7491.7308 - mae: 7491.7308 - val_loss: 8402.2422 - val_mae: 8402.2422\n",
      "Epoch 12/100\n",
      "14/14 [==============================] - 0s 7ms/step - loss: 7440.5072 - mae: 7440.5072 - val_loss: 8163.1904 - val_mae: 8163.1904\n",
      "Epoch 13/100\n",
      "14/14 [==============================] - 0s 7ms/step - loss: 7114.9219 - mae: 7114.9219 - val_loss: 7924.9399 - val_mae: 7924.9399\n",
      "Epoch 14/100\n",
      "14/14 [==============================] - 0s 7ms/step - loss: 7120.1701 - mae: 7120.1701 - val_loss: 7677.1553 - val_mae: 7677.1553\n",
      "Epoch 15/100\n",
      "14/14 [==============================] - 0s 8ms/step - loss: 6936.8513 - mae: 6936.8513 - val_loss: 7423.7344 - val_mae: 7423.7344\n",
      "Epoch 16/100\n",
      "14/14 [==============================] - 0s 8ms/step - loss: 6564.9499 - mae: 6564.9499 - val_loss: 7071.4937 - val_mae: 7071.4937\n",
      "Epoch 17/100\n",
      "14/14 [==============================] - 0s 9ms/step - loss: 6122.1635 - mae: 6122.1635 - val_loss: 6711.7109 - val_mae: 6711.7109\n",
      "Epoch 18/100\n",
      "14/14 [==============================] - 0s 10ms/step - loss: 5736.1390 - mae: 5736.1390 - val_loss: 6265.5117 - val_mae: 6265.5117\n",
      "Epoch 19/100\n",
      "14/14 [==============================] - 0s 6ms/step - loss: 5552.7618 - mae: 5552.7618 - val_loss: 5747.7222 - val_mae: 5747.7227\n",
      "Epoch 20/100\n",
      "14/14 [==============================] - 0s 7ms/step - loss: 5272.3614 - mae: 5272.3614 - val_loss: 5267.0664 - val_mae: 5267.0664\n",
      "Epoch 21/100\n",
      "14/14 [==============================] - 0s 7ms/step - loss: 4789.0785 - mae: 4789.0785 - val_loss: 4836.8628 - val_mae: 4836.8628\n",
      "Epoch 22/100\n",
      "14/14 [==============================] - 0s 7ms/step - loss: 4016.1958 - mae: 4016.1958 - val_loss: 4525.2847 - val_mae: 4525.2847\n",
      "Epoch 23/100\n",
      "14/14 [==============================] - 0s 9ms/step - loss: 3783.7051 - mae: 3783.7051 - val_loss: 4239.9858 - val_mae: 4239.9858\n",
      "Epoch 24/100\n",
      "14/14 [==============================] - 0s 10ms/step - loss: 3732.2030 - mae: 3732.2030 - val_loss: 4019.8538 - val_mae: 4019.8538\n",
      "Epoch 25/100\n",
      "14/14 [==============================] - 0s 7ms/step - loss: 3591.3201 - mae: 3591.3201 - val_loss: 3897.6340 - val_mae: 3897.6340\n",
      "Epoch 26/100\n",
      "14/14 [==============================] - 0s 7ms/step - loss: 3498.3829 - mae: 3498.3829 - val_loss: 3814.5281 - val_mae: 3814.5281\n",
      "Epoch 27/100\n",
      "14/14 [==============================] - 0s 7ms/step - loss: 3194.5432 - mae: 3194.5432 - val_loss: 3752.8621 - val_mae: 3752.8621\n",
      "Epoch 28/100\n",
      "14/14 [==============================] - 0s 8ms/step - loss: 3284.2109 - mae: 3284.2109 - val_loss: 3693.4768 - val_mae: 3693.4768\n",
      "Epoch 29/100\n",
      "14/14 [==============================] - 0s 9ms/step - loss: 3288.7483 - mae: 3288.7483 - val_loss: 3650.3323 - val_mae: 3650.3323\n",
      "Epoch 30/100\n",
      "14/14 [==============================] - 0s 7ms/step - loss: 3312.9617 - mae: 3312.9617 - val_loss: 3640.5884 - val_mae: 3640.5884\n",
      "Epoch 31/100\n",
      "14/14 [==============================] - 0s 7ms/step - loss: 3313.6018 - mae: 3313.6018 - val_loss: 3566.5884 - val_mae: 3566.5884\n",
      "Epoch 32/100\n",
      "14/14 [==============================] - 0s 6ms/step - loss: 2821.5918 - mae: 2821.5918 - val_loss: 3535.0339 - val_mae: 3535.0339\n",
      "Epoch 33/100\n",
      "14/14 [==============================] - 0s 8ms/step - loss: 2821.0071 - mae: 2821.0071 - val_loss: 3550.2979 - val_mae: 3550.2979\n",
      "Epoch 34/100\n",
      "14/14 [==============================] - 0s 9ms/step - loss: 3332.4426 - mae: 3332.4426 - val_loss: 3507.0479 - val_mae: 3507.0479\n",
      "Epoch 35/100\n",
      "14/14 [==============================] - 0s 7ms/step - loss: 2699.2619 - mae: 2699.2619 - val_loss: 3506.1326 - val_mae: 3506.1326\n",
      "Epoch 36/100\n",
      "14/14 [==============================] - 0s 7ms/step - loss: 3218.9729 - mae: 3218.9729 - val_loss: 3495.0640 - val_mae: 3495.0640\n",
      "Epoch 37/100\n",
      "14/14 [==============================] - 0s 6ms/step - loss: 3051.7672 - mae: 3051.7672 - val_loss: 3487.5759 - val_mae: 3487.5759\n",
      "Epoch 38/100\n",
      "14/14 [==============================] - 0s 7ms/step - loss: 3067.8635 - mae: 3067.8635 - val_loss: 3530.7366 - val_mae: 3530.7366\n",
      "Epoch 39/100\n",
      "14/14 [==============================] - 0s 7ms/step - loss: 3136.8198 - mae: 3136.8198 - val_loss: 3511.9751 - val_mae: 3511.9751\n",
      "Epoch 40/100\n",
      "14/14 [==============================] - 0s 7ms/step - loss: 3023.3138 - mae: 3023.3138 - val_loss: 3479.8098 - val_mae: 3479.8098\n",
      "Epoch 41/100\n",
      "14/14 [==============================] - 0s 6ms/step - loss: 3117.8722 - mae: 3117.8722 - val_loss: 3478.3813 - val_mae: 3478.3813\n",
      "Epoch 42/100\n",
      "14/14 [==============================] - 0s 7ms/step - loss: 3073.4373 - mae: 3073.4373 - val_loss: 3479.9541 - val_mae: 3479.9541\n",
      "Epoch 43/100\n",
      "14/14 [==============================] - 0s 7ms/step - loss: 3025.1846 - mae: 3025.1846 - val_loss: 3469.5242 - val_mae: 3469.5242\n",
      "Epoch 44/100\n",
      "14/14 [==============================] - 0s 7ms/step - loss: 3019.2001 - mae: 3019.2001 - val_loss: 3463.8738 - val_mae: 3463.8738\n",
      "Epoch 45/100\n",
      "14/14 [==============================] - 0s 7ms/step - loss: 3225.0092 - mae: 3225.0092 - val_loss: 3457.2363 - val_mae: 3457.2363\n",
      "Epoch 46/100\n",
      "14/14 [==============================] - 0s 6ms/step - loss: 3297.5267 - mae: 3297.5267 - val_loss: 3456.1060 - val_mae: 3456.1060\n",
      "Epoch 47/100\n",
      "14/14 [==============================] - 0s 6ms/step - loss: 2590.0735 - mae: 2590.0735 - val_loss: 3448.0859 - val_mae: 3448.0859\n",
      "Epoch 48/100\n",
      "14/14 [==============================] - 0s 6ms/step - loss: 2658.9260 - mae: 2658.9260 - val_loss: 3446.2859 - val_mae: 3446.2859\n",
      "Epoch 49/100\n",
      "14/14 [==============================] - 0s 6ms/step - loss: 2988.4594 - mae: 2988.4594 - val_loss: 3453.6880 - val_mae: 3453.6880\n",
      "Epoch 50/100\n",
      "14/14 [==============================] - 0s 6ms/step - loss: 3005.8370 - mae: 3005.8370 - val_loss: 3437.7261 - val_mae: 3437.7261\n",
      "Epoch 51/100\n",
      "14/14 [==============================] - 0s 6ms/step - loss: 3063.1568 - mae: 3063.1568 - val_loss: 3453.0303 - val_mae: 3453.0303\n",
      "Epoch 52/100\n",
      "14/14 [==============================] - 0s 7ms/step - loss: 3079.5837 - mae: 3079.5837 - val_loss: 3428.3606 - val_mae: 3428.3606\n",
      "Epoch 53/100\n",
      "14/14 [==============================] - 0s 7ms/step - loss: 2873.7298 - mae: 2873.7298 - val_loss: 3441.6218 - val_mae: 3441.6218\n",
      "Epoch 54/100\n",
      "14/14 [==============================] - 0s 6ms/step - loss: 2791.8701 - mae: 2791.8701 - val_loss: 3424.7734 - val_mae: 3424.7734\n",
      "Epoch 55/100\n",
      "14/14 [==============================] - 0s 7ms/step - loss: 3039.3865 - mae: 3039.3865 - val_loss: 3422.5610 - val_mae: 3422.5610\n",
      "Epoch 56/100\n",
      "14/14 [==============================] - 0s 6ms/step - loss: 2821.5982 - mae: 2821.5982 - val_loss: 3432.9211 - val_mae: 3432.9211\n",
      "Epoch 57/100\n",
      "14/14 [==============================] - 0s 7ms/step - loss: 3067.9807 - mae: 3067.9807 - val_loss: 3416.5642 - val_mae: 3416.5642\n"
     ]
    },
    {
     "name": "stdout",
     "output_type": "stream",
     "text": [
      "Epoch 58/100\n",
      "14/14 [==============================] - 0s 6ms/step - loss: 3161.6157 - mae: 3161.6157 - val_loss: 3416.9722 - val_mae: 3416.9722\n",
      "Epoch 59/100\n",
      "14/14 [==============================] - 0s 6ms/step - loss: 2810.8412 - mae: 2810.8412 - val_loss: 3406.9995 - val_mae: 3406.9995\n",
      "Epoch 60/100\n",
      "14/14 [==============================] - 0s 6ms/step - loss: 3185.4162 - mae: 3185.4162 - val_loss: 3407.4019 - val_mae: 3407.4019\n",
      "Epoch 61/100\n",
      "14/14 [==============================] - 0s 6ms/step - loss: 2962.5593 - mae: 2962.5593 - val_loss: 3405.1448 - val_mae: 3405.1448\n",
      "Epoch 62/100\n",
      "14/14 [==============================] - 0s 6ms/step - loss: 2977.6179 - mae: 2977.6179 - val_loss: 3406.7556 - val_mae: 3406.7556\n",
      "Epoch 63/100\n",
      "14/14 [==============================] - 0s 6ms/step - loss: 2885.2007 - mae: 2885.2007 - val_loss: 3410.4736 - val_mae: 3410.4736\n",
      "Epoch 64/100\n",
      "14/14 [==============================] - 0s 7ms/step - loss: 3031.5122 - mae: 3031.5122 - val_loss: 3391.2576 - val_mae: 3391.2576\n",
      "Epoch 65/100\n",
      "14/14 [==============================] - 0s 6ms/step - loss: 2891.2711 - mae: 2891.2711 - val_loss: 3395.3955 - val_mae: 3395.3955\n",
      "Epoch 66/100\n",
      "14/14 [==============================] - 0s 7ms/step - loss: 2965.8935 - mae: 2965.8935 - val_loss: 3387.4519 - val_mae: 3387.4519\n",
      "Epoch 67/100\n",
      "14/14 [==============================] - 0s 6ms/step - loss: 2866.3529 - mae: 2866.3529 - val_loss: 3376.1313 - val_mae: 3376.1313\n",
      "Epoch 68/100\n",
      "14/14 [==============================] - 0s 6ms/step - loss: 2973.1420 - mae: 2973.1420 - val_loss: 3372.1931 - val_mae: 3372.1931\n",
      "Epoch 69/100\n",
      "14/14 [==============================] - 0s 6ms/step - loss: 2937.6067 - mae: 2937.6067 - val_loss: 3372.2976 - val_mae: 3372.2976\n",
      "Epoch 70/100\n",
      "14/14 [==============================] - 0s 7ms/step - loss: 2992.5536 - mae: 2992.5536 - val_loss: 3422.1082 - val_mae: 3422.1082\n",
      "Epoch 71/100\n",
      "14/14 [==============================] - 0s 7ms/step - loss: 3056.2176 - mae: 3056.2176 - val_loss: 3390.4365 - val_mae: 3390.4365\n",
      "Epoch 72/100\n",
      "14/14 [==============================] - 0s 7ms/step - loss: 3171.1440 - mae: 3171.1440 - val_loss: 3374.5295 - val_mae: 3374.5295\n",
      "Epoch 73/100\n",
      "14/14 [==============================] - 0s 7ms/step - loss: 2985.7732 - mae: 2985.7732 - val_loss: 3352.1902 - val_mae: 3352.1902\n",
      "Epoch 74/100\n",
      "14/14 [==============================] - 0s 6ms/step - loss: 3025.6378 - mae: 3025.6378 - val_loss: 3349.4255 - val_mae: 3349.4255\n",
      "Epoch 75/100\n",
      "14/14 [==============================] - 0s 7ms/step - loss: 3060.7331 - mae: 3060.7331 - val_loss: 3351.3733 - val_mae: 3351.3733\n",
      "Epoch 76/100\n",
      "14/14 [==============================] - 0s 7ms/step - loss: 2872.2299 - mae: 2872.2299 - val_loss: 3369.2576 - val_mae: 3369.2576\n",
      "Epoch 77/100\n",
      "14/14 [==============================] - 0s 7ms/step - loss: 2530.3557 - mae: 2530.3557 - val_loss: 3339.0286 - val_mae: 3339.0286\n",
      "Epoch 78/100\n",
      "14/14 [==============================] - 0s 6ms/step - loss: 2966.9882 - mae: 2966.9882 - val_loss: 3341.5239 - val_mae: 3341.5239\n",
      "Epoch 79/100\n",
      "14/14 [==============================] - 0s 7ms/step - loss: 2843.8391 - mae: 2843.8391 - val_loss: 3336.4995 - val_mae: 3336.4995\n",
      "Epoch 80/100\n",
      "14/14 [==============================] - 0s 6ms/step - loss: 2887.7632 - mae: 2887.7632 - val_loss: 3343.5898 - val_mae: 3343.5898\n",
      "Epoch 81/100\n",
      "14/14 [==============================] - 0s 7ms/step - loss: 2946.7888 - mae: 2946.7888 - val_loss: 3320.9805 - val_mae: 3320.9805\n",
      "Epoch 82/100\n",
      "14/14 [==============================] - 0s 6ms/step - loss: 3094.0223 - mae: 3094.0223 - val_loss: 3326.7668 - val_mae: 3326.7668\n",
      "Epoch 83/100\n",
      "14/14 [==============================] - 0s 6ms/step - loss: 2725.8452 - mae: 2725.8452 - val_loss: 3324.7563 - val_mae: 3324.7563\n",
      "Epoch 84/100\n",
      "14/14 [==============================] - 0s 6ms/step - loss: 2657.3869 - mae: 2657.3869 - val_loss: 3330.2861 - val_mae: 3330.2861\n",
      "Epoch 85/100\n",
      "14/14 [==============================] - 0s 6ms/step - loss: 2842.8267 - mae: 2842.8267 - val_loss: 3307.0212 - val_mae: 3307.0212\n",
      "Epoch 86/100\n",
      "14/14 [==============================] - 0s 6ms/step - loss: 2958.2958 - mae: 2958.2958 - val_loss: 3305.5583 - val_mae: 3305.5583\n",
      "Epoch 87/100\n",
      "14/14 [==============================] - 0s 6ms/step - loss: 2804.0672 - mae: 2804.0672 - val_loss: 3305.6963 - val_mae: 3305.6963\n",
      "Epoch 88/100\n",
      "14/14 [==============================] - 0s 6ms/step - loss: 2732.0519 - mae: 2732.0519 - val_loss: 3308.9358 - val_mae: 3308.9358\n",
      "Epoch 89/100\n",
      "14/14 [==============================] - 0s 7ms/step - loss: 2586.6848 - mae: 2586.6848 - val_loss: 3293.3867 - val_mae: 3293.3867\n",
      "Epoch 90/100\n",
      "14/14 [==============================] - 0s 6ms/step - loss: 2834.3641 - mae: 2834.3641 - val_loss: 3286.2542 - val_mae: 3286.2542\n",
      "Epoch 91/100\n",
      "14/14 [==============================] - 0s 6ms/step - loss: 2812.3931 - mae: 2812.3931 - val_loss: 3300.0015 - val_mae: 3300.0015\n",
      "Epoch 92/100\n",
      "14/14 [==============================] - 0s 7ms/step - loss: 2901.6157 - mae: 2901.6157 - val_loss: 3288.3943 - val_mae: 3288.3943\n",
      "Epoch 93/100\n",
      "14/14 [==============================] - 0s 6ms/step - loss: 3084.9364 - mae: 3084.9364 - val_loss: 3277.4766 - val_mae: 3277.4766\n",
      "Epoch 94/100\n",
      "14/14 [==============================] - 0s 6ms/step - loss: 2903.8163 - mae: 2903.8163 - val_loss: 3273.1150 - val_mae: 3273.1150\n",
      "Epoch 95/100\n",
      "14/14 [==============================] - 0s 7ms/step - loss: 2938.5071 - mae: 2938.5071 - val_loss: 3271.2378 - val_mae: 3271.2378\n",
      "Epoch 96/100\n",
      "14/14 [==============================] - 0s 6ms/step - loss: 2811.6750 - mae: 2811.6750 - val_loss: 3281.7993 - val_mae: 3281.7993\n",
      "Epoch 97/100\n",
      "14/14 [==============================] - 0s 6ms/step - loss: 2678.1140 - mae: 2678.1140 - val_loss: 3260.3818 - val_mae: 3260.3818\n",
      "Epoch 98/100\n",
      "14/14 [==============================] - 0s 6ms/step - loss: 2784.4116 - mae: 2784.4116 - val_loss: 3270.1101 - val_mae: 3270.1101\n",
      "Epoch 99/100\n",
      "14/14 [==============================] - 0s 6ms/step - loss: 2736.4840 - mae: 2736.4840 - val_loss: 3255.3645 - val_mae: 3255.3645\n",
      "Epoch 100/100\n",
      "14/14 [==============================] - 0s 6ms/step - loss: 2815.7012 - mae: 2815.7012 - val_loss: 3237.6462 - val_mae: 3237.6462\n"
     ]
    }
   ],
   "source": [
    "EPOCHS = 100\n",
    "VERBOSE = 1\n",
    "VALIDATION_SPLIT = .2\n",
    "BATCH_SIZE = 64\n",
    "\n",
    "history = model.fit(X_train_tensors, y_train_tensors, batch_size=BATCH_SIZE, verbose=VERBOSE, epochs=EPOCHS, validation_split=VALIDATION_SPLIT)"
   ]
  },
  {
   "cell_type": "code",
   "execution_count": 16,
   "id": "laughing-sterling",
   "metadata": {},
   "outputs": [
    {
     "name": "stdout",
     "output_type": "stream",
     "text": [
      "9/9 [==============================] - 0s 1ms/step - loss: 3001.3435 - mae: 3001.3435\n"
     ]
    },
    {
     "data": {
      "text/plain": [
       "[3001.343505859375, 3001.343505859375]"
      ]
     },
     "execution_count": 16,
     "metadata": {},
     "output_type": "execute_result"
    }
   ],
   "source": [
    "model.evaluate(X_test_tensors, y_test_tensors, verbose=1)"
   ]
  },
  {
   "cell_type": "code",
   "execution_count": 17,
   "id": "assisted-america",
   "metadata": {},
   "outputs": [
    {
     "data": {
      "text/html": [
       "<div>\n",
       "<style scoped>\n",
       "    .dataframe tbody tr th:only-of-type {\n",
       "        vertical-align: middle;\n",
       "    }\n",
       "\n",
       "    .dataframe tbody tr th {\n",
       "        vertical-align: top;\n",
       "    }\n",
       "\n",
       "    .dataframe thead th {\n",
       "        text-align: right;\n",
       "    }\n",
       "</style>\n",
       "<table border=\"1\" class=\"dataframe\">\n",
       "  <thead>\n",
       "    <tr style=\"text-align: right;\">\n",
       "      <th></th>\n",
       "      <th>loss</th>\n",
       "      <th>mae</th>\n",
       "      <th>val_loss</th>\n",
       "      <th>val_mae</th>\n",
       "    </tr>\n",
       "  </thead>\n",
       "  <tbody>\n",
       "    <tr>\n",
       "      <th>0</th>\n",
       "      <td>13106.245117</td>\n",
       "      <td>13106.245117</td>\n",
       "      <td>14536.880859</td>\n",
       "      <td>14536.880859</td>\n",
       "    </tr>\n",
       "    <tr>\n",
       "      <th>1</th>\n",
       "      <td>13102.640625</td>\n",
       "      <td>13102.640625</td>\n",
       "      <td>14529.368164</td>\n",
       "      <td>14529.368164</td>\n",
       "    </tr>\n",
       "    <tr>\n",
       "      <th>2</th>\n",
       "      <td>13086.763672</td>\n",
       "      <td>13086.763672</td>\n",
       "      <td>14496.853516</td>\n",
       "      <td>14496.853516</td>\n",
       "    </tr>\n",
       "    <tr>\n",
       "      <th>3</th>\n",
       "      <td>13023.763672</td>\n",
       "      <td>13023.763672</td>\n",
       "      <td>14376.837891</td>\n",
       "      <td>14376.837891</td>\n",
       "    </tr>\n",
       "    <tr>\n",
       "      <th>4</th>\n",
       "      <td>12812.458984</td>\n",
       "      <td>12812.458984</td>\n",
       "      <td>14005.345703</td>\n",
       "      <td>14005.345703</td>\n",
       "    </tr>\n",
       "  </tbody>\n",
       "</table>\n",
       "</div>"
      ],
      "text/plain": [
       "           loss           mae      val_loss       val_mae\n",
       "0  13106.245117  13106.245117  14536.880859  14536.880859\n",
       "1  13102.640625  13102.640625  14529.368164  14529.368164\n",
       "2  13086.763672  13086.763672  14496.853516  14496.853516\n",
       "3  13023.763672  13023.763672  14376.837891  14376.837891\n",
       "4  12812.458984  12812.458984  14005.345703  14005.345703"
      ]
     },
     "execution_count": 17,
     "metadata": {},
     "output_type": "execute_result"
    }
   ],
   "source": [
    "hist = pd.DataFrame(history.history)\n",
    "hist.head()"
   ]
  },
  {
   "cell_type": "code",
   "execution_count": 18,
   "id": "terminal-salad",
   "metadata": {},
   "outputs": [
    {
     "data": {
      "image/png": "[encoded data removed]",
      "text/plain": [
       "<Figure size 432x288 with 1 Axes>"
      ]
     },
     "metadata": {
      "needs_background": "light"
     },
     "output_type": "display_data"
    }
   ],
   "source": [
    "hist.plot()\n",
    "plt.xlabel('epochs', fontsize=16)\n",
    "plt.ylabel('mae', fontsize=16)\n",
    "plt.show()"
   ]
  },
  {
   "cell_type": "markdown",
   "id": "entertaining-ridge",
   "metadata": {},
   "source": [
    "### Making predictions"
   ]
  },
  {
   "cell_type": "code",
   "execution_count": 19,
   "id": "impressive-fountain",
   "metadata": {},
   "outputs": [
    {
     "data": {
      "text/plain": [
       "(array([[ 1134.5   ],\n",
       "        [ 3282.1736],\n",
       "        [ 5700.604 ],\n",
       "        [13316.157 ],\n",
       "        [ 9276.706 ]], dtype=float32),\n",
       " <tf.Tensor: shape=(5,), dtype=float32, numpy=\n",
       " array([ 1136.3994, 24059.68  ,  5662.225 , 13228.847 ,  9225.257 ],\n",
       "       dtype=float32)>)"
      ]
     },
     "execution_count": 19,
     "metadata": {},
     "output_type": "execute_result"
    }
   ],
   "source": [
    "model.predict(X_test_tensors[:5]), y_test_tensors[:5]"
   ]
  },
  {
   "cell_type": "markdown",
   "id": "prescription-colony",
   "metadata": {},
   "source": [
    "> This is one of my best ``regression`` model ever using NN in ``tensorflow``"
   ]
  },
  {
   "cell_type": "code",
   "execution_count": null,
   "id": "occupational-intelligence",
   "metadata": {},
   "outputs": [],
   "source": []
  }
 ],
 "metadata": {
  "kernelspec": {
   "display_name": "Python 3",
   "language": "python",
   "name": "python3"
  },
  "language_info": {
   "codemirror_mode": {
    "name": "ipython",
    "version": 3
   },
   "file_extension": ".py",
   "mimetype": "text/x-python",
   "name": "python",
   "nbconvert_exporter": "python",
   "pygments_lexer": "ipython3",
   "version": "3.8.5"
  }
 },
 "nbformat": 4,
 "nbformat_minor": 5
}
