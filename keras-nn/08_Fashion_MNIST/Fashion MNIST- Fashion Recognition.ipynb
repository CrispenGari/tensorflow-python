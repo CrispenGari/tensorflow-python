{
 "cells": [
  {
   "cell_type": "markdown",
   "id": "accurate-surgeon",
   "metadata": {},
   "source": [
    "## Fashion MNIST\n",
    "\n",
    "> Fashion-MNIST is a dataset of Zalando's article images consisting of a training set of 60,000 examples and a test set of 10,000 examples. Each example is a 28x28 grayscale image, associated with a label from 10 classes."
   ]
  },
  {
   "cell_type": "markdown",
   "id": "sporting-hamilton",
   "metadata": {},
   "source": [
    "### Imports"
   ]
  },
  {
   "cell_type": "code",
   "execution_count": 1,
   "id": "generous-oxford",
   "metadata": {},
   "outputs": [],
   "source": [
    "import tensorflow as tf\n",
    "from tensorflow import keras\n",
    "import matplotlib.pyplot as plt\n",
    "import numpy as np\n",
    "from tensorflow.keras import datasets"
   ]
  },
  {
   "cell_type": "markdown",
   "id": "overall-basis",
   "metadata": {},
   "source": [
    "### Getting the data"
   ]
  },
  {
   "cell_type": "code",
   "execution_count": 3,
   "id": "silent-liquid",
   "metadata": {},
   "outputs": [],
   "source": [
    "fashion = datasets.fashion_mnist.load_data()"
   ]
  },
  {
   "cell_type": "code",
   "execution_count": 4,
   "id": "female-mandate",
   "metadata": {},
   "outputs": [],
   "source": [
    "(X_train, y_train), (X_test, y_test) = fashion"
   ]
  },
  {
   "cell_type": "markdown",
   "id": "arabic-reverse",
   "metadata": {},
   "source": [
    "> I want to join all the X_data together in `X` and y_data in `y`."
   ]
  },
  {
   "cell_type": "code",
   "execution_count": 11,
   "id": "small-frequency",
   "metadata": {},
   "outputs": [],
   "source": [
    "X = np.concatenate([X_train, X_test])\n",
    "y = np.concatenate([y_train, y_test])"
   ]
  },
  {
   "cell_type": "code",
   "execution_count": 12,
   "id": "egyptian-mystery",
   "metadata": {},
   "outputs": [
    {
     "data": {
      "text/plain": [
       "((70000, 28, 28), (70000,))"
      ]
     },
     "execution_count": 12,
     "metadata": {},
     "output_type": "execute_result"
    }
   ],
   "source": [
    "X.shape, y.shape"
   ]
  },
  {
   "cell_type": "markdown",
   "id": "equivalent-roulette",
   "metadata": {},
   "source": [
    "> We have `70000` images of `28x28` and `70000` labels."
   ]
  },
  {
   "cell_type": "markdown",
   "id": "oriented-weapon",
   "metadata": {},
   "source": [
    "### Checking how the data is balanced"
   ]
  },
  {
   "cell_type": "code",
   "execution_count": 13,
   "id": "above-light",
   "metadata": {},
   "outputs": [],
   "source": [
    "class_names = ['T-shirt/top', 'Trouser', 'Pullover',\n",
    "               'Dress', 'Coat', 'Sandal', 'Shirt', \n",
    "               'Sneaker', 'Bag', 'Ankle boot']"
   ]
  },
  {
   "cell_type": "code",
   "execution_count": 14,
   "id": "stunning-gospel",
   "metadata": {},
   "outputs": [
    {
     "data": {
      "text/plain": [
       "{0: 7000,\n",
       " 1: 7000,\n",
       " 2: 7000,\n",
       " 3: 7000,\n",
       " 4: 7000,\n",
       " 5: 7000,\n",
       " 6: 7000,\n",
       " 7: 7000,\n",
       " 8: 7000,\n",
       " 9: 7000}"
      ]
     },
     "execution_count": 14,
     "metadata": {},
     "output_type": "execute_result"
    }
   ],
   "source": [
    "class_dict = {0:0, 1:0, 2:0, 3:0, 4:0, 5:0, 6:0, 7:0, 8:0, 9:0}\n",
    "\n",
    "for i in y:\n",
    "    class_dict[i] +=1\n",
    "class_dict"
   ]
  },
  {
   "cell_type": "markdown",
   "id": "straight-andrews",
   "metadata": {},
   "source": [
    "> **All classes are balanced**"
   ]
  },
  {
   "cell_type": "markdown",
   "id": "educated-cameroon",
   "metadata": {},
   "source": [
    "### Normailizing the `X` data."
   ]
  },
  {
   "cell_type": "code",
   "execution_count": 16,
   "id": "statutory-threat",
   "metadata": {},
   "outputs": [],
   "source": [
    "X= keras.utils.normalize(X, axis=1)"
   ]
  },
  {
   "cell_type": "code",
   "execution_count": 21,
   "id": "characteristic-voice",
   "metadata": {},
   "outputs": [
    {
     "data": {
      "image/png": "[encoded data removed]",
      "text/plain": [
       "<Figure size 432x288 with 1 Axes>"
      ]
     },
     "metadata": {
      "needs_background": "light"
     },
     "output_type": "display_data"
    }
   ],
   "source": [
    "plt.imshow(X[0], cmap=\"gray\")\n",
    "plt.title(class_names[y[0]], fontsize=16,)\n",
    "plt.show()"
   ]
  },
  {
   "cell_type": "markdown",
   "id": "surrounded-rhythm",
   "metadata": {},
   "source": [
    "### Model Creation"
   ]
  },
  {
   "cell_type": "code",
   "execution_count": 38,
   "id": "figured-prefix",
   "metadata": {},
   "outputs": [],
   "source": [
    "model = keras.Sequential([\n",
    "    keras.layers.Flatten(),\n",
    "    keras.layers.Dense(64, activation=\"relu\"),\n",
    "    keras.layers.Dense(32, activation=\"relu\"),\n",
    "    keras.layers.Dense(16, activation=\"relu\"),\n",
    "    keras.layers.Dense(10, activation=\"softmax\")\n",
    "])"
   ]
  },
  {
   "cell_type": "code",
   "execution_count": 52,
   "id": "southeast-middle",
   "metadata": {},
   "outputs": [],
   "source": [
    "model.compile(\n",
    "    optimizer = keras.optimizers.Adam(), ## SGD\n",
    "    loss = keras.losses.SparseCategoricalCrossentropy(),\n",
    "    metrics = ['accuracy']\n",
    ")"
   ]
  },
  {
   "cell_type": "code",
   "execution_count": 53,
   "id": "under-responsibility",
   "metadata": {},
   "outputs": [
    {
     "name": "stdout",
     "output_type": "stream",
     "text": [
      "Epoch 1/10\n",
      "6125/6125 - 13s - loss: 0.3804 - accuracy: 0.8594 - val_loss: 0.3845 - val_accuracy: 0.8600\n",
      "Epoch 2/10\n",
      "6125/6125 - 11s - loss: 0.3445 - accuracy: 0.8709 - val_loss: 0.3736 - val_accuracy: 0.8656\n",
      "Epoch 3/10\n",
      "6125/6125 - 11s - loss: 0.3231 - accuracy: 0.8789 - val_loss: 0.3865 - val_accuracy: 0.8626\n",
      "Epoch 4/10\n",
      "6125/6125 - 11s - loss: 0.3085 - accuracy: 0.8835 - val_loss: 0.3767 - val_accuracy: 0.8655\n",
      "Epoch 5/10\n",
      "6125/6125 - 11s - loss: 0.2899 - accuracy: 0.8910 - val_loss: 0.3388 - val_accuracy: 0.8768\n",
      "Epoch 6/10\n",
      "6125/6125 - 11s - loss: 0.2792 - accuracy: 0.8941 - val_loss: 0.3684 - val_accuracy: 0.8726\n",
      "Epoch 7/10\n",
      "6125/6125 - 11s - loss: 0.2665 - accuracy: 0.8992 - val_loss: 0.3440 - val_accuracy: 0.8811\n",
      "Epoch 8/10\n",
      "6125/6125 - 12s - loss: 0.2581 - accuracy: 0.9021 - val_loss: 0.3514 - val_accuracy: 0.8781\n",
      "Epoch 9/10\n",
      "6125/6125 - 12s - loss: 0.2485 - accuracy: 0.9068 - val_loss: 0.3503 - val_accuracy: 0.8792\n",
      "Epoch 10/10\n",
      "6125/6125 - 11s - loss: 0.2418 - accuracy: 0.9091 - val_loss: 0.3560 - val_accuracy: 0.8792\n"
     ]
    },
    {
     "data": {
      "text/plain": [
       "<tensorflow.python.keras.callbacks.History at 0x251395d6760>"
      ]
     },
     "execution_count": 53,
     "metadata": {},
     "output_type": "execute_result"
    }
   ],
   "source": [
    "EPOCHS = 10\n",
    "VERBOSE = 2\n",
    "VALIDATION_SPLIT = .3\n",
    "SHUFFLE = True\n",
    "BATCH_SIZE = 8\n",
    "model.fit(x=X, y=y, batch_size= BATCH_SIZE, verbose=VERBOSE, shuffle=SHUFFLE, validation_split=VALIDATION_SPLIT, epochs=EPOCHS)"
   ]
  },
  {
   "cell_type": "markdown",
   "id": "intensive-burden",
   "metadata": {},
   "source": [
    "### Analysing the Model"
   ]
  },
  {
   "cell_type": "markdown",
   "id": "expired-citizen",
   "metadata": {},
   "source": [
    "> We are not over-fitting the model that's because training accuracy and evaluating accuracy and loss are not far away from each other."
   ]
  },
  {
   "cell_type": "markdown",
   "id": "touched-bubble",
   "metadata": {},
   "source": [
    "### Making predictions"
   ]
  },
  {
   "cell_type": "code",
   "execution_count": 48,
   "id": "dated-digit",
   "metadata": {},
   "outputs": [
    {
     "data": {
      "text/plain": [
       "('Sandal', 'Sandal')"
      ]
     },
     "execution_count": 48,
     "metadata": {},
     "output_type": "execute_result"
    }
   ],
   "source": [
    "class_names[np.argmax(model.predict(X[9:10]))],class_names[ y[9:10][0]]"
   ]
  },
  {
   "cell_type": "code",
   "execution_count": 50,
   "id": "attached-twist",
   "metadata": {},
   "outputs": [
    {
     "data": {
      "image/png": "[encoded data removed]",
      "text/plain": [
       "<Figure size 432x288 with 1 Axes>"
      ]
     },
     "metadata": {
      "needs_background": "light"
     },
     "output_type": "display_data"
    }
   ],
   "source": [
    "plt.imshow(X[9], cmap=\"gray\")\n",
    "plt.show()"
   ]
  },
  {
   "cell_type": "markdown",
   "id": "iraqi-escape",
   "metadata": {},
   "source": [
    "> Done!! **The model seems to predict very well**"
   ]
  },
  {
   "cell_type": "code",
   "execution_count": null,
   "id": "prompt-station",
   "metadata": {},
   "outputs": [],
   "source": []
  }
 ],
 "metadata": {
  "kernelspec": {
   "display_name": "Python 3",
   "language": "python",
   "name": "python3"
  },
  "language_info": {
   "codemirror_mode": {
    "name": "ipython",
    "version": 3
   },
   "file_extension": ".py",
   "mimetype": "text/x-python",
   "name": "python",
   "nbconvert_exporter": "python",
   "pygments_lexer": "ipython3",
   "version": "3.8.5"
  }
 },
 "nbformat": 4,
 "nbformat_minor": 5
}
