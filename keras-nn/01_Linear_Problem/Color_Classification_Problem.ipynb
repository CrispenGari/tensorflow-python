{
 "cells": [
  {
   "cell_type": "markdown",
   "id": "outside-manner",
   "metadata": {},
   "source": [
    "### Neural Networks -- Keras (Linear Problem)\n",
    "> In this problem we will identify a color using a simple NN implemented using the Keras API"
   ]
  },
  {
   "cell_type": "code",
   "execution_count": 1,
   "id": "cognitive-insulation",
   "metadata": {},
   "outputs": [],
   "source": [
    "import matplotlib.pyplot as plt\n",
    "import seaborn as sns\n",
    "import tensorflow as tf\n",
    "import numpy as np\n",
    "from tensorflow import keras\n",
    "import pandas as pd"
   ]
  },
  {
   "cell_type": "code",
   "execution_count": 2,
   "id": "bright-opening",
   "metadata": {},
   "outputs": [],
   "source": [
    "train_data = pd.read_csv('data/train.csv')\n",
    "test_data = pd.read_csv('data/test.csv')"
   ]
  },
  {
   "cell_type": "code",
   "execution_count": 3,
   "id": "freelance-nudist",
   "metadata": {},
   "outputs": [],
   "source": [
    "np.random.shuffle(train_data.values)\n",
    "np.random.shuffle(test_data.values)"
   ]
  },
  {
   "cell_type": "code",
   "execution_count": 4,
   "id": "sixth-shoot",
   "metadata": {},
   "outputs": [
    {
     "data": {
      "text/html": [
       "<div>\n",
       "<style scoped>\n",
       "    .dataframe tbody tr th:only-of-type {\n",
       "        vertical-align: middle;\n",
       "    }\n",
       "\n",
       "    .dataframe tbody tr th {\n",
       "        vertical-align: top;\n",
       "    }\n",
       "\n",
       "    .dataframe thead th {\n",
       "        text-align: right;\n",
       "    }\n",
       "</style>\n",
       "<table border=\"1\" class=\"dataframe\">\n",
       "  <thead>\n",
       "    <tr style=\"text-align: right;\">\n",
       "      <th></th>\n",
       "      <th>x</th>\n",
       "      <th>y</th>\n",
       "      <th>color</th>\n",
       "    </tr>\n",
       "  </thead>\n",
       "  <tbody>\n",
       "    <tr>\n",
       "      <th>0</th>\n",
       "      <td>3.217611</td>\n",
       "      <td>4.485714</td>\n",
       "      <td>0.0</td>\n",
       "    </tr>\n",
       "    <tr>\n",
       "      <th>1</th>\n",
       "      <td>2.212610</td>\n",
       "      <td>3.246723</td>\n",
       "      <td>0.0</td>\n",
       "    </tr>\n",
       "    <tr>\n",
       "      <th>2</th>\n",
       "      <td>0.192601</td>\n",
       "      <td>0.577359</td>\n",
       "      <td>0.0</td>\n",
       "    </tr>\n",
       "    <tr>\n",
       "      <th>3</th>\n",
       "      <td>1.328990</td>\n",
       "      <td>2.204454</td>\n",
       "      <td>0.0</td>\n",
       "    </tr>\n",
       "    <tr>\n",
       "      <th>4</th>\n",
       "      <td>4.345227</td>\n",
       "      <td>5.594037</td>\n",
       "      <td>0.0</td>\n",
       "    </tr>\n",
       "  </tbody>\n",
       "</table>\n",
       "</div>"
      ],
      "text/plain": [
       "          x         y  color\n",
       "0  3.217611  4.485714    0.0\n",
       "1  2.212610  3.246723    0.0\n",
       "2  0.192601  0.577359    0.0\n",
       "3  1.328990  2.204454    0.0\n",
       "4  4.345227  5.594037    0.0"
      ]
     },
     "execution_count": 4,
     "metadata": {},
     "output_type": "execute_result"
    }
   ],
   "source": [
    "train_data.head()"
   ]
  },
  {
   "cell_type": "code",
   "execution_count": 5,
   "id": "pharmaceutical-cocktail",
   "metadata": {},
   "outputs": [
    {
     "data": {
      "text/plain": [
       "array([0., 1.])"
      ]
     },
     "execution_count": 5,
     "metadata": {},
     "output_type": "execute_result"
    }
   ],
   "source": [
    "train_data.color.unique()"
   ]
  },
  {
   "cell_type": "markdown",
   "id": "rocky-heather",
   "metadata": {},
   "source": [
    "> We have to classify if a color is either `0` or `1` using Neural Networks."
   ]
  },
  {
   "cell_type": "markdown",
   "id": "thorough-recommendation",
   "metadata": {},
   "source": [
    "### Extracting columns from a pandas datafram to numpy arrays"
   ]
  },
  {
   "cell_type": "markdown",
   "id": "modular-providence",
   "metadata": {},
   "source": [
    "#### 1. First way\n",
    "> Using numpy `column_stack()` function"
   ]
  },
  {
   "cell_type": "code",
   "execution_count": 6,
   "id": "effective-roots",
   "metadata": {},
   "outputs": [
    {
     "data": {
      "text/plain": [
       "array([[3.2176107 , 4.4857142 ],\n",
       "       [2.21261049, 3.2467228 ],\n",
       "       [0.1926006 , 0.57735909],\n",
       "       ...,\n",
       "       [2.96239673, 4.13644968],\n",
       "       [2.33627892, 3.51532702],\n",
       "       [4.47424221, 5.74981609]])"
      ]
     },
     "execution_count": 6,
     "metadata": {},
     "output_type": "execute_result"
    }
   ],
   "source": [
    "X_train = np.column_stack([train_data.x.values, train_data.y.values])\n",
    "X_train"
   ]
  },
  {
   "cell_type": "markdown",
   "id": "medieval-sigma",
   "metadata": {},
   "source": [
    "#### 2. 2nd way\n",
    "> Using numpy `fancy` indexing"
   ]
  },
  {
   "cell_type": "code",
   "execution_count": 7,
   "id": "cathedral-hazard",
   "metadata": {},
   "outputs": [
    {
     "data": {
      "text/plain": [
       "(array([3.2176107, 4.4857142]), 1)"
      ]
     },
     "execution_count": 7,
     "metadata": {},
     "output_type": "execute_result"
    }
   ],
   "source": [
    "X_train = train_data[:].values[:, :2]\n",
    "y_train = train_data[:].values[:, -1].astype(np.uint8)\n",
    "X_train[0], y_train[0]\n",
    "\n",
    "X_test = test_data[:].values[:,:2]\n",
    "y_test = test_data[:].values[:,-1].astype(np.uint8)\n",
    "\n",
    "X_train[0], y_test[0]"
   ]
  },
  {
   "cell_type": "markdown",
   "id": "known-austria",
   "metadata": {},
   "source": [
    "### Visualisation\n",
    "> We are going to visualize our data using `seaborn`"
   ]
  },
  {
   "cell_type": "code",
   "execution_count": 8,
   "id": "micro-building",
   "metadata": {},
   "outputs": [
    {
     "data": {
      "image/png": "[encoded data removed]",
      "text/plain": [
       "<Figure size 432x288 with 1 Axes>"
      ]
     },
     "metadata": {
      "needs_background": "light"
     },
     "output_type": "display_data"
    }
   ],
   "source": [
    "sns.scatterplot(data=train_data, x='x', y='y', hue='color')\n",
    "plt.show()"
   ]
  },
  {
   "cell_type": "markdown",
   "id": "suited-garden",
   "metadata": {},
   "source": [
    "> By looking at this data we can see that this data is easy to classify."
   ]
  },
  {
   "cell_type": "markdown",
   "id": "agreed-rental",
   "metadata": {},
   "source": [
    "### Building our First Neural Network."
   ]
  },
  {
   "cell_type": "code",
   "execution_count": 9,
   "id": "therapeutic-giving",
   "metadata": {},
   "outputs": [
    {
     "data": {
      "text/plain": [
       "(2, (4000,))"
      ]
     },
     "execution_count": 9,
     "metadata": {},
     "output_type": "execute_result"
    }
   ],
   "source": [
    "X_train.ndim , y_train.shape"
   ]
  },
  {
   "cell_type": "markdown",
   "id": "sublime-qualification",
   "metadata": {},
   "source": [
    "> Before fitting the data we must `shuffle` it first"
   ]
  },
  {
   "cell_type": "code",
   "execution_count": null,
   "id": "illegal-kuwait",
   "metadata": {},
   "outputs": [],
   "source": []
  },
  {
   "cell_type": "markdown",
   "id": "toxic-irrigation",
   "metadata": {},
   "source": [
    "### Model Creation"
   ]
  },
  {
   "cell_type": "code",
   "execution_count": 10,
   "id": "useful-moisture",
   "metadata": {},
   "outputs": [],
   "source": [
    "model = keras.Sequential([\n",
    "    # This is our first layer with 4 Neurons and two inputs X and y\n",
    "    keras.layers.Dense(4, input_shape=(2,), activation='relu'),\n",
    "    # This is our output layer with 2 outputs\n",
    "    keras.layers.Dense(2, activation= 'sigmoid' )\n",
    "])"
   ]
  },
  {
   "cell_type": "markdown",
   "id": "korean-affairs",
   "metadata": {},
   "source": [
    "### Terms to understand\n",
    "\n",
    "1. Dense\n",
    "* **Dense layer** is the regular deeply connected neural network layer. It is most common and frequently used layer. **Dense layer** does the below operation on the input and return the output.\n",
    "```\n",
    "output = activation(dot(input, kernel) + bias)\n",
    "```\n",
    "[Keras Docs](https://keras.io/api/layers/core_layers/dense/)\n",
    "\n",
    "2. Activations\n",
    "[Keras Docs](https://keras.io/api/layers/activations/)\n",
    "* **relu** - Applies the rectified linear unit activation function\n",
    "* **sigmoid** - Applies the sigmoid activation function. **For small values (<-5), sigmoid returns a value close to zero, and for large values (>5) the result of the function gets close to 1.** Sigmoid is equivalent to a 2-element Softmax, where the second element is assumed to be zero. **The sigmoid function always returns a value between `0 and 1`.**\n",
    "* **softmax** - Softmax converts a real vector to a vector of categorical probabilities. The elements of the output vector are in range **(0, 1) and sum to 1**.  Basically the softmax give us the probability of the outcome to occur.\n",
    "* **softplus**\n",
    "* **softsign**\n",
    "* **tanh** - Hyperbolic tangent activation function.\n",
    "* **selu** - **S**caled **E**xponential **L**inear **U**nit **(SELU).**\n",
    "* **elu** - **E**xponential **L**inear **U**nit.\n",
    "* **exponentail** "
   ]
  },
  {
   "cell_type": "markdown",
   "id": "collect-simple",
   "metadata": {},
   "source": [
    "### Model Compilation\n",
    "> To compile the model we use the `model.compile()` function."
   ]
  },
  {
   "cell_type": "code",
   "execution_count": 11,
   "id": "light-producer",
   "metadata": {},
   "outputs": [],
   "source": [
    "model.compile(optimizer=\"adam\",\n",
    "             loss=keras.losses.SparseCategoricalCrossentropy(from_logits=True),\n",
    "             metrics=[\"accuracy\"])"
   ]
  },
  {
   "cell_type": "markdown",
   "id": "acute-coffee",
   "metadata": {},
   "source": [
    "### Terms to know.\n",
    "\n",
    "1. **Optimizers**\n",
    "   a) **SGD**\n",
    "   ```\n",
    "   tf.keras.optimizers.SGD(\n",
    "    learning_rate=0.01, momentum=0.0, nesterov=False, name=\"SGD\", **kwargs)\n",
    "   ```\n",
    "   b) **RMSprop**\n",
    "   ```\n",
    "   tf.keras.optimizers.RMSprop(\n",
    "    learning_rate=0.001,\n",
    "    rho=0.9,\n",
    "    momentum=0.0,\n",
    "    epsilon=1e-07,\n",
    "    centered=False,\n",
    "    name=\"RMSprop\",\n",
    "    **kwargs\n",
    "    )\n",
    "   ```\n",
    "   c) **Adam**\n",
    "   ```\n",
    "   tf.keras.optimizers.Adam(\n",
    "    learning_rate=0.001,\n",
    "    beta_1=0.9,\n",
    "    beta_2=0.999,\n",
    "    epsilon=1e-07,\n",
    "    amsgrad=False,\n",
    "    name=\"Adam\",\n",
    "    **kwargs\n",
    "    )\n",
    "   ```\n",
    "   d). **Adadelta**\n",
    "   e). **Adagrad**\n",
    "   f). **Adamax**\n",
    "   g). **Nadam**\n",
    "   f). **Ftrl**\n",
    "   \n",
    "   [More](https://keras.io/api/optimizers)\n",
    "\n",
    "2. **Loses**\n",
    "* The purpose of loss functions is to compute the quantity that a model should seek to minimize during training.\n",
    "> [Docs](https://keras.io/api/losses/)\n",
    "\n",
    " * **BinaryCrossentropy** - Use this cross-entropy loss when there are only two label classes (assumed to be 0 and 1). For each example, there should be a single floating-point value per prediction.\n",
    "* **CategoricalCrossentropy** - Use this crossentropy loss function when there are two or more label classes. We expect labels to be provided in a one_hot representation.\n",
    "\n",
    "* **SparseCategoricalCrossentropy** - Use this crossentropy loss function when there are two or more label classes. We expect labels to be provided as integers. If you want to provide labels using one-hot representation, please use CategoricalCrossentropy loss. There should be # classes floating point values per feature for y_pred and a single floating point value per feature for y_true.\n",
    "\n",
    "**....**\n",
    "\n",
    "3. **Metrics**\n",
    "**[Docs](https://keras.io/api/metrics/)**\n"
   ]
  },
  {
   "cell_type": "markdown",
   "id": "biological-angola",
   "metadata": {},
   "source": [
    "### Fitting the Model"
   ]
  },
  {
   "cell_type": "code",
   "execution_count": 12,
   "id": "lonely-australian",
   "metadata": {},
   "outputs": [
    {
     "name": "stdout",
     "output_type": "stream",
     "text": [
      "Epoch 1/10\n",
      "800/800 [==============================] - 2s 1ms/step - loss: 1.0058 - accuracy: 0.5893\n",
      "Epoch 2/10\n",
      "800/800 [==============================] - 1s 1ms/step - loss: 0.1947 - accuracy: 0.9970\n",
      "Epoch 3/10\n",
      "800/800 [==============================] - 1s 1ms/step - loss: 0.0950 - accuracy: 1.0000\n",
      "Epoch 4/10\n",
      "800/800 [==============================] - 1s 1ms/step - loss: 0.0521 - accuracy: 1.0000\n",
      "Epoch 5/10\n",
      "800/800 [==============================] - 1s 1ms/step - loss: 0.0289 - accuracy: 1.0000\n",
      "Epoch 6/10\n",
      "800/800 [==============================] - 1s 994us/step - loss: 0.0166 - accuracy: 1.0000\n",
      "Epoch 7/10\n",
      "800/800 [==============================] - 1s 992us/step - loss: 0.0094 - accuracy: 1.0000\n",
      "Epoch 8/10\n",
      "800/800 [==============================] - 1s 999us/step - loss: 0.0058 - accuracy: 1.0000\n",
      "Epoch 9/10\n",
      "800/800 [==============================] - 1s 994us/step - loss: 0.0042 - accuracy: 1.0000\n",
      "Epoch 10/10\n",
      "800/800 [==============================] - 1s 1ms/step - loss: 0.0030 - accuracy: 1.0000\n"
     ]
    },
    {
     "data": {
      "text/plain": [
       "<tensorflow.python.keras.callbacks.History at 0x1966dab8880>"
      ]
     },
     "execution_count": 12,
     "metadata": {},
     "output_type": "execute_result"
    }
   ],
   "source": [
    "model.fit(X_train, y_train, batch_size=5, epochs=10)"
   ]
  },
  {
   "cell_type": "markdown",
   "id": "cooperative-stockholm",
   "metadata": {},
   "source": [
    "### Model Evaluation"
   ]
  },
  {
   "cell_type": "code",
   "execution_count": 13,
   "id": "portuguese-arrow",
   "metadata": {},
   "outputs": [
    {
     "name": "stdout",
     "output_type": "stream",
     "text": [
      "32/32 [==============================] - 0s 1ms/step - loss: 0.0023 - accuracy: 1.0000\n"
     ]
    },
    {
     "data": {
      "text/plain": [
       "[0.002272269455716014, 1.0]"
      ]
     },
     "execution_count": 13,
     "metadata": {},
     "output_type": "execute_result"
    }
   ],
   "source": [
    "model.evaluate(X_test, y_test)"
   ]
  },
  {
   "cell_type": "markdown",
   "id": "canadian-seventh",
   "metadata": {},
   "source": [
    "> Our model is accurate in predicting colors."
   ]
  },
  {
   "cell_type": "markdown",
   "id": "analyzed-memory",
   "metadata": {},
   "source": [
    "### Making predictions"
   ]
  },
  {
   "cell_type": "code",
   "execution_count": 14,
   "id": "medical-wrist",
   "metadata": {},
   "outputs": [
    {
     "data": {
      "text/plain": [
       "(array([[0.08780494, 0.99517524],\n",
       "        [0.10543489, 0.9921296 ],\n",
       "        [0.0339725 , 0.99945176],\n",
       "        [0.9931221 , 0.036652  ],\n",
       "        [0.94156075, 0.08054531]], dtype=float32),\n",
       " array([1, 1, 1, 0, 0], dtype=uint8))"
      ]
     },
     "execution_count": 14,
     "metadata": {},
     "output_type": "execute_result"
    }
   ],
   "source": [
    "model.predict(X_test[:5]), y_test[:5]"
   ]
  },
  {
   "cell_type": "code",
   "execution_count": null,
   "id": "burning-formation",
   "metadata": {},
   "outputs": [],
   "source": [
    "> Probably our mode"
   ]
  },
  {
   "cell_type": "code",
   "execution_count": null,
   "id": "interior-undergraduate",
   "metadata": {},
   "outputs": [],
   "source": []
  }
 ],
 "metadata": {
  "kernelspec": {
   "display_name": "Python 3",
   "language": "python",
   "name": "python3"
  },
  "language_info": {
   "codemirror_mode": {
    "name": "ipython",
    "version": 3
   },
   "file_extension": ".py",
   "mimetype": "text/x-python",
   "name": "python",
   "nbconvert_exporter": "python",
   "pygments_lexer": "ipython3",
   "version": "3.8.5"
  }
 },
 "nbformat": 4,
 "nbformat_minor": 5
}
