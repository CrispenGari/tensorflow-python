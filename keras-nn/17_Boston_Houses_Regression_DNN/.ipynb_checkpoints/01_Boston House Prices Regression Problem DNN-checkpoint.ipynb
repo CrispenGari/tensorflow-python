{
 "cells": [
  {
   "cell_type": "markdown",
   "id": "violent-excerpt",
   "metadata": {},
   "source": [
    "### Boston Housing DNN - Regression Problem"
   ]
  },
  {
   "cell_type": "code",
   "execution_count": 26,
   "id": "separate-newark",
   "metadata": {},
   "outputs": [],
   "source": [
    "import numpy as np\n",
    "import pandas as pd\n",
    "import tensorflow as tf\n",
    "from tensorflow import keras\n",
    "import seaborn as sns\n",
    "from matplotlib import pyplot as plt\n",
    "from sklearn.model_selection import train_test_split"
   ]
  },
  {
   "cell_type": "markdown",
   "id": "wrapped-coordinate",
   "metadata": {},
   "source": [
    "### Loading data"
   ]
  },
  {
   "cell_type": "code",
   "execution_count": 8,
   "id": "effective-deposit",
   "metadata": {},
   "outputs": [],
   "source": [
    "column_names = ['CRIM', 'ZN', 'INDUS', 'CHAS', 'NOX', 'RM', 'AGE', 'DIS', 'RAD', 'TAX', 'PTRATIO', 'B', 'LSTAT', 'MEDV']\n",
    "\n",
    "boston = pd.read_csv('data/housing.csv', header=None, delimiter=r\"\\s+\", names=column_names)"
   ]
  },
  {
   "cell_type": "code",
   "execution_count": 9,
   "id": "sixth-break",
   "metadata": {},
   "outputs": [
    {
     "data": {
      "text/html": [
       "<div>\n",
       "<style scoped>\n",
       "    .dataframe tbody tr th:only-of-type {\n",
       "        vertical-align: middle;\n",
       "    }\n",
       "\n",
       "    .dataframe tbody tr th {\n",
       "        vertical-align: top;\n",
       "    }\n",
       "\n",
       "    .dataframe thead th {\n",
       "        text-align: right;\n",
       "    }\n",
       "</style>\n",
       "<table border=\"1\" class=\"dataframe\">\n",
       "  <thead>\n",
       "    <tr style=\"text-align: right;\">\n",
       "      <th></th>\n",
       "      <th>CRIM</th>\n",
       "      <th>ZN</th>\n",
       "      <th>INDUS</th>\n",
       "      <th>CHAS</th>\n",
       "      <th>NOX</th>\n",
       "      <th>RM</th>\n",
       "      <th>AGE</th>\n",
       "      <th>DIS</th>\n",
       "      <th>RAD</th>\n",
       "      <th>TAX</th>\n",
       "      <th>PTRATIO</th>\n",
       "      <th>B</th>\n",
       "      <th>LSTAT</th>\n",
       "      <th>MEDV</th>\n",
       "    </tr>\n",
       "  </thead>\n",
       "  <tbody>\n",
       "    <tr>\n",
       "      <th>0</th>\n",
       "      <td>0.00632</td>\n",
       "      <td>18.0</td>\n",
       "      <td>2.31</td>\n",
       "      <td>0</td>\n",
       "      <td>0.538</td>\n",
       "      <td>6.575</td>\n",
       "      <td>65.2</td>\n",
       "      <td>4.0900</td>\n",
       "      <td>1</td>\n",
       "      <td>296.0</td>\n",
       "      <td>15.3</td>\n",
       "      <td>396.90</td>\n",
       "      <td>4.98</td>\n",
       "      <td>24.0</td>\n",
       "    </tr>\n",
       "    <tr>\n",
       "      <th>1</th>\n",
       "      <td>0.02731</td>\n",
       "      <td>0.0</td>\n",
       "      <td>7.07</td>\n",
       "      <td>0</td>\n",
       "      <td>0.469</td>\n",
       "      <td>6.421</td>\n",
       "      <td>78.9</td>\n",
       "      <td>4.9671</td>\n",
       "      <td>2</td>\n",
       "      <td>242.0</td>\n",
       "      <td>17.8</td>\n",
       "      <td>396.90</td>\n",
       "      <td>9.14</td>\n",
       "      <td>21.6</td>\n",
       "    </tr>\n",
       "    <tr>\n",
       "      <th>2</th>\n",
       "      <td>0.02729</td>\n",
       "      <td>0.0</td>\n",
       "      <td>7.07</td>\n",
       "      <td>0</td>\n",
       "      <td>0.469</td>\n",
       "      <td>7.185</td>\n",
       "      <td>61.1</td>\n",
       "      <td>4.9671</td>\n",
       "      <td>2</td>\n",
       "      <td>242.0</td>\n",
       "      <td>17.8</td>\n",
       "      <td>392.83</td>\n",
       "      <td>4.03</td>\n",
       "      <td>34.7</td>\n",
       "    </tr>\n",
       "    <tr>\n",
       "      <th>3</th>\n",
       "      <td>0.03237</td>\n",
       "      <td>0.0</td>\n",
       "      <td>2.18</td>\n",
       "      <td>0</td>\n",
       "      <td>0.458</td>\n",
       "      <td>6.998</td>\n",
       "      <td>45.8</td>\n",
       "      <td>6.0622</td>\n",
       "      <td>3</td>\n",
       "      <td>222.0</td>\n",
       "      <td>18.7</td>\n",
       "      <td>394.63</td>\n",
       "      <td>2.94</td>\n",
       "      <td>33.4</td>\n",
       "    </tr>\n",
       "    <tr>\n",
       "      <th>4</th>\n",
       "      <td>0.06905</td>\n",
       "      <td>0.0</td>\n",
       "      <td>2.18</td>\n",
       "      <td>0</td>\n",
       "      <td>0.458</td>\n",
       "      <td>7.147</td>\n",
       "      <td>54.2</td>\n",
       "      <td>6.0622</td>\n",
       "      <td>3</td>\n",
       "      <td>222.0</td>\n",
       "      <td>18.7</td>\n",
       "      <td>396.90</td>\n",
       "      <td>5.33</td>\n",
       "      <td>36.2</td>\n",
       "    </tr>\n",
       "  </tbody>\n",
       "</table>\n",
       "</div>"
      ],
      "text/plain": [
       "      CRIM    ZN  INDUS  CHAS    NOX     RM   AGE     DIS  RAD    TAX  \\\n",
       "0  0.00632  18.0   2.31     0  0.538  6.575  65.2  4.0900    1  296.0   \n",
       "1  0.02731   0.0   7.07     0  0.469  6.421  78.9  4.9671    2  242.0   \n",
       "2  0.02729   0.0   7.07     0  0.469  7.185  61.1  4.9671    2  242.0   \n",
       "3  0.03237   0.0   2.18     0  0.458  6.998  45.8  6.0622    3  222.0   \n",
       "4  0.06905   0.0   2.18     0  0.458  7.147  54.2  6.0622    3  222.0   \n",
       "\n",
       "   PTRATIO       B  LSTAT  MEDV  \n",
       "0     15.3  396.90   4.98  24.0  \n",
       "1     17.8  396.90   9.14  21.6  \n",
       "2     17.8  392.83   4.03  34.7  \n",
       "3     18.7  394.63   2.94  33.4  \n",
       "4     18.7  396.90   5.33  36.2  "
      ]
     },
     "execution_count": 9,
     "metadata": {},
     "output_type": "execute_result"
    }
   ],
   "source": [
    "boston.head()"
   ]
  },
  {
   "cell_type": "markdown",
   "id": "linear-composite",
   "metadata": {},
   "source": [
    "> The price of the houses we want to predict are in the column `MEDV`"
   ]
  },
  {
   "cell_type": "code",
   "execution_count": 10,
   "id": "coastal-midwest",
   "metadata": {},
   "outputs": [
    {
     "data": {
      "text/plain": [
       "CRIM       0\n",
       "ZN         0\n",
       "INDUS      0\n",
       "CHAS       0\n",
       "NOX        0\n",
       "RM         0\n",
       "AGE        0\n",
       "DIS        0\n",
       "RAD        0\n",
       "TAX        0\n",
       "PTRATIO    0\n",
       "B          0\n",
       "LSTAT      0\n",
       "MEDV       0\n",
       "dtype: int64"
      ]
     },
     "execution_count": 10,
     "metadata": {},
     "output_type": "execute_result"
    }
   ],
   "source": [
    "boston.isna().sum()"
   ]
  },
  {
   "cell_type": "markdown",
   "id": "featured-department",
   "metadata": {},
   "source": [
    "> We don't have `nan` values in the dataset which is cool."
   ]
  },
  {
   "cell_type": "markdown",
   "id": "tribal-disposal",
   "metadata": {},
   "source": [
    "### Splitting features and labels"
   ]
  },
  {
   "cell_type": "code",
   "execution_count": 17,
   "id": "official-trial",
   "metadata": {},
   "outputs": [],
   "source": [
    "boston_arrays = boston.values.astype('float32')"
   ]
  },
  {
   "cell_type": "code",
   "execution_count": 18,
   "id": "toxic-certification",
   "metadata": {},
   "outputs": [
    {
     "data": {
      "text/plain": [
       "(506, 14)"
      ]
     },
     "execution_count": 18,
     "metadata": {},
     "output_type": "execute_result"
    }
   ],
   "source": [
    "boston_arrays.shape"
   ]
  },
  {
   "cell_type": "code",
   "execution_count": 21,
   "id": "round-statement",
   "metadata": {},
   "outputs": [
    {
     "data": {
      "text/plain": [
       "array([24. , 21.6], dtype=float32)"
      ]
     },
     "execution_count": 21,
     "metadata": {},
     "output_type": "execute_result"
    }
   ],
   "source": [
    "targets = boston_arrays[:,-1]\n",
    "targets[:2]"
   ]
  },
  {
   "cell_type": "code",
   "execution_count": 25,
   "id": "civilian-corrections",
   "metadata": {},
   "outputs": [
    {
     "data": {
      "text/plain": [
       "array([[6.3200e-03, 1.8000e+01, 2.3100e+00, 0.0000e+00, 5.3800e-01,\n",
       "        6.5750e+00, 6.5200e+01, 4.0900e+00, 1.0000e+00, 2.9600e+02,\n",
       "        1.5300e+01, 3.9690e+02, 4.9800e+00],\n",
       "       [2.7310e-02, 0.0000e+00, 7.0700e+00, 0.0000e+00, 4.6900e-01,\n",
       "        6.4210e+00, 7.8900e+01, 4.9671e+00, 2.0000e+00, 2.4200e+02,\n",
       "        1.7800e+01, 3.9690e+02, 9.1400e+00]], dtype=float32)"
      ]
     },
     "execution_count": 25,
     "metadata": {},
     "output_type": "execute_result"
    }
   ],
   "source": [
    "features = boston_arrays[:,:-1]\n",
    "features[:2]"
   ]
  },
  {
   "cell_type": "code",
   "execution_count": 28,
   "id": "appointed-prefix",
   "metadata": {},
   "outputs": [],
   "source": [
    "X_train, X_test, y_train, y_test = train_test_split(features, targets, test_size = .2, random_state=33)"
   ]
  },
  {
   "cell_type": "markdown",
   "id": "recognized-credits",
   "metadata": {},
   "source": [
    "### Data Normalization"
   ]
  },
  {
   "cell_type": "code",
   "execution_count": 30,
   "id": "occupational-storm",
   "metadata": {},
   "outputs": [],
   "source": [
    "from tensorflow.keras.layers.experimental.preprocessing import Normalization"
   ]
  },
  {
   "cell_type": "code",
   "execution_count": 31,
   "id": "heard-madagascar",
   "metadata": {},
   "outputs": [],
   "source": [
    "normalize = Normalization(input_shape=[13, ])"
   ]
  },
  {
   "cell_type": "code",
   "execution_count": 32,
   "id": "superb-chapter",
   "metadata": {},
   "outputs": [],
   "source": [
    "normalize.adapt(X_train)"
   ]
  },
  {
   "cell_type": "markdown",
   "id": "assured-adrian",
   "metadata": {},
   "source": [
    "### Model Creation"
   ]
  },
  {
   "cell_type": "code",
   "execution_count": 33,
   "id": "radio-package",
   "metadata": {},
   "outputs": [],
   "source": [
    "model = keras.Sequential([\n",
    "    normalize,\n",
    "    keras.layers.Dense(64, activation='relu'),\n",
    "    keras.layers.Dense(32, activation='relu'),\n",
    "    keras.layers.Dense(16, activation='relu'),\n",
    "    keras.layers.Dense(1)\n",
    "])"
   ]
  },
  {
   "cell_type": "code",
   "execution_count": 41,
   "id": "aggregate-coordination",
   "metadata": {},
   "outputs": [],
   "source": [
    "model.compile(\n",
    "    loss = 'mean_absolute_error',\n",
    "    optimizer = keras.optimizers.Adam(lr=.001),\n",
    "    metrics = ['mse']\n",
    ")"
   ]
  },
  {
   "cell_type": "code",
   "execution_count": 42,
   "id": "terminal-native",
   "metadata": {},
   "outputs": [
    {
     "name": "stdout",
     "output_type": "stream",
     "text": [
      "Epoch 1/20\n",
      "41/41 [==============================] - 1s 9ms/step - loss: 1.9001 - mse: 7.3198 - val_loss: 2.6972 - val_mse: 12.6023\n",
      "Epoch 2/20\n",
      "41/41 [==============================] - 0s 4ms/step - loss: 1.6212 - mse: 6.2468 - val_loss: 2.6433 - val_mse: 11.2610\n",
      "Epoch 3/20\n",
      "41/41 [==============================] - 0s 4ms/step - loss: 1.7546 - mse: 8.8790 - val_loss: 2.5910 - val_mse: 11.3033\n",
      "Epoch 4/20\n",
      "41/41 [==============================] - 0s 5ms/step - loss: 1.3128 - mse: 4.1863 - val_loss: 2.6780 - val_mse: 12.6027\n",
      "Epoch 5/20\n",
      "41/41 [==============================] - 0s 4ms/step - loss: 1.4425 - mse: 4.6330 - val_loss: 2.5247 - val_mse: 10.9822\n",
      "Epoch 6/20\n",
      "41/41 [==============================] - 0s 4ms/step - loss: 1.5428 - mse: 6.2873 - val_loss: 2.5037 - val_mse: 10.9446\n",
      "Epoch 7/20\n",
      "41/41 [==============================] - 0s 4ms/step - loss: 1.5033 - mse: 6.2798 - val_loss: 2.5192 - val_mse: 10.8623\n",
      "Epoch 8/20\n",
      "41/41 [==============================] - 0s 3ms/step - loss: 1.3229 - mse: 4.7821 - val_loss: 2.4447 - val_mse: 10.4854\n",
      "Epoch 9/20\n",
      "41/41 [==============================] - 0s 3ms/step - loss: 1.4236 - mse: 6.1799 - val_loss: 2.4265 - val_mse: 10.3357\n",
      "Epoch 10/20\n",
      "41/41 [==============================] - 0s 3ms/step - loss: 1.3867 - mse: 5.5817 - val_loss: 2.4393 - val_mse: 10.3451\n",
      "Epoch 11/20\n",
      "41/41 [==============================] - 0s 3ms/step - loss: 1.4100 - mse: 6.3250 - val_loss: 2.4157 - val_mse: 10.5645\n",
      "Epoch 12/20\n",
      "41/41 [==============================] - 0s 4ms/step - loss: 1.4356 - mse: 5.8680 - val_loss: 2.7110 - val_mse: 12.8905\n",
      "Epoch 13/20\n",
      "41/41 [==============================] - 0s 4ms/step - loss: 1.3456 - mse: 4.2182 - val_loss: 2.5832 - val_mse: 11.7249\n",
      "Epoch 14/20\n",
      "41/41 [==============================] - 0s 3ms/step - loss: 1.3216 - mse: 4.4803 - val_loss: 2.4687 - val_mse: 10.9163\n",
      "Epoch 15/20\n",
      "41/41 [==============================] - 0s 3ms/step - loss: 1.3696 - mse: 5.1127 - val_loss: 2.5830 - val_mse: 11.5274\n",
      "Epoch 16/20\n",
      "41/41 [==============================] - 0s 3ms/step - loss: 1.5863 - mse: 9.0854 - val_loss: 2.4894 - val_mse: 10.8744\n",
      "Epoch 17/20\n",
      "41/41 [==============================] - 0s 3ms/step - loss: 1.3195 - mse: 5.7286 - val_loss: 2.4904 - val_mse: 11.0052\n",
      "Epoch 18/20\n",
      "41/41 [==============================] - 0s 3ms/step - loss: 1.3112 - mse: 4.3812 - val_loss: 2.4488 - val_mse: 10.3852\n",
      "Epoch 19/20\n",
      "41/41 [==============================] - 0s 4ms/step - loss: 1.3436 - mse: 4.5222 - val_loss: 2.4930 - val_mse: 10.5279\n",
      "Epoch 20/20\n",
      "41/41 [==============================] - 0s 3ms/step - loss: 1.5304 - mse: 9.1286 - val_loss: 2.4372 - val_mse: 10.7901\n"
     ]
    }
   ],
   "source": [
    "EPOCHS = 20\n",
    "BATCH_SIZE = 8\n",
    "VERBOSE = 1\n",
    "VALIDATION_SPLIT = .2\n",
    "\n",
    "history = model.fit(X_train, y_train, epochs=EPOCHS, verbose=VERBOSE, batch_size=BATCH_SIZE, validation_split=VALIDATION_SPLIT)"
   ]
  },
  {
   "cell_type": "markdown",
   "id": "derived-matrix",
   "metadata": {},
   "source": [
    "### Visualising the Model Training history:"
   ]
  },
  {
   "cell_type": "code",
   "execution_count": 44,
   "id": "foster-virgin",
   "metadata": {},
   "outputs": [
    {
     "data": {
      "image/png": "[encoded data removed]",
      "text/plain": [
       "<Figure size 432x288 with 1 Axes>"
      ]
     },
     "metadata": {
      "needs_background": "light"
     },
     "output_type": "display_data"
    }
   ],
   "source": [
    "def plotHistory(history):\n",
    "    x = np.array([i+1 for i in range(EPOCHS)])\n",
    "    \n",
    "    plt.title(\"History\", fontsize=16, fontweight='bold')\n",
    "    plt.plot(x, history[\"loss\"], label='loss')\n",
    "    plt.plot(x, history[\"val_loss\"], label='val_loss')\n",
    "    \n",
    "    plt.plot(x, history[\"mse\"], label='mse')\n",
    "    plt.plot(x, history[\"val_mse\"], label='val_mse')\n",
    "    \n",
    "    plt.legend()\n",
    "    plt.show()\n",
    "plotHistory(history.history)"
   ]
  },
  {
   "cell_type": "markdown",
   "id": "standard-salmon",
   "metadata": {},
   "source": [
    "### Making predictions"
   ]
  },
  {
   "cell_type": "code",
   "execution_count": 45,
   "id": "recognized-empire",
   "metadata": {},
   "outputs": [],
   "source": [
    "predictions = model.predict(X_test[:30])"
   ]
  },
  {
   "cell_type": "code",
   "execution_count": 47,
   "id": "competitive-hello",
   "metadata": {},
   "outputs": [
    {
     "data": {
      "text/plain": [
       "(array([18.706505 ,  7.2421756, 11.123142 , 15.512785 , 22.895885 ,\n",
       "        21.548632 , 36.662945 , 13.80398  , 31.278    , 20.48788  ,\n",
       "        31.976635 , 36.36533  ,  7.838067 , 21.283895 , 10.908056 ,\n",
       "        23.447151 , 13.997458 , 12.963793 , 33.114517 , 20.6483   ,\n",
       "        11.199713 , 22.567478 , 18.357204 , 15.283728 , 33.609276 ,\n",
       "        18.003883 , 23.998615 , 23.708214 ,  9.010016 , 37.06087  ],\n",
       "       dtype=float32),\n",
       " array([20.5,  5.6, 13.4, 12.6, 21.2, 19.7, 32.4, 14.8, 33. , 21.4, 30.1,\n",
       "        36. ,  8.4, 21.6, 16.3, 23. , 14.9, 14.1, 31.1, 11.9, 12.7, 27.9,\n",
       "        20.8, 19.6, 32. , 21.9, 23.2, 23.8, 10.8, 34.9], dtype=float32))"
      ]
     },
     "execution_count": 47,
     "metadata": {},
     "output_type": "execute_result"
    }
   ],
   "source": [
    "predictions.reshape(-1), y_test[:30]"
   ]
  },
  {
   "cell_type": "code",
   "execution_count": 46,
   "id": "foster-disposition",
   "metadata": {},
   "outputs": [
    {
     "data": {
      "image/png": "[encoded data removed]",
      "text/plain": [
       "<Figure size 432x288 with 1 Axes>"
      ]
     },
     "metadata": {
      "needs_background": "light"
     },
     "output_type": "display_data"
    }
   ],
   "source": [
    "plt.plot(predictions.reshape(-1), label=\"predictions\")\n",
    "plt.plot(y_test[:30], label=\"real values\")\n",
    "plt.title(\"Predictions vrs Real Values\", fontsize=16)\n",
    "plt.legend()\n",
    "plt.show()"
   ]
  },
  {
   "cell_type": "code",
   "execution_count": null,
   "id": "square-convert",
   "metadata": {},
   "outputs": [],
   "source": []
  }
 ],
 "metadata": {
  "kernelspec": {
   "display_name": "Python 3",
   "language": "python",
   "name": "python3"
  },
  "language_info": {
   "codemirror_mode": {
    "name": "ipython",
    "version": 3
   },
   "file_extension": ".py",
   "mimetype": "text/x-python",
   "name": "python",
   "nbconvert_exporter": "python",
   "pygments_lexer": "ipython3",
   "version": "3.8.5"
  }
 },
 "nbformat": 4,
 "nbformat_minor": 5
}
