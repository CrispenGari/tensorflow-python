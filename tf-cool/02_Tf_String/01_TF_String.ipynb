{
 "cells": [
  {
   "cell_type": "markdown",
   "id": "universal-highway",
   "metadata": {},
   "source": [
    "### `tf.strings()`\n",
    "These are operations to work with string tensors.\n",
    "* [Docs](https://www.tensorflow.org/api_docs/python/tf/strings/as_string)\n",
    "In this notebook we are going to cover the most usefull and basic string functions from the `tf.strings()`"
   ]
  },
  {
   "cell_type": "code",
   "execution_count": 1,
   "id": "plastic-heritage",
   "metadata": {},
   "outputs": [],
   "source": [
    "import tensorflow as tf"
   ]
  },
  {
   "cell_type": "markdown",
   "id": "level-newcastle",
   "metadata": {},
   "source": [
    "### 1. ``as_string(...)``\n",
    "Converts each entry in the given tensor to strings.\n",
    "* The input must be of type, int, float, bool, ... "
   ]
  },
  {
   "cell_type": "code",
   "execution_count": 4,
   "id": "becoming-consumption",
   "metadata": {},
   "outputs": [
    {
     "data": {
      "text/plain": [
       "<tf.Tensor: shape=(4,), dtype=string, numpy=array([b'4', b'5', b'6', b'7'], dtype=object)>"
      ]
     },
     "execution_count": 4,
     "metadata": {},
     "output_type": "execute_result"
    }
   ],
   "source": [
    "A = tf.Variable([4, 5, 6, 7])\n",
    "A_string = tf.strings.as_string(A,)\n",
    "A_string"
   ]
  },
  {
   "cell_type": "code",
   "execution_count": null,
   "id": "certified-composition",
   "metadata": {},
   "outputs": [],
   "source": [
    "### 2. ``format(...)``\n",
    "Converts each entry in the given tensor to strings.\n",
    "* The input must be of type, int, float, bool, ... "
   ]
  },
  {
   "cell_type": "code",
   "execution_count": null,
   "id": "imposed-national",
   "metadata": {},
   "outputs": [],
   "source": []
  },
  {
   "cell_type": "markdown",
   "id": "opposite-region",
   "metadata": {},
   "source": [
    "### 3. ``join(...)``\n",
    "Perform element-wise concatenation of a list of string tensors."
   ]
  },
  {
   "cell_type": "code",
   "execution_count": 13,
   "id": "insured-scope",
   "metadata": {},
   "outputs": [
    {
     "data": {
      "text/plain": [
       "<tf.Tensor: shape=(), dtype=string, numpy=b'This is a boy'>"
      ]
     },
     "execution_count": 13,
     "metadata": {},
     "output_type": "execute_result"
    }
   ],
   "source": [
    "tf.strings.join([\"This\", \"is\", \"a\", \"boy\"], separator=\" \")"
   ]
  },
  {
   "cell_type": "markdown",
   "id": "statewide-matter",
   "metadata": {},
   "source": [
    "### 4. ``lenght(...)``\n",
    "Returns the lenght of the string"
   ]
  },
  {
   "cell_type": "code",
   "execution_count": 16,
   "id": "vietnamese-design",
   "metadata": {},
   "outputs": [
    {
     "data": {
      "text/plain": [
       "(<tf.Tensor: shape=(3,), dtype=int32, numpy=array([10, 10, 10])>,\n",
       " <tf.Tensor: shape=(3,), dtype=int32, numpy=array([3, 4, 5])>)"
      ]
     },
     "execution_count": 16,
     "metadata": {},
     "output_type": "execute_result"
    }
   ],
   "source": [
    "A = tf.Variable([\"This is a \", \"This is a \", \"This is a \"])\n",
    "B = tf.Variable([\"boy\", \"girl\", \"apple\"])\n",
    "\n",
    "tf.strings.length(A), tf.strings.length(B)"
   ]
  },
  {
   "cell_type": "markdown",
   "id": "functioning-bahamas",
   "metadata": {},
   "source": [
    "### 5. ``lower(...)``\n",
    "Converts the string to lowercase."
   ]
  },
  {
   "cell_type": "code",
   "execution_count": 17,
   "id": "portuguese-bones",
   "metadata": {},
   "outputs": [
    {
     "data": {
      "text/plain": [
       "<tf.Tensor: shape=(3,), dtype=string, numpy=array([b'this is a ', b'this is a ', b'this is a '], dtype=object)>"
      ]
     },
     "execution_count": 17,
     "metadata": {},
     "output_type": "execute_result"
    }
   ],
   "source": [
    "A = tf.Variable([\"This is a \", \"This is a \", \"This is a \"])\n",
    "tf.strings.lower(A)"
   ]
  },
  {
   "cell_type": "markdown",
   "id": "after-hearing",
   "metadata": {},
   "source": [
    "### 6. ``ngrams(...)``\n",
    "Create a tensor of n-grams based on data."
   ]
  },
  {
   "cell_type": "code",
   "execution_count": 21,
   "id": "incredible-sending",
   "metadata": {},
   "outputs": [
    {
     "data": {
      "text/plain": [
       "<tf.Tensor: shape=(1, 11), dtype=string, numpy=\n",
       "array([[b'The weather was', b'weather was very', b'was very cold',\n",
       "        b'very cold that', b'cold that noone', b'that noone could',\n",
       "        b'noone could go', b'could go out', b'go out for', b'out for a',\n",
       "        b'for a date.']], dtype=object)>"
      ]
     },
     "execution_count": 21,
     "metadata": {},
     "output_type": "execute_result"
    }
   ],
   "source": [
    "A = tf.Variable([str(\"The weather was very cold that noone could go out for a date.\").split()])\n",
    "tf.strings.ngrams(A, 3)"
   ]
  },
  {
   "cell_type": "markdown",
   "id": "lined-failure",
   "metadata": {},
   "source": [
    "### 7. ``reduce_join(...)``\n",
    "Join the strings in one long string along an axis."
   ]
  },
  {
   "cell_type": "code",
   "execution_count": 26,
   "id": "severe-mortality",
   "metadata": {},
   "outputs": [
    {
     "data": {
      "text/plain": [
       "b'this is a boy. His name is jonh'"
      ]
     },
     "execution_count": 26,
     "metadata": {},
     "output_type": "execute_result"
    }
   ],
   "source": [
    "tf.strings.reduce_join([\n",
    "    [\"this\", \"is\", \"a\", \"boy.\"],\n",
    "    [\"His\", \"name\", \"is\", \"jonh\"]\n",
    "], separator=\" \").numpy()"
   ]
  },
  {
   "cell_type": "markdown",
   "id": "double-nudist",
   "metadata": {},
   "source": [
    "### 8. ``regex_full_match(...)``\n",
    "\n",
    "Matches the given list of strings with a regular expression and returns true if it matchs."
   ]
  },
  {
   "cell_type": "code",
   "execution_count": 33,
   "id": "intense-objective",
   "metadata": {},
   "outputs": [
    {
     "data": {
      "text/plain": [
       "<tf.Tensor: shape=(4,), dtype=bool, numpy=array([False,  True,  True, False])>"
      ]
     },
     "execution_count": 33,
     "metadata": {},
     "output_type": "execute_result"
    }
   ],
   "source": [
    "tf.strings.regex_full_match([\"This\", \"is\", \"me\", \"1234\"], pattern=r'^[a-z]+')"
   ]
  },
  {
   "cell_type": "markdown",
   "id": "criminal-senegal",
   "metadata": {},
   "source": [
    "### 9. ``regex_replace(...)``\n",
    " Replace elements of input matching regex pattern with rewrite."
   ]
  },
  {
   "cell_type": "code",
   "execution_count": 38,
   "id": "hollywood-condition",
   "metadata": {},
   "outputs": [
    {
     "data": {
      "text/plain": [
       "<tf.Tensor: shape=(4,), dtype=string, numpy=array([b'This', b'1234', b'1234', b'1234'], dtype=object)>"
      ]
     },
     "execution_count": 38,
     "metadata": {},
     "output_type": "execute_result"
    }
   ],
   "source": [
    "tf.strings.regex_replace([\"This\", \"is\", \"me\", \"1234\"], r'^[a-z]+', \"1234\")"
   ]
  },
  {
   "cell_type": "markdown",
   "id": "dress-drawing",
   "metadata": {},
   "source": [
    "### 10. ``strip(...)``\n",
    "- Removes trailing white spaces. This method is simmilar to the python string method `strip()`"
   ]
  },
  {
   "cell_type": "code",
   "execution_count": 39,
   "id": "forced-thunder",
   "metadata": {},
   "outputs": [
    {
     "data": {
      "text/plain": [
       "<tf.Tensor: shape=(4,), dtype=string, numpy=array([b'This', b'is', b'me', b'1234'], dtype=object)>"
      ]
     },
     "execution_count": 39,
     "metadata": {},
     "output_type": "execute_result"
    }
   ],
   "source": [
    "tf.strings.strip([\"This \", \" is \", \" me \", \" 1234\"])"
   ]
  },
  {
   "cell_type": "markdown",
   "id": "floppy-litigation",
   "metadata": {},
   "source": [
    "### 11. ``split(...)``\n",
    "Split elements of input based on sep into a RaggedTensor."
   ]
  },
  {
   "cell_type": "code",
   "execution_count": 42,
   "id": "difficult-piece",
   "metadata": {},
   "outputs": [
    {
     "data": {
      "text/plain": [
       "<tf.RaggedTensor [[b'This', b'is', b'a', b'long', b'string', b'which', b'will', b'be', b'spitted', b'by', b'a', b'space.']]>"
      ]
     },
     "execution_count": 42,
     "metadata": {},
     "output_type": "execute_result"
    }
   ],
   "source": [
    "tf.strings.split([\"This is a long string which will be spitted by a space.\"], sep=\" \")"
   ]
  },
  {
   "cell_type": "markdown",
   "id": "danish-retrieval",
   "metadata": {},
   "source": [
    "### 12. ``substr(...)``\n",
    "Extract a string based on index and length from another string."
   ]
  },
  {
   "cell_type": "code",
   "execution_count": 46,
   "id": "stupid-diana",
   "metadata": {},
   "outputs": [
    {
     "data": {
      "text/plain": [
       "array([b'hello'], dtype=object)"
      ]
     },
     "execution_count": 46,
     "metadata": {},
     "output_type": "execute_result"
    }
   ],
   "source": [
    "tf.strings.substr([\"hello world\"], pos=0, len=5).numpy()"
   ]
  },
  {
   "cell_type": "markdown",
   "id": "institutional-coordination",
   "metadata": {},
   "source": [
    "### 13. ``upper(...)``\n",
    "Convert the given string to uppercase characters."
   ]
  },
  {
   "cell_type": "code",
   "execution_count": 47,
   "id": "circular-recipient",
   "metadata": {},
   "outputs": [
    {
     "data": {
      "text/plain": [
       "array([b'HELLO WORLD'], dtype=object)"
      ]
     },
     "execution_count": 47,
     "metadata": {},
     "output_type": "execute_result"
    }
   ],
   "source": [
    "tf.strings.upper([\"Hello world\"]).numpy()"
   ]
  },
  {
   "cell_type": "markdown",
   "id": "meaningful-series",
   "metadata": {},
   "source": [
    "### 14. ``to_number(...)``\n",
    "Convert a given string to a number."
   ]
  },
  {
   "cell_type": "code",
   "execution_count": 49,
   "id": "social-benjamin",
   "metadata": {},
   "outputs": [
    {
     "data": {
      "text/plain": [
       "array([0, 1, 2, 3, 4, 5, 6, 7, 8, 9])"
      ]
     },
     "execution_count": 49,
     "metadata": {},
     "output_type": "execute_result"
    }
   ],
   "source": [
    "tf.strings.to_number([str(i) for i in range(10)], out_type=\"int32\").numpy()"
   ]
  },
  {
   "cell_type": "markdown",
   "id": "essential-concrete",
   "metadata": {},
   "source": [
    "> These are the most commonly used tensorflow string functions for more read the [docs](https://www.tensorflow.org/api_docs/python/tf/strings)"
   ]
  },
  {
   "cell_type": "code",
   "execution_count": null,
   "id": "arranged-brief",
   "metadata": {},
   "outputs": [],
   "source": []
  }
 ],
 "metadata": {
  "kernelspec": {
   "display_name": "Python 3",
   "language": "python",
   "name": "python3"
  },
  "language_info": {
   "codemirror_mode": {
    "name": "ipython",
    "version": 3
   },
   "file_extension": ".py",
   "mimetype": "text/x-python",
   "name": "python",
   "nbconvert_exporter": "python",
   "pygments_lexer": "ipython3",
   "version": "3.8.5"
  }
 },
 "nbformat": 4,
 "nbformat_minor": 5
}
