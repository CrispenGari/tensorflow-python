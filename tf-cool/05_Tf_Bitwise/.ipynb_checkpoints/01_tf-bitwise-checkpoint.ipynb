{
 "cells": [
  {
   "cell_type": "markdown",
   "id": "powerful-globe",
   "metadata": {},
   "source": [
    "### `tf.bitwise()` \n",
    "* Operations for manipulating the binary representations of integers.\n",
    "* [Read the Docs](https://www.tensorflow.org/api_docs/python/tf/bitwise)"
   ]
  },
  {
   "cell_type": "code",
   "execution_count": 1,
   "id": "exposed-vienna",
   "metadata": {},
   "outputs": [],
   "source": [
    "import tensorflow as tf"
   ]
  },
  {
   "cell_type": "code",
   "execution_count": 8,
   "id": "adjacent-convention",
   "metadata": {},
   "outputs": [
    {
     "data": {
      "text/plain": [
       "(<tf.Tensor: shape=(8,), dtype=int32, numpy=array([1, 1, 1, 0, 1, 0, 0, 1])>,\n",
       " <tf.Tensor: shape=(8,), dtype=int32, numpy=array([0, 0, 1, 1, 1, 0, 0, 1])>)"
      ]
     },
     "execution_count": 8,
     "metadata": {},
     "output_type": "execute_result"
    }
   ],
   "source": [
    "A = tf.constant([True, True, True, False, True, False, False, True], dtype=tf.int32)\n",
    "B = tf.constant([False, False, True,True, True, False, False, True], dtype=tf.int32)\n",
    "A, B"
   ]
  },
  {
   "cell_type": "markdown",
   "id": "entertaining-knowing",
   "metadata": {},
   "source": [
    "### 1. `bitwise_and()`\n",
    "Elementwise computes the bitwise AND of x and y.\n",
    "* Returns true if and only if both elements are true else false"
   ]
  },
  {
   "cell_type": "code",
   "execution_count": 9,
   "id": "cordless-association",
   "metadata": {},
   "outputs": [
    {
     "data": {
      "text/plain": [
       "<tf.Tensor: shape=(8,), dtype=int32, numpy=array([0, 0, 1, 0, 1, 0, 0, 1])>"
      ]
     },
     "execution_count": 9,
     "metadata": {},
     "output_type": "execute_result"
    }
   ],
   "source": [
    "tf.bitwise.bitwise_and(A, B)"
   ]
  },
  {
   "cell_type": "markdown",
   "id": "nearby-scratch",
   "metadata": {},
   "source": [
    "### 2. `bitwise_or()`\n",
    "Elementwise computes the bitwise OR of x and y.\n",
    "* Returns true if either of the elements are true else false."
   ]
  },
  {
   "cell_type": "code",
   "execution_count": 10,
   "id": "interstate-shaft",
   "metadata": {},
   "outputs": [
    {
     "data": {
      "text/plain": [
       "<tf.Tensor: shape=(8,), dtype=int32, numpy=array([1, 1, 1, 1, 1, 0, 0, 1])>"
      ]
     },
     "execution_count": 10,
     "metadata": {},
     "output_type": "execute_result"
    }
   ],
   "source": [
    "tf.bitwise.bitwise_or(A, B)"
   ]
  },
  {
   "cell_type": "markdown",
   "id": "threatened-pickup",
   "metadata": {},
   "source": [
    "### 3. `bitwise_xor()`\n",
    "Elementwise computes the bitwise XOR of x and y.\n",
    "* Returns true if and only if one element becomes true else false"
   ]
  },
  {
   "cell_type": "code",
   "execution_count": 11,
   "id": "instrumental-microphone",
   "metadata": {},
   "outputs": [
    {
     "data": {
      "text/plain": [
       "<tf.Tensor: shape=(8,), dtype=int32, numpy=array([1, 1, 0, 1, 0, 0, 0, 0])>"
      ]
     },
     "execution_count": 11,
     "metadata": {},
     "output_type": "execute_result"
    }
   ],
   "source": [
    "tf.bitwise.bitwise_xor(A, B)"
   ]
  },
  {
   "cell_type": "markdown",
   "id": "italian-alcohol",
   "metadata": {},
   "source": [
    "### 4. `invert()`\n",
    "Invert (flip) each bit of supported types; for example, type uint8 value ``01010101`` becomes ``10101010``."
   ]
  },
  {
   "cell_type": "code",
   "execution_count": 13,
   "id": "elect-encyclopedia",
   "metadata": {},
   "outputs": [
    {
     "data": {
      "text/plain": [
       "<tf.Tensor: shape=(8,), dtype=int32, numpy=array([-2, -2, -2, -1, -2, -1, -1, -2])>"
      ]
     },
     "execution_count": 13,
     "metadata": {},
     "output_type": "execute_result"
    }
   ],
   "source": [
    "tf.bitwise.invert(A)"
   ]
  },
  {
   "cell_type": "markdown",
   "id": "passing-turner",
   "metadata": {},
   "source": [
    "### 5. `left_shift()`\n",
    "Elementwise computes the bitwise left-shift of x and y."
   ]
  },
  {
   "cell_type": "code",
   "execution_count": 14,
   "id": "swedish-titanium",
   "metadata": {},
   "outputs": [
    {
     "data": {
      "text/plain": [
       "<tf.Tensor: shape=(8,), dtype=int32, numpy=array([1, 1, 2, 0, 2, 0, 0, 2])>"
      ]
     },
     "execution_count": 14,
     "metadata": {},
     "output_type": "execute_result"
    }
   ],
   "source": [
    "tf.bitwise.left_shift(A, B)"
   ]
  },
  {
   "cell_type": "markdown",
   "id": "present-marker",
   "metadata": {},
   "source": [
    "### 6. `right_shift()`\n",
    "Elementwise computes the bitwise right-shift of x and y."
   ]
  },
  {
   "cell_type": "code",
   "execution_count": 15,
   "id": "conscious-match",
   "metadata": {},
   "outputs": [
    {
     "data": {
      "text/plain": [
       "<tf.Tensor: shape=(8,), dtype=int32, numpy=array([1, 1, 0, 0, 0, 0, 0, 0])>"
      ]
     },
     "execution_count": 15,
     "metadata": {},
     "output_type": "execute_result"
    }
   ],
   "source": [
    "tf.bitwise.right_shift(A, B)"
   ]
  },
  {
   "cell_type": "markdown",
   "id": "further-gnome",
   "metadata": {},
   "source": [
    "That's all about bitwise operations on tensors."
   ]
  },
  {
   "cell_type": "code",
   "execution_count": null,
   "id": "dated-kitty",
   "metadata": {},
   "outputs": [],
   "source": []
  }
 ],
 "metadata": {
  "kernelspec": {
   "display_name": "Python 3",
   "language": "python",
   "name": "python3"
  },
  "language_info": {
   "codemirror_mode": {
    "name": "ipython",
    "version": 3
   },
   "file_extension": ".py",
   "mimetype": "text/x-python",
   "name": "python",
   "nbconvert_exporter": "python",
   "pygments_lexer": "ipython3",
   "version": "3.8.5"
  }
 },
 "nbformat": 4,
 "nbformat_minor": 5
}
