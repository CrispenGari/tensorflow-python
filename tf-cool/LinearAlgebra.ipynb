{
 "cells": [
  {
   "cell_type": "markdown",
   "id": "floral-causing",
   "metadata": {},
   "source": [
    "## Matrix Multiplication -tf\n",
    "* Matrix multiplication also known as the `dotproduct`\n",
    "* When multiplying matrixes there are `two` rules to know:\n",
    "    1. The inner dimenstions must match.\n",
    "        * (a, b) x (c, d)\n",
    "        * The `b` and `c` must be equal.\n",
    "    2. The result product will be yield from the outer dimensions\n",
    "         * (a, b) x (c, d) == `(a, d)`"
   ]
  },
  {
   "cell_type": "code",
   "execution_count": 1,
   "id": "serious-acting",
   "metadata": {},
   "outputs": [],
   "source": [
    "import tensorflow as tf\n",
    "import numpy as np"
   ]
  },
  {
   "cell_type": "code",
   "execution_count": 3,
   "id": "partial-latitude",
   "metadata": {},
   "outputs": [],
   "source": [
    "A = tf.constant([\n",
    "    [2, 3, 4],\n",
    "    [4, 5, 8],\n",
    "    [7, 6, 8]\n",
    "])\n",
    "B = tf.constant([\n",
    "    [3, 3, 3],\n",
    "    [4, 5, 4],\n",
    "    [7, 6, 8]\n",
    "])\n"
   ]
  },
  {
   "cell_type": "code",
   "execution_count": 4,
   "id": "genetic-closure",
   "metadata": {},
   "outputs": [
    {
     "data": {
      "text/plain": [
       "<tf.Tensor: shape=(3, 3), dtype=int32, numpy=\n",
       "array([[ 46,  45,  50],\n",
       "       [ 88,  85,  96],\n",
       "       [101,  99, 109]])>"
      ]
     },
     "execution_count": 4,
     "metadata": {},
     "output_type": "execute_result"
    }
   ],
   "source": [
    "A @ B"
   ]
  },
  {
   "cell_type": "code",
   "execution_count": 5,
   "id": "curious-mixture",
   "metadata": {},
   "outputs": [
    {
     "data": {
      "text/plain": [
       "<tf.Tensor: shape=(3, 3), dtype=int32, numpy=\n",
       "array([[ 46,  45,  50],\n",
       "       [ 88,  85,  96],\n",
       "       [101,  99, 109]])>"
      ]
     },
     "execution_count": 5,
     "metadata": {},
     "output_type": "execute_result"
    }
   ],
   "source": [
    "tf.matmul(A, B)"
   ]
  },
  {
   "cell_type": "code",
   "execution_count": 12,
   "id": "bright-inquiry",
   "metadata": {},
   "outputs": [
    {
     "data": {
      "text/plain": [
       "(<tf.Tensor: shape=(2, 3), dtype=int32, numpy=\n",
       " array([[2, 3, 4],\n",
       "        [4, 5, 8]])>,\n",
       " <tf.Tensor: shape=(3, 2), dtype=int32, numpy=\n",
       " array([[3, 4],\n",
       "        [4, 5],\n",
       "        [5, 6]])>)"
      ]
     },
     "execution_count": 12,
     "metadata": {},
     "output_type": "execute_result"
    }
   ],
   "source": [
    "C = tf.constant([[2, 3, 4], [4, 5, 8]])\n",
    "D = tf.constant([[3, 4], [4, 5], [5, 6]])\n",
    "C, D"
   ]
  },
  {
   "cell_type": "markdown",
   "id": "interpreted-enforcement",
   "metadata": {},
   "source": [
    "> If we want to matrix multiply C and D we shoud transpose either A and B. **transposing means** we are switching dimensions in a tensor. Note that we can do that by reshaping either C or D so that we can meet the required conditions."
   ]
  },
  {
   "cell_type": "code",
   "execution_count": 8,
   "id": "photographic-combine",
   "metadata": {},
   "outputs": [
    {
     "data": {
      "text/plain": [
       "(TensorShape([2, 3]), TensorShape([3, 2]))"
      ]
     },
     "execution_count": 8,
     "metadata": {},
     "output_type": "execute_result"
    }
   ],
   "source": [
    "C.shape, tf.transpose(C).shape"
   ]
  },
  {
   "cell_type": "code",
   "execution_count": 9,
   "id": "internal-translation",
   "metadata": {},
   "outputs": [
    {
     "data": {
      "text/plain": [
       "<tf.Tensor: shape=(2, 3), dtype=int32, numpy=\n",
       "array([[ 6, 12, 20],\n",
       "       [16, 25, 48]])>"
      ]
     },
     "execution_count": 9,
     "metadata": {},
     "output_type": "execute_result"
    }
   ],
   "source": [
    "C * tf.transpose(D)"
   ]
  },
  {
   "cell_type": "code",
   "execution_count": 11,
   "id": "handy-revelation",
   "metadata": {},
   "outputs": [
    {
     "data": {
      "text/plain": [
       "<tf.Tensor: shape=(2, 3), dtype=int32, numpy=\n",
       "array([[ 6, 12, 16],\n",
       "       [20, 25, 48]])>"
      ]
     },
     "execution_count": 11,
     "metadata": {},
     "output_type": "execute_result"
    }
   ],
   "source": [
    "C * tf.reshape(D, shape=(2, 3))"
   ]
  },
  {
   "cell_type": "markdown",
   "id": "allied-death",
   "metadata": {},
   "source": [
    "### Deteminent of a matrix\n"
   ]
  },
  {
   "cell_type": "code",
   "execution_count": 18,
   "id": "rental-developer",
   "metadata": {},
   "outputs": [
    {
     "data": {
      "text/plain": [
       "<tf.Tensor: shape=(), dtype=float32, numpy=12.0>"
      ]
     },
     "execution_count": 18,
     "metadata": {},
     "output_type": "execute_result"
    }
   ],
   "source": [
    "tf.linalg.det(tf.cast(A, dtype=tf.float32))"
   ]
  },
  {
   "cell_type": "markdown",
   "id": "joined-uncertainty",
   "metadata": {},
   "source": [
    "> What is `tf.cast`?: This is a tensorflow method that allows us to change from one datatype to the other."
   ]
  },
  {
   "cell_type": "markdown",
   "id": "strange-indonesia",
   "metadata": {},
   "source": [
    "> Done"
   ]
  },
  {
   "cell_type": "code",
   "execution_count": null,
   "id": "sunset-auditor",
   "metadata": {},
   "outputs": [],
   "source": []
  }
 ],
 "metadata": {
  "kernelspec": {
   "display_name": "Python 3",
   "language": "python",
   "name": "python3"
  },
  "language_info": {
   "codemirror_mode": {
    "name": "ipython",
    "version": 3
   },
   "file_extension": ".py",
   "mimetype": "text/x-python",
   "name": "python",
   "nbconvert_exporter": "python",
   "pygments_lexer": "ipython3",
   "version": "3.8.5"
  }
 },
 "nbformat": 4,
 "nbformat_minor": 5
}
