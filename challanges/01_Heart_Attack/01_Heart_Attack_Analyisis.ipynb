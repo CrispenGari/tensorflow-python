{
 "cells": [
  {
   "cell_type": "markdown",
   "id": "accomplished-price",
   "metadata": {},
   "source": [
    "### Heart Attack Analyisis - TensorFlow\n",
    "\n",
    "We want to be abble to predict if a person is vulnerable for being affected with heart attack or not using the Kaggle dataset.\n",
    "\n",
    "* [Dataset](https://www.kaggle.com/rashikrahmanpritom/heart-attack-analysis-prediction-dataset)"
   ]
  },
  {
   "cell_type": "code",
   "execution_count": 3,
   "id": "heavy-philosophy",
   "metadata": {},
   "outputs": [],
   "source": [
    "import pandas as pd\n",
    "import tensorflow as tf\n",
    "import tensorflow.keras as keras\n",
    "from sklearn.model_selection import train_test_split\n",
    "from sklearn.compose import ColumnTransformer\n",
    "from sklearn.preprocessing import MinMaxScaler, OneHotEncoder"
   ]
  },
  {
   "cell_type": "markdown",
   "id": "valuable-dollar",
   "metadata": {},
   "source": [
    "### Data Preperation\n",
    "* We are targeting the output if it is a `1` or `0` which means `true` or `false` respectively.\n",
    "* Other `13` columns are features."
   ]
  },
  {
   "cell_type": "code",
   "execution_count": 2,
   "id": "square-trailer",
   "metadata": {},
   "outputs": [
    {
     "data": {
      "text/html": [
       "<div>\n",
       "<style scoped>\n",
       "    .dataframe tbody tr th:only-of-type {\n",
       "        vertical-align: middle;\n",
       "    }\n",
       "\n",
       "    .dataframe tbody tr th {\n",
       "        vertical-align: top;\n",
       "    }\n",
       "\n",
       "    .dataframe thead th {\n",
       "        text-align: right;\n",
       "    }\n",
       "</style>\n",
       "<table border=\"1\" class=\"dataframe\">\n",
       "  <thead>\n",
       "    <tr style=\"text-align: right;\">\n",
       "      <th></th>\n",
       "      <th>age</th>\n",
       "      <th>sex</th>\n",
       "      <th>cp</th>\n",
       "      <th>trtbps</th>\n",
       "      <th>chol</th>\n",
       "      <th>fbs</th>\n",
       "      <th>restecg</th>\n",
       "      <th>thalachh</th>\n",
       "      <th>exng</th>\n",
       "      <th>oldpeak</th>\n",
       "      <th>slp</th>\n",
       "      <th>caa</th>\n",
       "      <th>thall</th>\n",
       "      <th>output</th>\n",
       "    </tr>\n",
       "  </thead>\n",
       "  <tbody>\n",
       "    <tr>\n",
       "      <th>0</th>\n",
       "      <td>63</td>\n",
       "      <td>1</td>\n",
       "      <td>3</td>\n",
       "      <td>145</td>\n",
       "      <td>233</td>\n",
       "      <td>1</td>\n",
       "      <td>0</td>\n",
       "      <td>150</td>\n",
       "      <td>0</td>\n",
       "      <td>2.3</td>\n",
       "      <td>0</td>\n",
       "      <td>0</td>\n",
       "      <td>1</td>\n",
       "      <td>1</td>\n",
       "    </tr>\n",
       "    <tr>\n",
       "      <th>1</th>\n",
       "      <td>37</td>\n",
       "      <td>1</td>\n",
       "      <td>2</td>\n",
       "      <td>130</td>\n",
       "      <td>250</td>\n",
       "      <td>0</td>\n",
       "      <td>1</td>\n",
       "      <td>187</td>\n",
       "      <td>0</td>\n",
       "      <td>3.5</td>\n",
       "      <td>0</td>\n",
       "      <td>0</td>\n",
       "      <td>2</td>\n",
       "      <td>1</td>\n",
       "    </tr>\n",
       "    <tr>\n",
       "      <th>2</th>\n",
       "      <td>41</td>\n",
       "      <td>0</td>\n",
       "      <td>1</td>\n",
       "      <td>130</td>\n",
       "      <td>204</td>\n",
       "      <td>0</td>\n",
       "      <td>0</td>\n",
       "      <td>172</td>\n",
       "      <td>0</td>\n",
       "      <td>1.4</td>\n",
       "      <td>2</td>\n",
       "      <td>0</td>\n",
       "      <td>2</td>\n",
       "      <td>1</td>\n",
       "    </tr>\n",
       "    <tr>\n",
       "      <th>3</th>\n",
       "      <td>56</td>\n",
       "      <td>1</td>\n",
       "      <td>1</td>\n",
       "      <td>120</td>\n",
       "      <td>236</td>\n",
       "      <td>0</td>\n",
       "      <td>1</td>\n",
       "      <td>178</td>\n",
       "      <td>0</td>\n",
       "      <td>0.8</td>\n",
       "      <td>2</td>\n",
       "      <td>0</td>\n",
       "      <td>2</td>\n",
       "      <td>1</td>\n",
       "    </tr>\n",
       "    <tr>\n",
       "      <th>4</th>\n",
       "      <td>57</td>\n",
       "      <td>0</td>\n",
       "      <td>0</td>\n",
       "      <td>120</td>\n",
       "      <td>354</td>\n",
       "      <td>0</td>\n",
       "      <td>1</td>\n",
       "      <td>163</td>\n",
       "      <td>1</td>\n",
       "      <td>0.6</td>\n",
       "      <td>2</td>\n",
       "      <td>0</td>\n",
       "      <td>2</td>\n",
       "      <td>1</td>\n",
       "    </tr>\n",
       "  </tbody>\n",
       "</table>\n",
       "</div>"
      ],
      "text/plain": [
       "   age  sex  cp  trtbps  chol  fbs  restecg  thalachh  exng  oldpeak  slp  \\\n",
       "0   63    1   3     145   233    1        0       150     0      2.3    0   \n",
       "1   37    1   2     130   250    0        1       187     0      3.5    0   \n",
       "2   41    0   1     130   204    0        0       172     0      1.4    2   \n",
       "3   56    1   1     120   236    0        1       178     0      0.8    2   \n",
       "4   57    0   0     120   354    0        1       163     1      0.6    2   \n",
       "\n",
       "   caa  thall  output  \n",
       "0    0      1       1  \n",
       "1    0      2       1  \n",
       "2    0      2       1  \n",
       "3    0      2       1  \n",
       "4    0      2       1  "
      ]
     },
     "execution_count": 2,
     "metadata": {},
     "output_type": "execute_result"
    }
   ],
   "source": [
    "data = pd.read_csv('data/heart.csv')\n",
    "data.head()"
   ]
  },
  {
   "cell_type": "markdown",
   "id": "spare-supervision",
   "metadata": {},
   "source": [
    "### `ColumnTransformer`\n",
    "* This handy `sklearn` will helps us to preprocess our data.\n",
    "* We are going to transform our columns using \n",
    "    * `OneHotEncoder`\n",
    "    * `MinMaxScaler`"
   ]
  },
  {
   "cell_type": "code",
   "execution_count": 11,
   "id": "decimal-pennsylvania",
   "metadata": {},
   "outputs": [
    {
     "data": {
      "text/plain": [
       "False"
      ]
     },
     "execution_count": 11,
     "metadata": {},
     "output_type": "execute_result"
    }
   ],
   "source": [
    "data.isnull().values.any()"
   ]
  },
  {
   "cell_type": "markdown",
   "id": "liquid-inventory",
   "metadata": {},
   "source": [
    "> we dont have `null` or `nan` values in our dataset. So we are ready to do the transformation on our data"
   ]
  },
  {
   "cell_type": "code",
   "execution_count": 17,
   "id": "canadian-japan",
   "metadata": {},
   "outputs": [],
   "source": [
    "features = data.drop([\"output\"], axis=1)\n",
    "labels = data.iloc[:, -1].values"
   ]
  },
  {
   "cell_type": "code",
   "execution_count": 19,
   "id": "prerequisite-elite",
   "metadata": {},
   "outputs": [
    {
     "data": {
      "text/html": [
       "<div>\n",
       "<style scoped>\n",
       "    .dataframe tbody tr th:only-of-type {\n",
       "        vertical-align: middle;\n",
       "    }\n",
       "\n",
       "    .dataframe tbody tr th {\n",
       "        vertical-align: top;\n",
       "    }\n",
       "\n",
       "    .dataframe thead th {\n",
       "        text-align: right;\n",
       "    }\n",
       "</style>\n",
       "<table border=\"1\" class=\"dataframe\">\n",
       "  <thead>\n",
       "    <tr style=\"text-align: right;\">\n",
       "      <th></th>\n",
       "      <th>age</th>\n",
       "      <th>sex</th>\n",
       "      <th>cp</th>\n",
       "      <th>trtbps</th>\n",
       "      <th>chol</th>\n",
       "      <th>fbs</th>\n",
       "      <th>restecg</th>\n",
       "      <th>thalachh</th>\n",
       "      <th>exng</th>\n",
       "      <th>oldpeak</th>\n",
       "      <th>slp</th>\n",
       "      <th>caa</th>\n",
       "      <th>thall</th>\n",
       "    </tr>\n",
       "  </thead>\n",
       "  <tbody>\n",
       "    <tr>\n",
       "      <th>0</th>\n",
       "      <td>63</td>\n",
       "      <td>1</td>\n",
       "      <td>3</td>\n",
       "      <td>145</td>\n",
       "      <td>233</td>\n",
       "      <td>1</td>\n",
       "      <td>0</td>\n",
       "      <td>150</td>\n",
       "      <td>0</td>\n",
       "      <td>2.3</td>\n",
       "      <td>0</td>\n",
       "      <td>0</td>\n",
       "      <td>1</td>\n",
       "    </tr>\n",
       "  </tbody>\n",
       "</table>\n",
       "</div>"
      ],
      "text/plain": [
       "   age  sex  cp  trtbps  chol  fbs  restecg  thalachh  exng  oldpeak  slp  \\\n",
       "0   63    1   3     145   233    1        0       150     0      2.3    0   \n",
       "\n",
       "   caa  thall  \n",
       "0    0      1  "
      ]
     },
     "execution_count": 19,
     "metadata": {},
     "output_type": "execute_result"
    }
   ],
   "source": [
    "features.head(1)"
   ]
  },
  {
   "cell_type": "code",
   "execution_count": 22,
   "id": "cheap-computer",
   "metadata": {},
   "outputs": [
    {
     "data": {
      "text/plain": [
       "13"
      ]
     },
     "execution_count": 22,
     "metadata": {},
     "output_type": "execute_result"
    }
   ],
   "source": [
    "len(features.columns)"
   ]
  },
  {
   "cell_type": "code",
   "execution_count": 23,
   "id": "virtual-foundation",
   "metadata": {},
   "outputs": [
    {
     "data": {
      "text/plain": [
       "ColumnTransformer(transformers=[('min_max_scaler', MinMaxScaler(),\n",
       "                                 ['age', 'trtbps', 'chol', 'thalachh',\n",
       "                                  'oldpeak']),\n",
       "                                ('one_hot_encoder', OneHotEncoder(),\n",
       "                                 ['sex', 'cp', 'fbs', 'restecg', 'exng', 'slp',\n",
       "                                  'caa', 'thall'])])"
      ]
     },
     "execution_count": 23,
     "metadata": {},
     "output_type": "execute_result"
    }
   ],
   "source": [
    "column_transformer = ColumnTransformer([\n",
    "    ('min_max_scaler', MinMaxScaler(), [\"age\", \"trtbps\", \"chol\", \"thalachh\", \"oldpeak\"]),\n",
    "    ('one_hot_encoder', OneHotEncoder(), ['sex', 'cp', 'fbs', 'restecg', 'exng', 'slp', 'caa', 'thall'])\n",
    "])\n",
    "column_transformer.fit(features)"
   ]
  },
  {
   "cell_type": "code",
   "execution_count": 25,
   "id": "blank-covering",
   "metadata": {},
   "outputs": [],
   "source": [
    "transformed_features = column_transformer.transform(features)"
   ]
  },
  {
   "cell_type": "code",
   "execution_count": 26,
   "id": "guilty-layout",
   "metadata": {},
   "outputs": [
    {
     "data": {
      "text/plain": [
       "(303, 30)"
      ]
     },
     "execution_count": 26,
     "metadata": {},
     "output_type": "execute_result"
    }
   ],
   "source": [
    "transformed_features.shape"
   ]
  },
  {
   "cell_type": "markdown",
   "id": "romance-perfume",
   "metadata": {},
   "source": [
    "### Splitting the data into training and testing"
   ]
  },
  {
   "cell_type": "code",
   "execution_count": 28,
   "id": "ranking-hamburg",
   "metadata": {},
   "outputs": [
    {
     "data": {
      "text/plain": [
       "((242, 30), (242,), (61, 30))"
      ]
     },
     "execution_count": 28,
     "metadata": {},
     "output_type": "execute_result"
    }
   ],
   "source": [
    "X_train, X_test, y_train, y_test = train_test_split(transformed_features, labels, test_size=.2, random_state=42)\n",
    "X_train.shape, y_train.shape, X_test.shape"
   ]
  },
  {
   "cell_type": "markdown",
   "id": "indonesian-commander",
   "metadata": {},
   "source": [
    "### Converting the data into `tf.tensors`"
   ]
  },
  {
   "cell_type": "code",
   "execution_count": 35,
   "id": "ranging-occurrence",
   "metadata": {},
   "outputs": [],
   "source": [
    "X_train_tensors = tf.convert_to_tensor(X_train, dtype='float32')\n",
    "X_test_tensors = tf.convert_to_tensor(X_test, dtype='float32')\n",
    "\n",
    "y_train_tensors = tf.convert_to_tensor(y_train, dtype='int32')\n",
    "y_test_tensors = tf.convert_to_tensor(y_test, dtype='int32')"
   ]
  },
  {
   "cell_type": "markdown",
   "id": "clear-credit",
   "metadata": {},
   "source": [
    "### Creating a `Subclassing` `NN`."
   ]
  },
  {
   "cell_type": "code",
   "execution_count": 111,
   "id": "collected-kennedy",
   "metadata": {},
   "outputs": [],
   "source": [
    "class Net(keras.Model):\n",
    "    def __init__(self):\n",
    "        super(Net, self).__init__()\n",
    "        self.dense_1 = keras.layers.Dense(512, activation=\"relu\", batch_input_shape=(None, 30, ))\n",
    "        self.dense_2 = keras.layers.Dense(128, activation=\"relu\")\n",
    "        self.dense_3 = keras.layers.Dense(1, activation=\"sigmoid\")\n",
    "        \n",
    "    def call(self, x):\n",
    "        x = self.dense_1(x)\n",
    "        x = self.dense_2(x)\n",
    "        return self.dense_3(x)\n",
    "    \n",
    "    def model(self):\n",
    "        x = keras.layers.Input(30)\n",
    "        return keras.Model(inputs=[x], outputs=self.call(x), name=\"fn_model\")"
   ]
  },
  {
   "cell_type": "code",
   "execution_count": 112,
   "id": "final-repair",
   "metadata": {},
   "outputs": [
    {
     "name": "stdout",
     "output_type": "stream",
     "text": [
      "Model: \"fn_model\"\n",
      "_________________________________________________________________\n",
      "Layer (type)                 Output Shape              Param #   \n",
      "=================================================================\n",
      "input_14 (InputLayer)        [(None, 30)]              0         \n",
      "_________________________________________________________________\n",
      "dense_42 (Dense)             (None, 512)               15872     \n",
      "_________________________________________________________________\n",
      "dense_43 (Dense)             (None, 128)               65664     \n",
      "_________________________________________________________________\n",
      "dense_44 (Dense)             (None, 1)                 129       \n",
      "=================================================================\n",
      "Total params: 81,665\n",
      "Trainable params: 81,665\n",
      "Non-trainable params: 0\n",
      "_________________________________________________________________\n"
     ]
    }
   ],
   "source": [
    "hear_attack_nn = Net()\n",
    "hear_attack_nn.model().summary()"
   ]
  },
  {
   "cell_type": "markdown",
   "id": "finite-vision",
   "metadata": {},
   "source": [
    "### Trainning the model."
   ]
  },
  {
   "cell_type": "code",
   "execution_count": 113,
   "id": "earned-pulse",
   "metadata": {},
   "outputs": [
    {
     "name": "stdout",
     "output_type": "stream",
     "text": [
      "Epoch 1/100\n",
      "31/31 [==============================] - 1s 19ms/step - loss: 0.6766 - acc: 0.5169 - val_loss: 0.6294 - val_acc: 0.7377\n",
      "Epoch 2/100\n",
      "31/31 [==============================] - 0s 5ms/step - loss: 0.6216 - acc: 0.6923 - val_loss: 0.5836 - val_acc: 0.8361\n",
      "Epoch 3/100\n",
      "31/31 [==============================] - 0s 4ms/step - loss: 0.5689 - acc: 0.7802 - val_loss: 0.5429 - val_acc: 0.8525\n",
      "Epoch 4/100\n",
      "31/31 [==============================] - 0s 4ms/step - loss: 0.5473 - acc: 0.7790 - val_loss: 0.5069 - val_acc: 0.8525\n",
      "Epoch 5/100\n",
      "31/31 [==============================] - 0s 4ms/step - loss: 0.4880 - acc: 0.8560 - val_loss: 0.4741 - val_acc: 0.8689\n",
      "Epoch 6/100\n",
      "31/31 [==============================] - 0s 5ms/step - loss: 0.4920 - acc: 0.7928 - val_loss: 0.4472 - val_acc: 0.8525\n",
      "Epoch 7/100\n",
      "31/31 [==============================] - 0s 4ms/step - loss: 0.4661 - acc: 0.7912 - val_loss: 0.4235 - val_acc: 0.8525\n",
      "Epoch 8/100\n",
      "31/31 [==============================] - 0s 4ms/step - loss: 0.4363 - acc: 0.8266 - val_loss: 0.4031 - val_acc: 0.8525\n",
      "Epoch 9/100\n",
      "31/31 [==============================] - 0s 4ms/step - loss: 0.4123 - acc: 0.8237 - val_loss: 0.3857 - val_acc: 0.8525\n",
      "Epoch 10/100\n",
      "31/31 [==============================] - 0s 4ms/step - loss: 0.4093 - acc: 0.8217 - val_loss: 0.3773 - val_acc: 0.8361\n",
      "Epoch 11/100\n",
      "31/31 [==============================] - 0s 4ms/step - loss: 0.4207 - acc: 0.8126 - val_loss: 0.3638 - val_acc: 0.8361\n",
      "Epoch 12/100\n",
      "31/31 [==============================] - 0s 4ms/step - loss: 0.3380 - acc: 0.8656 - val_loss: 0.3622 - val_acc: 0.8361\n",
      "Epoch 13/100\n",
      "31/31 [==============================] - 0s 4ms/step - loss: 0.4032 - acc: 0.8171 - val_loss: 0.3504 - val_acc: 0.8361\n",
      "Epoch 14/100\n",
      "31/31 [==============================] - 0s 4ms/step - loss: 0.3579 - acc: 0.8412 - val_loss: 0.3584 - val_acc: 0.8197\n",
      "Epoch 15/100\n",
      "31/31 [==============================] - 0s 5ms/step - loss: 0.3749 - acc: 0.8286 - val_loss: 0.3516 - val_acc: 0.8361\n",
      "Epoch 16/100\n",
      "31/31 [==============================] - 0s 5ms/step - loss: 0.3396 - acc: 0.8697 - val_loss: 0.3356 - val_acc: 0.8525\n",
      "Epoch 17/100\n",
      "31/31 [==============================] - 0s 4ms/step - loss: 0.3194 - acc: 0.8764 - val_loss: 0.3768 - val_acc: 0.8033\n",
      "Epoch 18/100\n",
      "31/31 [==============================] - 0s 4ms/step - loss: 0.3257 - acc: 0.8664 - val_loss: 0.3464 - val_acc: 0.8361\n",
      "Epoch 19/100\n",
      "31/31 [==============================] - 0s 4ms/step - loss: 0.3876 - acc: 0.8421 - val_loss: 0.3470 - val_acc: 0.8197\n",
      "\n",
      "Epoch 00019: ReduceLROnPlateau reducing learning rate to 0.004999999888241291.\n",
      "Epoch 20/100\n",
      "31/31 [==============================] - 0s 4ms/step - loss: 0.3243 - acc: 0.8752 - val_loss: 0.3374 - val_acc: 0.8361\n",
      "Epoch 21/100\n",
      "31/31 [==============================] - 0s 5ms/step - loss: 0.3555 - acc: 0.8502 - val_loss: 0.3389 - val_acc: 0.8361\n"
     ]
    }
   ],
   "source": [
    "hear_attack_nn.compile(\n",
    "    loss = keras.losses.BinaryCrossentropy(from_logits=False),\n",
    "    optimizer = keras.optimizers.SGD(),\n",
    "    metrics = [\"acc\"]\n",
    ")\n",
    "\n",
    "lr_reduction = keras.callbacks.ReduceLROnPlateau(\n",
    "    monitor='val_loss', \n",
    "    patience=3, \n",
    "    verbose=1, \n",
    "    factor=0.5, \n",
    "    min_lr=0.00001\n",
    ")\n",
    "\n",
    "early_stopping = keras.callbacks.EarlyStopping(\n",
    "    monitor='val_loss',\n",
    "    min_delta=0,\n",
    "    patience=5,\n",
    "    verbose=0, mode='auto'\n",
    ")\n",
    "\n",
    "history = hear_attack_nn.fit(\n",
    "    x = X_train_tensors,\n",
    "    y = y_train_tensors,\n",
    "    validation_data = (X_test_tensors, y_test_tensors),\n",
    "    verbose = 1,\n",
    "    epochs = 100,\n",
    "    batch_size = 8,\n",
    "    shuffle=True,\n",
    "    callbacks =[lr_reduction, early_stopping]\n",
    ")"
   ]
  },
  {
   "cell_type": "markdown",
   "id": "mobile-complement",
   "metadata": {},
   "source": [
    "### Plotting the model trainning history"
   ]
  },
  {
   "cell_type": "code",
   "execution_count": null,
   "id": "associate-prague",
   "metadata": {},
   "outputs": [],
   "source": [
    "import numpy as np\n",
    "from matplotlib import pyplot as plt\n",
    "import pandas as pd"
   ]
  },
  {
   "cell_type": "code",
   "execution_count": 116,
   "id": "answering-latino",
   "metadata": {},
   "outputs": [
    {
     "data": {
      "image/png": "[encoded data removed]",
      "text/plain": [
       "<Figure size 432x288 with 1 Axes>"
      ]
     },
     "metadata": {
      "needs_background": "light"
     },
     "output_type": "display_data"
    }
   ],
   "source": [
    "df = pd.DataFrame(history.history)\n",
    "epochs = np.arange(1, 22)\n",
    "plt.plot(epochs,df[\"acc\"], label=\"acc\")\n",
    "plt.plot(epochs,df[\"val_acc\"], label=\"val_acc\")\n",
    "plt.plot(epochs,df[\"loss\"], label=\"loss\")\n",
    "plt.plot(epochs,df[\"val_loss\"], label=\"val_loss\")\n",
    "plt.title(\"Model Training History\", fontsize=16)\n",
    "plt.legend()\n",
    "plt.xlabel(\"epochs\", fontsize=15)\n",
    "plt.show()"
   ]
  },
  {
   "cell_type": "markdown",
   "id": "contrary-stylus",
   "metadata": {},
   "source": [
    "### Making predtictions"
   ]
  },
  {
   "cell_type": "code",
   "execution_count": 99,
   "id": "bored-withdrawal",
   "metadata": {},
   "outputs": [],
   "source": [
    "predictions = tf.cast(tf.squeeze(tf.round(hear_attack_nn.predict(X_test_tensors))), dtype=\"int32\")"
   ]
  },
  {
   "cell_type": "code",
   "execution_count": 100,
   "id": "further-perception",
   "metadata": {},
   "outputs": [
    {
     "data": {
      "text/plain": [
       "(<tf.Tensor: shape=(61,), dtype=int32, numpy=\n",
       " array([0, 0, 1, 0, 1, 1, 1, 0, 0, 1, 0, 0, 1, 0, 1, 1, 1, 0, 0, 0, 0, 0,\n",
       "        1, 1, 1, 1, 1, 1, 0, 1, 0, 0, 0, 0, 1, 0, 1, 1, 1, 1, 1, 1, 1, 1,\n",
       "        1, 0, 0, 1, 0, 0, 0, 0, 1, 1, 0, 0, 0, 1, 0, 0, 0])>,\n",
       " <tf.Tensor: shape=(61,), dtype=int32, numpy=\n",
       " array([0, 0, 1, 0, 1, 1, 1, 0, 0, 1, 1, 1, 1, 0, 1, 1, 1, 0, 0, 0, 1, 0,\n",
       "        0, 1, 1, 0, 0, 1, 0, 1, 1, 0, 0, 1, 1, 0, 1, 1, 1, 1, 1, 1, 1, 1,\n",
       "        1, 0, 0, 1, 0, 0, 0, 0, 1, 1, 0, 0, 0, 1, 0, 0, 0])>)"
      ]
     },
     "execution_count": 100,
     "metadata": {},
     "output_type": "execute_result"
    }
   ],
   "source": [
    "predictions, y_test_tensors"
   ]
  },
  {
   "cell_type": "markdown",
   "id": "cooperative-conversation",
   "metadata": {},
   "source": [
    "### Confusion matrix."
   ]
  },
  {
   "cell_type": "code",
   "execution_count": 109,
   "id": "level-determination",
   "metadata": {},
   "outputs": [],
   "source": [
    "from sklearn.metrics import confusion_matrix\n",
    "import itertools\n",
    "import numpy as np\n",
    "from matplotlib import pyplot as plt"
   ]
  },
  {
   "cell_type": "code",
   "execution_count": 110,
   "id": "described-certificate",
   "metadata": {},
   "outputs": [
    {
     "data": {
      "image/png": "[encoded data removed]",
      "text/plain": [
       "<Figure size 576x576 with 2 Axes>"
      ]
     },
     "metadata": {
      "needs_background": "light"
     },
     "output_type": "display_data"
    }
   ],
   "source": [
    "def plot_confusion_matrix(y_true, y_pred, classes=None, figsize=(5, 5), text_size=20): \n",
    "    cm = confusion_matrix(y_true, y_pred)\n",
    "    cm_norm = cm.astype(\"float\") / cm.sum(axis=1)[:, np.newaxis] \n",
    "    n_classes = cm.shape[0]\n",
    "  \n",
    "    fig, ax = plt.subplots(figsize=figsize)\n",
    "    cax = ax.matshow(cm, cmap=plt.cm.Blues) \n",
    "    fig.colorbar(cax)\n",
    "\n",
    "    if classes:\n",
    "        labels = classes\n",
    "    else:\n",
    "        labels = np.arange(cm.shape[0])\n",
    "\n",
    "    ax.set(title=\"Confusion Matrix\",\n",
    "         xlabel=\"Predicted label\",\n",
    "         ylabel=\"True label\",\n",
    "         xticks=np.arange(n_classes),\n",
    "         yticks=np.arange(n_classes), \n",
    "         xticklabels=labels,\n",
    "         yticklabels=labels,\n",
    "          )\n",
    "    ax.yaxis.label.set_color('green')\n",
    "    ax.xaxis.label.set_color('green')\n",
    "\n",
    "    \n",
    "    ax.xaxis.set_label_position(\"bottom\")\n",
    "    ax.xaxis.tick_bottom()\n",
    "\n",
    "    threshold = (cm.max() + cm.min()) / 2.\n",
    "    for i, j in itertools.product(range(cm.shape[0]), range(cm.shape[1])):\n",
    "        plt.text(j, i, f\"{cm[i, j]} ({cm_norm[i, j]*100:.1f}%)\",\n",
    "                 horizontalalignment=\"center\",\n",
    "                 color=\"white\" if cm[i, j] > threshold else \"black\",\n",
    "                 size=text_size)\n",
    "        \n",
    "plot_confusion_matrix(predictions, y_test_tensors, figsize=(8, 8))"
   ]
  },
  {
   "cell_type": "code",
   "execution_count": null,
   "id": "standing-subdivision",
   "metadata": {},
   "outputs": [],
   "source": []
  },
  {
   "cell_type": "code",
   "execution_count": null,
   "id": "median-recognition",
   "metadata": {},
   "outputs": [],
   "source": []
  }
 ],
 "metadata": {
  "kernelspec": {
   "display_name": "Python 3",
   "language": "python",
   "name": "python3"
  },
  "language_info": {
   "codemirror_mode": {
    "name": "ipython",
    "version": 3
   },
   "file_extension": ".py",
   "mimetype": "text/x-python",
   "name": "python",
   "nbconvert_exporter": "python",
   "pygments_lexer": "ipython3",
   "version": "3.8.5"
  }
 },
 "nbformat": 4,
 "nbformat_minor": 5
}
