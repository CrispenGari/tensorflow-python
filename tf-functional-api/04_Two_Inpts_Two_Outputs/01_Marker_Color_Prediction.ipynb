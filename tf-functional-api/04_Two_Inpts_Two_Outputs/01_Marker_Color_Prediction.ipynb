{
 "cells": [
  {
   "cell_type": "markdown",
   "id": "opening-international",
   "metadata": {},
   "source": [
    "### 2 inputs 2 outputs - Functional API keras\n",
    "In this notebook we are going to predict `color` and `marker` from our toy csv file using the functional api."
   ]
  },
  {
   "cell_type": "markdown",
   "id": "guilty-island",
   "metadata": {},
   "source": [
    "### Imports"
   ]
  },
  {
   "cell_type": "code",
   "execution_count": 1,
   "id": "cheap-farmer",
   "metadata": {},
   "outputs": [],
   "source": [
    "import pandas as pd\n",
    "import matplotlib.pyplot as plt\n",
    "import numpy as np\n",
    "import tensorflow as tf\n",
    "from tensorflow import keras \n",
    "from sklearn.compose import ColumnTransformer\n",
    "from sklearn.preprocessing import MinMaxScaler, OneHotEncoder"
   ]
  },
  {
   "cell_type": "markdown",
   "id": "alike-biodiversity",
   "metadata": {},
   "source": [
    "### Data `prep`."
   ]
  },
  {
   "cell_type": "code",
   "execution_count": 2,
   "id": "nearby-inside",
   "metadata": {},
   "outputs": [],
   "source": [
    "train_df = pd.read_csv('data/train.csv')\n",
    "test_df = pd.read_csv('data/test.csv')"
   ]
  },
  {
   "cell_type": "code",
   "execution_count": 3,
   "id": "charged-round",
   "metadata": {},
   "outputs": [
    {
     "data": {
      "text/html": [
       "<div>\n",
       "<style scoped>\n",
       "    .dataframe tbody tr th:only-of-type {\n",
       "        vertical-align: middle;\n",
       "    }\n",
       "\n",
       "    .dataframe tbody tr th {\n",
       "        vertical-align: top;\n",
       "    }\n",
       "\n",
       "    .dataframe thead th {\n",
       "        text-align: right;\n",
       "    }\n",
       "</style>\n",
       "<table border=\"1\" class=\"dataframe\">\n",
       "  <thead>\n",
       "    <tr style=\"text-align: right;\">\n",
       "      <th></th>\n",
       "      <th>x</th>\n",
       "      <th>y</th>\n",
       "      <th>color</th>\n",
       "      <th>marker</th>\n",
       "    </tr>\n",
       "  </thead>\n",
       "  <tbody>\n",
       "    <tr>\n",
       "      <th>0</th>\n",
       "      <td>-0.765775</td>\n",
       "      <td>1.006452</td>\n",
       "      <td>red</td>\n",
       "      <td>^</td>\n",
       "    </tr>\n",
       "    <tr>\n",
       "      <th>1</th>\n",
       "      <td>0.229016</td>\n",
       "      <td>0.094320</td>\n",
       "      <td>red</td>\n",
       "      <td>^</td>\n",
       "    </tr>\n",
       "    <tr>\n",
       "      <th>2</th>\n",
       "      <td>0.189987</td>\n",
       "      <td>1.589141</td>\n",
       "      <td>red</td>\n",
       "      <td>^</td>\n",
       "    </tr>\n",
       "    <tr>\n",
       "      <th>3</th>\n",
       "      <td>0.580085</td>\n",
       "      <td>0.520488</td>\n",
       "      <td>red</td>\n",
       "      <td>^</td>\n",
       "    </tr>\n",
       "    <tr>\n",
       "      <th>4</th>\n",
       "      <td>0.292287</td>\n",
       "      <td>0.317852</td>\n",
       "      <td>red</td>\n",
       "      <td>^</td>\n",
       "    </tr>\n",
       "  </tbody>\n",
       "</table>\n",
       "</div>"
      ],
      "text/plain": [
       "          x         y color marker\n",
       "0 -0.765775  1.006452   red      ^\n",
       "1  0.229016  0.094320   red      ^\n",
       "2  0.189987  1.589141   red      ^\n",
       "3  0.580085  0.520488   red      ^\n",
       "4  0.292287  0.317852   red      ^"
      ]
     },
     "execution_count": 3,
     "metadata": {},
     "output_type": "execute_result"
    }
   ],
   "source": [
    "if train_df.isnull().values.any():\n",
    "    train_df.dropna()\n",
    "if test_df.isnull().values.any():\n",
    "    test_df.dropna()\n",
    "    \n",
    "train_df.head()"
   ]
  },
  {
   "cell_type": "code",
   "execution_count": 4,
   "id": "recreational-stock",
   "metadata": {},
   "outputs": [],
   "source": [
    "column_transformer = ColumnTransformer([\n",
    "    ('min_max_scaler', MinMaxScaler(), ['x', 'y']),\n",
    "    ('one_hot_encoder', OneHotEncoder(), ['color', 'marker']),\n",
    "]).fit(train_df)"
   ]
  },
  {
   "cell_type": "code",
   "execution_count": 5,
   "id": "vital-answer",
   "metadata": {},
   "outputs": [],
   "source": [
    "train = column_transformer.transform(train_df)\n",
    "np.random.shuffle(train) \n",
    "test = column_transformer.transform(test_df)\n",
    "np.random.shuffle(test) "
   ]
  },
  {
   "cell_type": "code",
   "execution_count": 6,
   "id": "voluntary-essay",
   "metadata": {},
   "outputs": [
    {
     "data": {
      "text/plain": [
       "array([0.34843078, 0.01729116, 0.        , 1.        , 0.        ,\n",
       "       0.        , 0.        , 0.        , 0.        , 1.        ,\n",
       "       0.        ])"
      ]
     },
     "execution_count": 6,
     "metadata": {},
     "output_type": "execute_result"
    }
   ],
   "source": [
    "train[0]"
   ]
  },
  {
   "cell_type": "code",
   "execution_count": 7,
   "id": "another-tower",
   "metadata": {},
   "outputs": [],
   "source": [
    "train_input_1 = train[:,0]\n",
    "train_input_2 = train[:,1]\n",
    "train_output_1 = train[:,2:-3]\n",
    "train_output_2 = train[:,-3:]\n",
    "\n",
    "test_input_1 = test[:,0]\n",
    "test_input_2 = test[:,1]\n",
    "test_output_1 = test[:,2:-3]\n",
    "test_output_2 = test[:,-3:]"
   ]
  },
  {
   "cell_type": "markdown",
   "id": "fuzzy-penny",
   "metadata": {},
   "source": [
    "> Converting the inputs and outputs to `tensorflow` tensors."
   ]
  },
  {
   "cell_type": "code",
   "execution_count": 8,
   "id": "operational-pharmaceutical",
   "metadata": {},
   "outputs": [],
   "source": [
    "train_input_1_tensors = tf.convert_to_tensor(train_input_1, dtype=tf.float32)\n",
    "train_input_2_tensors = tf.convert_to_tensor(train_input_2, dtype=tf.float32)\n",
    "train_output_1_tensors = tf.convert_to_tensor(train_output_1, dtype=tf.int32)\n",
    "train_output_2_tensors = tf.convert_to_tensor(train_output_2, dtype=tf.int32)\n",
    "\n",
    "test_input_1_tensors = tf.convert_to_tensor(test_input_1, dtype=tf.float32)\n",
    "test_input_2_tensors = tf.convert_to_tensor(test_input_2, dtype=tf.float32)\n",
    "test_output_1_tensors = tf.convert_to_tensor(test_output_1, dtype=tf.int32)\n",
    "test_output_2_tensors = tf.convert_to_tensor(test_output_2, dtype=tf.int32)"
   ]
  },
  {
   "cell_type": "markdown",
   "id": "indoor-evening",
   "metadata": {},
   "source": [
    "> Creating a `Functional Model` that will take `input1 and input2` to predict `output1 and output2`.\n",
    "\n",
    "#### Model Architecture.\n",
    "\n",
    "```python\n",
    "     (one_hot_vectors)  (one_hot_vectors)\n",
    "            input1       input2\n",
    "              |            |\n",
    "              |            |\n",
    "        --------------------------\n",
    "        |      FFN-NETWORK       |\n",
    "        --------------------------\n",
    "          |                    |\n",
    "      (output1)             (output2)\n",
    "  categorical_entropy     categorical_entropy\n",
    "\n",
    "```"
   ]
  },
  {
   "cell_type": "code",
   "execution_count": 9,
   "id": "verbal-bolivia",
   "metadata": {},
   "outputs": [
    {
     "name": "stdout",
     "output_type": "stream",
     "text": [
      "Model: \"color_marker_classifier\"\n",
      "__________________________________________________________________________________________________\n",
      "Layer (type)                    Output Shape         Param #     Connected to                     \n",
      "==================================================================================================\n",
      "input_1 (InputLayer)            [(None, 1)]          0                                            \n",
      "__________________________________________________________________________________________________\n",
      "input_2 (InputLayer)            [(None, 1)]          0                                            \n",
      "__________________________________________________________________________________________________\n",
      "concatenate_layer (Concatenate) (None, 2)            0           input_1[0][0]                    \n",
      "                                                                 input_2[0][0]                    \n",
      "__________________________________________________________________________________________________\n",
      "hl_1 (Dense)                    (None, 64)           192         concatenate_layer[0][0]          \n",
      "__________________________________________________________________________________________________\n",
      "hl_2 (Dense)                    (None, 128)          8320        hl_1[0][0]                       \n",
      "__________________________________________________________________________________________________\n",
      "hl_3 (Dense)                    (None, 64)           8256        hl_2[0][0]                       \n",
      "__________________________________________________________________________________________________\n",
      "hl_4 (Dense)                    (None, 32)           2080        hl_3[0][0]                       \n",
      "__________________________________________________________________________________________________\n",
      "output_1 (Dense)                (None, 6)            198         hl_4[0][0]                       \n",
      "__________________________________________________________________________________________________\n",
      "output_2 (Dense)                (None, 3)            99          hl_4[0][0]                       \n",
      "==================================================================================================\n",
      "Total params: 19,145\n",
      "Trainable params: 19,145\n",
      "Non-trainable params: 0\n",
      "__________________________________________________________________________________________________\n"
     ]
    }
   ],
   "source": [
    "input_1 = keras.layers.Input(shape=(1,), name=\"input_1\")\n",
    "input_2 = keras.layers.Input(shape=(1,), name=\"input_2\")\n",
    "\n",
    "merged_input = keras.layers.Concatenate(axis=1, name=\"concatenate_layer\")([input_1, input_2])\n",
    "hl_1 = keras.layers.Dense(64, name=\"hl_1\", activation='relu')(merged_input)\n",
    "hl_2 = keras.layers.Dense(128, name=\"hl_2\", activation='relu')(hl_1)\n",
    "hl_3 = keras.layers.Dense(64, name=\"hl_3\", activation='relu')(hl_2)\n",
    "hl_4 = keras.layers.Dense(32, name=\"hl_4\", activation='relu')(hl_3)\n",
    "\n",
    "output_1 = keras.layers.Dense(6, activation='softmax', name=\"output_1\")(hl_4)\n",
    "output_2 = keras.layers.Dense(3, activation='softmax', name=\"output_2\")(hl_4)\n",
    "\n",
    "\n",
    "model = keras.Model(inputs=[input_1, input_2], outputs=[output_1, output_2],\n",
    "                    name=\"color_marker_classifier\")\n",
    "\n",
    "model.compile(\n",
    "    loss = {\n",
    "        \"output_1\": keras.losses.CategoricalCrossentropy(from_logits=False),\n",
    "        \"output_2\": keras.losses.CategoricalCrossentropy(from_logits=False),\n",
    "    },\n",
    "    optimizer = keras.optimizers.Adam(),\n",
    "    metrics=['acc']\n",
    ")\n",
    "model.summary()"
   ]
  },
  {
   "cell_type": "code",
   "execution_count": 10,
   "id": "automotive-european",
   "metadata": {},
   "outputs": [
    {
     "name": "stdout",
     "output_type": "stream",
     "text": [
      "Epoch 1/10\n",
      "113/113 [==============================] - 5s 28ms/step - loss: 2.3880 - output_1_loss: 1.5195 - output_2_loss: 0.8686 - output_1_acc: 0.3205 - output_2_acc: 0.6280 - val_loss: 0.8580 - val_output_1_loss: 0.5361 - val_output_2_loss: 0.3219 - val_output_1_acc: 0.8450 - val_output_2_acc: 0.8183\n",
      "Epoch 2/10\n",
      "113/113 [==============================] - 1s 5ms/step - loss: 0.6706 - output_1_loss: 0.4049 - output_2_loss: 0.2657 - output_1_acc: 0.8839 - output_2_acc: 0.9002 - val_loss: 0.3508 - val_output_1_loss: 0.2007 - val_output_2_loss: 0.1501 - val_output_1_acc: 0.9458 - val_output_2_acc: 0.9671\n",
      "Epoch 3/10\n",
      "113/113 [==============================] - 1s 5ms/step - loss: 0.3347 - output_1_loss: 0.1925 - output_2_loss: 0.1422 - output_1_acc: 0.9331 - output_2_acc: 0.9623 - val_loss: 0.2797 - val_output_1_loss: 0.1601 - val_output_2_loss: 0.1196 - val_output_1_acc: 0.9538 - val_output_2_acc: 0.9654\n",
      "Epoch 4/10\n",
      "113/113 [==============================] - 1s 5ms/step - loss: 0.2539 - output_1_loss: 0.1444 - output_2_loss: 0.1095 - output_1_acc: 0.9484 - output_2_acc: 0.9675 - val_loss: 0.1931 - val_output_1_loss: 0.1106 - val_output_2_loss: 0.0825 - val_output_1_acc: 0.9754 - val_output_2_acc: 0.9704\n",
      "Epoch 5/10\n",
      "113/113 [==============================] - 1s 6ms/step - loss: 0.1873 - output_1_loss: 0.1074 - output_2_loss: 0.0799 - output_1_acc: 0.9675 - output_2_acc: 0.9727 - val_loss: 0.1482 - val_output_1_loss: 0.0886 - val_output_2_loss: 0.0596 - val_output_1_acc: 0.9825 - val_output_2_acc: 0.9858\n",
      "Epoch 6/10\n",
      "113/113 [==============================] - 1s 5ms/step - loss: 0.1531 - output_1_loss: 0.0910 - output_2_loss: 0.0621 - output_1_acc: 0.9711 - output_2_acc: 0.9808 - val_loss: 0.1790 - val_output_1_loss: 0.1004 - val_output_2_loss: 0.0786 - val_output_1_acc: 0.9600 - val_output_2_acc: 0.9704\n",
      "Epoch 7/10\n",
      "113/113 [==============================] - 1s 5ms/step - loss: 0.1803 - output_1_loss: 0.1014 - output_2_loss: 0.0789 - output_1_acc: 0.9585 - output_2_acc: 0.9685 - val_loss: 0.1330 - val_output_1_loss: 0.0814 - val_output_2_loss: 0.0516 - val_output_1_acc: 0.9712 - val_output_2_acc: 0.9833\n",
      "Epoch 8/10\n",
      "113/113 [==============================] - 1s 5ms/step - loss: 0.1723 - output_1_loss: 0.0978 - output_2_loss: 0.0745 - output_1_acc: 0.9636 - output_2_acc: 0.9663 - val_loss: 0.1700 - val_output_1_loss: 0.0991 - val_output_2_loss: 0.0709 - val_output_1_acc: 0.9588 - val_output_2_acc: 0.9746\n",
      "Epoch 9/10\n",
      "113/113 [==============================] - 1s 5ms/step - loss: 0.1472 - output_1_loss: 0.0832 - output_2_loss: 0.0641 - output_1_acc: 0.9680 - output_2_acc: 0.9777 - val_loss: 0.1168 - val_output_1_loss: 0.0727 - val_output_2_loss: 0.0441 - val_output_1_acc: 0.9721 - val_output_2_acc: 0.9862\n",
      "Epoch 10/10\n",
      "113/113 [==============================] - 1s 5ms/step - loss: 0.1364 - output_1_loss: 0.0795 - output_2_loss: 0.0569 - output_1_acc: 0.9717 - output_2_acc: 0.9797 - val_loss: 0.0975 - val_output_1_loss: 0.0577 - val_output_2_loss: 0.0398 - val_output_1_acc: 0.9862 - val_output_2_acc: 0.9900\n"
     ]
    }
   ],
   "source": [
    "EPOCHS = 10\n",
    "VALID_SPLIT = .4\n",
    "BATCH_SIZE = 32\n",
    "VERBOSE = 1\n",
    "history = model.fit(x=[train_input_1_tensors, train_input_2_tensors],\n",
    "                    y=[train_output_1_tensors, train_output_2_tensors], \n",
    "                    epochs=EPOCHS,\n",
    "                    verbose=VERBOSE, validation_split= VALID_SPLIT,\n",
    "                    batch_size=BATCH_SIZE\n",
    "                   )"
   ]
  },
  {
   "cell_type": "markdown",
   "id": "retained-utility",
   "metadata": {},
   "source": [
    "> Evaluating the `model`."
   ]
  },
  {
   "cell_type": "code",
   "execution_count": 11,
   "id": "important-bridge",
   "metadata": {},
   "outputs": [
    {
     "name": "stdout",
     "output_type": "stream",
     "text": [
      "38/38 [==============================] - 1s 4ms/step - loss: 0.1102 - output_1_loss: 0.0636 - output_2_loss: 0.0465 - output_1_acc: 0.9833 - output_2_acc: 0.9842\n"
     ]
    },
    {
     "data": {
      "text/plain": [
       "[0.1101640984416008,\n",
       " 0.06364080309867859,\n",
       " 0.046523287892341614,\n",
       " 0.9833333492279053,\n",
       " 0.98416668176651]"
      ]
     },
     "execution_count": 11,
     "metadata": {},
     "output_type": "execute_result"
    }
   ],
   "source": [
    "model.evaluate([test_input_1_tensors, test_input_2_tensors],[test_output_1_tensors, test_output_2_tensors] )"
   ]
  },
  {
   "cell_type": "markdown",
   "id": "acknowledged-strand",
   "metadata": {},
   "source": [
    "> Making `predictions`."
   ]
  },
  {
   "cell_type": "code",
   "execution_count": 12,
   "id": "brave-blast",
   "metadata": {},
   "outputs": [],
   "source": [
    "predictions = model.predict([test_input_1_tensors, test_input_2_tensors])"
   ]
  },
  {
   "cell_type": "code",
   "execution_count": 13,
   "id": "fifth-compatibility",
   "metadata": {},
   "outputs": [],
   "source": [
    "color_prediction, marker_prediction = predictions"
   ]
  },
  {
   "cell_type": "code",
   "execution_count": 14,
   "id": "infrared-learning",
   "metadata": {},
   "outputs": [],
   "source": [
    "color_prediction = np.argmax(color_prediction, axis=1)\n",
    "marker_prediction = np.argmax(marker_prediction, axis=1)"
   ]
  },
  {
   "cell_type": "code",
   "execution_count": 15,
   "id": "acoustic-eligibility",
   "metadata": {},
   "outputs": [
    {
     "data": {
      "text/plain": [
       "(array([[0, 0, 0, 0, 1, 0],\n",
       "        [0, 1, 0, 0, 0, 0],\n",
       "        [1, 0, 0, 0, 0, 0],\n",
       "        [0, 0, 0, 0, 1, 0],\n",
       "        [0, 1, 0, 0, 0, 0]]),\n",
       " array([4, 1, 0, 4, 1], dtype=int64))"
      ]
     },
     "execution_count": 15,
     "metadata": {},
     "output_type": "execute_result"
    }
   ],
   "source": [
    "test_output_1_tensors[:5].numpy(), color_prediction[:5]\n"
   ]
  },
  {
   "cell_type": "markdown",
   "id": "exciting-magazine",
   "metadata": {},
   "source": [
    "> The model is making predicting data very well."
   ]
  },
  {
   "cell_type": "code",
   "execution_count": null,
   "id": "horizontal-retail",
   "metadata": {},
   "outputs": [],
   "source": []
  }
 ],
 "metadata": {
  "kernelspec": {
   "display_name": "Python 3",
   "language": "python",
   "name": "python3"
  },
  "language_info": {
   "codemirror_mode": {
    "name": "ipython",
    "version": 3
   },
   "file_extension": ".py",
   "mimetype": "text/x-python",
   "name": "python",
   "nbconvert_exporter": "python",
   "pygments_lexer": "ipython3",
   "version": "3.8.5"
  }
 },
 "nbformat": 4,
 "nbformat_minor": 5
}
