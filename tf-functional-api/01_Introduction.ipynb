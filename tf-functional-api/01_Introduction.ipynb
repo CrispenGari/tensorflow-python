{
 "cells": [
  {
   "cell_type": "markdown",
   "id": "gross-maria",
   "metadata": {},
   "source": [
    "### Functional API\n",
    "The functional API can handle models with non-linear topology, shared layers, and even multiple inputs or outputs. The main idea is that a deep learning model is usually a directed acyclic graph (DAG) of layers. So the functional API is a way to build graphs of layers.\n",
    "\n",
    "<p align='center'>\n",
    "<img src=\"https://keras.io/img/guides/functional_api/functional_api_40_0.png\"/>\n",
    "</p>\n",
    "\n",
    "The sequential API allows you to create models layer-by-layer for most problems. It is limited in that it does not allow you to create models that share layers or have multiple inputs or outputs.\n",
    "\n",
    "The functional API in Keras is an alternate way of creating models that offers a lot more flexibility, including creating more complex models.\n",
    "\n",
    "> 🎈 With the  Functional **API** we can be able to create the models of the following nature beacuse of it's flexebility.\n",
    "\n",
    "\n",
    "\n",
    "```\n",
    "      input                          input               input1   input2                \n",
    "        |                              |                    \\     /                      \n",
    "      hidden layer(s)               hidden layer(s)        hidden layer(s)             \n",
    "        |                            /    \\                    |                         \n",
    "      output                    output1  output2              output                     \n",
    " Functional & Sequential           (only Functional)       (only Functional)        \n",
    "```\n",
    "\n",
    "```\n",
    "     input\n",
    "     /  \\\n",
    "   hl    hl\n",
    "    \\   /    \n",
    "    output\n",
    "(only Functional) \n",
    "```\n",
    "\n",
    "There a a lot of cases we can use the functional API"
   ]
  },
  {
   "cell_type": "code",
   "execution_count": 1,
   "id": "hungry-patch",
   "metadata": {},
   "outputs": [],
   "source": [
    "import tensorflow as tf\n",
    "from tensorflow import keras"
   ]
  },
  {
   "cell_type": "markdown",
   "id": "comic-madagascar",
   "metadata": {},
   "source": [
    "> Let's consider the following `Sequential` Model."
   ]
  },
  {
   "cell_type": "code",
   "execution_count": 6,
   "id": "asian-purchase",
   "metadata": {},
   "outputs": [
    {
     "name": "stdout",
     "output_type": "stream",
     "text": [
      "Model: \"s_model\"\n",
      "_________________________________________________________________\n",
      "Layer (type)                 Output Shape              Param #   \n",
      "=================================================================\n",
      "first_layer (Conv2D)         (None, 220, 220, 100)     7600      \n",
      "_________________________________________________________________\n",
      "second_layer (Conv2D)        (None, 216, 216, 50)      125050    \n",
      "_________________________________________________________________\n",
      "third_layer (Conv2D)         (None, 212, 212, 32)      40032     \n",
      "_________________________________________________________________\n",
      "flatten_layer (Flatten)      (None, 1438208)           0         \n",
      "_________________________________________________________________\n",
      "fifthy_layer (Dense)         (None, 64)                92045376  \n",
      "_________________________________________________________________\n",
      "output_layer (Dense)         (None, 1)                 65        \n",
      "=================================================================\n",
      "Total params: 92,218,123\n",
      "Trainable params: 92,218,123\n",
      "Non-trainable params: 0\n",
      "_________________________________________________________________\n"
     ]
    }
   ],
   "source": [
    "s_model = keras.Sequential([\n",
    "    keras.layers.Conv2D(100, 5, activation='tanh', name='first_layer', input_shape=(224,224,3)),\n",
    "    keras.layers.Conv2D(50, 5, activation='tanh', name='second_layer'),\n",
    "    keras.layers.Conv2D(32, 5, activation='tanh', name='third_layer'),\n",
    "    keras.layers.Flatten(name='flatten_layer'),\n",
    "    keras.layers.Dense(64, activation='relu', name='fifthy_layer'),\n",
    "    keras.layers.Dense(1, activation='sigmoid', name='output_layer'),\n",
    "], name='s_model')\n",
    "\n",
    "s_model.summary()"
   ]
  },
  {
   "cell_type": "markdown",
   "id": "acquired-mouse",
   "metadata": {},
   "source": [
    "> Now let's convert the `s_model` to the functional model `f_model`."
   ]
  },
  {
   "cell_type": "markdown",
   "id": "handed-situation",
   "metadata": {},
   "source": [
    "#### Method 1."
   ]
  },
  {
   "cell_type": "code",
   "execution_count": 10,
   "id": "equal-place",
   "metadata": {},
   "outputs": [
    {
     "name": "stdout",
     "output_type": "stream",
     "text": [
      "Model: \"f1_model\"\n",
      "_________________________________________________________________\n",
      "Layer (type)                 Output Shape              Param #   \n",
      "=================================================================\n",
      "input_layer (InputLayer)     [(None, 224, 224, 3)]     0         \n",
      "_________________________________________________________________\n",
      "first_layer (Conv2D)         (None, 220, 220, 100)     7600      \n",
      "_________________________________________________________________\n",
      "second_layer (Conv2D)        (None, 216, 216, 50)      125050    \n",
      "_________________________________________________________________\n",
      "third_layer (Conv2D)         (None, 212, 212, 32)      40032     \n",
      "_________________________________________________________________\n",
      "flatten_layer (Flatten)      (None, 1438208)           0         \n",
      "_________________________________________________________________\n",
      "fifthy_layer (Dense)         (None, 64)                92045376  \n",
      "_________________________________________________________________\n",
      "output_layer (Dense)         (None, 1)                 65        \n",
      "=================================================================\n",
      "Total params: 92,218,123\n",
      "Trainable params: 92,218,123\n",
      "Non-trainable params: 0\n",
      "_________________________________________________________________\n"
     ]
    }
   ],
   "source": [
    "input_layer = keras.layers.Input(shape=(224, 224, 3), name=\"input_layer\")\n",
    "first_layer = keras.layers.Conv2D(100, 5, activation='tanh', name='first_layer')\n",
    "second_layer = keras.layers.Conv2D(50, 5, activation='tanh', name='second_layer')\n",
    "third_layer = keras.layers.Conv2D(32, 5, activation='tanh', name='third_layer')\n",
    "flatten_layer = keras.layers.Flatten(name='flatten_layer')\n",
    "fifthy_layer = keras.layers.Dense(64, activation='relu', name='fifthy_layer')\n",
    "output_layer =keras.layers.Dense(1, activation='sigmoid', name='output_layer')\n",
    "\n",
    "### These layers are callable\n",
    "x = first_layer(input_layer)\n",
    "x = second_layer(x)\n",
    "x = third_layer(x)\n",
    "x = flatten_layer(x)\n",
    "x = fifthy_layer(x)\n",
    "x = output_layer(x)\n",
    "\n",
    "f1_model = keras.Model(inputs=input_layer, outputs=x, name=\"f1_model\")\n",
    "f1_model.summary()"
   ]
  },
  {
   "cell_type": "markdown",
   "id": "imperial-coaching",
   "metadata": {},
   "source": [
    "#### Method 2."
   ]
  },
  {
   "cell_type": "code",
   "execution_count": 12,
   "id": "organizational-abortion",
   "metadata": {},
   "outputs": [
    {
     "name": "stdout",
     "output_type": "stream",
     "text": [
      "Model: \"f1_model\"\n",
      "_________________________________________________________________\n",
      "Layer (type)                 Output Shape              Param #   \n",
      "=================================================================\n",
      "input_layer (InputLayer)     [(None, 224, 224, 3)]     0         \n",
      "_________________________________________________________________\n",
      "first_layer (Conv2D)         (None, 220, 220, 100)     7600      \n",
      "_________________________________________________________________\n",
      "second_layer (Conv2D)        (None, 216, 216, 50)      125050    \n",
      "_________________________________________________________________\n",
      "third_layer (Conv2D)         (None, 212, 212, 32)      40032     \n",
      "_________________________________________________________________\n",
      "flatten_layer (Flatten)      (None, 1438208)           0         \n",
      "_________________________________________________________________\n",
      "fifthy_layer (Dense)         (None, 64)                92045376  \n",
      "_________________________________________________________________\n",
      "output_layer (Dense)         (None, 1)                 65        \n",
      "=================================================================\n",
      "Total params: 92,218,123\n",
      "Trainable params: 92,218,123\n",
      "Non-trainable params: 0\n",
      "_________________________________________________________________\n"
     ]
    }
   ],
   "source": [
    "input_layer = keras.layers.Input(shape=(224, 224, 3), name=\"input_layer\")\n",
    "\n",
    "first_layer = keras.layers.Conv2D(100, 5, activation='tanh', name='first_layer')(input_layer)\n",
    "second_layer = keras.layers.Conv2D(50, 5, activation='tanh', name='second_layer')(first_layer)\n",
    "third_layer = keras.layers.Conv2D(32, 5, activation='tanh', name='third_layer')(second_layer)\n",
    "flatten_layer = keras.layers.Flatten(name='flatten_layer')(third_layer)\n",
    "fifthy_layer = keras.layers.Dense(64, activation='relu', name='fifthy_layer')(flatten_layer)\n",
    "output_layer =keras.layers.Dense(1, activation='sigmoid', name='output_layer')(fifthy_layer)\n",
    "\n",
    "f2_model = keras.Model(inputs=input_layer, outputs=output_layer, name=\"f1_model\")\n",
    "f2_model.summary()"
   ]
  },
  {
   "cell_type": "markdown",
   "id": "preliminary-endorsement",
   "metadata": {},
   "source": [
    "> The ``method 2`` is one of the common used method in practice but they both yield the same result."
   ]
  },
  {
   "cell_type": "markdown",
   "id": "hairy-qatar",
   "metadata": {},
   "source": [
    "### Convert ``Sequential`` to ``Functional``.\n",
    "* Create an input layer with a good shape.\n",
    "* pass the input layer to the first layer of the `Sequentail` model and store in a variable `x`.\n",
    "* pass the output `x` to all the layers of the model to get the output layer\n",
    "* finaly create the model with the ``input = input_layer`` and ``output = x`` using `keras.Model()` class.\n",
    "\n",
    "> 💎 Very important consept when doing `Transfer Learning`."
   ]
  },
  {
   "cell_type": "code",
   "execution_count": 18,
   "id": "serious-referral",
   "metadata": {},
   "outputs": [
    {
     "name": "stdout",
     "output_type": "stream",
     "text": [
      "Model: \"f3_model\"\n",
      "_________________________________________________________________\n",
      "Layer (type)                 Output Shape              Param #   \n",
      "=================================================================\n",
      "input_2 (InputLayer)         [(None, 224, 224, 3)]     0         \n",
      "_________________________________________________________________\n",
      "first_layer (Conv2D)         (None, 220, 220, 100)     7600      \n",
      "_________________________________________________________________\n",
      "second_layer (Conv2D)        (None, 216, 216, 50)      125050    \n",
      "_________________________________________________________________\n",
      "third_layer (Conv2D)         (None, 212, 212, 32)      40032     \n",
      "_________________________________________________________________\n",
      "flatten_layer (Flatten)      (None, 1438208)           0         \n",
      "_________________________________________________________________\n",
      "fifthy_layer (Dense)         (None, 64)                92045376  \n",
      "_________________________________________________________________\n",
      "output_layer (Dense)         (None, 1)                 65        \n",
      "=================================================================\n",
      "Total params: 92,218,123\n",
      "Trainable params: 92,218,123\n",
      "Non-trainable params: 0\n",
      "_________________________________________________________________\n"
     ]
    }
   ],
   "source": [
    "input_layer = keras.layers.Input(shape=(224, 224, 3))\n",
    "\n",
    "x = s_model.layers[0](input_layer)\n",
    "\n",
    "for layer in s_model.layers[1:]:\n",
    "    x = layer(x)\n",
    "f3_model = keras.Model(inputs=input_layer, outputs=x, name=\"f3_model\")\n",
    "f3_model.summary()"
   ]
  },
  {
   "cell_type": "markdown",
   "id": "eastern-sword",
   "metadata": {},
   "source": [
    "### Convert ``Functional`` to ``Sequential``.\n",
    "> ✔ This only works if the `functional` model is **linear**.\n",
    "\n",
    "We need to loop through all the layers of the functional model and add them to our sequential model.\n",
    "\n",
    "> 💎 Very important consept when doing `Transfer Learning`."
   ]
  },
  {
   "cell_type": "code",
   "execution_count": 13,
   "id": "necessary-distinction",
   "metadata": {},
   "outputs": [
    {
     "name": "stdout",
     "output_type": "stream",
     "text": [
      "Model: \"sequential\"\n",
      "_________________________________________________________________\n",
      "Layer (type)                 Output Shape              Param #   \n",
      "=================================================================\n",
      "first_layer (Conv2D)         (None, 220, 220, 100)     7600      \n",
      "_________________________________________________________________\n",
      "second_layer (Conv2D)        (None, 216, 216, 50)      125050    \n",
      "_________________________________________________________________\n",
      "third_layer (Conv2D)         (None, 212, 212, 32)      40032     \n",
      "_________________________________________________________________\n",
      "flatten_layer (Flatten)      (None, 1438208)           0         \n",
      "_________________________________________________________________\n",
      "fifthy_layer (Dense)         (None, 64)                92045376  \n",
      "_________________________________________________________________\n",
      "output_layer (Dense)         (None, 1)                 65        \n",
      "=================================================================\n",
      "Total params: 92,218,123\n",
      "Trainable params: 92,218,123\n",
      "Non-trainable params: 0\n",
      "_________________________________________________________________\n"
     ]
    }
   ],
   "source": [
    "s1_model = keras.Sequential()\n",
    "\n",
    "for layer in f1_model.layers:\n",
    "    s1_model.add(layer)\n",
    "s1_model.summary()"
   ]
  },
  {
   "cell_type": "markdown",
   "id": "painted-corner",
   "metadata": {},
   "source": [
    "#### Access inputs and outputs for ``model``"
   ]
  },
  {
   "cell_type": "code",
   "execution_count": 19,
   "id": "connected-notification",
   "metadata": {},
   "outputs": [
    {
     "data": {
      "text/plain": [
       "([<KerasTensor: shape=(None, 224, 224, 3) dtype=float32 (created by layer 'input_layer')>],\n",
       " [<KerasTensor: shape=(None, 1) dtype=float32 (created by layer 'output_layer')>])"
      ]
     },
     "execution_count": 19,
     "metadata": {},
     "output_type": "execute_result"
    }
   ],
   "source": [
    "f1_model.inputs, f1_model.outputs"
   ]
  },
  {
   "cell_type": "markdown",
   "id": "unnecessary-horizon",
   "metadata": {},
   "source": [
    "#### Access input and output for a ``layer``"
   ]
  },
  {
   "cell_type": "code",
   "execution_count": 24,
   "id": "greek-maintenance",
   "metadata": {},
   "outputs": [
    {
     "data": {
      "text/plain": [
       "(<KerasTensor: shape=(None, 64) dtype=float32 (created by layer 'fifthy_layer')>,\n",
       " <KerasTensor: shape=(None, 1) dtype=float32 (created by layer 'output_layer')>)"
      ]
     },
     "execution_count": 24,
     "metadata": {},
     "output_type": "execute_result"
    }
   ],
   "source": [
    "f1_model.layers[-1].input, f1_model.layers[-1].output"
   ]
  },
  {
   "cell_type": "markdown",
   "id": "assumed-edinburgh",
   "metadata": {},
   "source": [
    "> ✔ **Note:** When your Functional model accepts more than `1` input and yield more than `1` output then we pass the input and output as an array. For example:\n",
    "\n",
    "```\n",
    "model = keras.Model(inputs=[input_1, input_2,..], outputs=[output_1, output_2, ...])\n",
    "```\n",
    "This means when you compile your model each output will have it's loss function. We will see this more in practical examples."
   ]
  },
  {
   "cell_type": "code",
   "execution_count": null,
   "id": "assumed-hometown",
   "metadata": {},
   "outputs": [],
   "source": []
  }
 ],
 "metadata": {
  "kernelspec": {
   "display_name": "Python 3",
   "language": "python",
   "name": "python3"
  },
  "language_info": {
   "codemirror_mode": {
    "name": "ipython",
    "version": 3
   },
   "file_extension": ".py",
   "mimetype": "text/x-python",
   "name": "python",
   "nbconvert_exporter": "python",
   "pygments_lexer": "ipython3",
   "version": "3.8.5"
  }
 },
 "nbformat": 4,
 "nbformat_minor": 5
}
