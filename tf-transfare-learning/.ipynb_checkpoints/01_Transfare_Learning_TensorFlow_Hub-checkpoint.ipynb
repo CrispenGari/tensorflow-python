{
 "cells": [
  {
   "cell_type": "markdown",
   "metadata": {
    "id": "zsWZU7NMi2vJ"
   },
   "source": [
    "### Transfare Learning `TensorFlow Hub` - ``TensorFlow``\n",
    "* [TensorFlowHub](https://www.tensorflow.org/hub)\n",
    "\n",
    "```shell\n",
    "!pip install --upgrade tensorflow_hub\n",
    "```"
   ]
  },
  {
   "cell_type": "code",
   "execution_count": 11,
   "metadata": {
    "id": "7InLgJZzivXz"
   },
   "outputs": [],
   "source": [
    "import tensorflow as tf\n",
    "from tensorflow import keras\n",
    "from tensorflow.keras import datasets\n",
    "import numpy as np\n",
    "import tensorflow_hub as hub\n",
    "import tensorflow_datasets as tfds\n",
    "from matplotlib import pyplot as plt"
   ]
  },
  {
   "cell_type": "markdown",
   "metadata": {
    "id": "vocIXDXRnldb"
   },
   "source": [
    "### Configuring the ``device`` for the environment.\n"
   ]
  },
  {
   "cell_type": "code",
   "execution_count": 2,
   "metadata": {
    "id": "Albz4LFHnkve"
   },
   "outputs": [],
   "source": [
    "physical_devices = tf.config.list_physical_devices(\"GPU\")\n",
    "tf.config.experimental.set_memory_growth(physical_devices[0], True)"
   ]
  },
  {
   "cell_type": "markdown",
   "metadata": {
    "id": "deJx0d64nPlS"
   },
   "source": [
    "### Let's create a model that will train on the `CatsVDogs` dataset."
   ]
  },
  {
   "cell_type": "code",
   "execution_count": 3,
   "metadata": {
    "id": "n9ZTB1WtjadF"
   },
   "outputs": [],
   "source": [
    "data = tfds.load(\"cats_vs_dogs\", split=\"train\")"
   ]
  },
  {
   "cell_type": "code",
   "execution_count": 13,
   "metadata": {
    "id": "C5wpgD4oyfuc"
   },
   "outputs": [],
   "source": [
    "images =[]\n",
    "labels = []\n",
    "for i, image_label in enumerate(data):\n",
    "   if i == 200:\n",
    "     break\n",
    "   images.append(tf.image.resize(image_label['image'].numpy().astype('float32')/255, (224, 224)))\n",
    "   labels.append(image_label['label'])"
   ]
  },
  {
   "cell_type": "markdown",
   "metadata": {
    "id": "RUBMAFRByng7"
   },
   "source": [
    "## Transfare Learbning using tensorflow hub.\n",
    "\n",
    "We are going to use the [Resnet_50](https://tfhub.dev/tensorflow/resnet_50/classification/1) model which accepts images of `224x224x3`"
   ]
  },
  {
   "cell_type": "code",
   "execution_count": 14,
   "metadata": {
    "colab": {
     "base_uri": "https://localhost:8080/",
     "height": 35
    },
    "id": "kgsWuJXLlYdB",
    "outputId": "17741b07-160e-4ce1-b227-13294bb3c82d"
   },
   "outputs": [
    {
     "data": {
      "application/vnd.google.colaboratory.intrinsic+json": {
       "type": "string"
      },
      "text/plain": [
       "'https://tfhub.dev/tensorflow/resnet_50/classification/1'"
      ]
     },
     "execution_count": 14,
     "metadata": {
      "tags": []
     },
     "output_type": "execute_result"
    }
   ],
   "source": [
    "model_url = \"https://tfhub.dev/tensorflow/resnet_50/classification/1\"\n",
    "model_url"
   ]
  },
  {
   "cell_type": "code",
   "execution_count": 15,
   "metadata": {
    "colab": {
     "base_uri": "https://localhost:8080/"
    },
    "id": "pRo-bFwtlJIn",
    "outputId": "c4aaaaeb-37d3-4928-bd40-3945800a3a14"
   },
   "outputs": [
    {
     "data": {
      "text/plain": [
       "<tensorflow_hub.keras_layer.KerasLayer at 0x7fee8a44aa50>"
      ]
     },
     "execution_count": 15,
     "metadata": {
      "tags": []
     },
     "output_type": "execute_result"
    }
   ],
   "source": [
    "base_layer = hub.KerasLayer(model_url, input_shape=(224, 224, 3))\n",
    "base_layer"
   ]
  },
  {
   "cell_type": "markdown",
   "metadata": {
    "id": "MKudlg812pgT"
   },
   "source": [
    "In this case we are going to add the `base_layer` as our first layer in the sequential model and then we will add our classfication layers  as follows:\n",
    "\n",
    "```python\n",
    "model = keras.Sequential([\n",
    "        base_model,\n",
    "        layers.Dense(128, activation=\"relu\"),\n",
    "        layers.Dense(64, activation=\"relu\"),\n",
    "        layers.Dense(1, activation='sigmoid'),\n",
    "        ]\n",
    ")\n",
    "\n",
    "model.compile(....)\n",
    "```"
   ]
  },
  {
   "cell_type": "code",
   "execution_count": 19,
   "metadata": {
    "colab": {
     "base_uri": "https://localhost:8080/"
    },
    "id": "9XgJ-wjHlI_W",
    "outputId": "f2de1bdc-763d-48bb-bd4c-ee4e73c57c6a"
   },
   "outputs": [
    {
     "name": "stdout",
     "output_type": "stream",
     "text": [
      "Model: \"sequential_2\"\n",
      "_________________________________________________________________\n",
      "Layer (type)                 Output Shape              Param #   \n",
      "=================================================================\n",
      "keras_layer (KerasLayer)     (None, 1001)              25612201  \n",
      "_________________________________________________________________\n",
      "dense_3 (Dense)              (None, 64)                64128     \n",
      "_________________________________________________________________\n",
      "dense_4 (Dense)              (None, 128)               8320      \n",
      "_________________________________________________________________\n",
      "dense_5 (Dense)              (None, 1)                 129       \n",
      "=================================================================\n",
      "Total params: 25,684,778\n",
      "Trainable params: 72,577\n",
      "Non-trainable params: 25,612,201\n",
      "_________________________________________________________________\n"
     ]
    }
   ],
   "source": [
    "model = keras.Sequential([\n",
    "        base_model,\n",
    "        keras.layers.Dense(64, activation=\"relu\"),\n",
    "        keras.layers.Dense(128, activation=\"relu\"),\n",
    "        keras.layers.Dense(1, activation='sigmoid'),\n",
    "])\n",
    "model.compile(\n",
    "    metrics=[\"acc\"],\n",
    "    loss = keras.losses.BinaryCrossentropy(from_logits=False),\n",
    "    optimizer=\"adam\"\n",
    ")\n",
    "model.summary()"
   ]
  },
  {
   "cell_type": "code",
   "execution_count": 20,
   "metadata": {
    "colab": {
     "base_uri": "https://localhost:8080/"
    },
    "id": "FdPfEESOlI1B",
    "outputId": "8d77b38e-8fa7-4739-c2a5-c6e69fb6e230"
   },
   "outputs": [
    {
     "name": "stdout",
     "output_type": "stream",
     "text": [
      "Epoch 1/2\n",
      "18/18 [==============================] - 37s 118ms/step - loss: 0.6778 - acc: 0.7571 - val_loss: 0.6588 - val_acc: 0.8167\n",
      "Epoch 2/2\n",
      "18/18 [==============================] - 1s 47ms/step - loss: 0.6227 - acc: 0.9143 - val_loss: 0.5797 - val_acc: 0.8833\n"
     ]
    },
    {
     "data": {
      "text/plain": [
       "<tensorflow.python.keras.callbacks.History at 0x7fee76045750>"
      ]
     },
     "execution_count": 20,
     "metadata": {
      "tags": []
     },
     "output_type": "execute_result"
    }
   ],
   "source": [
    "model.fit(tf.convert_to_tensor(images), tf.convert_to_tensor(labels),\n",
    "          epochs=2, verbose=1, validation_split=.3, batch_size=8\n",
    "          )"
   ]
  },
  {
   "cell_type": "markdown",
   "metadata": {
    "id": "hK2DRu7_4YW8"
   },
   "source": [
    "> As we can see that our model with 2 epochs the accuracy for the validation set is about `84%` which is better."
   ]
  },
  {
   "cell_type": "markdown",
   "metadata": {
    "id": "pnPaEkSU4wfr"
   },
   "source": [
    "### There are a lot of `pretrained` models in the `TensorFlowHub` for classification, object-detection tasks etc.\n",
    "\n",
    "1. [Classification](https://tfhub.dev/s?module-type=image-classification)"
   ]
  },
  {
   "cell_type": "code",
   "execution_count": null,
   "metadata": {
    "id": "ju-V4VaX5NWR"
   },
   "outputs": [],
   "source": []
  }
 ],
 "metadata": {
  "accelerator": "GPU",
  "colab": {
   "collapsed_sections": [],
   "name": "01_Transfare_Learning_TensorFlow_Hub.ipynb",
   "provenance": []
  },
  "kernelspec": {
   "display_name": "Python 3",
   "language": "python",
   "name": "python3"
  },
  "language_info": {
   "codemirror_mode": {
    "name": "ipython",
    "version": 3
   },
   "file_extension": ".py",
   "mimetype": "text/x-python",
   "name": "python",
   "nbconvert_exporter": "python",
   "pygments_lexer": "ipython3",
   "version": "3.8.5"
  }
 },
 "nbformat": 4,
 "nbformat_minor": 1
}
