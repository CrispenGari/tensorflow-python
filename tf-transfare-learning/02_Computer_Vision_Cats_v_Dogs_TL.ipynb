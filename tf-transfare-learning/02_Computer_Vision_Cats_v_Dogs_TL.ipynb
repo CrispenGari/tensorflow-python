{
 "cells": [
  {
   "cell_type": "markdown",
   "id": "wireless-flavor",
   "metadata": {},
   "source": [
    "### Cat's vrs Dogs Transfare learning\n",
    "Our goal in this notebook is to be able to use the `keras.application` api to do transfare learning  a `tfds` dataset."
   ]
  }
 ],
 "metadata": {
  "kernelspec": {
   "display_name": "Python 3",
   "language": "python",
   "name": "python3"
  },
  "language_info": {
   "codemirror_mode": {
    "name": "ipython",
    "version": 3
   },
   "file_extension": ".py",
   "mimetype": "text/x-python",
   "name": "python",
   "nbconvert_exporter": "python",
   "pygments_lexer": "ipython3",
   "version": "3.8.5"
  }
 },
 "nbformat": 4,
 "nbformat_minor": 5
}
