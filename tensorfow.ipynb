{
 "cells": [
  {
   "cell_type": "markdown",
   "id": "intellectual-watts",
   "metadata": {},
   "source": [
    "# Installation"
   ]
  },
  {
   "cell_type": "code",
   "execution_count": null,
   "id": "noted-tracy",
   "metadata": {},
   "outputs": [],
   "source": [
    "!pip install --upgrade pip\n",
    "!pip install tensorflow"
   ]
  },
  {
   "cell_type": "markdown",
   "id": "offensive-destiny",
   "metadata": {},
   "source": [
    "# Imports"
   ]
  },
  {
   "cell_type": "code",
   "execution_count": 1,
   "id": "organized-maximum",
   "metadata": {},
   "outputs": [],
   "source": [
    "import tensorflow as tf\n",
    "import numpy as np\n",
    "import matplotlib.pyplot as plt\n",
    "import pandas as pd\n"
   ]
  },
  {
   "cell_type": "markdown",
   "id": "least-reply",
   "metadata": {},
   "source": [
    "## 1. Listing all the datatypes supported in ternsorflow"
   ]
  },
  {
   "cell_type": "markdown",
   "id": "alpine-desperate",
   "metadata": {},
   "source": [
    "Tensors are multi-dimensional arrays with a uniform type (called a dtype). You can see all supported dtypes at tf.dtypes.DType.\n",
    "[tf.dtypes](https://www.tensorflow.org/api_docs/python/tf/dtypes/DType)"
   ]
  },
  {
   "cell_type": "markdown",
   "id": "ultimate-commander",
   "metadata": {},
   "source": [
    "### 2. Basic Tensors\n"
   ]
  },
  {
   "cell_type": "code",
   "execution_count": 8,
   "id": "proof-operation",
   "metadata": {},
   "outputs": [
    {
     "name": "stdout",
     "output_type": "stream",
     "text": [
      "tf.Tensor(4, shape=(), dtype=int32)\n"
     ]
    }
   ],
   "source": [
    "# rank_0_tensor\n",
    "\n",
    "a = tf.constant(4)\n",
    "print(a)"
   ]
  },
  {
   "cell_type": "code",
   "execution_count": 14,
   "id": "certified-coordinate",
   "metadata": {},
   "outputs": [
    {
     "name": "stdout",
     "output_type": "stream",
     "text": [
      "tf.Tensor([2 3 4 5 6], shape=(5,), dtype=int64)\n"
     ]
    }
   ],
   "source": [
    "# rank_1_tesnsor (vector)\n",
    "vector = tf.constant([2,3,4,5,6], dtype = tf.int64)\n",
    "print(vector)"
   ]
  },
  {
   "cell_type": "code",
   "execution_count": 15,
   "id": "functioning-engine",
   "metadata": {},
   "outputs": [
    {
     "name": "stdout",
     "output_type": "stream",
     "text": [
      "tf.Tensor(\n",
      "[[ 2  4  6]\n",
      " [ 3  6  9]\n",
      " [ 4  8 12]\n",
      " [ 5 10 15]], shape=(4, 3), dtype=int32)\n"
     ]
    }
   ],
   "source": [
    "# rank_2_tensor (Matrix)\n",
    "\n",
    "matrix = tf.constant([\n",
    "    [2, 4, 6],\n",
    "    [3, 6, 9],\n",
    "    [4, 8, 12],\n",
    "    [5, 10, 15]\n",
    "])\n",
    "\n",
    "print(matrix)"
   ]
  },
  {
   "cell_type": "code",
   "execution_count": 23,
   "id": "current-shark",
   "metadata": {},
   "outputs": [
    {
     "data": {
      "text/plain": [
       "<tf.Tensor: shape=(2, 3, 4), dtype=float32, numpy=\n",
       "array([[[  1.,   2.,   3.,   4.],\n",
       "        [  2.,   4.,   6.,   8.],\n",
       "        [  3.,   6.,   9.,  12.]],\n",
       "\n",
       "       [[ -1.,  -2.,  -3.,  -4.],\n",
       "        [ -2.,  -4.,  -6.,  -8.],\n",
       "        [ -3.,  -6.,  -9., -12.]]], dtype=float32)>"
      ]
     },
     "execution_count": 23,
     "metadata": {},
     "output_type": "execute_result"
    }
   ],
   "source": [
    "# Creating a 3 dimensional tensor from of float numbers.\n",
    "# Note that [1.] will tell tensorflow that we want the whole tensor to have a float dtpye\n",
    "matrix3d = tf.constant([\n",
    "    [\n",
    "        [1., 2,3,4],\n",
    "        [2, 4, 6, 8],\n",
    "        [3, 6, 9, 12]\n",
    "    ],\n",
    "      [\n",
    "          [1*-1, 2*-1,3*-1,4*-1],\n",
    "        [2*-1, 4*-1, 6*-1, 8*-1],\n",
    "        [3*-1, 6*-1, 9*-1, 12*-1]\n",
    "      ]\n",
    "])\n",
    "\n",
    "matrix3d"
   ]
  },
  {
   "cell_type": "markdown",
   "id": "endless-paradise",
   "metadata": {},
   "source": [
    "### 3. Converting tensors to numpy Array\n",
    "* There are two ways of converting a tensor to a numpy array\n",
    "    * numpy.array(tensor)\n",
    "    * tensor.numpy()\n",
    "    "
   ]
  },
  {
   "cell_type": "code",
   "execution_count": 27,
   "id": "eastern-lemon",
   "metadata": {},
   "outputs": [
    {
     "data": {
      "text/plain": [
       "array([2, 3, 4, 5])"
      ]
     },
     "execution_count": 27,
     "metadata": {},
     "output_type": "execute_result"
    }
   ],
   "source": [
    "# first method\n",
    "tensor = tf.Variable([2, 3, 4, 5])\n",
    "numpy_array = np.array(tensor)\n",
    "numpy_array\n",
    "\n",
    "# second method\n",
    "\n",
    "numpy_array = tensor.numpy()\n",
    "numpy_array"
   ]
  },
  {
   "cell_type": "markdown",
   "id": "indirect-average",
   "metadata": {},
   "source": [
    "## Mathematics Operations on Tensors\n",
    "* We can perform a lot of mathemetical operations on tensors\n",
    "    * [Documentation](https://www.tensorflow.org/api_docs/python/tf/math)"
   ]
  },
  {
   "cell_type": "markdown",
   "id": "inner-rotation",
   "metadata": {},
   "source": [
    "### Functions"
   ]
  },
  {
   "cell_type": "code",
   "execution_count": 31,
   "id": "reduced-cargo",
   "metadata": {},
   "outputs": [],
   "source": [
    "#  Let's say we have these two tensors\n",
    "\n",
    "a = tf.constant([[1, 2],\n",
    "                 [3, 4]])\n",
    "b = tf.constant([[1, 1],\n",
    "                 [1, 1]])\n",
    "c = tf.constant([-2., -8, 9, 6, -19])"
   ]
  },
  {
   "cell_type": "markdown",
   "id": "completed-glasgow",
   "metadata": {},
   "source": [
    "### 1. tf.add()\n",
    "* performs additions on tensors\n"
   ]
  },
  {
   "cell_type": "code",
   "execution_count": 35,
   "id": "contained-contamination",
   "metadata": {},
   "outputs": [
    {
     "name": "stdout",
     "output_type": "stream",
     "text": [
      "tf.Tensor(\n",
      "[[2 3]\n",
      " [4 5]], shape=(2, 2), dtype=int32)\n",
      "tf.Tensor(\n",
      "[[2 3]\n",
      " [4 5]], shape=(2, 2), dtype=int32)\n"
     ]
    }
   ],
   "source": [
    "# Method 1\n",
    "print(a+b) # add element wise\n",
    "# Method 2\n",
    "print(tf.add(a, b))"
   ]
  },
  {
   "cell_type": "markdown",
   "id": "unlimited-contrary",
   "metadata": {},
   "source": [
    "### 2. tf.matmul()\n",
    "* performs matrix multiplication\n"
   ]
  },
  {
   "cell_type": "code",
   "execution_count": 37,
   "id": "ceramic-stereo",
   "metadata": {},
   "outputs": [
    {
     "data": {
      "text/plain": [
       "<tf.Tensor: shape=(2, 2), dtype=int32, numpy=\n",
       "array([[3, 3],\n",
       "       [7, 7]])>"
      ]
     },
     "execution_count": 37,
     "metadata": {},
     "output_type": "execute_result"
    }
   ],
   "source": [
    "# Matrix Multiplication\n",
    "tf.matmul(a, b)"
   ]
  },
  {
   "cell_type": "markdown",
   "id": "generous-review",
   "metadata": {},
   "source": [
    "### 3. tf.multipy()\n",
    "* performs multiplications on sensors\n"
   ]
  },
  {
   "cell_type": "code",
   "execution_count": 39,
   "id": "pregnant-latitude",
   "metadata": {},
   "outputs": [
    {
     "name": "stdout",
     "output_type": "stream",
     "text": [
      "tf.Tensor(\n",
      "[[1 2]\n",
      " [3 4]], shape=(2, 2), dtype=int32)\n",
      "tf.Tensor(\n",
      "[[1 2]\n",
      " [3 4]], shape=(2, 2), dtype=int32)\n"
     ]
    }
   ],
   "source": [
    "# method 1\n",
    "print( a * b) # element wise multiplication\n",
    "\n",
    "# Method 2.\n",
    "print(tf.multiply(a, b))"
   ]
  },
  {
   "cell_type": "markdown",
   "id": "royal-freedom",
   "metadata": {},
   "source": [
    "### 4. tf.abs()\n",
    "* Computes the absolute value of a tensor."
   ]
  },
  {
   "cell_type": "code",
   "execution_count": 46,
   "id": "pursuant-blink",
   "metadata": {},
   "outputs": [
    {
     "data": {
      "text/plain": [
       "<tf.Tensor: shape=(5,), dtype=float32, numpy=array([ 2.,  8.,  9.,  6., 19.], dtype=float32)>"
      ]
     },
     "execution_count": 46,
     "metadata": {},
     "output_type": "execute_result"
    }
   ],
   "source": [
    "#  Absolute values of tensor c\n",
    "tf.abs(c)"
   ]
  },
  {
   "cell_type": "markdown",
   "id": "intensive-tourist",
   "metadata": {},
   "source": [
    "### 5. tf.math.accumulate_n(...)\n",
    "* Returns the element-wise sum of a list of tensors."
   ]
  },
  {
   "cell_type": "code",
   "execution_count": 49,
   "id": "lasting-cookie",
   "metadata": {},
   "outputs": [
    {
     "data": {
      "text/plain": [
       "<tf.Tensor: shape=(2, 2), dtype=int32, numpy=\n",
       "array([[2, 3],\n",
       "       [4, 5]])>"
      ]
     },
     "execution_count": 49,
     "metadata": {},
     "output_type": "execute_result"
    }
   ],
   "source": [
    "# accumulate a and b\n",
    "tf.math.accumulate_n([a, b])"
   ]
  },
  {
   "cell_type": "markdown",
   "id": "brief-delicious",
   "metadata": {},
   "source": [
    "### 6. tf.math.acos()\n",
    "* Computes acos of x element-wise."
   ]
  },
  {
   "cell_type": "code",
   "execution_count": 57,
   "id": "automated-roller",
   "metadata": {},
   "outputs": [
    {
     "data": {
      "text/plain": [
       "<tf.Tensor: shape=(6,), dtype=float32, numpy=\n",
       "array([0.       , 2.0943952,       nan, 1.3694384, 1.5707964,       nan],\n",
       "      dtype=float32)>"
      ]
     },
     "execution_count": 57,
     "metadata": {},
     "output_type": "execute_result"
    }
   ],
   "source": [
    "x = tf.constant([1.0, -0.5, 3.4, 0.2, 0.0, -2], dtype = tf.float32)\n",
    "tf.math.acos(x)"
   ]
  },
  {
   "cell_type": "markdown",
   "id": "dietary-tradition",
   "metadata": {},
   "source": [
    "### 7. tf.math.acosh()\n",
    "* Computes inverse hyperbolic cosine of x element-wise."
   ]
  },
  {
   "cell_type": "code",
   "execution_count": 61,
   "id": "physical-youth",
   "metadata": {},
   "outputs": [
    {
     "data": {
      "text/plain": [
       "<tf.Tensor: shape=(5,), dtype=float32, numpy=\n",
       "array([      nan,       nan, 2.887271 , 2.4778888,       nan],\n",
       "      dtype=float32)>"
      ]
     },
     "execution_count": 61,
     "metadata": {},
     "output_type": "execute_result"
    }
   ],
   "source": [
    "# acosh(c)\n",
    "tf.math.acosh(c)"
   ]
  },
  {
   "cell_type": "markdown",
   "id": "packed-spank",
   "metadata": {},
   "source": [
    "### 8. tf.math.add_n()\n",
    "* Adds all input tensors element-wise."
   ]
  },
  {
   "cell_type": "code",
   "execution_count": 64,
   "id": "sixth-drive",
   "metadata": {},
   "outputs": [
    {
     "data": {
      "text/plain": [
       "<tf.Tensor: shape=(2, 2), dtype=int32, numpy=\n",
       "array([[2, 3],\n",
       "       [4, 5]])>"
      ]
     },
     "execution_count": 64,
     "metadata": {},
     "output_type": "execute_result"
    }
   ],
   "source": [
    "tf.math.add_n([a, b])"
   ]
  },
  {
   "cell_type": "markdown",
   "id": "fluid-verse",
   "metadata": {},
   "source": [
    "### 9. tf.math.angle()\n",
    "* Returns the element-wise argument of a complex (or real) tensor."
   ]
  },
  {
   "cell_type": "code",
   "execution_count": 67,
   "id": "adverse-bikini",
   "metadata": {},
   "outputs": [
    {
     "data": {
      "text/plain": [
       "<tf.Tensor: shape=(5,), dtype=float32, numpy=\n",
       "array([3.1415927, 3.1415927, 0.       , 0.       , 3.1415927],\n",
       "      dtype=float32)>"
      ]
     },
     "execution_count": 67,
     "metadata": {},
     "output_type": "execute_result"
    }
   ],
   "source": [
    "# math.angle of vector c\n",
    "\n",
    "tf.math.angle(c)"
   ]
  },
  {
   "cell_type": "markdown",
   "id": "still-trustee",
   "metadata": {},
   "source": [
    "### 10. tf.argmax()\n",
    "* Returns the index with the largest value across axes of a tensor."
   ]
  },
  {
   "cell_type": "code",
   "execution_count": 74,
   "id": "mobile-float",
   "metadata": {},
   "outputs": [
    {
     "data": {
      "text/plain": [
       "<tf.Tensor: shape=(2,), dtype=int64, numpy=array([1, 1], dtype=int64)>"
      ]
     },
     "execution_count": 74,
     "metadata": {},
     "output_type": "execute_result"
    }
   ],
   "source": [
    "# Largest element index\n",
    "tf.argmax(a)"
   ]
  },
  {
   "cell_type": "markdown",
   "id": "ordered-algebra",
   "metadata": {},
   "source": [
    "### 11. tf.argmin()\n",
    "* Returns the index with the smallest value across axes of a tensor."
   ]
  },
  {
   "cell_type": "code",
   "execution_count": 75,
   "id": "typical-blood",
   "metadata": {},
   "outputs": [
    {
     "data": {
      "text/plain": [
       "<tf.Tensor: shape=(2,), dtype=int64, numpy=array([0, 0], dtype=int64)>"
      ]
     },
     "execution_count": 75,
     "metadata": {},
     "output_type": "execute_result"
    }
   ],
   "source": [
    "# Smallest element index\n",
    "tf.argmin(a)"
   ]
  },
  {
   "cell_type": "markdown",
   "id": "spatial-belly",
   "metadata": {},
   "source": [
    "### 12. tf.math.cumprod()\n",
    "* Compute the cumulative product of the tensor x along axis."
   ]
  },
  {
   "cell_type": "code",
   "execution_count": 78,
   "id": "visible-construction",
   "metadata": {},
   "outputs": [
    {
     "data": {
      "text/plain": [
       "<tf.Tensor: shape=(2, 2, 2), dtype=int32, numpy=\n",
       "array([[[1, 2],\n",
       "        [3, 8]],\n",
       "\n",
       "       [[1, 1],\n",
       "        [1, 1]]])>"
      ]
     },
     "execution_count": 78,
     "metadata": {},
     "output_type": "execute_result"
    }
   ],
   "source": [
    "tf.math.cumprod([a, b], 1)"
   ]
  },
  {
   "cell_type": "markdown",
   "id": "optimum-poetry",
   "metadata": {},
   "source": [
    "### 13. tf.math.cumsum()\n",
    "* Compute the cumulative sum of the tensor x along axis."
   ]
  },
  {
   "cell_type": "code",
   "execution_count": 79,
   "id": "harmful-administration",
   "metadata": {},
   "outputs": [
    {
     "data": {
      "text/plain": [
       "<tf.Tensor: shape=(2, 2), dtype=int32, numpy=\n",
       "array([[1, 2],\n",
       "       [4, 6]])>"
      ]
     },
     "execution_count": 79,
     "metadata": {},
     "output_type": "execute_result"
    }
   ],
   "source": [
    "tf.math.cumsum(a)"
   ]
  },
  {
   "cell_type": "markdown",
   "id": "concrete-korea",
   "metadata": {},
   "source": [
    "### 14. tf.exp()\n",
    "*  Computes exponential of x element-wise. "
   ]
  },
  {
   "cell_type": "code",
   "execution_count": 80,
   "id": "instant-champagne",
   "metadata": {},
   "outputs": [
    {
     "data": {
      "text/plain": [
       "<tf.Tensor: shape=(5,), dtype=float32, numpy=\n",
       "array([1.3533528e-01, 3.3546262e-04, 8.1030840e+03, 4.0342880e+02,\n",
       "       5.6027964e-09], dtype=float32)>"
      ]
     },
     "execution_count": 80,
     "metadata": {},
     "output_type": "execute_result"
    }
   ],
   "source": [
    "tf.exp(c)"
   ]
  },
  {
   "cell_type": "markdown",
   "id": "blond-algebra",
   "metadata": {},
   "source": [
    "### 15. tf.floor() || ceil\n",
    "* Returns element-wise largest integer not greater than x."
   ]
  },
  {
   "cell_type": "code",
   "execution_count": 81,
   "id": "static-occasion",
   "metadata": {},
   "outputs": [
    {
     "data": {
      "text/plain": [
       "<tf.Tensor: shape=(5,), dtype=float32, numpy=array([ -2.,  -8.,   9.,   6., -19.], dtype=float32)>"
      ]
     },
     "execution_count": 81,
     "metadata": {},
     "output_type": "execute_result"
    }
   ],
   "source": [
    "tf.floor(c)"
   ]
  },
  {
   "cell_type": "markdown",
   "id": "artistic-seeking",
   "metadata": {},
   "source": [
    "### 16. tf.greater() || tf.less()\n",
    "* Returns the truth value of (x > y) element-wise."
   ]
  },
  {
   "cell_type": "code",
   "execution_count": 87,
   "id": "respective-teach",
   "metadata": {},
   "outputs": [
    {
     "data": {
      "text/plain": [
       "<tf.Tensor: shape=(2, 2), dtype=bool, numpy=\n",
       "array([[False,  True],\n",
       "       [ True,  True]])>"
      ]
     },
     "execution_count": 87,
     "metadata": {},
     "output_type": "execute_result"
    }
   ],
   "source": [
    "tf.greater(a, b, 1) # along the x-axis"
   ]
  },
  {
   "cell_type": "markdown",
   "id": "social-gospel",
   "metadata": {},
   "source": [
    "### 17. tf.greater_equal() || tf.less_equal()\n",
    "* Returns the truth value of (x >= y) element-wise."
   ]
  },
  {
   "cell_type": "code",
   "execution_count": 86,
   "id": "divine-tuner",
   "metadata": {},
   "outputs": [
    {
     "data": {
      "text/plain": [
       "<tf.Tensor: shape=(2, 2), dtype=bool, numpy=\n",
       "array([[ True,  True],\n",
       "       [ True,  True]])>"
      ]
     },
     "execution_count": 86,
     "metadata": {},
     "output_type": "execute_result"
    }
   ],
   "source": [
    "tf.greater_equal(a, b, 0) # along the y-axis"
   ]
  },
  {
   "cell_type": "markdown",
   "id": "partial-interstate",
   "metadata": {},
   "source": [
    "### 18. tf.math.is_finite() || is_inf()\n",
    "* Returns which elements of x are finite."
   ]
  },
  {
   "cell_type": "code",
   "execution_count": 98,
   "id": "hungarian-beast",
   "metadata": {},
   "outputs": [
    {
     "data": {
      "text/plain": [
       "<tf.Tensor: shape=(5,), dtype=bool, numpy=array([ True,  True,  True,  True,  True])>"
      ]
     },
     "execution_count": 98,
     "metadata": {},
     "output_type": "execute_result"
    }
   ],
   "source": [
    "tf.math.is_finite(c)"
   ]
  },
  {
   "cell_type": "markdown",
   "id": "original-death",
   "metadata": {},
   "source": [
    "### 19. tf.math.is_nan()\n",
    "* Returns which elements of x are NaN."
   ]
  },
  {
   "cell_type": "code",
   "execution_count": 95,
   "id": "living-favorite",
   "metadata": {},
   "outputs": [
    {
     "data": {
      "text/plain": [
       "<tf.Tensor: shape=(5,), dtype=bool, numpy=array([False, False, False, False, False])>"
      ]
     },
     "execution_count": 95,
     "metadata": {},
     "output_type": "execute_result"
    }
   ],
   "source": [
    "tf.math.is_nan(c)"
   ]
  },
  {
   "cell_type": "markdown",
   "id": "healthy-neutral",
   "metadata": {},
   "source": [
    "### 20. tf.maximum() || tf.mininum()\n",
    "* Returns the max of x and y (i.e. x > y ? x : y) element-wise."
   ]
  },
  {
   "cell_type": "code",
   "execution_count": 104,
   "id": "historical-sponsorship",
   "metadata": {},
   "outputs": [
    {
     "data": {
      "text/plain": [
       "<tf.Tensor: shape=(2, 2), dtype=int32, numpy=\n",
       "array([[1, 2],\n",
       "       [3, 4]])>"
      ]
     },
     "execution_count": 104,
     "metadata": {},
     "output_type": "execute_result"
    }
   ],
   "source": [
    "tf.maximum(b, a)"
   ]
  },
  {
   "cell_type": "markdown",
   "id": "legendary-miami",
   "metadata": {},
   "source": [
    "### 21. tf..math.not_equal() || tf.math.equal()\n",
    "* Returns the truth value of (x != y) element-wise."
   ]
  },
  {
   "cell_type": "code",
   "execution_count": 105,
   "id": "sixth-suspension",
   "metadata": {},
   "outputs": [
    {
     "data": {
      "text/plain": [
       "<tf.Tensor: shape=(2, 2), dtype=bool, numpy=\n",
       "array([[False,  True],\n",
       "       [ True,  True]])>"
      ]
     },
     "execution_count": 105,
     "metadata": {},
     "output_type": "execute_result"
    }
   ],
   "source": [
    "tf.math.not_equal(a, b)"
   ]
  },
  {
   "cell_type": "markdown",
   "id": "revised-tactics",
   "metadata": {},
   "source": [
    "### 22. tf.pow()\n",
    "*  Computes the power of one value to another."
   ]
  },
  {
   "cell_type": "code",
   "execution_count": 116,
   "id": "miniature-blood",
   "metadata": {},
   "outputs": [
    {
     "data": {
      "text/plain": [
       "<tf.Tensor: shape=(2, 2), dtype=int32, numpy=\n",
       "array([[ 1,  8],\n",
       "       [27, 64]])>"
      ]
     },
     "execution_count": 116,
     "metadata": {},
     "output_type": "execute_result"
    }
   ],
   "source": [
    "tf.pow(a, 3)"
   ]
  },
  {
   "cell_type": "markdown",
   "id": "geographic-bishop",
   "metadata": {},
   "source": [
    "### 23. tf.negative()\n",
    "* Computes numerical negative value element-wise.\n",
    "* negate every element"
   ]
  },
  {
   "cell_type": "code",
   "execution_count": 111,
   "id": "designed-exposure",
   "metadata": {},
   "outputs": [
    {
     "data": {
      "text/plain": [
       "<tf.Tensor: shape=(2, 2), dtype=int32, numpy=\n",
       "array([[-1, -2],\n",
       "       [-3, -4]])>"
      ]
     },
     "execution_count": 111,
     "metadata": {},
     "output_type": "execute_result"
    }
   ],
   "source": [
    "tf.math.negative([a, b])\n",
    "tf.math.negative(a)"
   ]
  },
  {
   "cell_type": "markdown",
   "id": "decent-czech",
   "metadata": {},
   "source": [
    "### 24. tf.math.round()\n",
    "* Rounds the values of a tensor to the nearest integer, element-wise."
   ]
  },
  {
   "cell_type": "code",
   "execution_count": 114,
   "id": "cutting-equipment",
   "metadata": {},
   "outputs": [
    {
     "data": {
      "text/plain": [
       "<tf.Tensor: shape=(4,), dtype=float32, numpy=array([3., 3., 9., 9.], dtype=float32)>"
      ]
     },
     "execution_count": 114,
     "metadata": {},
     "output_type": "execute_result"
    }
   ],
   "source": [
    "tf.math.round(tf.constant([2.5541, 2.65, 9.07, 8.9913]))"
   ]
  },
  {
   "cell_type": "markdown",
   "id": "agricultural-classics",
   "metadata": {},
   "source": [
    "### 25. tf.sqrt()\n",
    "* Computes element-wise square root of the input tensor."
   ]
  },
  {
   "cell_type": "code",
   "execution_count": 122,
   "id": "minor-agriculture",
   "metadata": {},
   "outputs": [
    {
     "data": {
      "text/plain": [
       "<tf.Tensor: shape=(4,), dtype=float32, numpy=array([2., 3., 4., 5.], dtype=float32)>"
      ]
     },
     "execution_count": 122,
     "metadata": {},
     "output_type": "execute_result"
    }
   ],
   "source": [
    "tf.math.sqrt(tf.constant([4, 9, 16, 25], dtype=tf.float32))"
   ]
  },
  {
   "cell_type": "markdown",
   "id": "compound-wagner",
   "metadata": {},
   "source": [
    "### 26. tf.square()\n",
    "* Computes square of x element-wise."
   ]
  },
  {
   "cell_type": "code",
   "execution_count": 123,
   "id": "interpreted-delta",
   "metadata": {},
   "outputs": [
    {
     "data": {
      "text/plain": [
       "<tf.Tensor: shape=(6,), dtype=int32, numpy=array([ 1,  4,  9, 16, 25, 36])>"
      ]
     },
     "execution_count": 123,
     "metadata": {},
     "output_type": "execute_result"
    }
   ],
   "source": [
    "tf.math.square(tf.constant([1,2,3,4,5,6]))"
   ]
  },
  {
   "cell_type": "markdown",
   "id": "first-heating",
   "metadata": {},
   "source": [
    "### 27. tf.sort()\n",
    "* Sorts a tensor"
   ]
  },
  {
   "cell_type": "code",
   "execution_count": 136,
   "id": "bigger-target",
   "metadata": {},
   "outputs": [
    {
     "data": {
      "text/plain": [
       "<tf.Tensor: shape=(2, 2), dtype=int32, numpy=\n",
       "array([[1, 2],\n",
       "       [3, 4]])>"
      ]
     },
     "execution_count": 136,
     "metadata": {},
     "output_type": "execute_result"
    }
   ],
   "source": [
    "tf.sort(a,  direction='ASCENDING') "
   ]
  },
  {
   "cell_type": "markdown",
   "id": "aging-columbus",
   "metadata": {},
   "source": [
    "### More abouth tensor Math\n",
    "* [Math](https://www.tensorflow.org/api_docs/python/tf/math)"
   ]
  },
  {
   "cell_type": "markdown",
   "id": "limiting-wyoming",
   "metadata": {},
   "source": [
    "## About Shapes\n",
    "* **Shape**: The length (number of elements) of each of the axes of a tensor.\n",
    "* **Rank**: Number of tensor axes. A scalar has rank 0, a vector has rank 1, a matrix is rank 2.\n",
    "* **Axis** or **Dimension**: A particular dimension of a tensor.\n",
    "* **Size**: The total number of items in the tensor, the product shape vector."
   ]
  },
  {
   "cell_type": "markdown",
   "id": "domestic-rabbit",
   "metadata": {},
   "source": [
    "### 1. tf.shape()\n",
    "* Returns a tensor containing the shape of the input tensor.\n"
   ]
  },
  {
   "cell_type": "code",
   "execution_count": 128,
   "id": "herbal-spiritual",
   "metadata": {},
   "outputs": [
    {
     "data": {
      "text/plain": [
       "TensorShape([2, 2])"
      ]
     },
     "execution_count": 128,
     "metadata": {},
     "output_type": "execute_result"
    }
   ],
   "source": [
    "# Example\n",
    "tf.shape(a)\n",
    "\n",
    "## Or \n",
    "a.shape"
   ]
  },
  {
   "cell_type": "markdown",
   "id": "structural-playback",
   "metadata": {},
   "source": [
    "### 2. tf.shape_n()\n",
    "* Returns shape of tensors."
   ]
  },
  {
   "cell_type": "code",
   "execution_count": 131,
   "id": "republican-boutique",
   "metadata": {},
   "outputs": [
    {
     "data": {
      "text/plain": [
       "[<tf.Tensor: shape=(1,), dtype=int32, numpy=array([2])>,\n",
       " <tf.Tensor: shape=(1,), dtype=int32, numpy=array([2])>]"
      ]
     },
     "execution_count": 131,
     "metadata": {},
     "output_type": "execute_result"
    }
   ],
   "source": [
    "#  Example\n",
    "tf.shape_n(a)\n"
   ]
  },
  {
   "cell_type": "markdown",
   "id": "stable-collapse",
   "metadata": {},
   "source": [
    "## Reshaping a tensor\n",
    "* tf.reshape(tensor, shape)\n",
    "    * Reshapes a tensor.\n",
    "    * When reshaping the tensor the elements of the product of the shape of the original tensor must be equal to the product of the shape of the new tensor\n",
    "    "
   ]
  },
  {
   "cell_type": "code",
   "execution_count": 139,
   "id": "primary-deadline",
   "metadata": {},
   "outputs": [
    {
     "data": {
      "text/plain": [
       "<tf.Tensor: shape=(18,), dtype=int32, numpy=array([1, 1, 1, 1, 1, 1, 1, 1, 1, 1, 1, 1, 1, 1, 1, 1, 1, 1])>"
      ]
     },
     "execution_count": 139,
     "metadata": {},
     "output_type": "execute_result"
    }
   ],
   "source": [
    "tensor_1d = tf.ones(18, dtype=tf.int32) # create a tensor of 18 1's\n",
    "tensor_1d"
   ]
  },
  {
   "cell_type": "markdown",
   "id": "opponent-medicaid",
   "metadata": {},
   "source": [
    "### Resahping a tensors"
   ]
  },
  {
   "cell_type": "code",
   "execution_count": 140,
   "id": "public-appeal",
   "metadata": {},
   "outputs": [
    {
     "data": {
      "text/plain": [
       "<tf.Tensor: shape=(2, 9), dtype=int32, numpy=\n",
       "array([[1, 1, 1, 1, 1, 1, 1, 1, 1],\n",
       "       [1, 1, 1, 1, 1, 1, 1, 1, 1]])>"
      ]
     },
     "execution_count": 140,
     "metadata": {},
     "output_type": "execute_result"
    }
   ],
   "source": [
    "tensor_2d = tf.reshape(tensor_1d, (2, -1)) \n",
    "tensor_2d"
   ]
  },
  {
   "cell_type": "markdown",
   "id": "liked-scoop",
   "metadata": {},
   "source": [
    "* The `-1`, tells tensorflow that reshape this tensor to 2d and fit all the elements\n"
   ]
  },
  {
   "cell_type": "code",
   "execution_count": 143,
   "id": "protective-chain",
   "metadata": {},
   "outputs": [
    {
     "data": {
      "text/plain": [
       "<tf.Tensor: shape=(3, 6), dtype=int32, numpy=\n",
       "array([[1, 1, 1, 1, 1, 1],\n",
       "       [1, 1, 1, 1, 1, 1],\n",
       "       [1, 1, 1, 1, 1, 1]])>"
      ]
     },
     "execution_count": 143,
     "metadata": {},
     "output_type": "execute_result"
    }
   ],
   "source": [
    "tensor = tf.reshape(tensor_1d, (3, -1)) \n",
    "tensor"
   ]
  },
  {
   "cell_type": "code",
   "execution_count": 144,
   "id": "latest-redhead",
   "metadata": {},
   "outputs": [
    {
     "data": {
      "text/plain": [
       "<tf.Tensor: shape=(6, 3), dtype=int32, numpy=\n",
       "array([[1, 1, 1],\n",
       "       [1, 1, 1],\n",
       "       [1, 1, 1],\n",
       "       [1, 1, 1],\n",
       "       [1, 1, 1],\n",
       "       [1, 1, 1]])>"
      ]
     },
     "execution_count": 144,
     "metadata": {},
     "output_type": "execute_result"
    }
   ],
   "source": [
    "tensor = tf.reshape(tensor_1d, (6, -1)) \n",
    "tensor"
   ]
  },
  {
   "cell_type": "code",
   "execution_count": 145,
   "id": "subtle-template",
   "metadata": {},
   "outputs": [
    {
     "data": {
      "text/plain": [
       "<tf.Tensor: shape=(9, 2), dtype=int32, numpy=\n",
       "array([[1, 1],\n",
       "       [1, 1],\n",
       "       [1, 1],\n",
       "       [1, 1],\n",
       "       [1, 1],\n",
       "       [1, 1],\n",
       "       [1, 1],\n",
       "       [1, 1],\n",
       "       [1, 1]])>"
      ]
     },
     "execution_count": 145,
     "metadata": {},
     "output_type": "execute_result"
    }
   ],
   "source": [
    "tensor = tf.reshape(tensor_1d, (9, -1)) \n",
    "tensor"
   ]
  },
  {
   "cell_type": "code",
   "execution_count": 146,
   "id": "pursuant-remedy",
   "metadata": {},
   "outputs": [
    {
     "data": {
      "text/plain": [
       "<tf.Tensor: shape=(18, 1), dtype=int32, numpy=\n",
       "array([[1],\n",
       "       [1],\n",
       "       [1],\n",
       "       [1],\n",
       "       [1],\n",
       "       [1],\n",
       "       [1],\n",
       "       [1],\n",
       "       [1],\n",
       "       [1],\n",
       "       [1],\n",
       "       [1],\n",
       "       [1],\n",
       "       [1],\n",
       "       [1],\n",
       "       [1],\n",
       "       [1],\n",
       "       [1]])>"
      ]
     },
     "execution_count": 146,
     "metadata": {},
     "output_type": "execute_result"
    }
   ],
   "source": [
    "tensor = tf.reshape(tensor_1d, (18, -1)) \n",
    "tensor"
   ]
  },
  {
   "cell_type": "code",
   "execution_count": 147,
   "id": "human-photography",
   "metadata": {},
   "outputs": [
    {
     "data": {
      "text/plain": [
       "<tf.Tensor: shape=(3, 6), dtype=int32, numpy=\n",
       "array([[1, 1, 1, 1, 1, 1],\n",
       "       [1, 1, 1, 1, 1, 1],\n",
       "       [1, 1, 1, 1, 1, 1]])>"
      ]
     },
     "execution_count": 147,
     "metadata": {},
     "output_type": "execute_result"
    }
   ],
   "source": [
    "tensor = tf.reshape(tensor_1d, (3, 6)) \n",
    "tensor"
   ]
  },
  {
   "cell_type": "markdown",
   "id": "coordinated-spiritual",
   "metadata": {},
   "source": [
    "## Generating Tensors\n",
    "* We can generate tensors filled with values the way we did it in numpy using the `ones`, `zeros`, `ones_like`, `zeros_like`, etc"
   ]
  },
  {
   "cell_type": "markdown",
   "id": "systematic-parts",
   "metadata": {},
   "source": [
    "### `tf.ones()`\n",
    "* Creates a tensor with all elements set to one (1)"
   ]
  },
  {
   "cell_type": "code",
   "execution_count": 151,
   "id": "determined-bernard",
   "metadata": {},
   "outputs": [
    {
     "name": "stdout",
     "output_type": "stream",
     "text": [
      "tf.Tensor(\n",
      "[[ True  True  True]\n",
      " [ True  True  True]\n",
      " [ True  True  True]], shape=(3, 3), dtype=bool)\n",
      "tf.Tensor(\n",
      "[[1 1 1 1]\n",
      " [1 1 1 1]\n",
      " [1 1 1 1]], shape=(3, 4), dtype=int16)\n"
     ]
    }
   ],
   "source": [
    "# generating a tf of ones and dtype = boolean\n",
    "ones = tf.ones((3, 3), dtype=tf.bool)\n",
    "print(ones)\n",
    "\n",
    "# tensor of int one's\n",
    "ones = tf.ones((3,4), dtype=tf.int16)\n",
    "print(ones)\n"
   ]
  },
  {
   "cell_type": "markdown",
   "id": "young-fishing",
   "metadata": {},
   "source": [
    "### `tf.ones_like()`\n",
    "* Creates a tensor of all ones that has the same shape as the input."
   ]
  },
  {
   "cell_type": "code",
   "execution_count": 154,
   "id": "wooden-universal",
   "metadata": {},
   "outputs": [
    {
     "data": {
      "text/plain": [
       "<tf.Tensor: shape=(2, 4), dtype=int32, numpy=\n",
       "array([[1, 1, 1, 1],\n",
       "       [1, 1, 1, 1]])>"
      ]
     },
     "execution_count": 154,
     "metadata": {},
     "output_type": "execute_result"
    }
   ],
   "source": [
    "a = tf.Variable([[1, 2, 3, 4], [1, 5, 9, 0]])\n",
    "\n",
    "ones = tf.ones_like(a)\n",
    "ones"
   ]
  },
  {
   "cell_type": "markdown",
   "id": "suspected-blair",
   "metadata": {},
   "source": [
    "### `tf.zeros()`\n",
    "* Creates a tensor with all elements set to zero."
   ]
  },
  {
   "cell_type": "code",
   "execution_count": 155,
   "id": "champion-master",
   "metadata": {},
   "outputs": [
    {
     "name": "stdout",
     "output_type": "stream",
     "text": [
      "tf.Tensor(\n",
      "[[False False False]\n",
      " [False False False]\n",
      " [False False False]], shape=(3, 3), dtype=bool)\n",
      "tf.Tensor(\n",
      "[[0 0 0 0]\n",
      " [0 0 0 0]\n",
      " [0 0 0 0]], shape=(3, 4), dtype=int16)\n"
     ]
    }
   ],
   "source": [
    "# generating a tf of ones and dtype = boolean\n",
    "zeros = tf.zeros((3, 3), dtype=tf.bool)\n",
    "print(zeros)\n",
    "\n",
    "# tensor of int one's\n",
    "zeros = tf.zeros((3,4), dtype=tf.int16)\n",
    "print(zeros)"
   ]
  },
  {
   "cell_type": "markdown",
   "id": "historic-seventh",
   "metadata": {},
   "source": [
    "### `tf.zeros_like()`\n",
    "* Creates a tensor with all elements set to zero."
   ]
  },
  {
   "cell_type": "code",
   "execution_count": 156,
   "id": "about-lebanon",
   "metadata": {},
   "outputs": [
    {
     "data": {
      "text/plain": [
       "<tf.Tensor: shape=(2, 4), dtype=int32, numpy=\n",
       "array([[0, 0, 0, 0],\n",
       "       [0, 0, 0, 0]])>"
      ]
     },
     "execution_count": 156,
     "metadata": {},
     "output_type": "execute_result"
    }
   ],
   "source": [
    "a = tf.Variable([[1, 2, 3, 4], [1, 5, 9, 0]])\n",
    "zeros = tf.zeros_like(a)\n",
    "zeros"
   ]
  },
  {
   "cell_type": "markdown",
   "id": "gothic-swift",
   "metadata": {},
   "source": [
    "### `tf.fill()`\n",
    "* Creates a tensor filled with a scalar value.\n",
    "    * ```\n",
    "    tf.fill(\n",
    "    dims, value, name=None\n",
    "    )\n",
    "    ```\n",
    "* This method is the same as `numpy.full()`"
   ]
  },
  {
   "cell_type": "code",
   "execution_count": 158,
   "id": "involved-corpus",
   "metadata": {},
   "outputs": [
    {
     "data": {
      "text/plain": [
       "<tf.Tensor: shape=(2, 3), dtype=int32, numpy=\n",
       "array([[4, 4, 4],\n",
       "       [4, 4, 4]])>"
      ]
     },
     "execution_count": 158,
     "metadata": {},
     "output_type": "execute_result"
    }
   ],
   "source": [
    "tensorFill = tf.fill((2,3), 4)\n",
    "tensorFill"
   ]
  },
  {
   "cell_type": "markdown",
   "id": "fiscal-match",
   "metadata": {},
   "source": [
    "## 1. `tf.Variable()`\n",
    "* Just like any `Tensor`, variables created with `Variable()` can be used as inputs to operations. Additionally, all the operators overloaded for the Tensor class are carried over to variables."
   ]
  },
  {
   "cell_type": "code",
   "execution_count": 163,
   "id": "auburn-processing",
   "metadata": {},
   "outputs": [
    {
     "data": {
      "text/plain": [
       "<tf.Variable 'Variable:0' shape=(2, 1) dtype=float32, numpy=\n",
       "array([[1.],\n",
       "       [2.]], dtype=float32)>"
      ]
     },
     "execution_count": 163,
     "metadata": {},
     "output_type": "execute_result"
    }
   ],
   "source": [
    "w = tf.Variable([[1.], [2.]])\n",
    "w"
   ]
  },
  {
   "cell_type": "markdown",
   "id": "forty-america",
   "metadata": {},
   "source": [
    "## 2. `tf.constant()`\n",
    "* Creates a constant tensor from a tensor-like object."
   ]
  },
  {
   "cell_type": "code",
   "execution_count": 164,
   "id": "humanitarian-fabric",
   "metadata": {},
   "outputs": [
    {
     "data": {
      "text/plain": [
       "<tf.Tensor: shape=(4,), dtype=bool, numpy=array([ True, False, False, False])>"
      ]
     },
     "execution_count": 164,
     "metadata": {},
     "output_type": "execute_result"
    }
   ],
   "source": [
    "bool_t = tf.constant([True, False, False, False], dtype=tf.bool)\n",
    "bool_t"
   ]
  }
 ],
 "metadata": {
  "kernelspec": {
   "display_name": "Python 3",
   "language": "python",
   "name": "python3"
  },
  "language_info": {
   "codemirror_mode": {
    "name": "ipython",
    "version": 3
   },
   "file_extension": ".py",
   "mimetype": "text/x-python",
   "name": "python",
   "nbconvert_exporter": "python",
   "pygments_lexer": "ipython3",
   "version": "3.8.5"
  }
 },
 "nbformat": 4,
 "nbformat_minor": 5
}
