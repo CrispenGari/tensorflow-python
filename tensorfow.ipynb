{
 "cells": [
  {
   "cell_type": "markdown",
   "id": "intellectual-watts",
   "metadata": {},
   "source": [
    "# Installation"
   ]
  },
  {
   "cell_type": "code",
   "execution_count": null,
   "id": "noted-tracy",
   "metadata": {},
   "outputs": [],
   "source": [
    "!pip install --upgrade pip\n",
    "!pip install tensorflow"
   ]
  },
  {
   "cell_type": "markdown",
   "id": "offensive-destiny",
   "metadata": {},
   "source": [
    "# Imports"
   ]
  },
  {
   "cell_type": "code",
   "execution_count": 1,
   "id": "organized-maximum",
   "metadata": {},
   "outputs": [],
   "source": [
    "import tensorflow as tf\n",
    "import numpy as np\n",
    "import matplotlib.pyplot as plt\n",
    "import pandas as pd\n"
   ]
  },
  {
   "cell_type": "markdown",
   "id": "least-reply",
   "metadata": {},
   "source": [
    "## 1. Listing all the datatypes supported in ternsorflow"
   ]
  },
  {
   "cell_type": "markdown",
   "id": "alpine-desperate",
   "metadata": {},
   "source": [
    "Tensors are multi-dimensional arrays with a uniform type (called a dtype). You can see all supported dtypes at tf.dtypes.DType.\n",
    "[tf.dtypes](https://www.tensorflow.org/api_docs/python/tf/dtypes/DType)"
   ]
  },
  {
   "cell_type": "markdown",
   "id": "ultimate-commander",
   "metadata": {},
   "source": [
    "### 2. Basic Tensors\n"
   ]
  },
  {
   "cell_type": "code",
   "execution_count": 8,
   "id": "proof-operation",
   "metadata": {},
   "outputs": [
    {
     "name": "stdout",
     "output_type": "stream",
     "text": [
      "tf.Tensor(4, shape=(), dtype=int32)\n"
     ]
    }
   ],
   "source": [
    "# rank_0_tensor\n",
    "\n",
    "a = tf.constant(4)\n",
    "print(a)"
   ]
  },
  {
   "cell_type": "code",
   "execution_count": 14,
   "id": "certified-coordinate",
   "metadata": {},
   "outputs": [
    {
     "name": "stdout",
     "output_type": "stream",
     "text": [
      "tf.Tensor([2 3 4 5 6], shape=(5,), dtype=int64)\n"
     ]
    }
   ],
   "source": [
    "# rank_1_tesnsor (vector)\n",
    "vector = tf.constant([2,3,4,5,6], dtype = tf.int64)\n",
    "print(vector)"
   ]
  },
  {
   "cell_type": "code",
   "execution_count": 15,
   "id": "functioning-engine",
   "metadata": {},
   "outputs": [
    {
     "name": "stdout",
     "output_type": "stream",
     "text": [
      "tf.Tensor(\n",
      "[[ 2  4  6]\n",
      " [ 3  6  9]\n",
      " [ 4  8 12]\n",
      " [ 5 10 15]], shape=(4, 3), dtype=int32)\n"
     ]
    }
   ],
   "source": [
    "# rank_2_tensor (Matrix)\n",
    "\n",
    "matrix = tf.constant([\n",
    "    [2, 4, 6],\n",
    "    [3, 6, 9],\n",
    "    [4, 8, 12],\n",
    "    [5, 10, 15]\n",
    "])\n",
    "\n",
    "print(matrix)"
   ]
  },
  {
   "cell_type": "code",
   "execution_count": 23,
   "id": "current-shark",
   "metadata": {},
   "outputs": [
    {
     "data": {
      "text/plain": [
       "<tf.Tensor: shape=(2, 3, 4), dtype=float32, numpy=\n",
       "array([[[  1.,   2.,   3.,   4.],\n",
       "        [  2.,   4.,   6.,   8.],\n",
       "        [  3.,   6.,   9.,  12.]],\n",
       "\n",
       "       [[ -1.,  -2.,  -3.,  -4.],\n",
       "        [ -2.,  -4.,  -6.,  -8.],\n",
       "        [ -3.,  -6.,  -9., -12.]]], dtype=float32)>"
      ]
     },
     "execution_count": 23,
     "metadata": {},
     "output_type": "execute_result"
    }
   ],
   "source": [
    "# Creating a 3 dimensional tensor from of float numbers.\n",
    "# Note that [1.] will tell tensorflow that we want the whole tensor to have a float dtpye\n",
    "matrix3d = tf.constant([\n",
    "    [\n",
    "        [1., 2,3,4],\n",
    "        [2, 4, 6, 8],\n",
    "        [3, 6, 9, 12]\n",
    "    ],\n",
    "      [\n",
    "          [1*-1, 2*-1,3*-1,4*-1],\n",
    "        [2*-1, 4*-1, 6*-1, 8*-1],\n",
    "        [3*-1, 6*-1, 9*-1, 12*-1]\n",
    "      ]\n",
    "])\n",
    "\n",
    "matrix3d"
   ]
  },
  {
   "cell_type": "markdown",
   "id": "endless-paradise",
   "metadata": {},
   "source": [
    "### 3. Converting tensors to numpy Array\n",
    "* There are two ways of converting a tensor to a numpy array\n",
    "    * numpy.array(tensor)\n",
    "    * tensor.numpy()\n",
    "    "
   ]
  },
  {
   "cell_type": "code",
   "execution_count": 27,
   "id": "eastern-lemon",
   "metadata": {},
   "outputs": [
    {
     "data": {
      "text/plain": [
       "array([2, 3, 4, 5])"
      ]
     },
     "execution_count": 27,
     "metadata": {},
     "output_type": "execute_result"
    }
   ],
   "source": [
    "# first method\n",
    "tensor = tf.Variable([2, 3, 4, 5])\n",
    "numpy_array = np.array(tensor)\n",
    "numpy_array\n",
    "\n",
    "# second method\n",
    "\n",
    "numpy_array = tensor.numpy()\n",
    "numpy_array"
   ]
  },
  {
   "cell_type": "markdown",
   "id": "indirect-average",
   "metadata": {},
   "source": [
    "## Mathematics Operations on Tensors\n",
    "* We can perform a lot of mathemetical operations on tensors\n",
    "    * [Documentation](https://www.tensorflow.org/api_docs/python/tf/math)"
   ]
  },
  {
   "cell_type": "markdown",
   "id": "inner-rotation",
   "metadata": {},
   "source": [
    "### Functions"
   ]
  },
  {
   "cell_type": "code",
   "execution_count": 31,
   "id": "reduced-cargo",
   "metadata": {},
   "outputs": [],
   "source": [
    "#  Let's say we have these two tensors\n",
    "\n",
    "a = tf.constant([[1, 2],\n",
    "                 [3, 4]])\n",
    "b = tf.constant([[1, 1],\n",
    "                 [1, 1]])\n",
    "c = tf.constant([-2., -8, 9, 6, -19])"
   ]
  },
  {
   "cell_type": "markdown",
   "id": "completed-glasgow",
   "metadata": {},
   "source": [
    "### 1. tf.add()\n",
    "* performs additions on tensors\n"
   ]
  },
  {
   "cell_type": "code",
   "execution_count": 35,
   "id": "contained-contamination",
   "metadata": {},
   "outputs": [
    {
     "name": "stdout",
     "output_type": "stream",
     "text": [
      "tf.Tensor(\n",
      "[[2 3]\n",
      " [4 5]], shape=(2, 2), dtype=int32)\n",
      "tf.Tensor(\n",
      "[[2 3]\n",
      " [4 5]], shape=(2, 2), dtype=int32)\n"
     ]
    }
   ],
   "source": [
    "# Method 1\n",
    "print(a+b) # add element wise\n",
    "# Method 2\n",
    "print(tf.add(a, b))"
   ]
  },
  {
   "cell_type": "markdown",
   "id": "unlimited-contrary",
   "metadata": {},
   "source": [
    "### 2. tf.matmul()\n",
    "* performs matrix multiplication\n"
   ]
  },
  {
   "cell_type": "code",
   "execution_count": 37,
   "id": "ceramic-stereo",
   "metadata": {},
   "outputs": [
    {
     "data": {
      "text/plain": [
       "<tf.Tensor: shape=(2, 2), dtype=int32, numpy=\n",
       "array([[3, 3],\n",
       "       [7, 7]])>"
      ]
     },
     "execution_count": 37,
     "metadata": {},
     "output_type": "execute_result"
    }
   ],
   "source": [
    "# Matrix Multiplication\n",
    "tf.matmul(a, b)"
   ]
  },
  {
   "cell_type": "markdown",
   "id": "generous-review",
   "metadata": {},
   "source": [
    "### 3. tf.multipy()\n",
    "* performs multiplications on sensors\n"
   ]
  },
  {
   "cell_type": "code",
   "execution_count": 39,
   "id": "pregnant-latitude",
   "metadata": {},
   "outputs": [
    {
     "name": "stdout",
     "output_type": "stream",
     "text": [
      "tf.Tensor(\n",
      "[[1 2]\n",
      " [3 4]], shape=(2, 2), dtype=int32)\n",
      "tf.Tensor(\n",
      "[[1 2]\n",
      " [3 4]], shape=(2, 2), dtype=int32)\n"
     ]
    }
   ],
   "source": [
    "# method 1\n",
    "print( a * b) # element wise multiplication\n",
    "\n",
    "# Method 2.\n",
    "print(tf.multiply(a, b))"
   ]
  },
  {
   "cell_type": "markdown",
   "id": "royal-freedom",
   "metadata": {},
   "source": [
    "### 4. tf.abs()\n",
    "* Computes the absolute value of a tensor."
   ]
  },
  {
   "cell_type": "code",
   "execution_count": 46,
   "id": "pursuant-blink",
   "metadata": {},
   "outputs": [
    {
     "data": {
      "text/plain": [
       "<tf.Tensor: shape=(5,), dtype=float32, numpy=array([ 2.,  8.,  9.,  6., 19.], dtype=float32)>"
      ]
     },
     "execution_count": 46,
     "metadata": {},
     "output_type": "execute_result"
    }
   ],
   "source": [
    "#  Absolute values of tensor c\n",
    "tf.abs(c)"
   ]
  },
  {
   "cell_type": "markdown",
   "id": "intensive-tourist",
   "metadata": {},
   "source": [
    "### 5. tf.math.accumulate_n(...)\n",
    "* Returns the element-wise sum of a list of tensors."
   ]
  },
  {
   "cell_type": "code",
   "execution_count": 49,
   "id": "lasting-cookie",
   "metadata": {},
   "outputs": [
    {
     "data": {
      "text/plain": [
       "<tf.Tensor: shape=(2, 2), dtype=int32, numpy=\n",
       "array([[2, 3],\n",
       "       [4, 5]])>"
      ]
     },
     "execution_count": 49,
     "metadata": {},
     "output_type": "execute_result"
    }
   ],
   "source": [
    "# accumulate a and b\n",
    "tf.math.accumulate_n([a, b])"
   ]
  },
  {
   "cell_type": "markdown",
   "id": "brief-delicious",
   "metadata": {},
   "source": [
    "### 6. tf.math.acos()\n",
    "* Computes acos of x element-wise."
   ]
  },
  {
   "cell_type": "code",
   "execution_count": 57,
   "id": "automated-roller",
   "metadata": {},
   "outputs": [
    {
     "data": {
      "text/plain": [
       "<tf.Tensor: shape=(6,), dtype=float32, numpy=\n",
       "array([0.       , 2.0943952,       nan, 1.3694384, 1.5707964,       nan],\n",
       "      dtype=float32)>"
      ]
     },
     "execution_count": 57,
     "metadata": {},
     "output_type": "execute_result"
    }
   ],
   "source": [
    "x = tf.constant([1.0, -0.5, 3.4, 0.2, 0.0, -2], dtype = tf.float32)\n",
    "tf.math.acos(x)"
   ]
  },
  {
   "cell_type": "markdown",
   "id": "dietary-tradition",
   "metadata": {},
   "source": [
    "### 7. tf.math.acosh()\n",
    "* Computes inverse hyperbolic cosine of x element-wise."
   ]
  },
  {
   "cell_type": "code",
   "execution_count": 61,
   "id": "physical-youth",
   "metadata": {},
   "outputs": [
    {
     "data": {
      "text/plain": [
       "<tf.Tensor: shape=(5,), dtype=float32, numpy=\n",
       "array([      nan,       nan, 2.887271 , 2.4778888,       nan],\n",
       "      dtype=float32)>"
      ]
     },
     "execution_count": 61,
     "metadata": {},
     "output_type": "execute_result"
    }
   ],
   "source": [
    "# acosh(c)\n",
    "tf.math.acosh(c)"
   ]
  },
  {
   "cell_type": "markdown",
   "id": "packed-spank",
   "metadata": {},
   "source": [
    "### 8. tf.math.add_n()\n",
    "* Adds all input tensors element-wise."
   ]
  },
  {
   "cell_type": "code",
   "execution_count": 64,
   "id": "sixth-drive",
   "metadata": {},
   "outputs": [
    {
     "data": {
      "text/plain": [
       "<tf.Tensor: shape=(2, 2), dtype=int32, numpy=\n",
       "array([[2, 3],\n",
       "       [4, 5]])>"
      ]
     },
     "execution_count": 64,
     "metadata": {},
     "output_type": "execute_result"
    }
   ],
   "source": [
    "tf.math.add_n([a, b])"
   ]
  },
  {
   "cell_type": "markdown",
   "id": "fluid-verse",
   "metadata": {},
   "source": [
    "### 9. tf.math.angle()\n",
    "* Returns the element-wise argument of a complex (or real) tensor."
   ]
  },
  {
   "cell_type": "code",
   "execution_count": 67,
   "id": "adverse-bikini",
   "metadata": {},
   "outputs": [
    {
     "data": {
      "text/plain": [
       "<tf.Tensor: shape=(5,), dtype=float32, numpy=\n",
       "array([3.1415927, 3.1415927, 0.       , 0.       , 3.1415927],\n",
       "      dtype=float32)>"
      ]
     },
     "execution_count": 67,
     "metadata": {},
     "output_type": "execute_result"
    }
   ],
   "source": [
    "# math.angle of vector c\n",
    "\n",
    "tf.math.angle(c)"
   ]
  },
  {
   "cell_type": "markdown",
   "id": "still-trustee",
   "metadata": {},
   "source": [
    "### 10. tf.argmax()\n",
    "* Returns the index with the largest value across axes of a tensor."
   ]
  },
  {
   "cell_type": "code",
   "execution_count": 74,
   "id": "mobile-float",
   "metadata": {},
   "outputs": [
    {
     "data": {
      "text/plain": [
       "<tf.Tensor: shape=(2,), dtype=int64, numpy=array([1, 1], dtype=int64)>"
      ]
     },
     "execution_count": 74,
     "metadata": {},
     "output_type": "execute_result"
    }
   ],
   "source": [
    "# Largest element index\n",
    "tf.argmax(a)"
   ]
  },
  {
   "cell_type": "markdown",
   "id": "ordered-algebra",
   "metadata": {},
   "source": [
    "### 11. tf.argmin()\n",
    "* Returns the index with the smallest value across axes of a tensor."
   ]
  },
  {
   "cell_type": "code",
   "execution_count": 75,
   "id": "typical-blood",
   "metadata": {},
   "outputs": [
    {
     "data": {
      "text/plain": [
       "<tf.Tensor: shape=(2,), dtype=int64, numpy=array([0, 0], dtype=int64)>"
      ]
     },
     "execution_count": 75,
     "metadata": {},
     "output_type": "execute_result"
    }
   ],
   "source": [
    "# Smallest element index\n",
    "tf.argmin(a)"
   ]
  },
  {
   "cell_type": "markdown",
   "id": "spatial-belly",
   "metadata": {},
   "source": [
    "### 12. tf.math.cumprod()\n",
    "* Compute the cumulative product of the tensor x along axis."
   ]
  },
  {
   "cell_type": "code",
   "execution_count": 78,
   "id": "visible-construction",
   "metadata": {},
   "outputs": [
    {
     "data": {
      "text/plain": [
       "<tf.Tensor: shape=(2, 2, 2), dtype=int32, numpy=\n",
       "array([[[1, 2],\n",
       "        [3, 8]],\n",
       "\n",
       "       [[1, 1],\n",
       "        [1, 1]]])>"
      ]
     },
     "execution_count": 78,
     "metadata": {},
     "output_type": "execute_result"
    }
   ],
   "source": [
    "tf.math.cumprod([a, b], 1)"
   ]
  },
  {
   "cell_type": "markdown",
   "id": "optimum-poetry",
   "metadata": {},
   "source": [
    "### 13. tf.math.cumsum()\n",
    "* Compute the cumulative sum of the tensor x along axis."
   ]
  },
  {
   "cell_type": "code",
   "execution_count": 79,
   "id": "harmful-administration",
   "metadata": {},
   "outputs": [
    {
     "data": {
      "text/plain": [
       "<tf.Tensor: shape=(2, 2), dtype=int32, numpy=\n",
       "array([[1, 2],\n",
       "       [4, 6]])>"
      ]
     },
     "execution_count": 79,
     "metadata": {},
     "output_type": "execute_result"
    }
   ],
   "source": [
    "tf.math.cumsum(a)"
   ]
  },
  {
   "cell_type": "markdown",
   "id": "concrete-korea",
   "metadata": {},
   "source": [
    "### 14. tf.exp()\n",
    "*  Computes exponential of x element-wise. "
   ]
  },
  {
   "cell_type": "code",
   "execution_count": 80,
   "id": "instant-champagne",
   "metadata": {},
   "outputs": [
    {
     "data": {
      "text/plain": [
       "<tf.Tensor: shape=(5,), dtype=float32, numpy=\n",
       "array([1.3533528e-01, 3.3546262e-04, 8.1030840e+03, 4.0342880e+02,\n",
       "       5.6027964e-09], dtype=float32)>"
      ]
     },
     "execution_count": 80,
     "metadata": {},
     "output_type": "execute_result"
    }
   ],
   "source": [
    "tf.exp(c)"
   ]
  },
  {
   "cell_type": "markdown",
   "id": "blond-algebra",
   "metadata": {},
   "source": [
    "### 15. tf.floor() || ceil\n",
    "* Returns element-wise largest integer not greater than x."
   ]
  },
  {
   "cell_type": "code",
   "execution_count": 81,
   "id": "static-occasion",
   "metadata": {},
   "outputs": [
    {
     "data": {
      "text/plain": [
       "<tf.Tensor: shape=(5,), dtype=float32, numpy=array([ -2.,  -8.,   9.,   6., -19.], dtype=float32)>"
      ]
     },
     "execution_count": 81,
     "metadata": {},
     "output_type": "execute_result"
    }
   ],
   "source": [
    "tf.floor(c)"
   ]
  },
  {
   "cell_type": "markdown",
   "id": "artistic-seeking",
   "metadata": {},
   "source": [
    "### 16. tf.greater() || tf.less()\n",
    "* Returns the truth value of (x > y) element-wise."
   ]
  },
  {
   "cell_type": "code",
   "execution_count": 87,
   "id": "respective-teach",
   "metadata": {},
   "outputs": [
    {
     "data": {
      "text/plain": [
       "<tf.Tensor: shape=(2, 2), dtype=bool, numpy=\n",
       "array([[False,  True],\n",
       "       [ True,  True]])>"
      ]
     },
     "execution_count": 87,
     "metadata": {},
     "output_type": "execute_result"
    }
   ],
   "source": [
    "tf.greater(a, b, 1) # along the x-axis"
   ]
  },
  {
   "cell_type": "markdown",
   "id": "social-gospel",
   "metadata": {},
   "source": [
    "### 17. tf.greater_equal() || tf.less_equal()\n",
    "* Returns the truth value of (x >= y) element-wise."
   ]
  },
  {
   "cell_type": "code",
   "execution_count": 86,
   "id": "divine-tuner",
   "metadata": {},
   "outputs": [
    {
     "data": {
      "text/plain": [
       "<tf.Tensor: shape=(2, 2), dtype=bool, numpy=\n",
       "array([[ True,  True],\n",
       "       [ True,  True]])>"
      ]
     },
     "execution_count": 86,
     "metadata": {},
     "output_type": "execute_result"
    }
   ],
   "source": [
    "tf.greater_equal(a, b, 0) # along the y-axis"
   ]
  },
  {
   "cell_type": "markdown",
   "id": "partial-interstate",
   "metadata": {},
   "source": [
    "### 18. tf.math.is_finite() || is_inf()\n",
    "* Returns which elements of x are finite."
   ]
  },
  {
   "cell_type": "code",
   "execution_count": 98,
   "id": "hungarian-beast",
   "metadata": {},
   "outputs": [
    {
     "data": {
      "text/plain": [
       "<tf.Tensor: shape=(5,), dtype=bool, numpy=array([ True,  True,  True,  True,  True])>"
      ]
     },
     "execution_count": 98,
     "metadata": {},
     "output_type": "execute_result"
    }
   ],
   "source": [
    "tf.math.is_finite(c)"
   ]
  },
  {
   "cell_type": "markdown",
   "id": "original-death",
   "metadata": {},
   "source": [
    "### 19. tf.math.is_nan()\n",
    "* Returns which elements of x are NaN."
   ]
  },
  {
   "cell_type": "code",
   "execution_count": 95,
   "id": "living-favorite",
   "metadata": {},
   "outputs": [
    {
     "data": {
      "text/plain": [
       "<tf.Tensor: shape=(5,), dtype=bool, numpy=array([False, False, False, False, False])>"
      ]
     },
     "execution_count": 95,
     "metadata": {},
     "output_type": "execute_result"
    }
   ],
   "source": [
    "tf.math.is_nan(c)"
   ]
  },
  {
   "cell_type": "markdown",
   "id": "healthy-neutral",
   "metadata": {},
   "source": [
    "### 20. tf.maximum() || tf.mininum()\n",
    "* Returns the max of x and y (i.e. x > y ? x : y) element-wise."
   ]
  },
  {
   "cell_type": "code",
   "execution_count": 104,
   "id": "historical-sponsorship",
   "metadata": {},
   "outputs": [
    {
     "data": {
      "text/plain": [
       "<tf.Tensor: shape=(2, 2), dtype=int32, numpy=\n",
       "array([[1, 2],\n",
       "       [3, 4]])>"
      ]
     },
     "execution_count": 104,
     "metadata": {},
     "output_type": "execute_result"
    }
   ],
   "source": [
    "tf.maximum(b, a)"
   ]
  },
  {
   "cell_type": "markdown",
   "id": "legendary-miami",
   "metadata": {},
   "source": [
    "### 21. tf..math.not_equal() || tf.math.equal()\n",
    "* Returns the truth value of (x != y) element-wise."
   ]
  },
  {
   "cell_type": "code",
   "execution_count": 105,
   "id": "sixth-suspension",
   "metadata": {},
   "outputs": [
    {
     "data": {
      "text/plain": [
       "<tf.Tensor: shape=(2, 2), dtype=bool, numpy=\n",
       "array([[False,  True],\n",
       "       [ True,  True]])>"
      ]
     },
     "execution_count": 105,
     "metadata": {},
     "output_type": "execute_result"
    }
   ],
   "source": [
    "tf.math.not_equal(a, b)"
   ]
  },
  {
   "cell_type": "markdown",
   "id": "revised-tactics",
   "metadata": {},
   "source": [
    "### 22. tf.pow()\n",
    "*  Computes the power of one value to another."
   ]
  },
  {
   "cell_type": "code",
   "execution_count": 116,
   "id": "miniature-blood",
   "metadata": {},
   "outputs": [
    {
     "data": {
      "text/plain": [
       "<tf.Tensor: shape=(2, 2), dtype=int32, numpy=\n",
       "array([[ 1,  8],\n",
       "       [27, 64]])>"
      ]
     },
     "execution_count": 116,
     "metadata": {},
     "output_type": "execute_result"
    }
   ],
   "source": [
    "tf.pow(a, 3)"
   ]
  },
  {
   "cell_type": "markdown",
   "id": "geographic-bishop",
   "metadata": {},
   "source": [
    "### 23. tf.negative()\n",
    "* Computes numerical negative value element-wise.\n",
    "* negate every element"
   ]
  },
  {
   "cell_type": "code",
   "execution_count": 111,
   "id": "designed-exposure",
   "metadata": {},
   "outputs": [
    {
     "data": {
      "text/plain": [
       "<tf.Tensor: shape=(2, 2), dtype=int32, numpy=\n",
       "array([[-1, -2],\n",
       "       [-3, -4]])>"
      ]
     },
     "execution_count": 111,
     "metadata": {},
     "output_type": "execute_result"
    }
   ],
   "source": [
    "tf.math.negative([a, b])\n",
    "tf.math.negative(a)"
   ]
  },
  {
   "cell_type": "markdown",
   "id": "decent-czech",
   "metadata": {},
   "source": [
    "### 24. tf.math.round()\n",
    "* Rounds the values of a tensor to the nearest integer, element-wise."
   ]
  },
  {
   "cell_type": "code",
   "execution_count": 114,
   "id": "cutting-equipment",
   "metadata": {},
   "outputs": [
    {
     "data": {
      "text/plain": [
       "<tf.Tensor: shape=(4,), dtype=float32, numpy=array([3., 3., 9., 9.], dtype=float32)>"
      ]
     },
     "execution_count": 114,
     "metadata": {},
     "output_type": "execute_result"
    }
   ],
   "source": [
    "tf.math.round(tf.constant([2.5541, 2.65, 9.07, 8.9913]))"
   ]
  },
  {
   "cell_type": "markdown",
   "id": "agricultural-classics",
   "metadata": {},
   "source": [
    "### 25. tf.sqrt()\n",
    "* Computes element-wise square root of the input tensor."
   ]
  },
  {
   "cell_type": "code",
   "execution_count": 122,
   "id": "minor-agriculture",
   "metadata": {},
   "outputs": [
    {
     "data": {
      "text/plain": [
       "<tf.Tensor: shape=(4,), dtype=float32, numpy=array([2., 3., 4., 5.], dtype=float32)>"
      ]
     },
     "execution_count": 122,
     "metadata": {},
     "output_type": "execute_result"
    }
   ],
   "source": [
    "tf.math.sqrt(tf.constant([4, 9, 16, 25], dtype=tf.float32))"
   ]
  },
  {
   "cell_type": "markdown",
   "id": "compound-wagner",
   "metadata": {},
   "source": [
    "### 26. tf.square()\n",
    "* Computes square of x element-wise."
   ]
  },
  {
   "cell_type": "code",
   "execution_count": 123,
   "id": "interpreted-delta",
   "metadata": {},
   "outputs": [
    {
     "data": {
      "text/plain": [
       "<tf.Tensor: shape=(6,), dtype=int32, numpy=array([ 1,  4,  9, 16, 25, 36])>"
      ]
     },
     "execution_count": 123,
     "metadata": {},
     "output_type": "execute_result"
    }
   ],
   "source": [
    "tf.math.square(tf.constant([1,2,3,4,5,6]))"
   ]
  },
  {
   "cell_type": "markdown",
   "id": "first-heating",
   "metadata": {},
   "source": [
    "### 27. tf.sort()\n",
    "* Sorts a tensor"
   ]
  },
  {
   "cell_type": "code",
   "execution_count": 136,
   "id": "bigger-target",
   "metadata": {},
   "outputs": [
    {
     "data": {
      "text/plain": [
       "<tf.Tensor: shape=(2, 2), dtype=int32, numpy=\n",
       "array([[1, 2],\n",
       "       [3, 4]])>"
      ]
     },
     "execution_count": 136,
     "metadata": {},
     "output_type": "execute_result"
    }
   ],
   "source": [
    "tf.sort(a,  direction='ASCENDING') "
   ]
  },
  {
   "cell_type": "markdown",
   "id": "aging-columbus",
   "metadata": {},
   "source": [
    "### More abouth tensor Math\n",
    "* [Math](https://www.tensorflow.org/api_docs/python/tf/math)"
   ]
  },
  {
   "cell_type": "markdown",
   "id": "limiting-wyoming",
   "metadata": {},
   "source": [
    "## About Shapes\n",
    "* **Shape**: The length (number of elements) of each of the axes of a tensor.\n",
    "* **Rank**: Number of tensor axes. A scalar has rank 0, a vector has rank 1, a matrix is rank 2.\n",
    "* **Axis** or **Dimension**: A particular dimension of a tensor.\n",
    "* **Size**: The total number of items in the tensor, the product shape vector."
   ]
  },
  {
   "cell_type": "markdown",
   "id": "domestic-rabbit",
   "metadata": {},
   "source": [
    "### 1. tf.shape()\n",
    "* Returns a tensor containing the shape of the input tensor.\n"
   ]
  },
  {
   "cell_type": "code",
   "execution_count": 128,
   "id": "herbal-spiritual",
   "metadata": {},
   "outputs": [
    {
     "data": {
      "text/plain": [
       "TensorShape([2, 2])"
      ]
     },
     "execution_count": 128,
     "metadata": {},
     "output_type": "execute_result"
    }
   ],
   "source": [
    "# Example\n",
    "tf.shape(a)\n",
    "\n",
    "## Or \n",
    "a.shape"
   ]
  },
  {
   "cell_type": "markdown",
   "id": "structural-playback",
   "metadata": {},
   "source": [
    "### 2. tf.shape_n()\n",
    "* Returns shape of tensors."
   ]
  },
  {
   "cell_type": "code",
   "execution_count": 131,
   "id": "republican-boutique",
   "metadata": {},
   "outputs": [
    {
     "data": {
      "text/plain": [
       "[<tf.Tensor: shape=(1,), dtype=int32, numpy=array([2])>,\n",
       " <tf.Tensor: shape=(1,), dtype=int32, numpy=array([2])>]"
      ]
     },
     "execution_count": 131,
     "metadata": {},
     "output_type": "execute_result"
    }
   ],
   "source": [
    "#  Example\n",
    "tf.shape_n(a)\n"
   ]
  },
  {
   "cell_type": "markdown",
   "id": "stable-collapse",
   "metadata": {},
   "source": [
    "## Reshaping a tensor\n",
    "* tf.reshape(tensor, shape)\n",
    "    * Reshapes a tensor.\n",
    "    * When reshaping the tensor the elements of the product of the shape of the original tensor must be equal to the product of the shape of the new tensor\n",
    "    "
   ]
  },
  {
   "cell_type": "code",
   "execution_count": 139,
   "id": "primary-deadline",
   "metadata": {},
   "outputs": [
    {
     "data": {
      "text/plain": [
       "<tf.Tensor: shape=(18,), dtype=int32, numpy=array([1, 1, 1, 1, 1, 1, 1, 1, 1, 1, 1, 1, 1, 1, 1, 1, 1, 1])>"
      ]
     },
     "execution_count": 139,
     "metadata": {},
     "output_type": "execute_result"
    }
   ],
   "source": [
    "tensor_1d = tf.ones(18, dtype=tf.int32) # create a tensor of 18 1's\n",
    "tensor_1d"
   ]
  },
  {
   "cell_type": "markdown",
   "id": "opponent-medicaid",
   "metadata": {},
   "source": [
    "### Resahping a tensors"
   ]
  },
  {
   "cell_type": "code",
   "execution_count": 140,
   "id": "public-appeal",
   "metadata": {},
   "outputs": [
    {
     "data": {
      "text/plain": [
       "<tf.Tensor: shape=(2, 9), dtype=int32, numpy=\n",
       "array([[1, 1, 1, 1, 1, 1, 1, 1, 1],\n",
       "       [1, 1, 1, 1, 1, 1, 1, 1, 1]])>"
      ]
     },
     "execution_count": 140,
     "metadata": {},
     "output_type": "execute_result"
    }
   ],
   "source": [
    "tensor_2d = tf.reshape(tensor_1d, (2, -1)) \n",
    "tensor_2d"
   ]
  },
  {
   "cell_type": "markdown",
   "id": "liked-scoop",
   "metadata": {},
   "source": [
    "* The `-1`, tells tensorflow that reshape this tensor to 2d and fit all the elements\n"
   ]
  },
  {
   "cell_type": "code",
   "execution_count": 143,
   "id": "protective-chain",
   "metadata": {},
   "outputs": [
    {
     "data": {
      "text/plain": [
       "<tf.Tensor: shape=(3, 6), dtype=int32, numpy=\n",
       "array([[1, 1, 1, 1, 1, 1],\n",
       "       [1, 1, 1, 1, 1, 1],\n",
       "       [1, 1, 1, 1, 1, 1]])>"
      ]
     },
     "execution_count": 143,
     "metadata": {},
     "output_type": "execute_result"
    }
   ],
   "source": [
    "tensor = tf.reshape(tensor_1d, (3, -1)) \n",
    "tensor"
   ]
  },
  {
   "cell_type": "code",
   "execution_count": 144,
   "id": "latest-redhead",
   "metadata": {},
   "outputs": [
    {
     "data": {
      "text/plain": [
       "<tf.Tensor: shape=(6, 3), dtype=int32, numpy=\n",
       "array([[1, 1, 1],\n",
       "       [1, 1, 1],\n",
       "       [1, 1, 1],\n",
       "       [1, 1, 1],\n",
       "       [1, 1, 1],\n",
       "       [1, 1, 1]])>"
      ]
     },
     "execution_count": 144,
     "metadata": {},
     "output_type": "execute_result"
    }
   ],
   "source": [
    "tensor = tf.reshape(tensor_1d, (6, -1)) \n",
    "tensor"
   ]
  },
  {
   "cell_type": "code",
   "execution_count": 145,
   "id": "subtle-template",
   "metadata": {},
   "outputs": [
    {
     "data": {
      "text/plain": [
       "<tf.Tensor: shape=(9, 2), dtype=int32, numpy=\n",
       "array([[1, 1],\n",
       "       [1, 1],\n",
       "       [1, 1],\n",
       "       [1, 1],\n",
       "       [1, 1],\n",
       "       [1, 1],\n",
       "       [1, 1],\n",
       "       [1, 1],\n",
       "       [1, 1]])>"
      ]
     },
     "execution_count": 145,
     "metadata": {},
     "output_type": "execute_result"
    }
   ],
   "source": [
    "tensor = tf.reshape(tensor_1d, (9, -1)) \n",
    "tensor"
   ]
  },
  {
   "cell_type": "code",
   "execution_count": 146,
   "id": "pursuant-remedy",
   "metadata": {},
   "outputs": [
    {
     "data": {
      "text/plain": [
       "<tf.Tensor: shape=(18, 1), dtype=int32, numpy=\n",
       "array([[1],\n",
       "       [1],\n",
       "       [1],\n",
       "       [1],\n",
       "       [1],\n",
       "       [1],\n",
       "       [1],\n",
       "       [1],\n",
       "       [1],\n",
       "       [1],\n",
       "       [1],\n",
       "       [1],\n",
       "       [1],\n",
       "       [1],\n",
       "       [1],\n",
       "       [1],\n",
       "       [1],\n",
       "       [1]])>"
      ]
     },
     "execution_count": 146,
     "metadata": {},
     "output_type": "execute_result"
    }
   ],
   "source": [
    "tensor = tf.reshape(tensor_1d, (18, -1)) \n",
    "tensor"
   ]
  },
  {
   "cell_type": "code",
   "execution_count": 147,
   "id": "human-photography",
   "metadata": {},
   "outputs": [
    {
     "data": {
      "text/plain": [
       "<tf.Tensor: shape=(3, 6), dtype=int32, numpy=\n",
       "array([[1, 1, 1, 1, 1, 1],\n",
       "       [1, 1, 1, 1, 1, 1],\n",
       "       [1, 1, 1, 1, 1, 1]])>"
      ]
     },
     "execution_count": 147,
     "metadata": {},
     "output_type": "execute_result"
    }
   ],
   "source": [
    "tensor = tf.reshape(tensor_1d, (3, 6)) \n",
    "tensor"
   ]
  },
  {
   "cell_type": "markdown",
   "id": "coordinated-spiritual",
   "metadata": {},
   "source": [
    "## Generating Tensors\n",
    "* We can generate tensors filled with values the way we did it in numpy using the `ones`, `zeros`, `ones_like`, `zeros_like`, etc"
   ]
  },
  {
   "cell_type": "markdown",
   "id": "systematic-parts",
   "metadata": {},
   "source": [
    "### `tf.ones()`\n",
    "* Creates a tensor with all elements set to one (1)"
   ]
  },
  {
   "cell_type": "code",
   "execution_count": 151,
   "id": "determined-bernard",
   "metadata": {},
   "outputs": [
    {
     "name": "stdout",
     "output_type": "stream",
     "text": [
      "tf.Tensor(\n",
      "[[ True  True  True]\n",
      " [ True  True  True]\n",
      " [ True  True  True]], shape=(3, 3), dtype=bool)\n",
      "tf.Tensor(\n",
      "[[1 1 1 1]\n",
      " [1 1 1 1]\n",
      " [1 1 1 1]], shape=(3, 4), dtype=int16)\n"
     ]
    }
   ],
   "source": [
    "# generating a tf of ones and dtype = boolean\n",
    "ones = tf.ones((3, 3), dtype=tf.bool)\n",
    "print(ones)\n",
    "\n",
    "# tensor of int one's\n",
    "ones = tf.ones((3,4), dtype=tf.int16)\n",
    "print(ones)\n"
   ]
  },
  {
   "cell_type": "markdown",
   "id": "young-fishing",
   "metadata": {},
   "source": [
    "### `tf.ones_like()`\n",
    "* Creates a tensor of all ones that has the same shape as the input."
   ]
  },
  {
   "cell_type": "code",
   "execution_count": 154,
   "id": "wooden-universal",
   "metadata": {},
   "outputs": [
    {
     "data": {
      "text/plain": [
       "<tf.Tensor: shape=(2, 4), dtype=int32, numpy=\n",
       "array([[1, 1, 1, 1],\n",
       "       [1, 1, 1, 1]])>"
      ]
     },
     "execution_count": 154,
     "metadata": {},
     "output_type": "execute_result"
    }
   ],
   "source": [
    "a = tf.Variable([[1, 2, 3, 4], [1, 5, 9, 0]])\n",
    "\n",
    "ones = tf.ones_like(a)\n",
    "ones"
   ]
  },
  {
   "cell_type": "markdown",
   "id": "suspected-blair",
   "metadata": {},
   "source": [
    "### `tf.zeros()`\n",
    "* Creates a tensor with all elements set to zero."
   ]
  },
  {
   "cell_type": "code",
   "execution_count": 155,
   "id": "champion-master",
   "metadata": {},
   "outputs": [
    {
     "name": "stdout",
     "output_type": "stream",
     "text": [
      "tf.Tensor(\n",
      "[[False False False]\n",
      " [False False False]\n",
      " [False False False]], shape=(3, 3), dtype=bool)\n",
      "tf.Tensor(\n",
      "[[0 0 0 0]\n",
      " [0 0 0 0]\n",
      " [0 0 0 0]], shape=(3, 4), dtype=int16)\n"
     ]
    }
   ],
   "source": [
    "# generating a tf of ones and dtype = boolean\n",
    "zeros = tf.zeros((3, 3), dtype=tf.bool)\n",
    "print(zeros)\n",
    "\n",
    "# tensor of int one's\n",
    "zeros = tf.zeros((3,4), dtype=tf.int16)\n",
    "print(zeros)"
   ]
  },
  {
   "cell_type": "markdown",
   "id": "historic-seventh",
   "metadata": {},
   "source": [
    "### `tf.zeros_like()`\n",
    "* Creates a tensor with all elements set to zero."
   ]
  },
  {
   "cell_type": "code",
   "execution_count": 156,
   "id": "about-lebanon",
   "metadata": {},
   "outputs": [
    {
     "data": {
      "text/plain": [
       "<tf.Tensor: shape=(2, 4), dtype=int32, numpy=\n",
       "array([[0, 0, 0, 0],\n",
       "       [0, 0, 0, 0]])>"
      ]
     },
     "execution_count": 156,
     "metadata": {},
     "output_type": "execute_result"
    }
   ],
   "source": [
    "a = tf.Variable([[1, 2, 3, 4], [1, 5, 9, 0]])\n",
    "zeros = tf.zeros_like(a)\n",
    "zeros"
   ]
  },
  {
   "cell_type": "markdown",
   "id": "gothic-swift",
   "metadata": {},
   "source": [
    "### `tf.fill()`\n",
    "* Creates a tensor filled with a scalar value.\n",
    "    * ```\n",
    "    tf.fill(\n",
    "    dims, value, name=None\n",
    "    )\n",
    "    ```\n",
    "* This method is the same as `numpy.full()`"
   ]
  },
  {
   "cell_type": "code",
   "execution_count": 158,
   "id": "involved-corpus",
   "metadata": {},
   "outputs": [
    {
     "data": {
      "text/plain": [
       "<tf.Tensor: shape=(2, 3), dtype=int32, numpy=\n",
       "array([[4, 4, 4],\n",
       "       [4, 4, 4]])>"
      ]
     },
     "execution_count": 158,
     "metadata": {},
     "output_type": "execute_result"
    }
   ],
   "source": [
    "tensorFill = tf.fill((2,3), 4)\n",
    "tensorFill"
   ]
  },
  {
   "cell_type": "markdown",
   "id": "fiscal-match",
   "metadata": {},
   "source": [
    "## 1. `tf.Variable()`\n",
    "* Just like any `Tensor`, variables created with `Variable()` can be used as inputs to operations. Additionally, all the operators overloaded for the Tensor class are carried over to variables."
   ]
  },
  {
   "cell_type": "code",
   "execution_count": 163,
   "id": "auburn-processing",
   "metadata": {},
   "outputs": [
    {
     "data": {
      "text/plain": [
       "<tf.Variable 'Variable:0' shape=(2, 1) dtype=float32, numpy=\n",
       "array([[1.],\n",
       "       [2.]], dtype=float32)>"
      ]
     },
     "execution_count": 163,
     "metadata": {},
     "output_type": "execute_result"
    }
   ],
   "source": [
    "w = tf.Variable([[1.], [2.]])\n",
    "w"
   ]
  },
  {
   "cell_type": "markdown",
   "id": "forty-america",
   "metadata": {},
   "source": [
    "## 2. `tf.constant()`\n",
    "* Creates a constant tensor from a tensor-like object."
   ]
  },
  {
   "cell_type": "code",
   "execution_count": 164,
   "id": "humanitarian-fabric",
   "metadata": {},
   "outputs": [
    {
     "data": {
      "text/plain": [
       "<tf.Tensor: shape=(4,), dtype=bool, numpy=array([ True, False, False, False])>"
      ]
     },
     "execution_count": 164,
     "metadata": {},
     "output_type": "execute_result"
    }
   ],
   "source": [
    "bool_t = tf.constant([True, False, False, False], dtype=tf.bool)\n",
    "bool_t"
   ]
  },
  {
   "cell_type": "code",
   "execution_count": null,
   "id": "rolled-sitting",
   "metadata": {},
   "outputs": [],
   "source": []
  },
  {
   "cell_type": "code",
   "execution_count": null,
   "id": "prospective-container",
   "metadata": {},
   "outputs": [],
   "source": []
  },
  {
   "cell_type": "markdown",
   "id": "celtic-subdivision",
   "metadata": {},
   "source": [
    "# TensorFlow Core Learning Algorithms"
   ]
  },
  {
   "cell_type": "markdown",
   "id": "formal-serbia",
   "metadata": {},
   "source": [
    "- Linear Regression\n",
    "- Classification\n",
    "- Clustering\n",
    "- Hidden Markov Models"
   ]
  },
  {
   "cell_type": "markdown",
   "id": "fifth-parish",
   "metadata": {},
   "source": [
    "## 1. Linear Regression\n",
    "* Linear regression is one of the most basic forms of machine learning and is used to predict numeric values."
   ]
  },
  {
   "cell_type": "markdown",
   "id": "celtic-pharmaceutical",
   "metadata": {},
   "source": [
    "#### Drawing a sinmple regression line "
   ]
  },
  {
   "cell_type": "code",
   "execution_count": 7,
   "id": "convertible-placement",
   "metadata": {},
   "outputs": [
    {
     "data": {
      "image/png": "[encoded data removed]",
      "text/plain": [
       "<Figure size 432x288 with 1 Axes>"
      ]
     },
     "metadata": {
      "needs_background": "light"
     },
     "output_type": "display_data"
    }
   ],
   "source": [
    "x = [1, 2, 2.5, 3, 4]\n",
    "y = [1, 4, 7, 9, 15]\n",
    "plt.plot(x, y , 'om')\n",
    "plt.axis([0, 6, 0, 20])\n",
    "plt.show()\n"
   ]
  },
  {
   "cell_type": "markdown",
   "id": "objective-approval",
   "metadata": {},
   "source": [
    "* We can see that this data has a linear coorespondence. When the x value increases, so does the y. Because of this relation we can create a line of best fit for this dataset."
   ]
  },
  {
   "cell_type": "markdown",
   "id": "fallen-approval",
   "metadata": {},
   "source": [
    "#### Ploting a line of best fit"
   ]
  },
  {
   "cell_type": "code",
   "execution_count": 10,
   "id": "opened-owner",
   "metadata": {},
   "outputs": [
    {
     "data": {
      "image/png": "[encoded data removed]",
      "text/plain": [
       "<Figure size 432x288 with 1 Axes>"
      ]
     },
     "metadata": {
      "needs_background": "light"
     },
     "output_type": "display_data"
    }
   ],
   "source": [
    "x = [1, 2, 2.5, 3, 4]\n",
    "y = [1, 4, 7, 9, 15]\n",
    "plt.plot(x, y , 'om')\n",
    "plt.axis([0, 6, 0, 20])\n",
    "plt.plot(np.unique(x), np.poly1d(np.polyfit(x, y, 1))(np.unique(x)))\n",
    "plt.show()"
   ]
  },
  {
   "cell_type": "markdown",
   "id": "received-ferry",
   "metadata": {},
   "source": [
    "* Once we've generated this line for our dataset, we can use its equation to predict future values. We just pass the features of the data point we would like to predict into the equation of the line and use the output as our prediction.\n",
    "> Example:\n",
    "    * when `x` = 2 what will be the value of `y`"
   ]
  },
  {
   "cell_type": "markdown",
   "id": "exceptional-intellectual",
   "metadata": {},
   "source": [
    "### Tutorial\n",
    "* [Linear Regression](https://www.tensorflow.org/tutorials/estimator/linear)"
   ]
  },
  {
   "cell_type": "markdown",
   "id": "ambient-retro",
   "metadata": {},
   "source": [
    "### Imports"
   ]
  },
  {
   "cell_type": "code",
   "execution_count": 11,
   "id": "amino-grocery",
   "metadata": {},
   "outputs": [],
   "source": [
    "!pip install -q sklearn"
   ]
  },
  {
   "cell_type": "code",
   "execution_count": 12,
   "id": "dated-skill",
   "metadata": {},
   "outputs": [],
   "source": [
    "from __future__ import absolute_import, division, print_function, unicode_literals\n",
    "from IPython.display import clear_output\n",
    "from six.moves import urllib\n",
    "import tensorflow.compat.v2.feature_column as fc\n"
   ]
  },
  {
   "cell_type": "markdown",
   "id": "stunning-objective",
   "metadata": {},
   "source": [
    "## Data\n",
    "The data I will be working with is tatanic dataset, so let's import our data fro training and testing from the `data` folder and print the head of the dataset"
   ]
  },
  {
   "cell_type": "code",
   "execution_count": 17,
   "id": "compact-holiday",
   "metadata": {},
   "outputs": [
    {
     "data": {
      "text/html": [
       "<div>\n",
       "<style scoped>\n",
       "    .dataframe tbody tr th:only-of-type {\n",
       "        vertical-align: middle;\n",
       "    }\n",
       "\n",
       "    .dataframe tbody tr th {\n",
       "        vertical-align: top;\n",
       "    }\n",
       "\n",
       "    .dataframe thead th {\n",
       "        text-align: right;\n",
       "    }\n",
       "</style>\n",
       "<table border=\"1\" class=\"dataframe\">\n",
       "  <thead>\n",
       "    <tr style=\"text-align: right;\">\n",
       "      <th></th>\n",
       "      <th>survived</th>\n",
       "      <th>sex</th>\n",
       "      <th>age</th>\n",
       "      <th>n_siblings_spouses</th>\n",
       "      <th>parch</th>\n",
       "      <th>fare</th>\n",
       "      <th>class</th>\n",
       "      <th>deck</th>\n",
       "      <th>embark_town</th>\n",
       "      <th>alone</th>\n",
       "    </tr>\n",
       "  </thead>\n",
       "  <tbody>\n",
       "    <tr>\n",
       "      <th>0</th>\n",
       "      <td>0</td>\n",
       "      <td>male</td>\n",
       "      <td>35.0</td>\n",
       "      <td>0</td>\n",
       "      <td>0</td>\n",
       "      <td>8.0500</td>\n",
       "      <td>Third</td>\n",
       "      <td>unknown</td>\n",
       "      <td>Southampton</td>\n",
       "      <td>y</td>\n",
       "    </tr>\n",
       "    <tr>\n",
       "      <th>1</th>\n",
       "      <td>0</td>\n",
       "      <td>male</td>\n",
       "      <td>54.0</td>\n",
       "      <td>0</td>\n",
       "      <td>0</td>\n",
       "      <td>51.8625</td>\n",
       "      <td>First</td>\n",
       "      <td>E</td>\n",
       "      <td>Southampton</td>\n",
       "      <td>y</td>\n",
       "    </tr>\n",
       "    <tr>\n",
       "      <th>2</th>\n",
       "      <td>1</td>\n",
       "      <td>female</td>\n",
       "      <td>58.0</td>\n",
       "      <td>0</td>\n",
       "      <td>0</td>\n",
       "      <td>26.5500</td>\n",
       "      <td>First</td>\n",
       "      <td>C</td>\n",
       "      <td>Southampton</td>\n",
       "      <td>y</td>\n",
       "    </tr>\n",
       "    <tr>\n",
       "      <th>3</th>\n",
       "      <td>1</td>\n",
       "      <td>female</td>\n",
       "      <td>55.0</td>\n",
       "      <td>0</td>\n",
       "      <td>0</td>\n",
       "      <td>16.0000</td>\n",
       "      <td>Second</td>\n",
       "      <td>unknown</td>\n",
       "      <td>Southampton</td>\n",
       "      <td>y</td>\n",
       "    </tr>\n",
       "    <tr>\n",
       "      <th>4</th>\n",
       "      <td>1</td>\n",
       "      <td>male</td>\n",
       "      <td>34.0</td>\n",
       "      <td>0</td>\n",
       "      <td>0</td>\n",
       "      <td>13.0000</td>\n",
       "      <td>Second</td>\n",
       "      <td>D</td>\n",
       "      <td>Southampton</td>\n",
       "      <td>y</td>\n",
       "    </tr>\n",
       "  </tbody>\n",
       "</table>\n",
       "</div>"
      ],
      "text/plain": [
       "   survived     sex   age  n_siblings_spouses  parch     fare   class  \\\n",
       "0         0    male  35.0                   0      0   8.0500   Third   \n",
       "1         0    male  54.0                   0      0  51.8625   First   \n",
       "2         1  female  58.0                   0      0  26.5500   First   \n",
       "3         1  female  55.0                   0      0  16.0000  Second   \n",
       "4         1    male  34.0                   0      0  13.0000  Second   \n",
       "\n",
       "      deck  embark_town alone  \n",
       "0  unknown  Southampton     y  \n",
       "1        E  Southampton     y  \n",
       "2        C  Southampton     y  \n",
       "3  unknown  Southampton     y  \n",
       "4        D  Southampton     y  "
      ]
     },
     "execution_count": 17,
     "metadata": {},
     "output_type": "execute_result"
    }
   ],
   "source": [
    "train = pd.read_csv('data/train.csv')\n",
    "train.head()\n",
    "eval_ = pd.read_csv('data/eval.csv')\n",
    "eval_.head()"
   ]
  },
  {
   "cell_type": "markdown",
   "id": "brutal-joyce",
   "metadata": {},
   "source": [
    "### Getting the summary about the data \n",
    "* to get the summary of the data we use a method called `describe()`\n",
    "* this method will give us a summary of the dataframe example:\n",
    "    > `df.describe()`\n",
    "        * gives the summary of the dataframe"
   ]
  },
  {
   "cell_type": "code",
   "execution_count": 18,
   "id": "cathedral-traveler",
   "metadata": {},
   "outputs": [
    {
     "data": {
      "text/html": [
       "<div>\n",
       "<style scoped>\n",
       "    .dataframe tbody tr th:only-of-type {\n",
       "        vertical-align: middle;\n",
       "    }\n",
       "\n",
       "    .dataframe tbody tr th {\n",
       "        vertical-align: top;\n",
       "    }\n",
       "\n",
       "    .dataframe thead th {\n",
       "        text-align: right;\n",
       "    }\n",
       "</style>\n",
       "<table border=\"1\" class=\"dataframe\">\n",
       "  <thead>\n",
       "    <tr style=\"text-align: right;\">\n",
       "      <th></th>\n",
       "      <th>survived</th>\n",
       "      <th>age</th>\n",
       "      <th>n_siblings_spouses</th>\n",
       "      <th>parch</th>\n",
       "      <th>fare</th>\n",
       "    </tr>\n",
       "  </thead>\n",
       "  <tbody>\n",
       "    <tr>\n",
       "      <th>count</th>\n",
       "      <td>627.000000</td>\n",
       "      <td>627.000000</td>\n",
       "      <td>627.000000</td>\n",
       "      <td>627.000000</td>\n",
       "      <td>627.000000</td>\n",
       "    </tr>\n",
       "    <tr>\n",
       "      <th>mean</th>\n",
       "      <td>0.387560</td>\n",
       "      <td>29.631308</td>\n",
       "      <td>0.545455</td>\n",
       "      <td>0.379585</td>\n",
       "      <td>34.385399</td>\n",
       "    </tr>\n",
       "    <tr>\n",
       "      <th>std</th>\n",
       "      <td>0.487582</td>\n",
       "      <td>12.511818</td>\n",
       "      <td>1.151090</td>\n",
       "      <td>0.792999</td>\n",
       "      <td>54.597730</td>\n",
       "    </tr>\n",
       "    <tr>\n",
       "      <th>min</th>\n",
       "      <td>0.000000</td>\n",
       "      <td>0.750000</td>\n",
       "      <td>0.000000</td>\n",
       "      <td>0.000000</td>\n",
       "      <td>0.000000</td>\n",
       "    </tr>\n",
       "    <tr>\n",
       "      <th>25%</th>\n",
       "      <td>0.000000</td>\n",
       "      <td>23.000000</td>\n",
       "      <td>0.000000</td>\n",
       "      <td>0.000000</td>\n",
       "      <td>7.895800</td>\n",
       "    </tr>\n",
       "    <tr>\n",
       "      <th>50%</th>\n",
       "      <td>0.000000</td>\n",
       "      <td>28.000000</td>\n",
       "      <td>0.000000</td>\n",
       "      <td>0.000000</td>\n",
       "      <td>15.045800</td>\n",
       "    </tr>\n",
       "    <tr>\n",
       "      <th>75%</th>\n",
       "      <td>1.000000</td>\n",
       "      <td>35.000000</td>\n",
       "      <td>1.000000</td>\n",
       "      <td>0.000000</td>\n",
       "      <td>31.387500</td>\n",
       "    </tr>\n",
       "    <tr>\n",
       "      <th>max</th>\n",
       "      <td>1.000000</td>\n",
       "      <td>80.000000</td>\n",
       "      <td>8.000000</td>\n",
       "      <td>5.000000</td>\n",
       "      <td>512.329200</td>\n",
       "    </tr>\n",
       "  </tbody>\n",
       "</table>\n",
       "</div>"
      ],
      "text/plain": [
       "         survived         age  n_siblings_spouses       parch        fare\n",
       "count  627.000000  627.000000          627.000000  627.000000  627.000000\n",
       "mean     0.387560   29.631308            0.545455    0.379585   34.385399\n",
       "std      0.487582   12.511818            1.151090    0.792999   54.597730\n",
       "min      0.000000    0.750000            0.000000    0.000000    0.000000\n",
       "25%      0.000000   23.000000            0.000000    0.000000    7.895800\n",
       "50%      0.000000   28.000000            0.000000    0.000000   15.045800\n",
       "75%      1.000000   35.000000            1.000000    0.000000   31.387500\n",
       "max      1.000000   80.000000            8.000000    5.000000  512.329200"
      ]
     },
     "execution_count": 18,
     "metadata": {},
     "output_type": "execute_result"
    }
   ],
   "source": [
    "train.describe()"
   ]
  },
  {
   "cell_type": "code",
   "execution_count": 20,
   "id": "revised-sentence",
   "metadata": {},
   "outputs": [
    {
     "data": {
      "text/plain": [
       "(627, 10)"
      ]
     },
     "execution_count": 20,
     "metadata": {},
     "output_type": "execute_result"
    }
   ],
   "source": [
    "train.shape"
   ]
  },
  {
   "cell_type": "markdown",
   "id": "taken-enterprise",
   "metadata": {},
   "source": [
    " We have 627 entries and 10 features in our dataframe `train`"
   ]
  },
  {
   "cell_type": "code",
   "execution_count": null,
   "id": "electoral-spare",
   "metadata": {},
   "outputs": [],
   "source": [
    "### Getting the survived columns for both the train and the eval dataframes"
   ]
  },
  {
   "cell_type": "code",
   "execution_count": 21,
   "id": "electric-uzbekistan",
   "metadata": {},
   "outputs": [
    {
     "data": {
      "text/plain": [
       "0      0\n",
       "1      0\n",
       "2      1\n",
       "3      1\n",
       "4      1\n",
       "      ..\n",
       "259    1\n",
       "260    0\n",
       "261    0\n",
       "262    0\n",
       "263    1\n",
       "Name: survived, Length: 264, dtype: int64"
      ]
     },
     "execution_count": 21,
     "metadata": {},
     "output_type": "execute_result"
    }
   ],
   "source": [
    "y_train =train.pop('survived')\n",
    "y_eval = eval_.pop('survived')\n",
    "y_eval"
   ]
  },
  {
   "cell_type": "markdown",
   "id": "legitimate-present",
   "metadata": {},
   "source": [
    "### Generating a histogram of the age from the train dataframe\n"
   ]
  },
  {
   "cell_type": "code",
   "execution_count": 25,
   "id": "toxic-active",
   "metadata": {},
   "outputs": [
    {
     "data": {
      "image/png": "[encoded data removed]",
      "text/plain": [
       "<Figure size 432x288 with 1 Axes>"
      ]
     },
     "metadata": {
      "needs_background": "light"
     },
     "output_type": "display_data"
    }
   ],
   "source": [
    "train.age.hist(bins=20)\n",
    "plt.show()"
   ]
  },
  {
   "cell_type": "code",
   "execution_count": null,
   "id": "atomic-scout",
   "metadata": {},
   "outputs": [],
   "source": [
    "### Generating a bargraph of gender"
   ]
  },
  {
   "cell_type": "code",
   "execution_count": 28,
   "id": "suspended-acceptance",
   "metadata": {},
   "outputs": [
    {
     "data": {
      "image/png": "[encoded data removed]",
      "text/plain": [
       "<Figure size 432x288 with 1 Axes>"
      ]
     },
     "metadata": {
      "needs_background": "light"
     },
     "output_type": "display_data"
    }
   ],
   "source": [
    "train.sex.value_counts().plot(kind=\"bar\")\n",
    "plt.show()"
   ]
  },
  {
   "cell_type": "markdown",
   "id": "quantitative-unknown",
   "metadata": {},
   "source": [
    " We have more males than females, about 400 males and about 200 females"
   ]
  },
  {
   "cell_type": "markdown",
   "id": "configured-timber",
   "metadata": {},
   "source": [
    "### Generating a bargraph of classes"
   ]
  },
  {
   "cell_type": "code",
   "execution_count": 33,
   "id": "heated-florida",
   "metadata": {},
   "outputs": [
    {
     "data": {
      "image/png": "[encoded data removed]",
      "text/plain": [
       "<Figure size 432x288 with 1 Axes>"
      ]
     },
     "metadata": {
      "needs_background": "light"
     },
     "output_type": "display_data"
    }
   ],
   "source": [
    "train['class'].value_counts().plot(kind=\"barh\")\n",
    "plt.show()"
   ]
  },
  {
   "cell_type": "markdown",
   "id": "executed-significance",
   "metadata": {},
   "source": [
    "We have three classes in this data frame train! The frequencies are as follows"
   ]
  },
  {
   "cell_type": "code",
   "execution_count": 37,
   "id": "statistical-mount",
   "metadata": {},
   "outputs": [
    {
     "data": {
      "text/plain": [
       "Third     341\n",
       "First     159\n",
       "Second    127\n",
       "Name: class, dtype: int64"
      ]
     },
     "execution_count": 37,
     "metadata": {},
     "output_type": "execute_result"
    }
   ],
   "source": [
    "train[\"class\"].value_counts()"
   ]
  },
  {
   "cell_type": "markdown",
   "id": "color-sphere",
   "metadata": {},
   "source": [
    "### The chances of survival of each gender Visualised"
   ]
  },
  {
   "cell_type": "code",
   "execution_count": 39,
   "id": "secondary-captain",
   "metadata": {},
   "outputs": [
    {
     "data": {
      "image/png": "[encoded data removed]",
      "text/plain": [
       "<Figure size 432x288 with 1 Axes>"
      ]
     },
     "metadata": {
      "needs_background": "light"
     },
     "output_type": "display_data"
    }
   ],
   "source": [
    "pd.concat([train, y_train], axis=1).groupby('sex').survived.mean().plot(kind='bar').set_xlabel('% survive')\n",
    "plt.show()"
   ]
  },
  {
   "cell_type": "markdown",
   "id": "entire-fantasy",
   "metadata": {},
   "source": [
    "Females has high chances of survival than male"
   ]
  },
  {
   "cell_type": "markdown",
   "id": "turkish-college",
   "metadata": {},
   "source": [
    "#### Visualising which class has a higher channce of survival between\n",
    "* First\n",
    "* Second\n",
    "* Third\n"
   ]
  },
  {
   "cell_type": "code",
   "execution_count": 42,
   "id": "rising-mining",
   "metadata": {},
   "outputs": [
    {
     "data": {
      "image/png": "[encoded data removed]",
      "text/plain": [
       "<Figure size 432x288 with 1 Axes>"
      ]
     },
     "metadata": {
      "needs_background": "light"
     },
     "output_type": "display_data"
    }
   ],
   "source": [
    "pd.concat([train, y_train], axis=1).groupby('class').survived.mean().plot(kind='barh').set_xlabel('% survive')\n",
    "plt.show()"
   ]
  },
  {
   "cell_type": "markdown",
   "id": "inclusive-brother",
   "metadata": {},
   "source": [
    "After analyzing this information, we should notice the following:\n",
    "\n",
    "* Most passengers are in their 20's or 30's\n",
    "* Most passengers are male\n",
    "* Most passengers are in \"Third\" class\n",
    "* Females have a much higher chance of survival\n",
    "* \"First\" class has a higher chance of surviving"
   ]
  },
  {
   "cell_type": "markdown",
   "id": "greatest-hawaiian",
   "metadata": {},
   "source": [
    "## Training and Testing Data\n",
    "* We have noticed that we loaded two different datasets above. This is because when we train models, we need two sets of data: \n",
    "    * training\n",
    "    * testing."
   ]
  },
  {
   "cell_type": "markdown",
   "id": "little-tokyo",
   "metadata": {},
   "source": [
    "### Training\n",
    "* is what we feed to the model so that it can develop and learn. It is usually a much larger size than the testing data."
   ]
  },
  {
   "cell_type": "markdown",
   "id": "monthly-developer",
   "metadata": {},
   "source": [
    "### Testing\n",
    "* is what we use to evaulate the model and see how well it is performing. We must use a seperate set of data that the model has not been trained on to evaluate it.\n",
    "* the reason why we had a testing data set is because the model should learn to pridict the data that it have seen before\n",
    "* if we use the datasets of training in testing then the measure of accuracy will be not accurate because the model can simply memorise the data, because it has seen it before\n",
    "#### Feature Columns\n",
    "* In our dataset we have two different kinds of information:\n",
    "    * Categorical\n",
    "        * is anything that is not numeric! eg sex\n",
    "    * Numerical\n",
    "        * the reverse is no false\n",
    "* Before we continue and create/train a model we must convet our categorical data into numeric data. We can do this by encoding each category with an integer (eg. male = 1, female = 2)."
   ]
  },
  {
   "cell_type": "markdown",
   "id": "square-employee",
   "metadata": {},
   "source": [
    "### Converting categorial columns into numerical\n"
   ]
  },
  {
   "cell_type": "code",
   "execution_count": 48,
   "id": "artificial-integer",
   "metadata": {},
   "outputs": [
    {
     "name": "stdout",
     "output_type": "stream",
     "text": [
      "[VocabularyListCategoricalColumn(key='sex', vocabulary_list=('male', 'female'), dtype=tf.string, default_value=-1, num_oov_buckets=0), VocabularyListCategoricalColumn(key='n_siblings_spouses', vocabulary_list=(1, 0, 3, 4, 2, 5, 8), dtype=tf.int64, default_value=-1, num_oov_buckets=0), VocabularyListCategoricalColumn(key='parch', vocabulary_list=(0, 1, 2, 5, 3, 4), dtype=tf.int64, default_value=-1, num_oov_buckets=0), VocabularyListCategoricalColumn(key='class', vocabulary_list=('Third', 'First', 'Second'), dtype=tf.string, default_value=-1, num_oov_buckets=0), VocabularyListCategoricalColumn(key='deck', vocabulary_list=('unknown', 'C', 'G', 'A', 'B', 'D', 'F', 'E'), dtype=tf.string, default_value=-1, num_oov_buckets=0), VocabularyListCategoricalColumn(key='embark_town', vocabulary_list=('Southampton', 'Cherbourg', 'Queenstown', 'unknown'), dtype=tf.string, default_value=-1, num_oov_buckets=0), VocabularyListCategoricalColumn(key='alone', vocabulary_list=('n', 'y'), dtype=tf.string, default_value=-1, num_oov_buckets=0), NumericColumn(key='age', shape=(1,), default_value=None, dtype=tf.float32, normalizer_fn=None), NumericColumn(key='fare', shape=(1,), default_value=None, dtype=tf.float32, normalizer_fn=None)]\n"
     ]
    }
   ],
   "source": [
    "CATEGORICAL_COLUMNS = ['sex', 'n_siblings_spouses', 'parch', 'class', 'deck', 'embark_town', 'alone']\n",
    "NUMERIC_COLUMNS = ['age', 'fare']\n",
    "\n",
    "feature_columns = []\n",
    "\n",
    "for feature_name in CATEGORICAL_COLUMNS:\n",
    "    vocabulary = train[feature_name].unique()  \n",
    "    # gets a list of all unique values from given feature column\n",
    "    # print(vocabulary)\n",
    "    feature_columns.append(tf.feature_column.categorical_column_with_vocabulary_list(feature_name, vocabulary))\n",
    "\n",
    "\n",
    "\n",
    "for feature_name in NUMERIC_COLUMNS:\n",
    "  feature_columns.append(tf.feature_column.numeric_column(feature_name, dtype=tf.float32))\n",
    "\n",
    "print(feature_columns)"
   ]
  },
  {
   "cell_type": "markdown",
   "id": "alpine-mother",
   "metadata": {},
   "source": [
    "### The Training Process\n",
    "* So, we are almost done preparing our dataset and I feel as though it's a good time to explain how our model is trained. Specifically, how input data is fed to our model.\n",
    "* For this specific model data is going to be streamed into it in small batches of 32. This means we will not feed the entire dataset to our model at once, but simply small batches of entries. We will feed these batches to our model multiple times according to the number of `epochs`.\n",
    "* An `epoch` is simply one stream of our entire dataset. The number of `epochs` we define is the amount of times our model will see the entire dataset. We use multiple epochs in hope that after seeing the same data multiple times the model will better determine how to estimate it.\n",
    "* eg. if we have 10 ephocs, our model will see the same dataset 10 times.\n",
    "* Since we need to feed our data in batches and multiple times, we need to create something called an input function. The input function simply defines how our dataset will be converted into batches at each epoch."
   ]
  },
  {
   "cell_type": "markdown",
   "id": "greatest-spine",
   "metadata": {},
   "source": [
    "#### Input Function\n",
    "* The TensorFlow model we are going to use requires that the data we pass it comes in as a `tf.data.Dataset` object.\n",
    "* This means we must create a input function that can convert our current pandas dataframe into that object.\n",
    "* [Documentation](https://www.tensorflow.org/tutorials/estimator/linear)"
   ]
  },
  {
   "cell_type": "code",
   "execution_count": 49,
   "id": "prompt-drawing",
   "metadata": {},
   "outputs": [
    {
     "data": {
      "text/plain": [
       "<function __main__.make_input_fn.<locals>.input_function()>"
      ]
     },
     "execution_count": 49,
     "metadata": {},
     "output_type": "execute_result"
    }
   ],
   "source": [
    "def make_input_fn(data_df, label_df, num_epochs=10, shuffle=True, batch_size=32):\n",
    "  def input_function():  # inner function, this will be returned\n",
    "    ds = tf.data.Dataset.from_tensor_slices((dict(data_df), label_df))  # create tf.data.Dataset object with data and its label\n",
    "    if shuffle:\n",
    "      ds = ds.shuffle(1000)  # randomize order of data\n",
    "    ds = ds.batch(batch_size).repeat(num_epochs)  # split dataset into batches of 32 and repeat process for number of epochs\n",
    "    return ds  # return a batch of the dataset\n",
    "  return input_function  # return a function object for use\n",
    "\n",
    "train_input_fn = make_input_fn(train, y_train)  # here we will call the input_function that was returned to us to get a dataset object we can feed to the model\n",
    "eval_input_fn = make_input_fn(eval_, y_eval, num_epochs=1, shuffle=False)\n"
   ]
  },
  {
   "cell_type": "markdown",
   "id": "chinese-toyota",
   "metadata": {},
   "source": [
    "### Creating the Model\n",
    "* Training a model is just a single command using the `tf.estimator` API:"
   ]
  },
  {
   "cell_type": "code",
   "execution_count": 50,
   "id": "impossible-transport",
   "metadata": {},
   "outputs": [
    {
     "name": "stdout",
     "output_type": "stream",
     "text": [
      "{'accuracy': 0.77272725, 'accuracy_baseline': 0.625, 'auc': 0.8107438, 'auc_precision_recall': 0.76163614, 'average_loss': 0.5342877, 'label/mean': 0.375, 'loss': 0.52617687, 'precision': 0.7532467, 'prediction/mean': 0.28405714, 'recall': 0.5858586, 'global_step': 200}\n"
     ]
    }
   ],
   "source": [
    "linear_est = tf.estimator.LinearClassifier(feature_columns=feature_columns)\n",
    "linear_est.train(train_input_fn)\n",
    "result = linear_est.evaluate(eval_input_fn)\n",
    "\n",
    "clear_output()\n",
    "print(result)"
   ]
  },
  {
   "cell_type": "markdown",
   "id": "fluid-invasion",
   "metadata": {},
   "source": [
    "#### Making predictions\n",
    "* Now let's see how we can actually use this model to make predicitons.\n",
    "* We can use the .predict() method to get survival probabilities from the model. This method will return a list of dicts that store a predicition for each of the entries in our testing data set. Below we've used some pandas magic to plot a nice graph of the predictions.\n"
   ]
  },
  {
   "cell_type": "code",
   "execution_count": 54,
   "id": "accepted-economics",
   "metadata": {},
   "outputs": [
    {
     "name": "stdout",
     "output_type": "stream",
     "text": [
      "INFO:tensorflow:Calling model_fn.\n",
      "INFO:tensorflow:Done calling model_fn.\n",
      "INFO:tensorflow:Graph was finalized.\n",
      "INFO:tensorflow:Restoring parameters from C:\\Users\\crisp\\AppData\\Local\\Temp\\tmpmxq2kcmh\\model.ckpt-200\n",
      "INFO:tensorflow:Running local_init_op.\n",
      "INFO:tensorflow:Done running local_init_op.\n"
     ]
    },
    {
     "data": {
      "text/plain": [
       "<AxesSubplot:title={'center':'predicted probabilities'}, ylabel='Frequency'>"
      ]
     },
     "execution_count": 54,
     "metadata": {},
     "output_type": "execute_result"
    },
    {
     "data": {
      "image/png": "[encoded data removed]",
      "text/plain": [
       "<Figure size 432x288 with 1 Axes>"
      ]
     },
     "metadata": {
      "needs_background": "light"
     },
     "output_type": "display_data"
    }
   ],
   "source": [
    "pred_dicts = list(linear_est.predict(eval_input_fn))\n",
    "\n",
    "probs = pd.Series([pred['probabilities'][1] for pred in pred_dicts])\n",
    "\n",
    "probs.plot(kind='hist', bins=20, title='predicted probabilities')"
   ]
  },
  {
   "cell_type": "markdown",
   "id": "prospective-capture",
   "metadata": {},
   "source": [
    "## The Roc Curve\n",
    "* Finally, look at the receiver operating characteristic (ROC) of the results, which will give us a better idea of the tradeoff between the true positive rate and false positive rate."
   ]
  },
  {
   "cell_type": "code",
   "execution_count": 55,
   "id": "aerial-ethiopia",
   "metadata": {},
   "outputs": [
    {
     "data": {
      "text/plain": [
       "(0.0, 1.05)"
      ]
     },
     "execution_count": 55,
     "metadata": {},
     "output_type": "execute_result"
    },
    {
     "data": {
      "image/png": "[encoded data removed]",
      "text/plain": [
       "<Figure size 432x288 with 1 Axes>"
      ]
     },
     "metadata": {
      "needs_background": "light"
     },
     "output_type": "display_data"
    }
   ],
   "source": [
    "from sklearn.metrics import roc_curve\n",
    "fpr, tpr, _ = roc_curve(y_eval, probs)\n",
    "plt.plot(fpr, tpr, '-')\n",
    "plt.title('ROC curve')\n",
    "plt.xlabel('false positive rate')\n",
    "plt.ylabel('true positive rate')\n",
    "plt.xlim(0,)\n",
    "plt.ylim(0,)"
   ]
  },
  {
   "cell_type": "code",
   "execution_count": null,
   "id": "blocked-honduras",
   "metadata": {},
   "outputs": [],
   "source": []
  },
  {
   "cell_type": "code",
   "execution_count": null,
   "id": "alert-cyprus",
   "metadata": {},
   "outputs": [],
   "source": []
  },
  {
   "cell_type": "code",
   "execution_count": null,
   "id": "peripheral-reproduction",
   "metadata": {},
   "outputs": [],
   "source": []
  },
  {
   "cell_type": "code",
   "execution_count": null,
   "id": "surrounded-collection",
   "metadata": {},
   "outputs": [],
   "source": []
  },
  {
   "cell_type": "code",
   "execution_count": null,
   "id": "returning-startup",
   "metadata": {},
   "outputs": [],
   "source": []
  },
  {
   "cell_type": "code",
   "execution_count": null,
   "id": "together-bidder",
   "metadata": {},
   "outputs": [],
   "source": []
  },
  {
   "cell_type": "code",
   "execution_count": null,
   "id": "enabling-plymouth",
   "metadata": {},
   "outputs": [],
   "source": []
  },
  {
   "cell_type": "code",
   "execution_count": null,
   "id": "friendly-pasta",
   "metadata": {},
   "outputs": [],
   "source": []
  },
  {
   "cell_type": "code",
   "execution_count": null,
   "id": "breeding-matthew",
   "metadata": {},
   "outputs": [],
   "source": []
  },
  {
   "cell_type": "code",
   "execution_count": null,
   "id": "figured-survivor",
   "metadata": {},
   "outputs": [],
   "source": []
  },
  {
   "cell_type": "code",
   "execution_count": null,
   "id": "numeric-amendment",
   "metadata": {},
   "outputs": [],
   "source": []
  },
  {
   "cell_type": "code",
   "execution_count": null,
   "id": "twenty-reform",
   "metadata": {},
   "outputs": [],
   "source": []
  },
  {
   "cell_type": "code",
   "execution_count": null,
   "id": "heated-wallace",
   "metadata": {},
   "outputs": [],
   "source": []
  },
  {
   "cell_type": "code",
   "execution_count": null,
   "id": "professional-theta",
   "metadata": {},
   "outputs": [],
   "source": []
  },
  {
   "cell_type": "code",
   "execution_count": null,
   "id": "current-webmaster",
   "metadata": {},
   "outputs": [],
   "source": []
  },
  {
   "cell_type": "code",
   "execution_count": null,
   "id": "unable-kitty",
   "metadata": {},
   "outputs": [],
   "source": []
  },
  {
   "cell_type": "code",
   "execution_count": null,
   "id": "frozen-jacob",
   "metadata": {},
   "outputs": [],
   "source": []
  },
  {
   "cell_type": "code",
   "execution_count": null,
   "id": "rotary-bruce",
   "metadata": {},
   "outputs": [],
   "source": []
  },
  {
   "cell_type": "code",
   "execution_count": null,
   "id": "elder-thanksgiving",
   "metadata": {},
   "outputs": [],
   "source": []
  },
  {
   "cell_type": "code",
   "execution_count": null,
   "id": "adapted-calculation",
   "metadata": {},
   "outputs": [],
   "source": []
  },
  {
   "cell_type": "code",
   "execution_count": null,
   "id": "national-scenario",
   "metadata": {},
   "outputs": [],
   "source": []
  },
  {
   "cell_type": "code",
   "execution_count": null,
   "id": "upper-spirituality",
   "metadata": {},
   "outputs": [],
   "source": []
  },
  {
   "cell_type": "code",
   "execution_count": null,
   "id": "enhanced-ballet",
   "metadata": {},
   "outputs": [],
   "source": []
  },
  {
   "cell_type": "code",
   "execution_count": null,
   "id": "reflected-report",
   "metadata": {},
   "outputs": [],
   "source": []
  },
  {
   "cell_type": "code",
   "execution_count": null,
   "id": "noble-biodiversity",
   "metadata": {},
   "outputs": [],
   "source": []
  },
  {
   "cell_type": "code",
   "execution_count": null,
   "id": "fatal-unemployment",
   "metadata": {},
   "outputs": [],
   "source": []
  }
 ],
 "metadata": {
  "kernelspec": {
   "display_name": "Python 3",
   "language": "python",
   "name": "python3"
  },
  "language_info": {
   "codemirror_mode": {
    "name": "ipython",
    "version": 3
   },
   "file_extension": ".py",
   "mimetype": "text/x-python",
   "name": "python",
   "nbconvert_exporter": "python",
   "pygments_lexer": "ipython3",
   "version": "3.8.5"
  }
 },
 "nbformat": 4,
 "nbformat_minor": 5
}
